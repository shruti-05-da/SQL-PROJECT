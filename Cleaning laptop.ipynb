{
 "cells": [
  {
   "cell_type": "code",
   "execution_count": 1,
   "id": "87d29762-d480-45ed-ac92-844783c82833",
   "metadata": {},
   "outputs": [],
   "source": [
    "# import all the necessary libraries\n",
    "import numpy as np\n",
    "import pandas as pd\n",
    "import re"
   ]
  },
  {
   "cell_type": "code",
   "execution_count": 2,
   "id": "1d57d1af",
   "metadata": {},
   "outputs": [],
   "source": [
    "# import dataset\n",
    "Laptop=pd.read_csv(\"Laptop_uncleaned.csv\")"
   ]
  },
  {
   "cell_type": "code",
   "execution_count": 3,
   "id": "997cc13f",
   "metadata": {},
   "outputs": [],
   "source": [
    "# making a duplicate copy of orignal dataset\n",
    "df=Laptop.copy()"
   ]
  },
  {
   "cell_type": "code",
   "execution_count": 4,
   "id": "0e5772b8-fa8f-4292-a668-8f2c842b890d",
   "metadata": {},
   "outputs": [
    {
     "data": {
      "text/html": [
       "<div>\n",
       "<style scoped>\n",
       "    .dataframe tbody tr th:only-of-type {\n",
       "        vertical-align: middle;\n",
       "    }\n",
       "\n",
       "    .dataframe tbody tr th {\n",
       "        vertical-align: top;\n",
       "    }\n",
       "\n",
       "    .dataframe thead th {\n",
       "        text-align: right;\n",
       "    }\n",
       "</style>\n",
       "<table border=\"1\" class=\"dataframe\">\n",
       "  <thead>\n",
       "    <tr style=\"text-align: right;\">\n",
       "      <th></th>\n",
       "      <th>name</th>\n",
       "      <th>price</th>\n",
       "      <th>spec_score</th>\n",
       "      <th>votes</th>\n",
       "      <th>user_rating</th>\n",
       "      <th>os</th>\n",
       "      <th>utility</th>\n",
       "      <th>thickness</th>\n",
       "      <th>weight</th>\n",
       "      <th>warranty</th>\n",
       "      <th>...</th>\n",
       "      <th>processor_speed</th>\n",
       "      <th>no_cores</th>\n",
       "      <th>caches</th>\n",
       "      <th>graphics_card</th>\n",
       "      <th>rom_memory</th>\n",
       "      <th>internal_memory</th>\n",
       "      <th>port_connection</th>\n",
       "      <th>wireless_connection</th>\n",
       "      <th>usb_ports</th>\n",
       "      <th>hardware_features</th>\n",
       "    </tr>\n",
       "  </thead>\n",
       "  <tbody>\n",
       "    <tr>\n",
       "      <th>0</th>\n",
       "      <td>HP Victus 15-fb0157AX Gaming Laptop (AMD Ryzen...</td>\n",
       "      <td>₹49,800</td>\n",
       "      <td>70.0</td>\n",
       "      <td>97 votes</td>\n",
       "      <td>4.3</td>\n",
       "      <td>OS: Windows 11</td>\n",
       "      <td>Utility: Gaming</td>\n",
       "      <td>Thickness: 23.5 mmThick</td>\n",
       "      <td>2.29 kgHeavy</td>\n",
       "      <td>1 Year Warranty</td>\n",
       "      <td>...</td>\n",
       "      <td>6 x 3.3 GHz (Turbo Speed upto 4.2 GHz) Cores</td>\n",
       "      <td>Hexa Core, 12 Threads</td>\n",
       "      <td>16 MB Cache</td>\n",
       "      <td>4 GB, AMD Radeon RX 6500M GraphicsLargest</td>\n",
       "      <td>8 GB DDR4 RAMAverage</td>\n",
       "      <td>512 GB SSD</td>\n",
       "      <td>Ethernet (LAN), HDMI, Multi Card Reader</td>\n",
       "      <td>WiFi, Bluetooth v5.3</td>\n",
       "      <td>2 x USB 3.0, 1 x USB Type-C</td>\n",
       "      <td>Backlit Keyboard, Inbuilt Microphone</td>\n",
       "    </tr>\n",
       "    <tr>\n",
       "      <th>1</th>\n",
       "      <td>Xiaomi Redmi G Pro 2024 Gaming Laptop (14th Ge...</td>\n",
       "      <td>₹1,02,990</td>\n",
       "      <td>78.0</td>\n",
       "      <td>71 votes</td>\n",
       "      <td>4.3</td>\n",
       "      <td>OS: Windows 11</td>\n",
       "      <td>Utility: Gaming</td>\n",
       "      <td>Thickness: 23.45 mmThick</td>\n",
       "      <td>2.7 kgHeavy</td>\n",
       "      <td>1 Year Warranty</td>\n",
       "      <td>...</td>\n",
       "      <td>8 x 2.2 GHz (Turbo Speed upto 5.8 GHz) Perform...</td>\n",
       "      <td>24 Cores (8P + 16E), 32 Threads</td>\n",
       "      <td>36 MB Cache</td>\n",
       "      <td>8 GB, NVIDIA GeForce RTX 4060 GraphicsLargest</td>\n",
       "      <td>16 GB DDR5 RAMLargest</td>\n",
       "      <td>1 TB SSD</td>\n",
       "      <td>HDMI, Display Port, Thunderbolt, Multi Card Re...</td>\n",
       "      <td>WiFi, Bluetooth v5.3</td>\n",
       "      <td>1 x USB 2.0, 3 x USB 3.0, 1 x USB Type-C</td>\n",
       "      <td>Backlit Keyboard, Inbuilt Microphone</td>\n",
       "    </tr>\n",
       "    <tr>\n",
       "      <th>2</th>\n",
       "      <td>Tecno Megabook T1 Laptop (11th Gen Core i3/ 8G...</td>\n",
       "      <td>₹23,990</td>\n",
       "      <td>56.0</td>\n",
       "      <td>177 votes</td>\n",
       "      <td>4.4</td>\n",
       "      <td>OS: Windows 11</td>\n",
       "      <td>Utility: Performance</td>\n",
       "      <td>Thickness: 14.8 mmUltra Slim</td>\n",
       "      <td>1.56 kgAverage</td>\n",
       "      <td>1 Year Warranty</td>\n",
       "      <td>...</td>\n",
       "      <td>2 x 3 GHz (Turbo Speed upto 4.1 GHz) Cores</td>\n",
       "      <td>Dual Core, 4 Threads</td>\n",
       "      <td>6 MB Cache</td>\n",
       "      <td>Intel UHD Graphics Graphics</td>\n",
       "      <td>8 GB LPDDR4 RAMLargest</td>\n",
       "      <td>512 GB SSD</td>\n",
       "      <td>HDMI</td>\n",
       "      <td>WiFi, Bluetooth</td>\n",
       "      <td>3 x USB 3.0, 2 x USB Type-C</td>\n",
       "      <td>Fingerprint Sensor, Backlit Keyboard, Inbuilt ...</td>\n",
       "    </tr>\n",
       "    <tr>\n",
       "      <th>3</th>\n",
       "      <td>Samsung Galaxy Book2 Pro 13 Laptop (12th Gen C...</td>\n",
       "      <td>₹62,990</td>\n",
       "      <td>60.0</td>\n",
       "      <td>1,511 votes • 23 reviews</td>\n",
       "      <td>4.5</td>\n",
       "      <td>OS: Windows 11</td>\n",
       "      <td>Utility: Everyday Use</td>\n",
       "      <td>Thickness: 11.2 mmSlim</td>\n",
       "      <td>870 gLight</td>\n",
       "      <td>1 Year Warranty</td>\n",
       "      <td>...</td>\n",
       "      <td>4 x 1.7 GHz (Turbo Speed upto 4.4 GHz) Perform...</td>\n",
       "      <td>12 Cores (4P + 8E), 16 Threads</td>\n",
       "      <td>12 MB Cache</td>\n",
       "      <td>Intel Iris Xe Graphics Graphics</td>\n",
       "      <td>16 GB LPDDR5 RAMAverage</td>\n",
       "      <td>512 GB SSD</td>\n",
       "      <td>HDMI, Thunderbolt, Multi Card Reader</td>\n",
       "      <td>WiFi, Bluetooth v5.1</td>\n",
       "      <td>1 x USB 3.0, 1 x USB Type-C</td>\n",
       "      <td>Fingerprint Sensor, Backlit Keyboard, Inbuilt ...</td>\n",
       "    </tr>\n",
       "    <tr>\n",
       "      <th>4</th>\n",
       "      <td>Apple MacBook Air 2020 MGND3HN Laptop (Apple M...</td>\n",
       "      <td>₹79,990</td>\n",
       "      <td>43.0</td>\n",
       "      <td>20,380 votes • 43 reviews</td>\n",
       "      <td>4.7</td>\n",
       "      <td>OS: Mac</td>\n",
       "      <td>Utility: Performance</td>\n",
       "      <td>Thickness: 16.1 mmSlim</td>\n",
       "      <td>1.29 kgLight</td>\n",
       "      <td>1 Year Warranty</td>\n",
       "      <td>...</td>\n",
       "      <td>4 x (Turbo Speed upto 3.2 GHz) Performance Cor...</td>\n",
       "      <td>Octa Core (4P + 4E)</td>\n",
       "      <td>NaN</td>\n",
       "      <td>Apple M1 Integrated Graphics</td>\n",
       "      <td>8 GB DDR4 RAMSmallest</td>\n",
       "      <td>256 GB SSD</td>\n",
       "      <td>Thunderbolt</td>\n",
       "      <td>WiFi, Bluetooth v5.0</td>\n",
       "      <td>2 x USB 3.0, 2 x USB Type-C</td>\n",
       "      <td>Backlit Keyboard, Inbuilt Microphone</td>\n",
       "    </tr>\n",
       "    <tr>\n",
       "      <th>...</th>\n",
       "      <td>...</td>\n",
       "      <td>...</td>\n",
       "      <td>...</td>\n",
       "      <td>...</td>\n",
       "      <td>...</td>\n",
       "      <td>...</td>\n",
       "      <td>...</td>\n",
       "      <td>...</td>\n",
       "      <td>...</td>\n",
       "      <td>...</td>\n",
       "      <td>...</td>\n",
       "      <td>...</td>\n",
       "      <td>...</td>\n",
       "      <td>...</td>\n",
       "      <td>...</td>\n",
       "      <td>...</td>\n",
       "      <td>...</td>\n",
       "      <td>...</td>\n",
       "      <td>...</td>\n",
       "      <td>...</td>\n",
       "      <td>...</td>\n",
       "    </tr>\n",
       "    <tr>\n",
       "      <th>1020</th>\n",
       "      <td>NaN</td>\n",
       "      <td>NaN</td>\n",
       "      <td>NaN</td>\n",
       "      <td>NaN</td>\n",
       "      <td>NaN</td>\n",
       "      <td>NaN</td>\n",
       "      <td>NaN</td>\n",
       "      <td>NaN</td>\n",
       "      <td>NaN</td>\n",
       "      <td>NaN</td>\n",
       "      <td>...</td>\n",
       "      <td>NaN</td>\n",
       "      <td>NaN</td>\n",
       "      <td>NaN</td>\n",
       "      <td>NaN</td>\n",
       "      <td>NaN</td>\n",
       "      <td>NaN</td>\n",
       "      <td>NaN</td>\n",
       "      <td>NaN</td>\n",
       "      <td>NaN</td>\n",
       "      <td>NaN</td>\n",
       "    </tr>\n",
       "    <tr>\n",
       "      <th>1021</th>\n",
       "      <td>NaN</td>\n",
       "      <td>NaN</td>\n",
       "      <td>NaN</td>\n",
       "      <td>NaN</td>\n",
       "      <td>NaN</td>\n",
       "      <td>NaN</td>\n",
       "      <td>NaN</td>\n",
       "      <td>NaN</td>\n",
       "      <td>NaN</td>\n",
       "      <td>NaN</td>\n",
       "      <td>...</td>\n",
       "      <td>NaN</td>\n",
       "      <td>NaN</td>\n",
       "      <td>NaN</td>\n",
       "      <td>NaN</td>\n",
       "      <td>NaN</td>\n",
       "      <td>NaN</td>\n",
       "      <td>NaN</td>\n",
       "      <td>NaN</td>\n",
       "      <td>NaN</td>\n",
       "      <td>NaN</td>\n",
       "    </tr>\n",
       "    <tr>\n",
       "      <th>1022</th>\n",
       "      <td>NaN</td>\n",
       "      <td>NaN</td>\n",
       "      <td>NaN</td>\n",
       "      <td>NaN</td>\n",
       "      <td>NaN</td>\n",
       "      <td>NaN</td>\n",
       "      <td>NaN</td>\n",
       "      <td>NaN</td>\n",
       "      <td>NaN</td>\n",
       "      <td>NaN</td>\n",
       "      <td>...</td>\n",
       "      <td>NaN</td>\n",
       "      <td>NaN</td>\n",
       "      <td>NaN</td>\n",
       "      <td>NaN</td>\n",
       "      <td>NaN</td>\n",
       "      <td>NaN</td>\n",
       "      <td>NaN</td>\n",
       "      <td>NaN</td>\n",
       "      <td>NaN</td>\n",
       "      <td>NaN</td>\n",
       "    </tr>\n",
       "    <tr>\n",
       "      <th>1023</th>\n",
       "      <td>NaN</td>\n",
       "      <td>NaN</td>\n",
       "      <td>NaN</td>\n",
       "      <td>NaN</td>\n",
       "      <td>NaN</td>\n",
       "      <td>NaN</td>\n",
       "      <td>NaN</td>\n",
       "      <td>NaN</td>\n",
       "      <td>NaN</td>\n",
       "      <td>NaN</td>\n",
       "      <td>...</td>\n",
       "      <td>NaN</td>\n",
       "      <td>NaN</td>\n",
       "      <td>NaN</td>\n",
       "      <td>NaN</td>\n",
       "      <td>NaN</td>\n",
       "      <td>NaN</td>\n",
       "      <td>NaN</td>\n",
       "      <td>NaN</td>\n",
       "      <td>NaN</td>\n",
       "      <td>NaN</td>\n",
       "    </tr>\n",
       "    <tr>\n",
       "      <th>1024</th>\n",
       "      <td>NaN</td>\n",
       "      <td>NaN</td>\n",
       "      <td>NaN</td>\n",
       "      <td>NaN</td>\n",
       "      <td>NaN</td>\n",
       "      <td>NaN</td>\n",
       "      <td>NaN</td>\n",
       "      <td>NaN</td>\n",
       "      <td>NaN</td>\n",
       "      <td>NaN</td>\n",
       "      <td>...</td>\n",
       "      <td>NaN</td>\n",
       "      <td>NaN</td>\n",
       "      <td>NaN</td>\n",
       "      <td>NaN</td>\n",
       "      <td>NaN</td>\n",
       "      <td>NaN</td>\n",
       "      <td>NaN</td>\n",
       "      <td>NaN</td>\n",
       "      <td>NaN</td>\n",
       "      <td>NaN</td>\n",
       "    </tr>\n",
       "  </tbody>\n",
       "</table>\n",
       "<p>1025 rows × 27 columns</p>\n",
       "</div>"
      ],
      "text/plain": [
       "                                                   name      price  \\\n",
       "0     HP Victus 15-fb0157AX Gaming Laptop (AMD Ryzen...    ₹49,800   \n",
       "1     Xiaomi Redmi G Pro 2024 Gaming Laptop (14th Ge...  ₹1,02,990   \n",
       "2     Tecno Megabook T1 Laptop (11th Gen Core i3/ 8G...    ₹23,990   \n",
       "3     Samsung Galaxy Book2 Pro 13 Laptop (12th Gen C...    ₹62,990   \n",
       "4     Apple MacBook Air 2020 MGND3HN Laptop (Apple M...    ₹79,990   \n",
       "...                                                 ...        ...   \n",
       "1020                                                NaN        NaN   \n",
       "1021                                                NaN        NaN   \n",
       "1022                                                NaN        NaN   \n",
       "1023                                                NaN        NaN   \n",
       "1024                                                NaN        NaN   \n",
       "\n",
       "      spec_score                      votes  user_rating              os  \\\n",
       "0           70.0                  97 votes           4.3  OS: Windows 11   \n",
       "1           78.0                  71 votes           4.3  OS: Windows 11   \n",
       "2           56.0                 177 votes           4.4  OS: Windows 11   \n",
       "3           60.0   1,511 votes • 23 reviews          4.5  OS: Windows 11   \n",
       "4           43.0  20,380 votes • 43 reviews          4.7         OS: Mac   \n",
       "...          ...                        ...          ...             ...   \n",
       "1020         NaN                        NaN          NaN             NaN   \n",
       "1021         NaN                        NaN          NaN             NaN   \n",
       "1022         NaN                        NaN          NaN             NaN   \n",
       "1023         NaN                        NaN          NaN             NaN   \n",
       "1024         NaN                        NaN          NaN             NaN   \n",
       "\n",
       "                    utility                     thickness          weight  \\\n",
       "0           Utility: Gaming       Thickness: 23.5 mmThick    2.29 kgHeavy   \n",
       "1           Utility: Gaming      Thickness: 23.45 mmThick     2.7 kgHeavy   \n",
       "2      Utility: Performance  Thickness: 14.8 mmUltra Slim  1.56 kgAverage   \n",
       "3     Utility: Everyday Use        Thickness: 11.2 mmSlim      870 gLight   \n",
       "4      Utility: Performance        Thickness: 16.1 mmSlim    1.29 kgLight   \n",
       "...                     ...                           ...             ...   \n",
       "1020                    NaN                           NaN             NaN   \n",
       "1021                    NaN                           NaN             NaN   \n",
       "1022                    NaN                           NaN             NaN   \n",
       "1023                    NaN                           NaN             NaN   \n",
       "1024                    NaN                           NaN             NaN   \n",
       "\n",
       "             warranty  ...                                    processor_speed  \\\n",
       "0     1 Year Warranty  ...       6 x 3.3 GHz (Turbo Speed upto 4.2 GHz) Cores   \n",
       "1     1 Year Warranty  ...  8 x 2.2 GHz (Turbo Speed upto 5.8 GHz) Perform...   \n",
       "2     1 Year Warranty  ...         2 x 3 GHz (Turbo Speed upto 4.1 GHz) Cores   \n",
       "3     1 Year Warranty  ...  4 x 1.7 GHz (Turbo Speed upto 4.4 GHz) Perform...   \n",
       "4     1 Year Warranty  ...  4 x (Turbo Speed upto 3.2 GHz) Performance Cor...   \n",
       "...               ...  ...                                                ...   \n",
       "1020              NaN  ...                                                NaN   \n",
       "1021              NaN  ...                                                NaN   \n",
       "1022              NaN  ...                                                NaN   \n",
       "1023              NaN  ...                                                NaN   \n",
       "1024              NaN  ...                                                NaN   \n",
       "\n",
       "                             no_cores       caches  \\\n",
       "0               Hexa Core, 12 Threads  16 MB Cache   \n",
       "1     24 Cores (8P + 16E), 32 Threads  36 MB Cache   \n",
       "2                Dual Core, 4 Threads   6 MB Cache   \n",
       "3      12 Cores (4P + 8E), 16 Threads  12 MB Cache   \n",
       "4                 Octa Core (4P + 4E)          NaN   \n",
       "...                               ...          ...   \n",
       "1020                              NaN          NaN   \n",
       "1021                              NaN          NaN   \n",
       "1022                              NaN          NaN   \n",
       "1023                              NaN          NaN   \n",
       "1024                              NaN          NaN   \n",
       "\n",
       "                                      graphics_card               rom_memory  \\\n",
       "0         4 GB, AMD Radeon RX 6500M GraphicsLargest     8 GB DDR4 RAMAverage   \n",
       "1     8 GB, NVIDIA GeForce RTX 4060 GraphicsLargest    16 GB DDR5 RAMLargest   \n",
       "2                       Intel UHD Graphics Graphics   8 GB LPDDR4 RAMLargest   \n",
       "3                   Intel Iris Xe Graphics Graphics  16 GB LPDDR5 RAMAverage   \n",
       "4                     Apple M1 Integrated Graphics     8 GB DDR4 RAMSmallest   \n",
       "...                                             ...                      ...   \n",
       "1020                                            NaN                      NaN   \n",
       "1021                                            NaN                      NaN   \n",
       "1022                                            NaN                      NaN   \n",
       "1023                                            NaN                      NaN   \n",
       "1024                                            NaN                      NaN   \n",
       "\n",
       "     internal_memory                                    port_connection  \\\n",
       "0         512 GB SSD            Ethernet (LAN), HDMI, Multi Card Reader   \n",
       "1           1 TB SSD  HDMI, Display Port, Thunderbolt, Multi Card Re...   \n",
       "2         512 GB SSD                                               HDMI   \n",
       "3         512 GB SSD               HDMI, Thunderbolt, Multi Card Reader   \n",
       "4         256 GB SSD                                        Thunderbolt   \n",
       "...              ...                                                ...   \n",
       "1020             NaN                                                NaN   \n",
       "1021             NaN                                                NaN   \n",
       "1022             NaN                                                NaN   \n",
       "1023             NaN                                                NaN   \n",
       "1024             NaN                                                NaN   \n",
       "\n",
       "       wireless_connection                                 usb_ports  \\\n",
       "0     WiFi, Bluetooth v5.3               2 x USB 3.0, 1 x USB Type-C   \n",
       "1     WiFi, Bluetooth v5.3  1 x USB 2.0, 3 x USB 3.0, 1 x USB Type-C   \n",
       "2          WiFi, Bluetooth               3 x USB 3.0, 2 x USB Type-C   \n",
       "3     WiFi, Bluetooth v5.1               1 x USB 3.0, 1 x USB Type-C   \n",
       "4     WiFi, Bluetooth v5.0               2 x USB 3.0, 2 x USB Type-C   \n",
       "...                    ...                                       ...   \n",
       "1020                   NaN                                       NaN   \n",
       "1021                   NaN                                       NaN   \n",
       "1022                   NaN                                       NaN   \n",
       "1023                   NaN                                       NaN   \n",
       "1024                   NaN                                       NaN   \n",
       "\n",
       "                                      hardware_features  \n",
       "0                  Backlit Keyboard, Inbuilt Microphone  \n",
       "1                  Backlit Keyboard, Inbuilt Microphone  \n",
       "2     Fingerprint Sensor, Backlit Keyboard, Inbuilt ...  \n",
       "3     Fingerprint Sensor, Backlit Keyboard, Inbuilt ...  \n",
       "4                  Backlit Keyboard, Inbuilt Microphone  \n",
       "...                                                 ...  \n",
       "1020                                                NaN  \n",
       "1021                                                NaN  \n",
       "1022                                                NaN  \n",
       "1023                                                NaN  \n",
       "1024                                                NaN  \n",
       "\n",
       "[1025 rows x 27 columns]"
      ]
     },
     "execution_count": 4,
     "metadata": {},
     "output_type": "execute_result"
    }
   ],
   "source": [
    "df"
   ]
  },
  {
   "cell_type": "code",
   "execution_count": 5,
   "id": "bc1d9348-00b4-453e-a936-3f45faee0019",
   "metadata": {},
   "outputs": [],
   "source": [
    "# dropping nan rows from dataset\n",
    "df.dropna(subset=['name'],axis=0,inplace= True)"
   ]
  },
  {
   "cell_type": "code",
   "execution_count": 6,
   "id": "367ab7b1-19da-4855-b1af-b28c2318abf1",
   "metadata": {},
   "outputs": [
    {
     "data": {
      "text/html": [
       "<div>\n",
       "<style scoped>\n",
       "    .dataframe tbody tr th:only-of-type {\n",
       "        vertical-align: middle;\n",
       "    }\n",
       "\n",
       "    .dataframe tbody tr th {\n",
       "        vertical-align: top;\n",
       "    }\n",
       "\n",
       "    .dataframe thead th {\n",
       "        text-align: right;\n",
       "    }\n",
       "</style>\n",
       "<table border=\"1\" class=\"dataframe\">\n",
       "  <thead>\n",
       "    <tr style=\"text-align: right;\">\n",
       "      <th></th>\n",
       "      <th>name</th>\n",
       "      <th>price</th>\n",
       "      <th>spec_score</th>\n",
       "      <th>votes</th>\n",
       "      <th>user_rating</th>\n",
       "      <th>os</th>\n",
       "      <th>utility</th>\n",
       "      <th>thickness</th>\n",
       "      <th>weight</th>\n",
       "      <th>warranty</th>\n",
       "      <th>...</th>\n",
       "      <th>processor_speed</th>\n",
       "      <th>no_cores</th>\n",
       "      <th>caches</th>\n",
       "      <th>graphics_card</th>\n",
       "      <th>rom_memory</th>\n",
       "      <th>internal_memory</th>\n",
       "      <th>port_connection</th>\n",
       "      <th>wireless_connection</th>\n",
       "      <th>usb_ports</th>\n",
       "      <th>hardware_features</th>\n",
       "    </tr>\n",
       "  </thead>\n",
       "  <tbody>\n",
       "    <tr>\n",
       "      <th>0</th>\n",
       "      <td>HP Victus 15-fb0157AX Gaming Laptop (AMD Ryzen...</td>\n",
       "      <td>₹49,800</td>\n",
       "      <td>70.0</td>\n",
       "      <td>97 votes</td>\n",
       "      <td>4.3</td>\n",
       "      <td>OS: Windows 11</td>\n",
       "      <td>Utility: Gaming</td>\n",
       "      <td>Thickness: 23.5 mmThick</td>\n",
       "      <td>2.29 kgHeavy</td>\n",
       "      <td>1 Year Warranty</td>\n",
       "      <td>...</td>\n",
       "      <td>6 x 3.3 GHz (Turbo Speed upto 4.2 GHz) Cores</td>\n",
       "      <td>Hexa Core, 12 Threads</td>\n",
       "      <td>16 MB Cache</td>\n",
       "      <td>4 GB, AMD Radeon RX 6500M GraphicsLargest</td>\n",
       "      <td>8 GB DDR4 RAMAverage</td>\n",
       "      <td>512 GB SSD</td>\n",
       "      <td>Ethernet (LAN), HDMI, Multi Card Reader</td>\n",
       "      <td>WiFi, Bluetooth v5.3</td>\n",
       "      <td>2 x USB 3.0, 1 x USB Type-C</td>\n",
       "      <td>Backlit Keyboard, Inbuilt Microphone</td>\n",
       "    </tr>\n",
       "    <tr>\n",
       "      <th>1</th>\n",
       "      <td>Xiaomi Redmi G Pro 2024 Gaming Laptop (14th Ge...</td>\n",
       "      <td>₹1,02,990</td>\n",
       "      <td>78.0</td>\n",
       "      <td>71 votes</td>\n",
       "      <td>4.3</td>\n",
       "      <td>OS: Windows 11</td>\n",
       "      <td>Utility: Gaming</td>\n",
       "      <td>Thickness: 23.45 mmThick</td>\n",
       "      <td>2.7 kgHeavy</td>\n",
       "      <td>1 Year Warranty</td>\n",
       "      <td>...</td>\n",
       "      <td>8 x 2.2 GHz (Turbo Speed upto 5.8 GHz) Perform...</td>\n",
       "      <td>24 Cores (8P + 16E), 32 Threads</td>\n",
       "      <td>36 MB Cache</td>\n",
       "      <td>8 GB, NVIDIA GeForce RTX 4060 GraphicsLargest</td>\n",
       "      <td>16 GB DDR5 RAMLargest</td>\n",
       "      <td>1 TB SSD</td>\n",
       "      <td>HDMI, Display Port, Thunderbolt, Multi Card Re...</td>\n",
       "      <td>WiFi, Bluetooth v5.3</td>\n",
       "      <td>1 x USB 2.0, 3 x USB 3.0, 1 x USB Type-C</td>\n",
       "      <td>Backlit Keyboard, Inbuilt Microphone</td>\n",
       "    </tr>\n",
       "    <tr>\n",
       "      <th>2</th>\n",
       "      <td>Tecno Megabook T1 Laptop (11th Gen Core i3/ 8G...</td>\n",
       "      <td>₹23,990</td>\n",
       "      <td>56.0</td>\n",
       "      <td>177 votes</td>\n",
       "      <td>4.4</td>\n",
       "      <td>OS: Windows 11</td>\n",
       "      <td>Utility: Performance</td>\n",
       "      <td>Thickness: 14.8 mmUltra Slim</td>\n",
       "      <td>1.56 kgAverage</td>\n",
       "      <td>1 Year Warranty</td>\n",
       "      <td>...</td>\n",
       "      <td>2 x 3 GHz (Turbo Speed upto 4.1 GHz) Cores</td>\n",
       "      <td>Dual Core, 4 Threads</td>\n",
       "      <td>6 MB Cache</td>\n",
       "      <td>Intel UHD Graphics Graphics</td>\n",
       "      <td>8 GB LPDDR4 RAMLargest</td>\n",
       "      <td>512 GB SSD</td>\n",
       "      <td>HDMI</td>\n",
       "      <td>WiFi, Bluetooth</td>\n",
       "      <td>3 x USB 3.0, 2 x USB Type-C</td>\n",
       "      <td>Fingerprint Sensor, Backlit Keyboard, Inbuilt ...</td>\n",
       "    </tr>\n",
       "    <tr>\n",
       "      <th>3</th>\n",
       "      <td>Samsung Galaxy Book2 Pro 13 Laptop (12th Gen C...</td>\n",
       "      <td>₹62,990</td>\n",
       "      <td>60.0</td>\n",
       "      <td>1,511 votes • 23 reviews</td>\n",
       "      <td>4.5</td>\n",
       "      <td>OS: Windows 11</td>\n",
       "      <td>Utility: Everyday Use</td>\n",
       "      <td>Thickness: 11.2 mmSlim</td>\n",
       "      <td>870 gLight</td>\n",
       "      <td>1 Year Warranty</td>\n",
       "      <td>...</td>\n",
       "      <td>4 x 1.7 GHz (Turbo Speed upto 4.4 GHz) Perform...</td>\n",
       "      <td>12 Cores (4P + 8E), 16 Threads</td>\n",
       "      <td>12 MB Cache</td>\n",
       "      <td>Intel Iris Xe Graphics Graphics</td>\n",
       "      <td>16 GB LPDDR5 RAMAverage</td>\n",
       "      <td>512 GB SSD</td>\n",
       "      <td>HDMI, Thunderbolt, Multi Card Reader</td>\n",
       "      <td>WiFi, Bluetooth v5.1</td>\n",
       "      <td>1 x USB 3.0, 1 x USB Type-C</td>\n",
       "      <td>Fingerprint Sensor, Backlit Keyboard, Inbuilt ...</td>\n",
       "    </tr>\n",
       "    <tr>\n",
       "      <th>4</th>\n",
       "      <td>Apple MacBook Air 2020 MGND3HN Laptop (Apple M...</td>\n",
       "      <td>₹79,990</td>\n",
       "      <td>43.0</td>\n",
       "      <td>20,380 votes • 43 reviews</td>\n",
       "      <td>4.7</td>\n",
       "      <td>OS: Mac</td>\n",
       "      <td>Utility: Performance</td>\n",
       "      <td>Thickness: 16.1 mmSlim</td>\n",
       "      <td>1.29 kgLight</td>\n",
       "      <td>1 Year Warranty</td>\n",
       "      <td>...</td>\n",
       "      <td>4 x (Turbo Speed upto 3.2 GHz) Performance Cor...</td>\n",
       "      <td>Octa Core (4P + 4E)</td>\n",
       "      <td>NaN</td>\n",
       "      <td>Apple M1 Integrated Graphics</td>\n",
       "      <td>8 GB DDR4 RAMSmallest</td>\n",
       "      <td>256 GB SSD</td>\n",
       "      <td>Thunderbolt</td>\n",
       "      <td>WiFi, Bluetooth v5.0</td>\n",
       "      <td>2 x USB 3.0, 2 x USB Type-C</td>\n",
       "      <td>Backlit Keyboard, Inbuilt Microphone</td>\n",
       "    </tr>\n",
       "    <tr>\n",
       "      <th>...</th>\n",
       "      <td>...</td>\n",
       "      <td>...</td>\n",
       "      <td>...</td>\n",
       "      <td>...</td>\n",
       "      <td>...</td>\n",
       "      <td>...</td>\n",
       "      <td>...</td>\n",
       "      <td>...</td>\n",
       "      <td>...</td>\n",
       "      <td>...</td>\n",
       "      <td>...</td>\n",
       "      <td>...</td>\n",
       "      <td>...</td>\n",
       "      <td>...</td>\n",
       "      <td>...</td>\n",
       "      <td>...</td>\n",
       "      <td>...</td>\n",
       "      <td>...</td>\n",
       "      <td>...</td>\n",
       "      <td>...</td>\n",
       "      <td>...</td>\n",
       "    </tr>\n",
       "    <tr>\n",
       "      <th>1015</th>\n",
       "      <td>Dell Vostro 3420 D552317WIN9B Laptop (12th Gen...</td>\n",
       "      <td>₹51,199</td>\n",
       "      <td>55.0</td>\n",
       "      <td>84 votes</td>\n",
       "      <td>4.1</td>\n",
       "      <td>OS: Windows 11</td>\n",
       "      <td>Utility: Everyday Use</td>\n",
       "      <td>NaN</td>\n",
       "      <td>1.48 kgLight</td>\n",
       "      <td>1 Year Warranty</td>\n",
       "      <td>...</td>\n",
       "      <td>2 x 1.3 GHz (Turbo Speed upto 4.4 GHz) Perform...</td>\n",
       "      <td>10 Cores (2P + 8E), 12 Threads</td>\n",
       "      <td>12 MB Cache</td>\n",
       "      <td>Intel UHD Graphics Graphics</td>\n",
       "      <td>8 GB DDR4 RAMAverage</td>\n",
       "      <td>512 GB SSD</td>\n",
       "      <td>Ethernet (LAN), HDMI, Multi Card Reader</td>\n",
       "      <td>WiFi, Bluetooth v5.1</td>\n",
       "      <td>1 x USB 2.0, 2 x USB 3.0</td>\n",
       "      <td>Backlit Keyboard, Inbuilt Microphone</td>\n",
       "    </tr>\n",
       "    <tr>\n",
       "      <th>1016</th>\n",
       "      <td>HP Spectre x360 16-f2005TX Laptop (13th Gen Co...</td>\n",
       "      <td>₹1,85,990</td>\n",
       "      <td>84.0</td>\n",
       "      <td>59 votes</td>\n",
       "      <td>4.1</td>\n",
       "      <td>OS: Windows 11</td>\n",
       "      <td>Utility: Performance</td>\n",
       "      <td>Thickness: 19.9 mmThick</td>\n",
       "      <td>2.15 kgHeavy</td>\n",
       "      <td>1 Year Warranty</td>\n",
       "      <td>...</td>\n",
       "      <td>4 x 2.2 GHz (Turbo Speed upto 5 GHz) Performan...</td>\n",
       "      <td>12 Cores (4P + 8E), 16 Threads</td>\n",
       "      <td>18 MB Cache</td>\n",
       "      <td>4 GB,  Intel Arc A370M Graphics GraphicsSmallest</td>\n",
       "      <td>32 GB DDR4 RAMLargest</td>\n",
       "      <td>1 TB SSD</td>\n",
       "      <td>HDMI, Thunderbolt</td>\n",
       "      <td>WiFi, Bluetooth v5.3</td>\n",
       "      <td>1 x USB 3.0, 2 x USB Type-C</td>\n",
       "      <td>5 MP Camera</td>\n",
       "    </tr>\n",
       "    <tr>\n",
       "      <th>1017</th>\n",
       "      <td>HP Spectre x360 2023 13.5-ef2033TU Laptop (13t...</td>\n",
       "      <td>₹1,39,990</td>\n",
       "      <td>68.0</td>\n",
       "      <td>111 votes</td>\n",
       "      <td>4.5</td>\n",
       "      <td>OS: Windows 11</td>\n",
       "      <td>Utility: Performance</td>\n",
       "      <td>Thickness: 16.9 mmAverage</td>\n",
       "      <td>1.36 kgLight</td>\n",
       "      <td>1 Year Warranty</td>\n",
       "      <td>...</td>\n",
       "      <td>2 x (Turbo Speed upto 5 GHz) Performance Cores...</td>\n",
       "      <td>10 Cores (2P + 8E), 12 Threads</td>\n",
       "      <td>12 MB Cache</td>\n",
       "      <td>Intel Iris Xe Graphics Graphics</td>\n",
       "      <td>16 GB LPDDR4X RAMAverage</td>\n",
       "      <td>1 TB SSD</td>\n",
       "      <td>Thunderbolt</td>\n",
       "      <td>WiFi, Bluetooth v5.3</td>\n",
       "      <td>1 x USB 3.0, 2 x USB Type-C</td>\n",
       "      <td>5 MP Camera</td>\n",
       "    </tr>\n",
       "    <tr>\n",
       "      <th>1018</th>\n",
       "      <td>Huawei MateBook D14 2023 Laptop (13th Gen Core...</td>\n",
       "      <td>₹58,999</td>\n",
       "      <td>62.0</td>\n",
       "      <td>110 votes</td>\n",
       "      <td>4.7</td>\n",
       "      <td>OS: Windows 11</td>\n",
       "      <td>Utility: Business, Performance</td>\n",
       "      <td>Thickness: 15.9 mmSlim</td>\n",
       "      <td>1.39 kgLight</td>\n",
       "      <td>1 Year Warranty</td>\n",
       "      <td>...</td>\n",
       "      <td>4 x 1.9 GHz (Turbo Speed upto 4.6 GHz) Perform...</td>\n",
       "      <td>12 Cores (4P + 8E), 16 Threads</td>\n",
       "      <td>12 MB Cache</td>\n",
       "      <td>Intel Iris Xe Graphics Graphics</td>\n",
       "      <td>16 GB LPDDR4X RAMAverage</td>\n",
       "      <td>512 GB SSD</td>\n",
       "      <td>HDMI</td>\n",
       "      <td>WiFi, Bluetooth v5.1</td>\n",
       "      <td>1 x USB 2.0, 1 x USB 3.0, 1 x USB Type-C</td>\n",
       "      <td>1 MP Camera</td>\n",
       "    </tr>\n",
       "    <tr>\n",
       "      <th>1019</th>\n",
       "      <td>Huawei MateBook D16 2023 Laptop (13th Gen Core...</td>\n",
       "      <td>₹84,999</td>\n",
       "      <td>59.0</td>\n",
       "      <td>84 votes</td>\n",
       "      <td>4.2</td>\n",
       "      <td>OS: Windows 11</td>\n",
       "      <td>Utility: Business, Performance</td>\n",
       "      <td>Thickness: 18.4 mmAverage</td>\n",
       "      <td>1.7 kgAverage</td>\n",
       "      <td>1 Year Warranty</td>\n",
       "      <td>...</td>\n",
       "      <td>4 x (Turbo Speed upto 4.7 GHz) Performance Cor...</td>\n",
       "      <td>12 Cores (4P + 8E), 16 Threads</td>\n",
       "      <td>18 MB Cache</td>\n",
       "      <td>Intel Iris Xe Graphics Graphics</td>\n",
       "      <td>8 GB LPDDR4X RAMSmallest</td>\n",
       "      <td>512 GB SSD</td>\n",
       "      <td>HDMI</td>\n",
       "      <td>WiFi, Bluetooth v5.1</td>\n",
       "      <td>1 x USB 2.0, 1 x USB 3.0, 2 x USB Type-C</td>\n",
       "      <td>Fingerprint Sensor, Backlit Keyboard, Inbuilt ...</td>\n",
       "    </tr>\n",
       "  </tbody>\n",
       "</table>\n",
       "<p>1020 rows × 27 columns</p>\n",
       "</div>"
      ],
      "text/plain": [
       "                                                   name      price  \\\n",
       "0     HP Victus 15-fb0157AX Gaming Laptop (AMD Ryzen...    ₹49,800   \n",
       "1     Xiaomi Redmi G Pro 2024 Gaming Laptop (14th Ge...  ₹1,02,990   \n",
       "2     Tecno Megabook T1 Laptop (11th Gen Core i3/ 8G...    ₹23,990   \n",
       "3     Samsung Galaxy Book2 Pro 13 Laptop (12th Gen C...    ₹62,990   \n",
       "4     Apple MacBook Air 2020 MGND3HN Laptop (Apple M...    ₹79,990   \n",
       "...                                                 ...        ...   \n",
       "1015  Dell Vostro 3420 D552317WIN9B Laptop (12th Gen...    ₹51,199   \n",
       "1016  HP Spectre x360 16-f2005TX Laptop (13th Gen Co...  ₹1,85,990   \n",
       "1017  HP Spectre x360 2023 13.5-ef2033TU Laptop (13t...  ₹1,39,990   \n",
       "1018  Huawei MateBook D14 2023 Laptop (13th Gen Core...    ₹58,999   \n",
       "1019  Huawei MateBook D16 2023 Laptop (13th Gen Core...    ₹84,999   \n",
       "\n",
       "      spec_score                      votes  user_rating              os  \\\n",
       "0           70.0                  97 votes           4.3  OS: Windows 11   \n",
       "1           78.0                  71 votes           4.3  OS: Windows 11   \n",
       "2           56.0                 177 votes           4.4  OS: Windows 11   \n",
       "3           60.0   1,511 votes • 23 reviews          4.5  OS: Windows 11   \n",
       "4           43.0  20,380 votes • 43 reviews          4.7         OS: Mac   \n",
       "...          ...                        ...          ...             ...   \n",
       "1015        55.0                  84 votes           4.1  OS: Windows 11   \n",
       "1016        84.0                  59 votes           4.1  OS: Windows 11   \n",
       "1017        68.0                 111 votes           4.5  OS: Windows 11   \n",
       "1018        62.0                 110 votes           4.7  OS: Windows 11   \n",
       "1019        59.0                  84 votes           4.2  OS: Windows 11   \n",
       "\n",
       "                             utility                     thickness  \\\n",
       "0                    Utility: Gaming       Thickness: 23.5 mmThick   \n",
       "1                    Utility: Gaming      Thickness: 23.45 mmThick   \n",
       "2               Utility: Performance  Thickness: 14.8 mmUltra Slim   \n",
       "3              Utility: Everyday Use        Thickness: 11.2 mmSlim   \n",
       "4               Utility: Performance        Thickness: 16.1 mmSlim   \n",
       "...                              ...                           ...   \n",
       "1015           Utility: Everyday Use                           NaN   \n",
       "1016            Utility: Performance       Thickness: 19.9 mmThick   \n",
       "1017            Utility: Performance     Thickness: 16.9 mmAverage   \n",
       "1018  Utility: Business, Performance        Thickness: 15.9 mmSlim   \n",
       "1019  Utility: Business, Performance     Thickness: 18.4 mmAverage   \n",
       "\n",
       "              weight         warranty  ...  \\\n",
       "0       2.29 kgHeavy  1 Year Warranty  ...   \n",
       "1        2.7 kgHeavy  1 Year Warranty  ...   \n",
       "2     1.56 kgAverage  1 Year Warranty  ...   \n",
       "3         870 gLight  1 Year Warranty  ...   \n",
       "4       1.29 kgLight  1 Year Warranty  ...   \n",
       "...              ...              ...  ...   \n",
       "1015    1.48 kgLight  1 Year Warranty  ...   \n",
       "1016    2.15 kgHeavy  1 Year Warranty  ...   \n",
       "1017    1.36 kgLight  1 Year Warranty  ...   \n",
       "1018    1.39 kgLight  1 Year Warranty  ...   \n",
       "1019   1.7 kgAverage  1 Year Warranty  ...   \n",
       "\n",
       "                                        processor_speed  \\\n",
       "0          6 x 3.3 GHz (Turbo Speed upto 4.2 GHz) Cores   \n",
       "1     8 x 2.2 GHz (Turbo Speed upto 5.8 GHz) Perform...   \n",
       "2            2 x 3 GHz (Turbo Speed upto 4.1 GHz) Cores   \n",
       "3     4 x 1.7 GHz (Turbo Speed upto 4.4 GHz) Perform...   \n",
       "4     4 x (Turbo Speed upto 3.2 GHz) Performance Cor...   \n",
       "...                                                 ...   \n",
       "1015  2 x 1.3 GHz (Turbo Speed upto 4.4 GHz) Perform...   \n",
       "1016  4 x 2.2 GHz (Turbo Speed upto 5 GHz) Performan...   \n",
       "1017  2 x (Turbo Speed upto 5 GHz) Performance Cores...   \n",
       "1018  4 x 1.9 GHz (Turbo Speed upto 4.6 GHz) Perform...   \n",
       "1019  4 x (Turbo Speed upto 4.7 GHz) Performance Cor...   \n",
       "\n",
       "                             no_cores       caches  \\\n",
       "0               Hexa Core, 12 Threads  16 MB Cache   \n",
       "1     24 Cores (8P + 16E), 32 Threads  36 MB Cache   \n",
       "2                Dual Core, 4 Threads   6 MB Cache   \n",
       "3      12 Cores (4P + 8E), 16 Threads  12 MB Cache   \n",
       "4                 Octa Core (4P + 4E)          NaN   \n",
       "...                               ...          ...   \n",
       "1015   10 Cores (2P + 8E), 12 Threads  12 MB Cache   \n",
       "1016   12 Cores (4P + 8E), 16 Threads  18 MB Cache   \n",
       "1017   10 Cores (2P + 8E), 12 Threads  12 MB Cache   \n",
       "1018   12 Cores (4P + 8E), 16 Threads  12 MB Cache   \n",
       "1019   12 Cores (4P + 8E), 16 Threads  18 MB Cache   \n",
       "\n",
       "                                         graphics_card  \\\n",
       "0            4 GB, AMD Radeon RX 6500M GraphicsLargest   \n",
       "1        8 GB, NVIDIA GeForce RTX 4060 GraphicsLargest   \n",
       "2                          Intel UHD Graphics Graphics   \n",
       "3                      Intel Iris Xe Graphics Graphics   \n",
       "4                        Apple M1 Integrated Graphics    \n",
       "...                                                ...   \n",
       "1015                       Intel UHD Graphics Graphics   \n",
       "1016  4 GB,  Intel Arc A370M Graphics GraphicsSmallest   \n",
       "1017                   Intel Iris Xe Graphics Graphics   \n",
       "1018                   Intel Iris Xe Graphics Graphics   \n",
       "1019                   Intel Iris Xe Graphics Graphics   \n",
       "\n",
       "                    rom_memory internal_memory  \\\n",
       "0         8 GB DDR4 RAMAverage      512 GB SSD   \n",
       "1        16 GB DDR5 RAMLargest        1 TB SSD   \n",
       "2       8 GB LPDDR4 RAMLargest      512 GB SSD   \n",
       "3      16 GB LPDDR5 RAMAverage      512 GB SSD   \n",
       "4        8 GB DDR4 RAMSmallest      256 GB SSD   \n",
       "...                        ...             ...   \n",
       "1015      8 GB DDR4 RAMAverage      512 GB SSD   \n",
       "1016     32 GB DDR4 RAMLargest        1 TB SSD   \n",
       "1017  16 GB LPDDR4X RAMAverage        1 TB SSD   \n",
       "1018  16 GB LPDDR4X RAMAverage      512 GB SSD   \n",
       "1019  8 GB LPDDR4X RAMSmallest      512 GB SSD   \n",
       "\n",
       "                                        port_connection   wireless_connection  \\\n",
       "0               Ethernet (LAN), HDMI, Multi Card Reader  WiFi, Bluetooth v5.3   \n",
       "1     HDMI, Display Port, Thunderbolt, Multi Card Re...  WiFi, Bluetooth v5.3   \n",
       "2                                                  HDMI       WiFi, Bluetooth   \n",
       "3                  HDMI, Thunderbolt, Multi Card Reader  WiFi, Bluetooth v5.1   \n",
       "4                                           Thunderbolt  WiFi, Bluetooth v5.0   \n",
       "...                                                 ...                   ...   \n",
       "1015            Ethernet (LAN), HDMI, Multi Card Reader  WiFi, Bluetooth v5.1   \n",
       "1016                                  HDMI, Thunderbolt  WiFi, Bluetooth v5.3   \n",
       "1017                                        Thunderbolt  WiFi, Bluetooth v5.3   \n",
       "1018                                               HDMI  WiFi, Bluetooth v5.1   \n",
       "1019                                               HDMI  WiFi, Bluetooth v5.1   \n",
       "\n",
       "                                     usb_ports  \\\n",
       "0                  2 x USB 3.0, 1 x USB Type-C   \n",
       "1     1 x USB 2.0, 3 x USB 3.0, 1 x USB Type-C   \n",
       "2                  3 x USB 3.0, 2 x USB Type-C   \n",
       "3                  1 x USB 3.0, 1 x USB Type-C   \n",
       "4                  2 x USB 3.0, 2 x USB Type-C   \n",
       "...                                        ...   \n",
       "1015                  1 x USB 2.0, 2 x USB 3.0   \n",
       "1016               1 x USB 3.0, 2 x USB Type-C   \n",
       "1017               1 x USB 3.0, 2 x USB Type-C   \n",
       "1018  1 x USB 2.0, 1 x USB 3.0, 1 x USB Type-C   \n",
       "1019  1 x USB 2.0, 1 x USB 3.0, 2 x USB Type-C   \n",
       "\n",
       "                                      hardware_features  \n",
       "0                  Backlit Keyboard, Inbuilt Microphone  \n",
       "1                  Backlit Keyboard, Inbuilt Microphone  \n",
       "2     Fingerprint Sensor, Backlit Keyboard, Inbuilt ...  \n",
       "3     Fingerprint Sensor, Backlit Keyboard, Inbuilt ...  \n",
       "4                  Backlit Keyboard, Inbuilt Microphone  \n",
       "...                                                 ...  \n",
       "1015               Backlit Keyboard, Inbuilt Microphone  \n",
       "1016                                        5 MP Camera  \n",
       "1017                                        5 MP Camera  \n",
       "1018                                        1 MP Camera  \n",
       "1019  Fingerprint Sensor, Backlit Keyboard, Inbuilt ...  \n",
       "\n",
       "[1020 rows x 27 columns]"
      ]
     },
     "execution_count": 6,
     "metadata": {},
     "output_type": "execute_result"
    }
   ],
   "source": [
    "df"
   ]
  },
  {
   "cell_type": "code",
   "execution_count": 7,
   "id": "9eb013c6-732e-40e7-a4a8-0f2e662539d4",
   "metadata": {},
   "outputs": [
    {
     "data": {
      "text/plain": [
       "(1020, 27)"
      ]
     },
     "execution_count": 7,
     "metadata": {},
     "output_type": "execute_result"
    }
   ],
   "source": [
    "df.shape"
   ]
  },
  {
   "cell_type": "code",
   "execution_count": 8,
   "id": "c7d0ba47",
   "metadata": {},
   "outputs": [
    {
     "data": {
      "text/plain": [
       "Index(['name', 'price', 'spec_score', 'votes', 'user_rating', 'os', 'utility',\n",
       "       'thickness', 'weight', 'warranty', 'screen_size', 'resolution', 'ppi',\n",
       "       'battery', 'screen_feature1', 'screen_feature2', 'processor_name',\n",
       "       'processor_speed', 'no_cores', 'caches', 'graphics_card', 'rom_memory',\n",
       "       'internal_memory', 'port_connection', 'wireless_connection',\n",
       "       'usb_ports', 'hardware_features'],\n",
       "      dtype='object')"
      ]
     },
     "execution_count": 8,
     "metadata": {},
     "output_type": "execute_result"
    }
   ],
   "source": [
    "# checking column names\n",
    "df.columns"
   ]
  },
  {
   "cell_type": "code",
   "execution_count": 9,
   "id": "fa3f08aa-d6c9-4e8c-b90e-9ed617fd4103",
   "metadata": {},
   "outputs": [],
   "source": [
    "# replacing column names\n",
    "df.rename(columns={'spec_score':'specification_score','os':\"operating_system\",\"ppi\":'pixels_per_inch',\n",
    "                  'no_cores': \"number_of_cores\"},inplace=True)"
   ]
  },
  {
   "cell_type": "code",
   "execution_count": 10,
   "id": "18c6777c-86be-4098-9862-ee4c7fd041c0",
   "metadata": {},
   "outputs": [
    {
     "name": "stdout",
     "output_type": "stream",
     "text": [
      "<class 'pandas.core.frame.DataFrame'>\n",
      "Index: 1020 entries, 0 to 1019\n",
      "Data columns (total 27 columns):\n",
      " #   Column               Non-Null Count  Dtype  \n",
      "---  ------               --------------  -----  \n",
      " 0   name                 1020 non-null   object \n",
      " 1   price                1020 non-null   object \n",
      " 2   specification_score  1020 non-null   float64\n",
      " 3   votes                1020 non-null   object \n",
      " 4   user_rating          1020 non-null   float64\n",
      " 5   operating_system     1015 non-null   object \n",
      " 6   utility              1018 non-null   object \n",
      " 7   thickness            770 non-null    object \n",
      " 8   weight               909 non-null    object \n",
      " 9   warranty             1011 non-null   object \n",
      " 10  screen_size          1020 non-null   object \n",
      " 11  resolution           1019 non-null   object \n",
      " 12  pixels_per_inch      1020 non-null   object \n",
      " 13  battery              957 non-null    object \n",
      " 14  screen_feature1      925 non-null    object \n",
      " 15  screen_feature2      456 non-null    object \n",
      " 16  processor_name       1020 non-null   object \n",
      " 17  processor_speed      1014 non-null   object \n",
      " 18  number_of_cores      930 non-null    object \n",
      " 19  caches               982 non-null    object \n",
      " 20  graphics_card        1017 non-null   object \n",
      " 21  rom_memory           810 non-null    object \n",
      " 22  internal_memory      1014 non-null   object \n",
      " 23  port_connection      1005 non-null   object \n",
      " 24  wireless_connection  1020 non-null   object \n",
      " 25  usb_ports            1014 non-null   object \n",
      " 26  hardware_features    1018 non-null   object \n",
      "dtypes: float64(2), object(25)\n",
      "memory usage: 223.1+ KB\n"
     ]
    }
   ],
   "source": [
    "df.info()"
   ]
  },
  {
   "cell_type": "code",
   "execution_count": 11,
   "id": "3e9f2290-72a2-4138-a7f5-8053d6f90679",
   "metadata": {
    "scrolled": true
   },
   "outputs": [
    {
     "data": {
      "text/plain": [
       "name                     0\n",
       "price                    0\n",
       "specification_score      0\n",
       "votes                    0\n",
       "user_rating              0\n",
       "operating_system         5\n",
       "utility                  2\n",
       "thickness              250\n",
       "weight                 111\n",
       "warranty                 9\n",
       "screen_size              0\n",
       "resolution               1\n",
       "pixels_per_inch          0\n",
       "battery                 63\n",
       "screen_feature1         95\n",
       "screen_feature2        564\n",
       "processor_name           0\n",
       "processor_speed          6\n",
       "number_of_cores         90\n",
       "caches                  38\n",
       "graphics_card            3\n",
       "rom_memory             210\n",
       "internal_memory          6\n",
       "port_connection         15\n",
       "wireless_connection      0\n",
       "usb_ports                6\n",
       "hardware_features        2\n",
       "dtype: int64"
      ]
     },
     "execution_count": 11,
     "metadata": {},
     "output_type": "execute_result"
    }
   ],
   "source": [
    "# checking null values of dataset\n",
    "df.isna().sum()"
   ]
  },
  {
   "cell_type": "code",
   "execution_count": 12,
   "id": "becf9039-bd13-4514-b370-fc5bf18ec355",
   "metadata": {
    "scrolled": true
   },
   "outputs": [
    {
     "data": {
      "text/plain": [
       "Index(['name', 'price', 'specification_score', 'votes', 'user_rating',\n",
       "       'operating_system', 'utility', 'thickness', 'weight', 'warranty',\n",
       "       'screen_size', 'resolution', 'pixels_per_inch', 'battery',\n",
       "       'screen_feature1', 'screen_feature2', 'processor_name',\n",
       "       'processor_speed', 'number_of_cores', 'caches', 'graphics_card',\n",
       "       'rom_memory', 'internal_memory', 'port_connection',\n",
       "       'wireless_connection', 'usb_ports', 'hardware_features'],\n",
       "      dtype='object')"
      ]
     },
     "execution_count": 12,
     "metadata": {},
     "output_type": "execute_result"
    }
   ],
   "source": [
    "# checking column names\n",
    "df.columns"
   ]
  },
  {
   "cell_type": "code",
   "execution_count": 13,
   "id": "1180f8dd-36e0-4b93-ae0c-99b995fb6aba",
   "metadata": {
    "scrolled": true
   },
   "outputs": [
    {
     "data": {
      "text/plain": [
       "array(['HP Victus 15-fb0157AX Gaming Laptop (AMD Ryzen 5 5600H/ 8GB/ 512GB SSD/ Win11/ 4GB Graph)',\n",
       "       'Xiaomi Redmi G Pro 2024 Gaming Laptop (14th Gen Core i9/ 16GB/ 1TB SSD/ Win11 Home/ RTX 4060)',\n",
       "       'Tecno Megabook T1 Laptop (11th Gen Core i3/ 8GB/ 512GB SSD/ Win11 Home)',\n",
       "       'Samsung Galaxy Book2 Pro 13 Laptop (12th Gen Core i5/ 16GB/ 512GB SSD/ Win11)',\n",
       "       'Apple MacBook Air 2020 MGND3HN Laptop (Apple M1/ 8GB/ 256GB SSD/ MacOS)',\n",
       "       'Lenovo V15 G4 \\u200e82YU00W7IN Laptop (AMD Ryzen 3 7320U/ 8GB/ 512GB SSD/ Win11 Home)',\n",
       "       'HP 15s-fq5007TU Laptop (12th Gen Core i3/ 8GB/ 512GB SSD/ Win11 Home)',\n",
       "       'HP 15s-fq5330TU Laptop (12th Gen Core i5/ 16GB/ 512GB SSD/ Win11 Home)',\n",
       "       'Asus Vivobook 15 X1502ZA-EJ544WS Laptop (12th Gen Core i5/ 16GB/ 512GB SSD/ Win11)',\n",
       "       'Apple MacBook Air 2022 Laptop (Apple M2/ 8GB/ 256GB SSD/ MacOS)',\n",
       "       'Zebronics Pro Series Z ZEB-NBC 4S Laptop (12th Gen Core i5/ 16GB/ 512GB SSD/ Win11 Home)',\n",
       "       'HP Victus 16-s0094AX Gaming Laptop (AMD Ryzen 7 7840HS/ 16GB/ 1TB SSD/ Win11/ 6GB Graph)',\n",
       "       'Wings Nuvobook V1 Laptop (11th Gen Core i5/ 8GB/ 512GB SSD/ Win11)',\n",
       "       'Dell Inspiron 3520 D560896WIN9B Laptop (12th Gen Core i3/ 8GB/ 512GB SSD/ Win11)',\n",
       "       'Lenovo V15 82KDA01BIH Laptop (AMD Ryzen 3 5300U/ 8GB/ 512GB SSD/ Win11 Home)',\n",
       "       'HP Victus 15-fa1099TX Laptop (12th Gen Core i5/ 16GB/ 512GB SSD/ Win11 Home/ 4GB Graph)',\n",
       "       'Samsung Galaxy Book 4 NP750XGK-KS2IN Laptop (Intel Core 5 Processor 120U/ 16GB/ 512GB SSD/ Win11)',\n",
       "       'Samsung Galaxy Book 4 NP750XGK-KS1IN Laptop (Intel Core 5 Processor 120U/ 8GB/ 512GB SSD/ Win11)',\n",
       "       'HP 14s-dq5138tu Laptop (12th Gen Core i3/ 8GB/ 512GB SSD/ Win11 Home)',\n",
       "       'Zebronics ZEB-NBC 5S 2023 Laptop (12th Gen Core i7 / 16GB/ 1TB SSD/ Win11 Home)',\n",
       "       'Asus TUF Gaming F15 FX506HE-HN385WS Gaming Laptop (11th Gen Core i7/ 16GB/ 1TB SSD/ Win11/ 4GB Graph)',\n",
       "       'HP Victus 15-fb1017AX Gaming Laptop (AMD Ryzen 5 7535HS/ 16GB/ 512GB SSD/ Win11/ 4GB Graph)',\n",
       "       'Lenovo LOQ 15IRH8 82XV00F4IN 2023 Gaming Laptop (12th Gen Core i5/ 16GB/ 512GB SSD/ Win11/ 4GB Graph)',\n",
       "       'Apple MacBook Air 2024 Laptop (Apple M3/ 8GB/ 256GB SSD/ MacOS)',\n",
       "       'Infinix Zerobook 2023 Laptop (13th Gen Core i9/ 32GB/ 1TB SSD/ Win 11 Home)',\n",
       "       'Asus TUF Gaming F15 2023 FX507ZV-LP094W Gaming Laptop (12th Gen Core i7/ 16GB/512GB SSD/ Win11 Home/ 8GB Graph)',\n",
       "       'Asus TUF F15 FX506HF-HN024W Gaming Laptop (11th Gen Core i5/ 8GB/ 512GB SSD/ Win11/ 4GB Graph)',\n",
       "       'Samsung Galaxy Book2 NP550XED-KA1IN 15 Laptop (12th Gen Core i5/ 8GB/ 512GB SSD/ Win11)',\n",
       "       'Lenovo IdeaPad Slim 3 83EQ0044IN Laptop (12th Gen Core i5/ 16GB/ 512GB SSD/ Win11 Home)',\n",
       "       'Colorful Evol P15 Gaming Laptop (12th Gen Core i7/ 16GB/ 512GB SSD/ Win11/ 8GB Graph)',\n",
       "       'Dell 15 G15-5530 Gaming Laptop (13th Gen Core i5/ 16GB/ 1TB SSD/ Win11/ 6GB Graph)',\n",
       "       'Asus ROG Flow X13 GV301RC-LJ132WS Gaming Laptop (AMD Ryzen 9 6900HS/ 16GB/ 512GB SSD/ Win11 Home/ 4GB Graph)',\n",
       "       'Lenovo IdeaPad Slim 3 83ER008GIN Laptop (12th Gen Core i5/ 16GB/ 512GB SSD/ Win11 Home)',\n",
       "       'Lenovo ThinkBook 15 G5 21JF002JIN Laptop (AMD Ryzen 3 7330U/ 8 GB/ 512 GB SSD/ Win11)',\n",
       "       'Zebronics Pro Series Z ZEB-NBC 3S 2023 Laptop (12th Gen Core i3 / 8GB/ 512GB SSD/ Win11 Home)',\n",
       "       'Lenovo ThinkBook 15 G5 21JFA00BIN Laptop (AMD Ryzen 7 7730U/ 8 GB/ 512 GB SSD/ Win11)',\n",
       "       'HP Victus 15-fa1128TX Gaming Laptop (13th Gen Core i5/ 16GB/ 512GB SSD/ Win11 Home/ 4GB Graph)',\n",
       "       'Acer Nitro V ANV15-51 2023 Gaming Laptop (13th Gen Core i5/ 16GB/ 512GB SSD/ Win11/ 6GB Graph)',\n",
       "       'HP Omen 16-xf0060AX Gaming Laptop (AMD Ryzen 7 7840HS/ 16GB/ 1TB SSD/ Win11/ 8GB Graph)',\n",
       "       'HP 255 G9 840T7PA Laptop (AMD Athlon Silver-3050U/ 4GB/ 256GB SSD/ DOS)',\n",
       "       'Acer One 14 Z8-415 \\u200e2023 Laptop (11th Gen Core i5 / 16GB/ 512GB SSD/ Win11 Home)',\n",
       "       'Asus TUF Gaming A15 FA577NU-LP082W Gaming Laptop (AMD Ryzen 7 7735HS/ 16GB/ 512GB SSD/ Win11/ 6GB Graph)',\n",
       "       'Asus TUF Gaming F15 FX506HF-HN025W Gaming Laptop (11th Gen Core i5/ 16GB/ 512GB SSD/ Win11/ 4GB Graph)',\n",
       "       'HP 255 G8 689T4PA Laptop (Ryzen 3 3250U/ 8GB/512GB SSD/ Win11 Home)',\n",
       "       'MSI Modern 14 C7M-062IN Laptop (Ryzen 5 7530U/ 16GB/ 512GB SSD/ Win11)',\n",
       "       'Dell Inspiron 5420 Laptop (12th Gen Core i5/ 16GB/ 512GB SSD/ Win11)',\n",
       "       'Asus TUF Gaming F15 FX506HC-HN362WS Gaming Laptop (11th Gen Core i5/ 16GB/ 512GB SSD/ Win11/ 4GB Graph)',\n",
       "       'Asus Vivobook 16X 2022 M1603QA-MB502WS Laptop (Ryzen 5-5600H/ 8GB/ 512GB SSD/ Win11 Home)',\n",
       "       'Samsung Galaxy Book2 Pro 360 13 Laptop (12th Gen Core i5/ 16GB/ 512GB SSD/ Win11)',\n",
       "       'iBall Excelance CompBook Laptop (AQC/ 2GB/ 32GB/Win10)',\n",
       "       'Apple MacBook Air 2024 MXCT3HN/A Laptop (Apple M3/ 16GB/ 512GB SSD/ MacOS)',\n",
       "       'Apple MacBook Air 2024 MRYN3HN/A Laptop (Apple M3/ 8GB/ 512GB SSD/ MacOS)',\n",
       "       'Apple MacBook Air 15 2024 MRYR3HN/A Laptop (Apple M3/ 8GB/ 256GB SSD/ MacOS)',\n",
       "       'HP Spectre x360 14-ef2035TU Laptop (13th Gen Core i7/ 32GB/ 1TB SSD/ Win11 Home)',\n",
       "       'Lenovo Thinkpad E16 21JN004GIG Laptop (13th Gen Core i5/ 8GB/ 512GB SSD/ DOS)',\n",
       "       'HP Omen 14-fb0007TX Gaming Laptop (Intel Core Ultra 7 155H/ 16GB/ 1TB SSD/ Win11 Home/ 8GB Graph)',\n",
       "       'Lenovo IdeaPad Slim 5 \\u200e16IMH9 83DC0042IN Laptop (Intel Core Ultra 5/ 16 GB RAM/ 1TB SSD/ Win 11)',\n",
       "       'Asus ROG Strix SCAR 16 2024 G634JYR-RA001WS Gaming Laptop (14th Gen Core i9/ 32GB/ 2TB SSD/ Win11 Home/ 16GB Graph)',\n",
       "       'Lenovo ThinkBook 15 G5 20VG0008UK Laptop (AMD Ryzen 7 7730U/ 16GB/ 512 GB SSD/ Win11)',\n",
       "       'Honor MagicBook X16 2024 \\u200eLaptop (12th Gen Core i5/ 16GB/ 512GB SSD/ Win11 Home)',\n",
       "       'HP Omen 16-xf0081AX Gaming Laptop (AMD Ryzen 7 7840HS/ 32GB/ 1TB SSD/ Win11/ 8GB Graph)',\n",
       "       'Infinix INBook Y4 Max Series Laptop (13th Gen Core i5/ 16GB/ 512GB SSD/ Win 11 Home)',\n",
       "       'Asus TUF Gaming F17 FX706HF-HX044WS Laptop (11th Gen Core i5/ 8GB/ 512GB SSD/ Win11/ 4GB Graph)',\n",
       "       'Infinix INBook Y4 Max Series YL613 Laptop (13th Gen Core i3/ 16GB/ 512GB SSD/ Win 11 Home)',\n",
       "       'Acer Aspire Lite 15 AL15-52 Laptop (12th Gen Core i3/ 16GB/ 512GB SSD/ Win11)',\n",
       "       'HP Omen 16-wf1025TX Gaming Laptop (14th Gen Core i7/ 16GB/ 1TB SSD/ Win11 Home/ 8GB Graph)',\n",
       "       'MSI Titan 18 HX Gaming Laptop (14th Gen Core i9/ 32GB/ 2TB SSD/ Win11 Home/ RTX 4090)',\n",
       "       'Lenovo Legion Pro 5 161IRX9 Laptop (14th Gen Core i9/ 32GB/ 1TB SSD/ Win11/ 8GB Graph)',\n",
       "       'Samsung Galaxy Book 4 Pro 360 Laptop (Intel Core Ultra 7/ 16GB/ 512GB SSD/ Win11)',\n",
       "       'Xiaomi Redmi Book 16 2024 Laptop (13th Gen Core i5/ 16GB/ 512GB SSD/ Win 11)',\n",
       "       'HP Pavilion 15-eg3032TU Laptop (13th Gen Core i7/ 16GB/ 512GB SSD/ Win11 Home)',\n",
       "       'HP Victus 15-fa1145TX Gaming Laptop (12th Gen Core i5/ 16GB/ 1TB SSD/ Win11 Home/ 4GB Graph)',\n",
       "       'Apple MacBook Pro 16 2023 Laptop (Apple M3 Max/ 48GB/ 1TB SSD/ macOS)',\n",
       "       'Apple MacBook Pro 14 2023 Laptop (Apple M3 Pro/ 18GB/ 512GB SSD/ macOS)',\n",
       "       'Lenovo V15 G4 Laptop (AMD Athlon Silver 7120U/ 8GB/ 512GB SSD/ Win11 Home)',\n",
       "       'Dell Inspiron 3530 Laptop (13th Gen Core i7/ 16GB/ 512GB SSD/ Win11 Home)',\n",
       "       'Asus Vivobook 15 X1502ZA-EJ385WS Laptop (12th Gen Core i3/ 8GB/ 512GB SSD/ Win11)',\n",
       "       'Dell G15-5530 15 2023 Gaming Laptop (13th Gen Core i7/ 16GB/ 1TB SSD/ Win11/ 6GB Graph)',\n",
       "       'HP 15s-fq5185TU Laptop (12th Gen Core i3/ 8GB/ 512GB SSD/ Win11 Home)',\n",
       "       'Lenovo Yoga Slim 6 14IAP8 82WU0095IN Laptop (12th Gen Core i5/ 16GB/ 512GB SSD/ Win11 Home)',\n",
       "       'Zebronics Pro Series Y ZEB-NBC 1S Laptop (11th Gen Core i3 / 8GB/ 512GB SSD/ Win11 Home)',\n",
       "       'Asus TUF Gaming F17 FX707ZC4-HX048WS Gaming Laptop (12th Gen Core i5/ 8GB/ 512GB SSD/ Win11/ 4GB Graph)',\n",
       "       'MSI Bravo 15 B7ED-012IN Gaming Laptop (AMD Ryzen 5 7535HS/ 8GB/ 512GB SSD/ Win11 Home/ 4GB Graph)',\n",
       "       'Lenovo IdeaPad Slim 3 82RK00VWIN Laptop (12th Gen Core i3/ 8GB/ 512GB SSD/ Win11)',\n",
       "       'Chuwi FreeBook Laptop (12th Gen Core i3/ 12GB/ 512GB SSD/ Win11)',\n",
       "       'HP Victus 16-s0095AX Gaming Laptop (AMD Ryzen 7 7840HS/ 16GB/ 512GB SSD/ Win11/ 6GB Graph)',\n",
       "       'HP 15S-FQ5202TU Laptop (12th Gen Core i5/ 8 GB RAM/ 512 GB SSD/ Win 11)',\n",
       "       'Acer Aspire 7 A715-76G UN.QMYSI.002 Gaming Laptop (12th Gen Core i5/ 16GB/ 512GB SSD/ Win11 Home/ 4GB Graph)',\n",
       "       'Asus TUF Gaming F15 FX506HE-HN382W Gaming Laptop (11th Gen Core i7/ 16GB/ 512GB SSD/ Win11/ 4GB Graph)',\n",
       "       'Asus TUF Gaming F15  FX506HF-HN075W Gaming Laptop (11th Gen Core i5/ 8GB/ 512GB SSD/ Win11/ 4GB Graph)',\n",
       "       'HP Victus 15-fb0150AX Gaming Laptop (AMD Ryzen 5 5600H/ 16GB/ 512GB SSD/ Win11/ 4GB Graph)',\n",
       "       'Asus TUF Gaming F15 FX577ZC-HN192W Gaming Laptop (12th Gen Core i7/ 16GB/1TB SSD/ Win11 / 4GB Graph)',\n",
       "       'MSI Thin GF63 11UC-1490IN Gaming Laptop (11th Gen Core i5/ 16GB/ 1TB 256GB SSD/ Win11 Home/ 4GB Graph)',\n",
       "       'MSI Thin GF63 11SC-1494IN Gaming Laptop (11th Gen Core i5/ 8GB/ 512GB SSD/ Win11 Home/ 4GB Graph)',\n",
       "       'Lenovo LOQ 15APH8 82XT004HIN 2023 Gaming Laptop (AMD Ryzen 7 7840HS/ 16GB/ 512GB SSD/ Win11/ 6GB Graph)',\n",
       "       'Asus Vivobook Go 15 E510MA-EJ001W Laptop (Celeron N4020/ 4GB/ 256GB SSD/ Win11 Home)',\n",
       "       'Acer Aspire Lite AL15 Laptop (AMD Ryzen 5 5500U/ 16GB/ 512GB SSD/ Win11)',\n",
       "       'Asus TUF Gaming F17 FX707ZC4-HX067W Gaming Laptop (12th Gen Core i5/ 16GB/ 512GB SSD/ Win11/ 4GB Graph)',\n",
       "       'Walker NU14A1 Laptop (Celeron N4020/ 4GB/ 128GB SSD / Win11 Home)',\n",
       "       'HP Omen 16-wd0880TX Gaming Laptop (13th Gen Core i5/ 16GB/ 512GB SSD/ Win11 Home/ 6GB Graph)',\n",
       "       'Infinix INBook Y1 Plus Neo 2023 XL30 Laptop (Intel Celeron N5100/ 4GB/ 128GB SSD/ Win 11 Home)',\n",
       "       'Asus Vivobook 16X 2023 K3605ZU-MB541WS Laptop (12th Gen Core i5/ 16GB/ 512GB SSD/ Win11 Home/ 6GB Graph)',\n",
       "       'Asus Vivobook 15 X1502ZA-EJ741WS Laptop (12th Gen Core i7/ 16GB/ 512GB SSD/ Win11)',\n",
       "       'Lenovo Ideapad Gaming 3 82SB00NXIN Laptop (AMD Ryzen 5 7535HS/ 16GB/ 512GB SSD/ Win11 Home/ 4GB Graph)',\n",
       "       'Infinix Zerobook ZL513 2023 Laptop (13th Gen Core i5/ 16GB/ 512GB SSD/ Win 11 Home)',\n",
       "       'Dell Inspiron 3525 Laptop (AMD Ryzen 5 5500U/ 8GB/ 512GB SSD/ Win11)',\n",
       "       'Asus Vivobook 16X 2023 K3605ZU-MB741WS Laptop (12th Gen Core i7/ 16GB/ 512GB SSD/ Win11 Home/ 6GB Graph)',\n",
       "       'Asus TUF Gaming F15 2022 FX507ZC4-HN116W Gaming Laptop (12th Gen Core i5/ 16GB/512GB SSD/ Win11 / 4GB Graph)',\n",
       "       'Dell Latitude 3420 GD723YX17 Laptop (11th Gen Core i5/ 8GB/ 512GB SSD/ Ubuntu)',\n",
       "       'Dell Inspiron 5630 Laptop (13th Gen Core i5/ 16GB/ 512GB SSD/ Win11)',\n",
       "       'Acer Aspire 3 A315-59 NX.K6TSI.00C Laptop (12th Gen Core i3/ 8GB/ 512GB SSD/ Win11)',\n",
       "       'HP Victus 15-fb0137AX Gaming Laptop (Ryzen 7 5800H/ 16GB/ 512GB SSD/ Win11/ 4GB Graph)',\n",
       "       'Acer Aspire 7 A715-76G NH.QMFSI.004 Gaming Laptop (12th Gen Core i5/ 16GB/ 512GB SSD/ Win11 Home/ 4GB Graph)',\n",
       "       'HP Pavilion 15-eg3081TU Laptop (13th Gen Core i5/ 16GB/ 512GB SSD/ Win11 Home)',\n",
       "       'Asus Vivobook 14X OLED 2023 K3405VCB-KM542WS Laptop (13th Gen Core i5/ 16GB/ 512GB SSD/ Win11/4 GB Graphics)',\n",
       "       'HP Victus 15-fb0122AX Gaming Laptop (AMD Ryzen 5 5600H/ 8GB/ 512GB SSD/ Win11/ 4GB Graph)',\n",
       "       'Asus Vivobook Pro 16 OLED 2023 K6602VU-LZ952WS Laptop (13th Gen Core i9/ 16GB/ 1TB SSD/ Win11/ 6GB Graph)',\n",
       "       'Acer Predator Helios Neo 16 PHN16-71 Gaming Laptop (13th Gen Core i7/ 16GB/ 1TB SSD/ Win11/ 6GB Graph)',\n",
       "       'HP Victus 15-fa0998TX Gaming Laptop (12th Gen Core i5/ 16GB/ 512GB SSD/ Win11/ 4GB Graph)',\n",
       "       'HP Victus 15-fa0666TX Gaming Laptop (12th Gen Core i5/ 16GB/ 512GB SSD/ Win11/ 4GB Graph)',\n",
       "       'HP Omen 16-n0123AX Gaming Laptop (AMD Ryzen 7 6800H/ 16GB/ 1TB SSD/ Win11/ 8GB Graph)',\n",
       "       'Acer Nitro 5 AN515-47 Gaming Laptop (AMD Ryzen 7 7735HS/ 16GB/ 512GB SSD/ Win11 Home/ 4GB Graph)',\n",
       "       'MSI Sword 15 A12VF-401IN Gaming Laptop (12th Gen Core i7/ 16GB/ 1TB SSD/ Win11/ 8GB Graph)',\n",
       "       'HP Pavilion x360 14-ek1010TU Laptop (13th Gen Core i5/ 16GB/ 1TB SSD/ Win11)',\n",
       "       'MSI Stealth 17 A13VH-055IN Gaming Laptop (13th Gen Core i9/ 64GB/ 2TB SSD/ Win11 Home/ 12GB Graph)',\n",
       "       'Acer Extensa EX215-23 NX.EH3SI.003 Laptop (Ryzen 5 7520U/ 8 GB/512 GB SSD/Win11 Home)',\n",
       "       'Samsung Galaxy Book2 NP550XED-KA2IN Laptop (12th Gen Core i5/ 16GB/ 512GB SSD/ Win11)',\n",
       "       'Dell Vostro 3520 Laptop (12th Gen Core i5/ 8GB/ 512GB SSD/ Win11)',\n",
       "       'Dell Latitude 3430 Laptop (12th Gen Core i5/ 8GB/ 512GB SSD/ Win11 Pro)',\n",
       "       'HP Chromebook 14a-na1004TU Laptop (Celeron N4500/ 4GB/ 64GB eMMC/ Chrome OS)',\n",
       "       'Asus ROG Flow X13 GV301RC-LJ073WS Gaming Laptop (AMD Ryzen 9 6900HS/ 16GB/ 1TB SSD/ Win11 Home/ 4GB Graph)',\n",
       "       'Acer Aspire 5 A515-57G UN.K9TSI.002 Gaming Laptop (12th Gen Core i5/ 16GB/ 512GB SSD/ Win11 Home/ 4GB Graph)',\n",
       "       'Asus Vivobook 16X 2022 M1603QA-MB711WS Laptop (Ryzen 7-5800H/ 16GB/ 512GB SSD/ Win11 Home)',\n",
       "       'Asus Vivobook 15 Touch X515EA-EZ311WS Laptop (11th Gen Core i3/ 8GB/ 512GB SSD/ Win11 Home)',\n",
       "       'HP Victus 16-e0352AX Gaming Laptop (Ryzen 5-5600H/ 8GB/ 512GB SSD/ Win11/ 4GB Graph)',\n",
       "       'Dell G15-5520 Laptop (12th Gen Core i5/ 16GB/ 512GB SSD/ Win11 Home/ 4GB Graph)',\n",
       "       'Dell Precision 5550 Laptop (10th Gen Core i7/ 16GB/ 512GB SSD/ Win10 Pro/ 4GB Graph)',\n",
       "       'Lenovo Legion 9i 83AG0044IN Laptop (13th Gen Core i9/ 32GB/ 2TB SSD/ Win11/ 16GB Graph)',\n",
       "       'Infinix INBook Y4 Max Series YL613 Laptop (13th Gen Core i3/ 8GB/ 512GB SSD/ Win 11 Home)',\n",
       "       'HP Envy x360 15-fe0011TX Laptop (13th Gen Core i7/ 16GB/ 512GB SSD/ Win11/ 4GB Graphics)',\n",
       "       'Lenovo Thinkpad E16 G1 21JN004DIG Laptop (13th Gen Core i3/ 8GB/ 512GB SSD/ DOS)',\n",
       "       'MSI Commercial 14 H A13MG-064IN Laptop (13th Gen Core i5/ 16GB/ 512GB SSD/ Win11)',\n",
       "       'HP 15-FC0029AU Laptop (AMD Ryzen 5 7520U/ 8GB/ 512GB SSD/ Win11 Home)',\n",
       "       'Lenovo IdeaPad 1 82V700ECIN Laptop (Celeron N4020/ 8GB/ 512GB SSD/ Win11 Home)',\n",
       "       'Honor MagicBook X16 Pro 2024 \\u200eLaptop (13th Gen Core i5/ 16GB/ 512GB SSD/ Win11 Home)',\n",
       "       'Honor MagicBook X14 Pro 2024 \\u200eLaptop (13th Gen Core i5/ 16GB/ 512GB SSD/ Win11 Home)',\n",
       "       'Samsung Galaxy Book 4 Edge Laptop (Snapdragon X Elite/ 16GB/ 512GB SSD/ Win11)',\n",
       "       'HP Victus 15-fa1216TX Gaming Laptop (13th Gen Core i5/ 16GB/ 512GB SSD/ Win11 Home/ RTX 3050)',\n",
       "       'MSI Stealth 14 AI Studio A1VGG-054IN Gaming Laptop (Intel Core Ultra 7 155H/ 32GB/ 1TB SSD/ Win11 Home/ 8GB Graph)',\n",
       "       'MSI Katana A15 AI B8VE-418IN Gaming Laptop (AMD Ryzen 7 8845HS/ 16GB/ 512GB SSD/ Win11 /6GB Graph)',\n",
       "       'MSI Katana A17 AI B8VF-845IN Gaming Laptop (AMD Ryzen 7 8845HS/ 16GB/ 1TB SSD/ Win11 Home/ 8GB Graph)',\n",
       "       'MSI Cyborg 15 AI A1VEK-050IN Gaming Laptop (Intel Core Ultra 7 155H/ 16GB/ 1TB SSD/ Win11/ 6GB Graph)',\n",
       "       'MSI Cyborg 15 AI A1VEK-051IN Gaming Laptop (Intel Core Ultra 5 125H/ 16GB/ 1TB SSD/ Win11/ 6GB Graph)',\n",
       "       'MSI Cyborg 15 AI A1VFK-049IN Gaming Laptop (Intel Core Ultra 7 155H/ 16GB/ 1TB SSD/ Win11/ 8GB Graph)',\n",
       "       'MSI Raider GE78 HX 14VHG-805IN Gaming Laptop (14th Gen Core i9/ 32GB/ 2TB SSD/ Win11 Home/ 12GB Graph)',\n",
       "       'MSI Commercial 14 H A13MG vPro-065IN Laptop (13th Gen Core i7/ 32GB/ 1TB SSD/Win11)',\n",
       "       'HP Envy x360 \\u200e14-fc0100TU Laptop (Intel Core Ultra 7 155U/ 32GB/ 1TB SSD/ Win11)',\n",
       "       'Apple MacBook Air 2024 MRXW3HN/A Laptop (Apple M3/ 8GB/ 512GB SSD/ MacOS)',\n",
       "       'Apple MacBook Air 15 2024 Laptop (Apple M3/ 16GB/ 512GB SSD/ MacOS)',\n",
       "       'MSI Thin A15 AI B7UCX-068IN Gaming Laptop (AMD Ryzen 5 7535H/ 16GB/ 512GB SSD/ Win11/ 4GB Graph)',\n",
       "       'MSI Thin A15 AI B7UC-067IN Gaming Laptop (AMD Ryzen 5 7535H/ 16GB/ 512GB SSD/ Win11/ 4GB Graph)',\n",
       "       'HP Envy x360 14-fc0105TU Laptop (Intel Core Ultra 5 125U/ 16GB/ 512GB SSD/ Win11)',\n",
       "       'MSI Thin A15 AI B7VE-066IN Gaming Laptop (AMD Ryzen 5 7535H/ 16GB/ 512GB SSD/ Win11/ 6GB Graph)',\n",
       "       'MSI Thin A15 AI B7VE-065IN Gaming Laptop (AMD Ryzen 7 7735H/ 16GB/ 1TB SSD/ Win11/ 6GB Graph)',\n",
       "       'MSI Thin A15 AI B7VF-064IN Gaming Laptop (AMD Ryzen 7 7735H/ 16GB/ 1TB SSD/ Win11/ 8GB Graph)',\n",
       "       'MSI Stealth 16 AI Studio A1VGG-057IN Gaming Laptop (Intel Core Ultra 9/ 32GB/ 2TB SSD/ Win11/ 8GB Graph)',\n",
       "       'MSI Vector 16 HX A14VGG-279IN Gaming Laptop (14th Gen Core i7/ 32GB/ 1TB SSD/ Win11 Home/ 8GB Graph)',\n",
       "       'MSI Vector 17 HX A14VHG-806IN Gaming Laptop (14th Gen Core i9/ 32GB/ 2TB SSD/ Win11 Home/ 12GB Graph)',\n",
       "       'Chuwi HeroBook Plus Laptop (Intel Celeron N4020/ 8GB/ 256GB SSD/ Win11)',\n",
       "       'Infinix INBook X2 Slim XL23 Series Laptop (11th Gen Core i5/ 8GB/ 512GB SSD/ Win 11 Home)',\n",
       "       'Xiaomi Redmi Book Pro 16 2024 Laptop (Intel Core Ultra 5/ 32GB/ 1TB SSD/ Win 11)',\n",
       "       'Xiaomi Redmi Book Pro 14 2024 Laptop (Intel Core Ultra 5/ 16GB/ 512GB SSD/ Win 11)',\n",
       "       'MSI Modern 15 C13M-080IN Laptop (13th Gen Core i7/ 16GB/ 1TB SSD/ Win11 Home)',\n",
       "       'MSI Modern 15 C13M-079IN Laptop (13th Gen Core i9/ 16GB/ 1TB SSD/ Win11 Home)',\n",
       "       'MSI Modern 15 C13M-081IN Laptop (13th Gen Core i5/ 16GB/ 512GB SSD/ Win11 Home)',\n",
       "       'Chuwi GemiBook Plus CWI620 Laptop (Intel Celeron N100/ 8GB/ 256GB SSD/ Win11 Home)',\n",
       "       'Lenovo Legion Y9000K 2024 Gaming Laptop (14th Gen Core i9/ 64GB/ 2TB SSD/ Win11/ 16GB Graph)',\n",
       "       'HP Pavilion Plus 14-ew0116TU Laptop (13th Gen Core i5/ 16GB/ 512GB SSD/ Win 11)',\n",
       "       'MSI Stealth 16 AI Studio A1VFG-058IN Gaming Laptop (Intel Core Ultra 7/ 32GB/ 1TB SSD/ Win11 Home/ 8GB Graph)',\n",
       "       'MSI Modern 14 D13MG-073IN Laptop (13th Gen Core i5/ 16GB/ 512GB SSD/ Win11 Home)',\n",
       "       'Samsung Galaxy Book 4 360 NP750QGK-KG3IN Laptop (Intel Core 7 Processor 150U/ 16GB/ 1TB SSD/ Win11)',\n",
       "       'Samsung Galaxy Book 4 Pro 360 NP960QGK-KG1IN Laptop (Intel Core Ultra 7/ 16GB/ 512GB SSD/ Win11)',\n",
       "       'Samsung Galaxy Book 4 360 NP750QGK-KG2IN Laptop (Intel Core 7 Processor 150U/ 16GB/ 512GB SSD/ Win11)',\n",
       "       'Samsung Galaxy Book 4 360 NP750QGK-KG1IN Laptop (Intel Core 5 Processor 120U/ 16GB/ 512GB SSD/ Win11)',\n",
       "       'Samsung Galaxy Book 4 Pro 360 NP960QGK-KG2IN Laptop (Intel Core Ultra 7/ 16GB/ 1TB SSD/ Win11)',\n",
       "       'Lenovo LOQ 15IRH8 82XV00LTIN 2023 Gaming Laptop (12th Gen Core i5/ 16GB/ 512GB SSD/ Win11/ 4GB Graph)',\n",
       "       'Lenovo IdeaPad Slim 3 82H803W7IN Laptop (11th Gen Core i3/ 8GB/ 512GB SSD/ Win11)',\n",
       "       'Dell Inspiron 5620 ICC-C783534WIN8 Laptop (12th Gen Core i5/ 16GB/ 512GB SSD/ Win11)',\n",
       "       'MSI Prestige 16 AI Studio B1VFG Laptop ( Intel Core Ultra 7/ 32GB/ 1TB SSD/ Win11/ 8GB Graphics)',\n",
       "       'MSI Modern 14 D13MG-071IN Laptop (13th Gen Core i9/ 16GB/ 1TB SSD/ Win11 Home)',\n",
       "       'MSI Modern 14 D13MG-072IN Laptop (13th Gen Core i7/ 16GB/ 1TB SSD/ Win11 Home)',\n",
       "       'MSI Prestige 16 AI Evo  B1MG Laptop ( Intel Core Ultra 7/ 16GB/ 1TB SSD/ Win11)',\n",
       "       'MSI Prestige 13 AI Evo A1MG 2024 Laptop (Intel Core Ultra 7/ 16GB/ 1TB SSD/ Win11 Home)',\n",
       "       'MSI Prestige 13 AI Evo A1MG Laptop (Intel Core Ultra 5/ 16GB/ 1TB SSD/ Win11 Home)',\n",
       "       'MSI Prestige 16 AI Studio B1VEG Laptop ( Intel Core Ultra 7/ 32GB/ 1TB SSD/ Win11/ 6GB Graphics)',\n",
       "       'Acer Aspire Lite AL15-51 Laptop (11th Gen Core i7/ 16GB/ 512GB SSD/ Win11)',\n",
       "       'Samsung Galaxy Book 4 Pro 14 NP940XGK-KG2IN Laptop (Intel Core Ultra 7/ 16GB/ 512GB SSD/ Win11)',\n",
       "       'Samsung Galaxy Book 4 Pro 14 NP940XGK-KG3IN Laptop (Intel Core Ultra 7/ 32GB/ 1TB SSD/ Win11)',\n",
       "       'Samsung Galaxy Book 4 Pro 14 NP940XGK-KS1IN Laptop (Intel Core Ultra 5/ 16GB/ 512GB SSD/ Win11)',\n",
       "       'Samsung Galaxy Book 4 Pro NP960XGK-KG1IN Laptop (Intel Core Ultra 5/ 16GB/ 512GB SSD/ Win11)',\n",
       "       'Samsung Galaxy Book 4 Pro NP960XGK-KG2IN Laptop (Intel Core Ultra 7/ 16GB/ 512GB SSD/ Win11)',\n",
       "       'Samsung Galaxy Book 4 Pro NP960XGK-KG3IN Laptop (Intel Core Ultra 7/ 32GB/ 1TB SSD/ Win11)',\n",
       "       'Asus ROG Strix SCAR 16 2024 G634JZR-CM932WS Gaming Laptop (14th Gen Core i9/ 32GB/ 2TB SSD/ Win11 Home/ 12GB Graph)',\n",
       "       'Lenovo IdeaPad Slim 5 83DA0049IN Laptop (Intel Core Ultra 5/ 16 GB RAM/ 1TB SSD/ Win 11)',\n",
       "       'Asus ROG Zephyrus G16 GU605MI-QP001WS Gaming Laptop (Intel Core Ultra 7/ 16GB/ 1TB SSD/ Win11 Home/ 8GB Graph)',\n",
       "       'Asus Zenbook 14 OLED 2024 UX3405MA-QD552WS Laptop (Intel Core Ultra 5/ 16GB/ 1TB SSD/ Win11 Home)',\n",
       "       'Lenovo Legion Pro 7i 2024 Gaming Laptop (14th Gen Core i9/ 32GB/ 1TB SSD/ Win11 Home/ 12GB Graph)',\n",
       "       'Asus TUF F17 FX706HF-NY040W Gaming Laptop (11th Gen Core i5/ 16GB/ 512GB SSD/ Win11/ 4GB Graph)',\n",
       "       'Asus VivoBook 15 X1500EA-EJ111WS Laptop (Intel Pentium Gold/ 8GB/ 256GB SSD/ Win11)',\n",
       "       'Dell G15-5530 GN5530D83M6001ORB1 Gaming Laptop (13th Gen Core i5/ 16GB/ 512GB SSD/ Win11/ 6GB Graph)',\n",
       "       'HP ZBook Firefly 14 G9 Workstation Laptop (12th Gen Core i5/ 16GB/ 1TB SSD/ Win11/ 4GB Graphics)',\n",
       "       'HP 15-fd0221TU Laptop (13th Gen Core i5/ 16GB/ 512GB SSD/ Win11 Home)',\n",
       "       'HP Pavilion 15-eh1147AU Laptop (AMD Ryzen 7 5700U/ 16GB/ 1TB SSD/ Win11 Home)',\n",
       "       'Asus Zenbook 14 OLED 2024 UX3405MA-PZ552WS Laptop (Intel Core Ultra 5/ 16GB/ 1TB SSD/ Win11 Home)',\n",
       "       'Dell Vostro 3530 Laptop (13th Gen Core i3/ 8GB/ 512GB SSD/ Win11)',\n",
       "       'Lenovo ThinkPad E14 21JKS0UA00 Laptop (13th Gen Core i5/ 16GB/ 512GB SSD/ Win11 Home)',\n",
       "       'Lenovo Thinkbook 15 21DJA0FGIH Laptop (12th Gen Core i5/ 16GB/ 512GB SSD/ Win11 Home)',\n",
       "       'Lenovo IdeaPad Slim 5 14IMH9 83DA0043IN Laptop (Intel Core Ultra 5/ 16 GB RAM/ 1TB SSD/ Win 11)',\n",
       "       'Acer Swift Go 14 AI SFG14-72T Laptop (Intel Core Ultra 7 155H/ 16GB/ 1TB SSD/ Win11 Home)',\n",
       "       'HP 14-ew0153TU Laptop (13th Gen Core i7/ 16GB/ 1TB SSD/ Win11 Home)',\n",
       "       'Acer Swift Go 14 SFG14-72T Laptop (Intel Core Ultra 5 125H/ 16GB/ 512GB SSD/ Win11 Home)',\n",
       "       'Chuwi Ubook X Laptop (10th Gen Core i3/ 12GB/ 512GB SSD/ Win11)',\n",
       "       'HP Spectre x360 16-aa0664TX Laptop (Intel Core Ultra 7/ 32GB/ 1TB SSD/ Win11/ 6GB Graph)',\n",
       "       'HP Pavilion x360 14-ek0183TU Laptop (12th Gen Core i3/ 8GB/ 512GB SSD/ Win11)',\n",
       "       'HP Pavilion 15-eh1047AU Laptop (Ryzen 5 5500U/ 16GB/ 1TB SSD/ Win11 Home)',\n",
       "       'Acer Aspire Lite 15 AL15-52 Laptop (12th Gen Core i3/ 16GB/ 1TB SSD/ Win11)',\n",
       "       'HP Omen 16-xd0010AX Gaming Laptop (AMD Ryzen 7 7840HS/ 16GB/ 1TB SSD/ Win11/ 6GB Graph)',\n",
       "       'Infinix INBook Y4 Max Series YL613 Laptop (13th Gen Core i7/ 16GB/ 512GB SSD/ Win 11 Home)',\n",
       "       'Dell G15-5530 GN5530194YM001ORB1 Gaming Laptop (13th Gen Core i7/ 16GB/ 1TB SSD/ Win11/ RTX 3050 6GB Graph)',\n",
       "       'Lenovo IdeaPad Slim 3 15IAH8 83ER008HIN Laptop (12th Gen Core i5/ 16GB/ 512GB SSD/ Win11 Home)',\n",
       "       'Lenovo Ideapad Slim 3 Chromebook 14IAN8 83BN001PHA Laptop (Intel Pentium N100/ 4GB/ 128GB eMMC/ Chrome OS)',\n",
       "       'Lenovo Ideapad Slim 3 Chrome 14M868 82XJ002LHA Laptop (MediaTek Kompanio 520/ 4GB/ 128GB eMMC/ Chrome OS)',\n",
       "       'Lenovo Ideapad Slim 3 Chrome 14M868 82XJ002RHA Laptop (MediaTek Kompanio 520/ 8GB/ 128GB eMMC/ Chrome OS)',\n",
       "       'Lenovo IdeaPad Slim 3 83EM0026IN Laptop (13th Gen Core i5/ 16GB/ 512GB SSD/ Win11)',\n",
       "       'HP Victus 15-fa1124TX Gaming Laptop (12th Gen Core i5/ 8GB/ 512GB SSD/ Win11/ 4GB Graph)',\n",
       "       'Lenovo LOQ 15IRX9 83DV007JIN Gaming Laptop (13th Gen Core i5/ 16GB/ 512GB SSD/ Win11/ 6GB Graph)',\n",
       "       'Lenovo LOQ 15IRX9 83DV007HIN Gaming Laptop (13th Gen Core i7/ 16GB/ 512GB SSD/ Win11/ 6GB Graph)',\n",
       "       'HP Pavilion 15-eh3039AU Laptop ( AMD Ryzen 5 7530U/ 16GB/ 512GB SSD/ Win11 Home)',\n",
       "       'Lenovo ThinkBook 14 21KG00AFIN Laptop (13th Gen Core i3/ 8GB/ 512GB SSD/ Win 11 Home)',\n",
       "       'HP 15s-fr5010TU Laptop (12th Gen Core i5/8GB/ 512GB SSD/ Win11 Home)',\n",
       "       'HP 245 G9 841W7PA Laptop (AMD Ryzen 3 3250U/ 8 GB RAM/ 512 GB SSD/ DOS)',\n",
       "       'Asus Chromebook CM14 CM1402CM2A-EK0085 Laptop (MediaTek Kompanio 520/ 8GB/ 128GB eMMC/ Chrome OS)',\n",
       "       'Lenovo LOQ 15IAX9I 83FQ0009IN Gaming Laptop (12th Gen Core i5/ 8GB/ 512GB SSD/ Win11/ 4GB Graph)',\n",
       "       'Lenovo ThinkBook 15 G5 21JF002PIN Laptop (AMD Ryzen 5 7530U/ 8GB/ 512 GB SSD/ Win11)',\n",
       "       'Lenovo ThinkPad E1 21JNS03P00 Laptop (12th Gen Core i3/ 8GB/ 512GB SSD/ Win11 Home)',\n",
       "       'Lenovo ThinkBook 15 G5 21JFA016IN Laptop (AMD Ryzen 5 7530U/ 16GB/ 512 GB SSD/ Win11)',\n",
       "       'HP Spectre x360 16-aa0665TU Laptop (Intel Core Ultra 7/ 32GB/ 2TB SSD/ Win11 Home)',\n",
       "       'Acer Aspire Lite AL15-52 15 Laptop (12th Gen Core i5/ 16GB/ 1TB SSD/ Win11)',\n",
       "       'HP Spectre x360 14-eu0666TU Laptop (Intel Core Ultra 7/ 32GB/ 1TB SSD/ Win11 Home)',\n",
       "       'HP 15s-fr5011TU Laptop (12th Gen Core i5/ 16GB/ 512GB SSD/ Win11 Home)',\n",
       "       'HP Spectre x360 14-eu0556TU Laptop (Intel Core Ultra 7/ 32GB/ 1TB SSD/ Win11 Home)',\n",
       "       'HP Omen 16-wf1026TX Gaming Laptop (14th Gen Core i7/ 16GB/ 1TB SSD/ Win11 Home/ 8GB Graph)',\n",
       "       'Chuwi Gemibook X Pro Laptop (Intel Celeron N100/ 8 GB/ 256 GB SSD/ Win11 Home)',\n",
       "       'Asus VivoBook 14 X1400EA-EK543WS Notebook (11th Gen Core i5/16GB/ 512GB SSD/ Win11 Home)',\n",
       "       'HP Pavilion 15-EG2119TU Laptop (12th Gen Core i5/12GB RAM/ 512GB SSD/ Win11)',\n",
       "       'Acer Nitro V 15 ANV15-51 Gaming Laptop (13th Gen Core i5/ 16GB/ 512GB SSD/ Win11/ 6GB Graph)',\n",
       "       'Lenovo IdeaPad Slim 3 82X60013IN Laptop (13th Gen Core i3/ 8GB/ 512GB SSD/ Win11)',\n",
       "       'Chuwi CoreBook X Laptop (10th Gen Core i5/ 16GB/ 512GB SSD/ Win11)',\n",
       "       'Ultimus Lite NU14U3INC54BN Laptop (Celeron N4020/ 8GB/ 256GB SSD/ Win11 Home)',\n",
       "       'Lenovo IdeaPad Slim 3 15IRH8 83EM0025IN Laptop (13th Gen Core i5/ 16GB/ 512GB SSD/ Win11)',\n",
       "       'Dell G15-5530 Gaming Laptop (13th Gen Core i5/ 16GB/ 1TB SSD/ Win11/ 6GB Graph)',\n",
       "       'Dell \\u200eG16 7630 Gaming Laptop (13th Gen Core i9/ 16GB/ 1TB SSD/ Win11/ 8GB Graph)',\n",
       "       'HP Envy x360 15-fh0014AU Laptop (AMD Ryzen 5 7530U/ 8GB/ 512GB SSD/ Win11 Home)',\n",
       "       'Lenovo IdeaPad Slim 3 83ER008DIN Laptop (12th Gen Core i5/ 16GB/ 512GB SSD/ Win11)',\n",
       "       'Infinix INBook Y2 Plus XL29 Laptop (11th Gen Core i3/ 8GB/ 512GB SSD/ Win 11 Home)',\n",
       "       'MSI Prestige 13 AI Evo A1M Laptop (Intel Core Ultra 7/ 16GB/ 512GB SSD/ Win11 Home)',\n",
       "       'HP Omen 16-wf0054TX Gaming Laptop (13th Gen Core i7/ 16GB/ 512GB SSD/ Win11 Home/ 8GB Graph)',\n",
       "       'Lenovo Ideapad Flex 5 14IAU7 82R700KHIN Laptop (12th Gen Core i3/ 8GB/ 512GB SSD/ Win11 Home)',\n",
       "       'Lenovo V15 G4 \\u200e82YU00W9IN Laptop (Ryzen 5 7520U/ 8GB/ 512GB SSD/ Win11 Home)',\n",
       "       'HP 250 G9 95X38PA Laptop (12th Gen Core i5/ 8GB/ 512 GB SSD/ DOS)',\n",
       "       'Asus Zenbook 14 OLED UX3405 Laptop (Intel Core Ultra 9 / 16GB/ 512GB SSD/ Win11 Home)',\n",
       "       'Acer Predator Triton Neo 16 Laptop (Intel Core Ultra 9 / 32GB/ 2TB SSD/ Win11 Home/ 8GB Graph)',\n",
       "       'Lenovo IdeaPad Slim 1 82R400BGIN Laptop (AMD Ryzen 5 5500U/ 8GB/ 512GB SSD/ Win11 Home)',\n",
       "       'Infinix INBook Y2 Plus Laptop (11th Gen Core i5/ 16GB/ 512GB SSD/ Win 11 Home)',\n",
       "       'Lenovo V14 82KAA0AMIH Laptop (11th Gen Core i5/ 8GB/ 512GB SSD/ DOS)',\n",
       "       'Lenovo IdeaPad Slim 3 82H803LKIN Laptop (11th Gen Core i5/ 16GB/ 512GB SSD/ Win11)',\n",
       "       'Lenovo IdeaPad Slim 3 82H803HQIN Laptop (11th Gen Core i5/ 8GB/ 512GB SSD/ Win11)',\n",
       "       'Lenovo V14 82KAA01QIH Laptop (11th Gen Core i5/ 8GB/ 512GB SSD/ Win10 Home)',\n",
       "       'Lenovo IdeaPad 1 15ALC7 82R400ERIN Laptop (AMD Ryzen 5 5500U / 16GB/ 512GB SSD/ Win11 Home)',\n",
       "       'Asus Chromebook CX3402CBA-PQ0173 Laptop (12th Gen Core i3/ 8GB/ 128GB EMMC/ Chrome OS)',\n",
       "       'Acer Nitro V16 Gaming Laptop (AMD Ryzen 7 8845HS/ 16GB/ 1TB SSD/ Win11/ 8GB Graphics)',\n",
       "       'Asus Zenbook S13 OLED 2024 UX5304MA-NQ762WS Laptop ( Intel Core Ultra 7 155U/ 32GB/ 1TB SSD/ Win11)',\n",
       "       'MSI Thin GF63 11UC-1494IN Gaming Laptop (11th Gen Core i7/ 16GB/ 1TB 256GB SSD/ Win11 Home/ 4GB Graph)',\n",
       "       'Huawei Qingyun L540 Laptop (Kirin 9006C/ 16GB/ 512GB SSD/ Kirin OS)',\n",
       "       'Samsung Galaxy Book 4 Ultra Laptop (Intel Core Ultra 7 155H/ 32 GB RAM/ 1 TB SSD/ 6 GB Graphics)',\n",
       "       'Lenovo Yoga Slim 6 14IRH8 83E00012INLaptop (13th Gen Core i5/ 16GB/ 1TB SSD/ Win11 Home)',\n",
       "       'Lenovo IdeaPad Slim 3i 82RK011EIN Laptop (12th Gen Core i7/ 16GB/ 512GB SSD/ Win11 Home)',\n",
       "       'Huawei MateBook 14s 2023 Laptop (13th Gen Core i9/ 16GB RAM/ 1TB SSD/ Win11 Home)',\n",
       "       'Dell Inspiron 3535 Laptop (AMD Ryzen R3-7320U,/ 8GB/ 512GB SSD/ Win11)',\n",
       "       'Lenovo IdeaPad Gaming 3 82SB00Y8IN Laptop (AMD Ryzen 7 6800H/ 16GB/ 512GB SSD/ Win11 Home/ 4GB Graph)',\n",
       "       'Xiaomi Redmi Book 14 2024 Laptop (13th Gen Core i5/ 16GB/ 512GB SSD/ Win 11)',\n",
       "       'Acer Aspire 5 A515-58P Gaming Laptop (13th Gen Core i3/ 8GB/ 512GB SSD/ Win11 Home)',\n",
       "       'Lenovo IdeaPad 1 14IGL7 82V6006EIN Laptop (Celeron N4020/ 8GB/ 256GB SSD/ Win11 Home)',\n",
       "       'HP 15s-EQ2084AU Laptop (AMD Ryzen 7 5700U/ 16GB/ 512GB SSD/ Win11 Home)',\n",
       "       'Lenovo IdeaPad Gaming 3 15IAH7 82S9017TIN Laptop (12th Gen Core i5/ 16GB/ 512GB SSD/ Win11 Home/ 4GB Graph)',\n",
       "       'Lenovo Ideapad Slim 5 82XF0078IN Laptop (13th Gen Core i7/ 16 GB RAM/ 1 TB SSD/ Win 11)',\n",
       "       'Dell Inspiron 7430 14 2 in 1 Laptop (13th Gen Core i3/ 8GB/ 512GB SSD/ Win11)',\n",
       "       'Samsung Galaxy Book 4 360 Laptop (13th Gen Core i7/ 16GB/ 512GB SSD/ Win11)',\n",
       "       'Lenovo Ideapad Slim 5 82XD006GIN Laptop (13th Gen Core i5/ 16 GB RAM/ 1TB SSD/ Win 11)',\n",
       "       'Lenovo IdeaPad Slim 5 14IAH8 83BF0043IN Laptop (12th Gen Core i5/ 16GB/ 1TB SSD/ Win11)',\n",
       "       'Jio JioBook Cloud Laptop (Octa Core/ 4GB/ 64GB eMMC/ JioOS)',\n",
       "       'Dell 5530 G15 Gaming Laptop (13th Gen Core i9/ 16GB/ 1TB SSD/ Win11/ 8GB Graph)',\n",
       "       'Dell Latitude 3520 DLCK3520BL Laptop (11th Gen Core i3/ 8GB/ 512GB SSD/ Ubuntu)',\n",
       "       'Dell Inspiron 3520 IN3520RVTGV001ORB1 Laptop (11th Gen Core i3/ 8GB/ 512GB SSD/ Win11)',\n",
       "       'Lenovo Thinkpad E14 G4 21E3S00P00 Laptop (12th Gen Core i5/ 8GB/ 512GB SSD/ DOS)',\n",
       "       'Lenovo IdeaPad Slim 3 82H803U0IN Laptop (11th Gen Core i3/ 8GB/ 256GB SSD/ Win11)',\n",
       "       'MSI CreatorPro X17 HX A13VKS-249IN Laptop (13th Gen Core i9/ 64GB/ 4TB SSD/ Win11 Pro/ 12GB Graph)',\n",
       "       'Acer Aspire 3 15 A315-510P UN.KDHSI.019 Laptop (Intel Core i3 N305/ 8GB/ 512GB SSD/ Win11 Home)',\n",
       "       'Acer Aspire Lite 15 AL15-51 2023  Laptop (11th Gen Core i5/ 16GB/ 1TB SSD/ Win11)',\n",
       "       'Lenovo ThinkPad X1 Carbon 21HMS00000 Laptop (13th Gen Core i7/ 16GB/ 1TB SSD/ Win11 Pro)',\n",
       "       'Avita Liber AM15A2INT56F Laptop (12th Gen Core i3/ 8GB/ 512GB SSD/ Win11 Home)',\n",
       "       'Acer Aspire Lite AL15-52 2023 Laptop (12th Gen Core i5/ 8GB/ 512GB SSD/ Win11)',\n",
       "       'Acer Aspire Lite AL15-52 Laptop (12th Gen Core i5/ 16GB/ 512GB SSD/ Win11)',\n",
       "       'HP ProBook 440 G8 7L375PA Notebook PC (11th Gen Core i7/ 8GB/ 512GB SSD/ Win11)',\n",
       "       'Apple MacBook Pro 16 2023 Laptop (Apple M3 Pro/ 18GB/ 512GB SSD/ macOS)',\n",
       "       'Apple MacBook Pro 14 2023 Laptop (Apple M3 Pro/ 18GB/ 1TB SSD/ macOS)',\n",
       "       'Apple MacBook Pro 14 2023 Laptop (Apple M3/ 8GB/ 1TB SSD/ macOS)',\n",
       "       'Apple MacBook Pro 16 2023 Laptop (Apple M3 Max/ 36GB/ 1TB SSD/ macOS)',\n",
       "       'Apple MacBook Pro 14 2023 Laptop (Apple M3 Max/ 36GB/ 1TB SSD/ macOS)',\n",
       "       'Lenovo Yoga Slim 7i Carbon 13IRP8 83AY003CIN Laptop (13th Gen Core i7/ 16GB/ 1TB SSD/ Win11 Home)',\n",
       "       'HP 15s-fq2510tu Laptop (11th Gen Core i5/ 16GB/ 512GB SSD/ Win11 Home)',\n",
       "       'Acer Aspire 5 A515-57 NX.K3JSI.006 Laptop (12th Gen Core i5/ 8GB/ 512GB SSD/ Win11 Home)',\n",
       "       'Lenovo Ideapad Gaming 3 15ARH7 82SB00QJIN Laptop  (AMD Ryzen 5 7535HS / 16GB/ 512GB SSD/ Win11 Home/ 4GB Graph)',\n",
       "       'Lenovo IdeaPad Gaming 3 Gen 6 82K2028QIN Laptop (AMD Ryzen 5 5500H/ 8GB/ 512GB SSD/ Win11 Home/ 4GB Graph)',\n",
       "       'Dell Inspiron 3520 IN3520P9K46002ORS1 Laptop (12th Gen Core i3/ 8GB/ 512GB SSD/ Win11)',\n",
       "       'Lenovo LOQ 15APH8 82XT004KIN Gaming Laptop (AMD Ryzen 7 7840HS/ 16GB/ 512GB SSD/ Win11/ 8GB Graph)',\n",
       "       'Avita Pura S102 Laptop (Celeron N4020/ 8GB/ 512GB SSD/ Win11 Home)',\n",
       "       'Apple MacBook Pro 14 2023 Laptop (Apple M3/ 8GB/ 512GB SSD/ macOS)',\n",
       "       'HP Omen 16-xd0005AX Gaming Laptop (AMD Ryzen 7 7840HS/ 16GB/ 1TB SSD/ Win11/ 6GB Graph)',\n",
       "       'HP ProBook 440 G9 821M3PA Laptop (12th Gen Core i5/ 8GB/ 512GB SSD/ Win11)',\n",
       "       'HP 15s-FR5012TU Laptop (12th Gen Core i3/ 8GB/ 512GB SSD/ Win11 Home)',\n",
       "       'Acer Aspire Lite AL15-51 15 2023 Laptop (11th Gen Core i5/ 8GB/ 1TB SSD/ Win11)',\n",
       "       'Lenovo S14 Gen 3 82TW000VIH Laptop (12th Gen Core i5/ 8GB/ 512GB SSD/ DOS)',\n",
       "       'HP Victus 15-fa1134TX Laptop (12th Gen Core i7/ 16GB/ 512GB SSD/ Win11 Home/ 6GB Graph)',\n",
       "       'Infinix INBook Y1 Plus 15 XL28 Laptop (10th Gen Core i5/ 8GB/ 512GB SSD/ Win 11 Home)',\n",
       "       'HP Victus 15-FA1098TX Laptop (12th Gen Core i5/ 8GB/ 512GB SSD/ Win11 Home/ 4GB Graph)',\n",
       "       'Microsoft Surface Laptop Go 3 XK1-00045 (12th Gen Core i5/ 8GB RAM/ 256 GB SSD/ Win 11)',\n",
       "       'Acer Aspire 5 A514-56M NX.KH6SI.001 Gaming Laptop (13th Gen Core i5/ 16GB/ 512GB SSD/ Win11 Home)',\n",
       "       'Acer Aspire Lite AL15-41 Laptop (AMD Ryzen 5 5500U/ 16GB/ 1TB SSD/ Win11)',\n",
       "       'Dell Inspiron 7430 IC7430MH5K0M01ORS1 Laptop (13th Gen Core i5/ 8GB/ 512GB SSD/ Win11)',\n",
       "       'HP Victus 15-fb1002AX Gaming Laptop (AMD Ryzen 5 7535HS/ 8GB/ 512GB SSD/ Win11/ 4GB Graph)',\n",
       "       'HP Pavilion Plus \\u200e16-ab0456TX Laptop (13th Gen Core i7/ 16GB/ 1TB SSD/ Win 11/ 6GB Graphics)',\n",
       "       'Gigabyte G5 MF-E2IN313SHLaptop (12th Gen Core i5/ 8GB/ 512GB SSD/ Win11 Home/ 6GB Graph)',\n",
       "       'Lenovo IdeaPad Gaming 3 82K101LJIN Laptop (11th Gen Core i5/ 16GB/ 512GB SSD/ Win11 Home/ 4GB Graph)',\n",
       "       'HP 15s-er2004AU Laptop (AMD Ryzen 7 5700U/ 16GB/ 512GB SSD/ Win11)',\n",
       "       'Dell Inspiron 3530 IN3530RMD8W001ORS1 Laptop (13th Gen Core i5/ 16GB/ 1TB SSD/ Win11 Home)',\n",
       "       'HP Omen 16-XD0007ax Gaming Laptop (AMD Ryzen 7 7840HS/ 16GB/ 1TB SSD/ Win11/ 6GB Graph)',\n",
       "       'Asus Vivobook Pro 15 OLED M6500QC-LK751WS Laptop (Ryzen 7 5800HS/ 16GB/ 1TB SSD/ Win11/ 4GB Graph)',\n",
       "       'Acer Aspire Lite AL15-52 Laptop (12th Gen Core i3/ 8GB/ 512GB SSD/ Win11)',\n",
       "       'Asus Vivobook Go 14 E1404FA-NK547WS Laptop (Ryzen 5 7520U/ 16GB/ 512GB SSD/ Win11)',\n",
       "       'Lenovo Yoga 7 82YL008HIN Laptop (13th Gen Core i5/ 16GB/ 512GB SSD/ Win11 Home)',\n",
       "       'Acer Aspire 3 A315-24P NX.KDESI.00B Laptop (AMD Ryzen 5 7520U/ 8GB/ 512GB SSD/ Win11 Home)',\n",
       "       'Asus Vivobook 15X OLED M3504YA-LK552WS Laptop (AMD Ryzen 5 7530U/ 16GB/ 1TB SSD/ Win11 Home)',\n",
       "       'Lenovo Legion Slim 5 82Y9009JIN Gaming Laptop (AMD Ryzen 7 7840HS/ 16GB/ 1TB SSD/ Win11/ 8GB Graph)',\n",
       "       'Asus Vivobook 16 2023 X1605ZAB-MB342WS Laptop (12th Gen Core i3/ 16GB/ 512GB SSD/ Win11 Home)',\n",
       "       'MSI Thin GF63 11SC-1629IN Gaming Laptop (11th Gen Core i5/ 16GB/ 512GB SSD/ Win11 Home/ 4GB Graph)',\n",
       "       'Lenovo V15 G4 Laptop (AMD Ryzen 5 7520U/ 8GB/ 512GB SSD/ Win11 Home)',\n",
       "       'Gigabyte G5 MF-G2IN313SH Laptop (12th Gen Core i7/ 16GB/ 512GB SSD/ Win11 Home/ 6GB Graph)',\n",
       "       'Asus Vivobook 15X OLED M3504YA-LK741WS Laptop (AMD Ryzen 7 7730U/ 16GB/ 512GB SSD/ Win11 Home)',\n",
       "       'Lenovo IdeaPad 3 15IAU7 82RK00WXIN Laptop (12th Gen Core i3/ 8GB/ 256GB SSD/ Win11 Home)',\n",
       "       'Lenovo IdeaPad 1 15AMN7 82VG00ERIN Laptop (AMD Ryzen 3 7320U / 8GB/ 512GB SSD/ Win11 Home)',\n",
       "       'Asus BR1100CKA-GJ0746W Laptop (Celeron N4500/ 8GB/ 128GB SSD/ Win11 Home)',\n",
       "       'Asus Vivobook 16X K3605ZU-MB542WS Laptop (12th Gen Core i5/ 16GB/ 512GB SSD/ Win11 Home/ 6GB Graph)',\n",
       "       'Asus Vivobook 16X K3605VU-MB541WS Laptop (13th Gen Core i5/ 16GB/ 512GB SSD/ Win11 Home/ 6GB Graph)',\n",
       "       'Lenovo IdeaPad Gaming 3 15IHU6 82K101R9IN Laptop (11th Gen Core i5/ 8GB/ 512GB SSD/ Win11 Home/ 4GB Graph)',\n",
       "       'HP 250 G9 7M657PA Laptop (12th Gen Core i3/ 8GB/ 512GB SSD/ Win11)',\n",
       "       'Asus Vivobook Go 14 E1404FA-NK543WS Laptop (Ryzen 5 7520U/ 16GB/ 512GB SSD/ Win11)',\n",
       "       'Lenovo IdeaPad Gaming 3 82SB00V5IN Laptop (AMD Ryzen 7 6800H/ 8GB/ 512GB SSD/ Win11 Home/ 4GB Graph)',\n",
       "       'Acer Aspire Lite 15 2023 AL15-51 Laptop (11th Gen Core i7/ 16GB/ 1TB SSD/ Win11)',\n",
       "       'Lenovo Yoga 7 82YL0095IN Laptop (13th Gen Core i5/ 16GB/ 1TB SSD/ Win11 Home)',\n",
       "       'Acer Chromebook CB314-3H NX.K04SI.008 Laptop (Intel Celeron N4500/ 8GB/ 64GB SSD/ Chrome OS)',\n",
       "       'Asus Vivobook Pro 15 OLED M6500QC-LK741WS Laptop (Ryzen 7 5800HS/ 16GB/ 512GB SSD/ Win11/ 4GB Graph)',\n",
       "       'Asus Vivobook Go 14 E410KA-EK013W Laptop (Celeron N4500/ 8GB/ 256GB SSD/ Win11 Home)',\n",
       "       'Dell Inspiron 3520 IN3520KTMFJS01ORS1 Laptop (11th Gen Core i3/ 8GB/ 512GB SSD/ Win11)',\n",
       "       'Lenovo IdeaPad Gaming 3 15ACH6 82K20289IN Laptop (AMD Ryzen 5 5500H/ 8GB/ 512GB SSD/ Win11 Home/ 4GB Graph)',\n",
       "       'Ultimus Pro NU14U3INC43BN-CS Laptop (Celeron N4020/ 4GB/ 128GB SSD/ Win11 Home)',\n",
       "       'Zebronics Pro Series Z ZEB-NBC 4S 2023 Laptop (12th Gen Core i5 / 8GB/ 512GB SSD/ Win11 Home)',\n",
       "       'HP Omen 17-ck2011TX Gaming Laptop (13th Gen Core i9/ 32GB/ 1TB SSD/ Win11/ 16GB Graph)',\n",
       "       'Primebook PBMTWIFI11064 Wi-Fi Laptop (MediaTek MT8183/ 4GB/ 64B eMMC/ Prime OS)',\n",
       "       'Zebronics ZEB-NBC 2S 2023 Laptop (11th Gen Core i5 / 8GB/ 512GB SSD/ Win11 Home)',\n",
       "       'Acer Aspire 5 A515-58GM 15 2023 Gaming Laptop (13th Gen Core i5/ 16GB/ 512GB SSD/ Win11/ 4GB Graphics)',\n",
       "       'Zebronics Pro Series Y ZEB-NBC 2S Laptop (11th Gen Core i5 / 16GB/ 512GB SSD/ Win11 Home)',\n",
       "       'HP 15s-fy5007TU Laptop (12th Gen Core i5/ 8GB/ 512GB SSD/ Win11 Home)',\n",
       "       'Acer Nitro V ANV15-51 NH.QNASI.001 Gaming Laptop (13th Gen Core i5/ 8GB/ 512GB SSD/ Win11/ 4GB Graph)',\n",
       "       'Ultimus Lite NU14U4INC54BN-CS Laptop (Celeron N4020/ 8GB/ 256GB SSD/ Win11 Home)',\n",
       "       'Acer One 11 Z8-284 UN.013SI.032 Laptop ( Intel Celeron N4500/ 8GB/ 256GB SSD/ Win11 Home)',\n",
       "       'Acer Nitro V ANV15-51 UN.QNASI.002 Gaming Laptop (13th Gen Core i5/ 16GB/ 512GB SSD/ Win11/ 4GB Graph)',\n",
       "       'Zebronics ZEB-NBC 5S Laptop (12th Gen Core i7 / 16GB/ 512GB SSD/ Win11 Home)',\n",
       "       'HP Omen 17-cm2002TX Gaming Laptop (13th Gen Core i7/ 16 GB RAM/ 512 GB SSD/ Win 11/ 8 GB Graphics)',\n",
       "       'HP Omen 16-u0022TX Gaming Laptop (13th Gen Core i7/ 16GB/ 512GB SSD/ Win11 Home/ 6GB Graph)',\n",
       "       'HP Pavilion Plus \\u200e14-ey0789AU Laptop (AMD Ryzen 7 7840H/ 16GB/ 1TB SSD/ Win 11)',\n",
       "       'Lenovo Yoga Slim 6 14IRH8 83E00015IN Laptop (13th Gen Core i5/ 16GB/ 1TB SSD/ Win11 Home)',\n",
       "       'Lenovo Yoga Slim 6 83E00006IN Laptop (13th Gen Core i5/ 16GB/ 512GB SSD/ Win11 Home)',\n",
       "       'Lenovo IdeaPad Gaming 3 82K2027CIN Laptop (AMD Ryzen 5 5600H/ 8GB/ 512GB SSD/ Win11 Home/ 4GB Graph)',\n",
       "       'Acer One 11 Z8-284 UN.013SI.033 Laptop ( Intel Celeron N4500/ 8GB/ 128GB SSD/ Win11 Home)',\n",
       "       'HP 15s-fy5006TU Laptop (12th Gen Core i3/ 8GB/ 512GB SSD/ Win11 Home)',\n",
       "       'Lenovo IdeaPad Flex 5 14IRU8 82Y00051IN Laptop (13th Gen Core i5/ 16GB/ 512GB SSD/ Win11 Home)',\n",
       "       'Asus TUF Gaming F17 FX706HF-HX019W Laptop (11th Gen Core i5/ 16GB/ 512GB SSD/ Win11/ 4GB Graph)',\n",
       "       'Lenovo IdeaPad 1 15ALC7 82R400BSIN Laptop (AMD Ryzen 5 5500U / 8GB/ 512GB SSD/ Win11 Home)',\n",
       "       'Dell Inspiron 5430 IN5430FR0KC001ORS1 Laptop (13th Gen Core i5/ 8GB/ 512GB SSD/ Win11)',\n",
       "       'Lenovo Yoga Slim 6 14IRH8 83E00007IN Laptop (13th Gen Core i7/ 16GB/ 512GB SSD/ Win11 Home)',\n",
       "       'Lenovo Legion Slim 5 82YA00DXIN Gaming Laptop (13th Gen Core i7/ 16GB/ 1TB SSD/ Win11/ 8GB Graph)',\n",
       "       'Lenovo Legion Pro 7 2023 82WQ007TIN Gaming Laptop (13th Gen Core i9/ 32GB/ 1TB SSD/ Win11 Home/ 12GB Graph)',\n",
       "       'Lenovo Legion Pro 5 82WM00B7IN Gaming Laptop ( AMD Ryzen 7 7745HX/ 16GB/ 1TB SSD/ Win11 Home/ 8GB Graph)',\n",
       "       'Lenovo IdeaPad Slim 5 82XD005RIN Laptop (13th Gen Core i5/ 16GB/ 512GB SSD/ Win11)',\n",
       "       'Lenovo Legion 5 Pro 82JQ010EIN Laptop (AMD Ryzen 7 5800H/ 16GB/ 512GB SSD/ Win11 Home/ 6GB Graph)',\n",
       "       'Lenovo IdeaPad 1 82VG00ESIN Laptop (AMD Ryzen 5 7520U / 8GB/ 512GB SSD/ Win11 Home)',\n",
       "       'HP Pavilion 14-dv2153TU Laptop (12th Gen Core i5/ 16GB/ 1TB SSD/ Win 11)',\n",
       "       'Lenovo IdeaPad 5 Pro 82SN00F0IN Gaming Laptop (AMD Ryzen 7 6800HS/ 16GB/ 512GB SSD/ Win11 Home/ 4GB Graph)',\n",
       "       'Lenovo Yoga 7 82YL0099IN Laptop (13th Gen Core i7/ 16GB/ 1TB SSD/ Win11 Home)',\n",
       "       'Acer C734 NX.H8VSI.004 Chromebook Laptop (Celeron N4500/ 4GB/ 64GB eMMC/ Chrome OS)',\n",
       "       'Lenovo IdeaPad 3 15IAU7 82RK00XDIN Laptop (12th Gen Core i3/ 8GB/ 256GB SSD/ Win11 Home)',\n",
       "       'MSI Bravo 15 B7ED-011IN Gaming Laptop (AMD Ryzen 7 7735HS/ 16GB/ 512GB SSD/ Win11 Home/ 4GB Graph)',\n",
       "       'Primebook S Wi-Fi Laptop (MediaTek MT8183/ 4GB/ 128GB eMMC/ Prime OS)',\n",
       "       'Lenovo IdeaPad Gaming 3 82SB00V2IN Laptop (AMD Ryzen 5 6600H/ 8GB/ 512GB SSD/ Win11 Home/ 4GB Graph)',\n",
       "       'HP 14s-dr3002TU Laptop (Intel Celeron N4500/ 8GB/ 512GB SSD/ Win11 Home)',\n",
       "       'Lenovo IdeaPad Flex 5 14IRU8 82Y0004TIN Laptop (13th Gen Core i7/ 16GB/ 512GB SSD/ Win11 Home)',\n",
       "       'Asus ROG Strix G15 G513RC-HN251WS Gaming Laptop (AMD Ryzen 7 6800H/ 16GB/ 1TB SSD/ Win11/ 4GB Graph)',\n",
       "       'Asus Vivobook 16 2023 X1605VA-MB947WS Laptop (13th Gen Core i9/ 16GB/ 512GB SSD/ Win11 Home)',\n",
       "       'Lenovo IdeaPad Slim 1 82VG00EVIN Laptop (AMD Ryzen 3 7320U/ 8GB/ 512GB SSD/ Win11 Home)',\n",
       "       'Lenovo IdeaPad Gaming 3 82K101PCIN Laptop (11th Gen Core i5/ 8GB/ 512GB SSD/ Win11 Home/ 4GB Graph)',\n",
       "       'Acer TravelMate P2 TMP214-53 Business Laptop (11th Gen Core i7/ 16GB/ 1TB SSD/ Win11 Home)',\n",
       "       'Acer Aspire 5 2023 A515-58GM Gaming Laptop (13th Gen Core i5/ 16GB/ 512GB SSD/ Win11/ 4GB Graphics)',\n",
       "       'Asus Vivobook 16 2023 X1605VA-MB957WS Laptop (13th Gen Core i9/ 16GB/ 1TB SSD/ Win11 Home)',\n",
       "       'Lenovo IdeaPad 1 15AMN7 82VG00J5IN Laptop (AMD Ryzen 5 7520U / 8GB/ 512GB SSD/ Win11 Home)',\n",
       "       'Dell Inspiron 15 3511 IN35117W5CCS01ORB1 Laptop (11th Gen Core i5/ 8GB/ 512GB SSD/ Win11)',\n",
       "       'HP Zbook FireFly 14 G8 4F0W6PA Laptop (11th Gen Core i5/ 16GB/ 512GB SSD/ Win11 )',\n",
       "       'Lenovo IdeaPad Gaming 3 82SB00V3IN Laptop (AMD Ryzen 5 6600H/ 16GB/ 512GB SSD/ Win11 Home/ 4GB Graph)',\n",
       "       'Asus Vivobook S14 Flip TN3402QA-LZ751WS Laptop (AMD Ryzen 7/ 16GB/ 1TB SSD/Win11)',\n",
       "       'Asus Vivobook S14 Flip TN3402QA-LZ551WS Laptop (AMD Ryzen 5 5600H/ 16GB/ 1TB SSD/Win11)',\n",
       "       'Lenovo IdeaPad Gaming 3 82K2028AIN Laptop (AMD Ryzen 5 5600H/ 8GB/ 512GB SSD/ Win11 Home/ 4GB Graph)',\n",
       "       'Dell Inspiron 15 3520 IN352092K4N001ORS1 Laptop (12th Gen Core i5/ 16GB/ 512GB SSD/ Win11)',\n",
       "       'Lenovo IdeaPad 1 15AMN7 82VG00EQIN Laptop (AMD Athlon 7120U / 8GB/ 512GB SSD/ Win11 Home)',\n",
       "       'Dell Vostro 3520 Laptop (11th Gen Core i5/ 8GB/ 512GB SSD/ Win11)',\n",
       "       'Lenovo IdeaPad Slim 3 82RK011DIN Laptop (12th Gen Core i3/ 8GB/ 256GB SSD/ Win11)',\n",
       "       'HP 255 G9 724N9EA Laptop (AMD Athlon Silver 3050U/ 4GB/ 256GB SSD/ Win11)',\n",
       "       'Dell Vostro 3530 Laptop (13th Gen Core i5/ 8GB/ 512GB SSD/ Win11)',\n",
       "       'Lenovo V14 G4 Laptop (AMD Ryzen 3 7320U / 8GB/ 512GB SSD/ Win11 Home)',\n",
       "       'MSI Creator Z16 HX B13VFTO-215IN Laptop (13th Gen Core i7/ 32GB/ 1TB SSD/ Win11/ RTX4060)',\n",
       "       'Asus ROG Strix G16 2023 G614JJ-N3086WS Gaming Laptop (13th Gen Core i5/ 16GB/ 512GB SSD/ Win11/ 6GB Graph)',\n",
       "       'Lenovo Thinkpad E15 G4 21DJA0Y0IN Laptop (12th Gen Core i7/ 16GB/ 512GB SSD/ Win11 Home)',\n",
       "       'MSI Creator Pro M16 B13VJ-1272IN Gaming Laptop (13th Gen Core i7/ 32GB/ 1TB SSD/ Win 11/ 8GB Graph)',\n",
       "       'Dell Vostro 3525 Laptop (AMD Ryzen 5-5500U/ 8GB/ 512GB SSD/ Win11)',\n",
       "       'Lenovo V15 G3 82TTA02UIH Laptop (12th Gen Core i5/ 8GB/ 512GB SSD/ Win11)',\n",
       "       'Asus ROG Strix G16 2023 G614JJ-N3088WS Gaming Laptop (13th Gen Core i5/ 16GB/ 1TB SSD/ Win11/ 6GB Graph)',\n",
       "       'HP 240 G9 821J4PA Laptop (12th Gen Core i5/ 8GB/ 512 GB SSD/ Win11)',\n",
       "       'Asus ROG Strix G17 G713RC-HX109WS Gaming Laptop (AMD Ryzen 7 6800H/ 16GB/ 512GB SSD/ Win11/ 4GB Graph)',\n",
       "       'Lenovo IdeaPad Slim 3i 82X70032IN Laptop (13th Gen Core i3/ 8GB/ 512GB SSD/ Win11 Home)',\n",
       "       'Lenovo IdeaPad Flex 5 Gen 8 82XX0070IN Laptop (AMD Ryzen 5 7530U/ 16GB/ 512GB SSD/ Win11 Home)',\n",
       "       'Dell Inspiron 3530 15 Laptop (13th Gen Core i5/ 16GB/ 1TB SSD/ Win11 Home)',\n",
       "       'HP ZBook Firefly 16 G9 6V2X7PA Workstation PC Laptop (12th Gen Core i7/ 16GB/ 1TB SSD/ Win11)',\n",
       "       'HP Victus 15-fa1132TX Laptop (12th Gen Core i5/ 8GB/ 512GB SSD/ Win11 Home/ 4GB Graph)',\n",
       "       'Lenovo IdeaPad Slim 3 82H803HPIN Laptop (11th Gen Core i5/ 16GB/ 512GB SSD/ Win11 Home)',\n",
       "       'Infinix INBook X2 Slim Series XL23 2023 Laptop (11th Gen Core i5/ 16GB/ 1TB SSD/ Win 11 Home)',\n",
       "       'Acer Aspire Lite 15 AL15-51 Laptop (11th Gen Core i3/16GB/ 512GB SSD/ Win11)',\n",
       "       'Lenovo IdeaPad Gaming 3 15IHU6 82K101PCIN Laptop (11th Gen Core i5/ 8GB/ 512GB SSD/ Win11/ 4GB Graph)',\n",
       "       'Lenovo IdeaPad Flex 5 82R900D4IN Laptop (AMD Ryzen 7 5700U/ 16GB/ 512GB SSD/ Win11 Home)',\n",
       "       'Lenovo Yoga 6 13ABR8 83B2007UIN Laptop (AMD Ryzen 7 7730U/ 16GB/ 1TB SSD/ Win11 Home)',\n",
       "       'Microsoft Surface Laptop Go 3 (12th Gen Core i5/ 16 GB RAM/ 256 GB SSD/ Win 11)',\n",
       "       'Lenovo Legion Slim 5 82Y9009KIN Gaming Laptop (AMD Ryzen 7 7840HS/ 16GB/ 512GB SSD/ Win11/ 6GB Graph)',\n",
       "       'Lenovo IdeaPad Gaming 3 15IHU6 82K101PBIN Laptop (11th Gen Core i5/ 8GB/ 512GB SSD/ Win11 Home/ 4GB Graph)',\n",
       "       'Lenovo Legion Slim 5 16APH8 82Y90042IN Gaming Laptop (AMD Ryzen 7 7840HS/ 16GB/ 512GB SSD/ Win11/ 8GB Graph)',\n",
       "       'HP Victus 15-fb0158AX Gaming Laptop (AMD Ryzen 5 5600H/ 8GB/ 512GB SSD/ Win11/ 4GB Graph)',\n",
       "       'HP Pavilion x360 14-ek1021TU Laptop (13th Gen Core i7/ 16GB/ 512GB SSD/ Win11)',\n",
       "       'Lenovo S14 Gen 3 82TW001DIH Laptop (12th Gen Core i5/ 8GB/ 512GB SSD/ Win11)',\n",
       "       'Lenovo IdeaPad Gaming 3 15IAH7 82S9014LIN Laptop (12th Gen Core i5/ 16GB/ 512GB SSD/ Win11 Home/ 4GB Graph)',\n",
       "       'HP Victus 15-fa1062TX Gaming Laptop (13th Gen Core i5/ 16GB/ 512GB SSD/ Win11 Home/ 6GB Graph)',\n",
       "       'HP 15-fc0027AU Laptop (AMD Ryzen 3 7320U/ 8GB/ 512GB SSD/ Win11 Home)',\n",
       "       'Lenovo ThinkBook 15 Gen 5 21JF0026MJ Laptop (AMD Ryzen 7 7730U/ 16GB/ 512GB SSD/ Win11)',\n",
       "       'Acer Aspire 5 A515-58M NX.KHFSI.003 Gaming Laptop (13th Gen Core i3/ 8GB/ 512GB SSD/ Win11 Home)',\n",
       "       'Lenovo Legion Slim 5 16APH8 82Y9008MIN Gaming Laptop (AMD Ryzen 7 7840HS/ 16GB/ 512GB SSD/ Win11/ 8GB Graph)',\n",
       "       'Asus VivoBook 15 X515MA-BR022WS Laptop (Celeron N4020/ 8GB/ 512GB SSD/ Win11 Home)',\n",
       "       'HP Spectre 17-cs0097nr Foldable Laptop (12th Gen Core i7/ 16 GB RAM/ 1 TB SSD/ Win 11)',\n",
       "       'Fujitsu CH\\u200e 4ZR1L82433 Laptop (13th Gen Core i5/ 16GB/ 512GB SSD/ Win11)',\n",
       "       'Fujitsu CH\\u200e 4ZR1L82434 Laptop (13th Gen Core i7/ 16GB/ 512GB SSD/ Win11)',\n",
       "       'Asus Vivobook 15X OLED M3504YA-LK752WS Laptop (AMD Ryzen 7 7730U/ 16GB/ 1TB SSD/ Win11 Home)',\n",
       "       'Asus Vivobook 15 X1502ZA-EJ993WS Laptop (12th Gen Core i3/ 16GB/ 512GB SSD/ Win11)',\n",
       "       'Asus Vivobook 15 X1504ZA-NJ542WS Laptop (12th Gen Core i5/ 16GB/ 512GB SSD/ Win11)',\n",
       "       'HP Pavilion 15-eg3018TU Laptop (13th Gen Core i5/ 16GB/ 1TB SSD/ Win11 Home)',\n",
       "       'Acer Swift Go NXKPZSI002 Laptop (13th Gen Core i5/ 16GB/ 512GB SSD/ Win11 Home)',\n",
       "       'Acer Nitro V ANV15-51 Gaming Laptop (13th Gen Core i5/ 8GB/ 512GB SSD/ Win11/ 6GB Graph)',\n",
       "       'HP 15s-fq3066TU Laptop (Intel Celeron N4500/ 8GB/ 512GB SSD/ Win11 Home)',\n",
       "       'Asus Vivobook Pro 15 M6500RC-HN741WS Laptop (AMD Ryzen 7 6800H/ 16GB/ 512GB SSD/ Win11/ 4GB Graph)',\n",
       "       'HP Victus 15-fb1016AX  Gaming Laptop (AMD Ryzen 5 7535HS/ 8GB/ 512GB SSD/ Win11/ 4GB Graph)',\n",
       "       'Lenovo Ideapad 3 15ITL06 82H803GUIN Laptop (11th Gen Core i3/ 8GB/ 512GB SSD/ Win11)',\n",
       "       'Lenovo Yoga 7 82YM0074IN Laptop (AMD Ryzen 7 7735U/ 16GB/ 1TB SSD/ Win11 Home)',\n",
       "       'Lenovo IdeaPad Flex 5 82Y00053IN Laptop (13th Gen Core i7/ 16GB/ 512GB SSD/ Win11 Home)',\n",
       "       'Lenovo IdeaPad 3 82H803HRIN Laptop (11th Gen Core i7/ 16GB/ 512GB SSD/ Win11 Home)',\n",
       "       'Asus Vivobook Pro 15 M6500QC-HN551WS Laptop (AMD Ryzen 5 5600HS/ 16 GB RAM/ 1 TB SSD/ Win 11/ 4 GB Graphics)',\n",
       "       'HP 250 G9 7N179PA Laptop (12th Gen Core i5/ 8 GB RAM/ 512 GB SSD/ Win 11)',\n",
       "       'Asus Vivobook Pro 15 M6500QC-HN751WS Laptop (AMD Ryzen 7 5800HS/ 16 GB RAM/ 1 TB SSD/ Win 11/ 4 GB Graphics)',\n",
       "       'HP 255 G9 841W6PA Laptop (AMD Ryzen 3 3250U/ 8 GB RAM/ 512 GB SSD/ FreeDOS)',\n",
       "       'Lenovo Ideapad Slim 5 82XF007CIN Laptop (13th Gen Core i5/ 16 GB RAM/ 1 TB SSD/ Win 11)',\n",
       "       'Lenovo IdeaPad Slim 5i 83BG000DIN Laptop (12th Gen Core i5/ 16 GB RAM/ 512 GB SSD/ Win 11)',\n",
       "       'Asus Vivobook 16X 2023 K3605ZC-MBN752WS Laptop (12th Gen Core i7/ 16GB/ 1TB SSD/ Win11 Home/ 4GB Graph)',\n",
       "       'Lenovo IdeaPad Slim 3 82RK00VVIN Laptop (12th Gen Core i3/ 8GB/ 512GB SSD/ Win11)',\n",
       "       'Gigabyte G5 MF-F2IN313SH Laptop (12th Gen Core i5/ 16GB/ 512GB SSD/ Win11 Home/ 6GB Graph)',\n",
       "       'Asus Zenbook Flip 14 OLED UP5401ZA-KU541WS Laptop (12th Gen Core i5/ 16GB/ 512GB SSD/ Win11 Home)',\n",
       "       'Dell Inspiron 3530 IN3530RW8JY001ORS1 Laptop (13th Gen Core i5/ 8GB/ 1TB SSD/ Win11 Home)',\n",
       "       'Acer Aspire 7 A715-76G NH.QMYSI.001 Gaming Laptop (12th Gen Core i5/ 8GB/ 512GB SSD/ Win11 Home/ 4GB Graph)',\n",
       "       'HP Victus 15-FB1001AX Gaming Laptop (AMD Ryzen 5 7535HS/ 8GB/ 512GB SSD/ Win11/ 4GB Graph)',\n",
       "       'Lenovo Legion 9i 2023 Laptop (13th Gen Core i9/ 32GB/ 1TB SSD/ Win11/ 16GB Graph)',\n",
       "       'Asus Vivobook 16X 2023 K3605ZV-MBN741WS Laptop (12th Gen Core i7/ 16GB/ 512GB SSD/ Win11)',\n",
       "       'Asus TUF Gaming F15 90NR0GW1-M00F00 Laptop (12th Gen Core i7/ 16GB/ 1TB SSD/ Win11/ 4GB Graph)',\n",
       "       'Gigabyte G6 KF Gaming Laptop (13th Gen Core i7/ 16 GB RAM/ 512 GB SSD/ Win 11/ 8 GB Graphics)',\n",
       "       'Gigabyte G5 KF-E3IN313SH Laptop (12th Gen Core i5/ 8GB/ 512GB SSD/ Win11 Home/ 8GB Graph)',\n",
       "       'Lenovo IdeaPad 1 15IGL7 82V700BSIN Laptop (Celeron N4020/ 8GB/ 256GB SSD/ Win11 Home)',\n",
       "       'HP 250 G9 7M659PA Laptop (12th Gen Core i3/ 8GB/ 512GB SSD/ Win11)',\n",
       "       'Asus Chromebook CX1400CKA-EK0257 Laptop (Celeron N4500/ 4GB/ 64GB eMMC/ Chrome OS)',\n",
       "       'Asus Chromebook CX1400CKA-EK0335 Laptop (Celeron N4500/ 4GB/ 128GB eMMC/ Chrome OS)',\n",
       "       'Asus Vivobook 16 2023 X1605ZAB-MB322WS Laptop (12th Gen Core i3/ 8GB/ 512GB SSD/ Win11 Home)',\n",
       "       'Asus Chromebook CX1500CKA-EJ0241 Laptop (Celeron N4500/ 4GB/ 64GB eMMC/ Chrome OS)',\n",
       "       'HP 255 G8 7J035AA Laptop (Ryzen 5-5500U/ 8GB/ 256GB SSD/ Win11)',\n",
       "       'Lenovo IdeaPad Slim 5 14IAH8 83BF000UIN Laptop (12th Gen Core i5/ 16GB/ 512GB SSD/ Win11)',\n",
       "       'Lenovo IdeaPad Slim 5 16IAH8 83BG000PIN Laptop (12th Gen Core i5/ 16GB/ 512GB SSD/ Win11)',\n",
       "       'Lenovo IdeaPad Slim 5 82XX007MIN Laptop (AMD Ryzen 7 7730U/ 16GB/ 512GB SSD/ Win11)',\n",
       "       'Lenovo IdeaPad Flex 5 82Y0004YIN Laptop (13th Gen Core i3/ 8GB/ 512GB SSD/ Win11 Home)',\n",
       "       'Acer Predator Helios Neo 16 2023 PHN16-71 Gaming Laptop (13th Gen Core i9/ 16GB/ 1TB SSD/ Win11/ 8GB Graph)',\n",
       "       'Lenovo IdeaPad Slim 5 82XE0072IN Laptop (AMD Ryzen 7 7730U/ 16GB/ 512GB SSD/ Win11)',\n",
       "       'Lenovo IdeaPad Slim 3 82XQ008UIN Laptop (AMD Ryzen 5 7520U/ 8GB/ 512GB SSD/ Win11 Home)',\n",
       "       'Lenovo IdeaPad Slim 3 82XQ0096IN Laptop (AMD Ryzen 5 7520U/ 16GB/ 512GB SSD/ Win11 Home)',\n",
       "       'Lenovo V15 G3 IAP 82TT004VIH Laptop (12th Gen Core i5/ 8GB/ 512GB SSD/ DOS)',\n",
       "       'Asus Vivobook 14X OLED 2023 K3405VCB-KM951WS Laptop (13th Gen Core i9/ 16GB/ 1TB SSD/ Win11/4 GB Graphics)',\n",
       "       'Asus Vivobook 16X K3605ZC-MBN542WS Laptop (12th Gen Core i5/ 16 GB RAM/ 512 GB SSD/ Win 11/ 4 GB Graphics)',\n",
       "       'Asus Vivobook 16X K3605ZC-MBN541WS Laptop (12th Gen Core i5/ 16 GB RAM/ 512 GB SSD/ Win 11/ 4 GB Graphics)',\n",
       "       'Asus Vivobook 14X K3405ZF-LY541WS Laptop (12th Gen Core i5/ 16 GB RAM/ 512 GB SSD/ Win 11/ 4 GB Graphics)',\n",
       "       'Asus Vivobook 16X K3605ZU-MBN541WS Laptop (12th Gen Core i5/ 16 GB RAM/ 512 GB SSD/ Win 11/ 6GB Graphics)',\n",
       "       'MSI Thin GF63 11UC-1291IN Gaming Laptop (11th Gen Core i5/ 16GB/ 512GB SSD/ Win11 Home/ 4GB Graph)',\n",
       "       'MSI Katana 15 B12UDXK-1004IN Gaming Laptop (12th Gen Core i7/ 16GB/ 512GB SSD/ Win11 Home/ 6GB Graph)',\n",
       "       'Asus Vivobook Go 14 2023 E1404FA-NK327WS Laptop (Ryzen 3 7320U / 8GB/ 512GB SSD/ Win11 Home)',\n",
       "       'Acer TMP214-41-G3 UN.VSQSI.007 Notebook (AMD Ryzen 5 5500U/ 16GB/ 512GB SSD/ Win11 Home)',\n",
       "       'Asus Vivobook Pro 15 OLED M6500QC-LK541WS Laptop (Ryzen 5 5600H/ 16GB/ 512GB SSD/ Win11/ 4GB Graph)',\n",
       "       'HP Victus 15-fa0187TX Gaming Laptop (12th Gen Core i7/ 16GB/ 1TB SSD/ Win11/ 4GB Graph)',\n",
       "       'Acer TMP214-41-G3 UN.VSQSI.006 Notebook (AMD Ryzen 5 5500U/ 8GB/ 512GB SSD/ Win11 Home)',\n",
       "       'Asus VivoBook 15 X1504ZA-NJ326WS Laptop (12th Gen Core i3/ 8GB/ 512GB SSD/ Win11 Home)',\n",
       "       'HP Victus15-fb0147AX Gaming Laptop (Ryzen 5 5600H/ 8GB/ 512GB SSD/ Win11 Home/ 4GB Graph)',\n",
       "       'Dell Inspiron 5430 IN54308DXWP001ORS1 Laptop (13th Gen Core i7/ 16GB/ 1TB SSD/ Win11)',\n",
       "       'Lenovo IdeaPad 3 82KU024JIN Laptop (AMD Ryzen 7 5700U/ 16GB/ 512GB SSD/ Win11 Home)',\n",
       "       'Dell Vostro 3520 Laptop (11th Gen Core i3/ 8GB/ 512GB SSD/ Win11)',\n",
       "       'HP Victus 15-fb1018AX Gaming Laptop (AMD Ryzen 5 7535HS/ 8GB/ 512GB SSD/ Win11/ 4GB Graph)',\n",
       "       'Asus TUF Gaming F15 FX506HF-HN076W Gaming Laptop (11th Gen Core i5/ 16GB/ 512GB SSD/ Win11/ 4GB Graph)',\n",
       "       'HP Omen 16-wf0056TX 834U0PA Gaming Laptop (13th Gen Core i7/ 16 GB RAM/ 512 GB SSD/ Win 11/ 8 GB Graphics)',\n",
       "       'HP 15S-EQ1550AU Laptop (AMD Ryzen 3 3250U/ 8 GB RAM/ 512 GB SSD/ Win 11)',\n",
       "       'Asus Vivobook Pro 15 M6500QF-HN541WS Creator Laptop (AMD Ryzen 5 5600H/ 16 GB RAM/ 512 GB SSD/ Win 11/ 4 GB Graphics)',\n",
       "       'Lenovo IdeaPad Slim 5 14IAH8 83BF0045IN Laptop (12th Gen Core i5/ 16GB/ 1TB SSD/ Win11)',\n",
       "       'MSI Modern 14 C12M-459IN Laptop (12th Gen Core i7/ 16GB/ 512GB SSD/ Win11 Home)',\n",
       "       'Asus Vivobook Go 14 2023 E1404FA-NK325WS Laptop (Ryzen 3 7320U / 8GB/ 512GB SSD/ Win11 Home)',\n",
       "       'Wings Nuvobook Pro Laptop (11th Gen Core i7/ 16GB/ 512GB SSD/ Win11)',\n",
       "       'Wings Nuvobook S2 Laptop (11th Gen Core i3/ 8GB/ 512GB SSD/ Win11)',\n",
       "       'Wings Nuvobook S1 Laptop (11th Gen Core i3/ 8GB/ 256GB SSD/ Win11)',\n",
       "       'Ultimus Elite NU14U3INF56BN-CS Laptop (10th Gen Core i5 / 8GB/ 512GB SSD/ Win11 Home)',\n",
       "       'MSI Thin GF63 11UCX-1491IN Gaming Laptop (11th Gen Core i5/ 16GB/ 1TB 512GB SSD/ Win11 Home/ 4GB Graph)',\n",
       "       'Lenovo IdeaPad Slim 5 16IRL8 82XF003GIN Laptop (13th Gen Core i5/ 16GB/ 512GB SSD/ Win11)',\n",
       "       'MSI Stealth 16 Mercedes AMG A13VG-264IN Gaming Laptop (13th Gen Core i9/ 32GB/ 2TB SSD/ Win11/ 8GB Graph)',\n",
       "       'Acer Aspire 3 Spin 14 NX.KENSI.002 Laptop (Intel Core i3 N305/ 8GB/ 512GB SSD/ Win11 Home)',\n",
       "       'MSI Thin GF63 11UCX-1492IN Gaming Laptop (11th Gen Core i5/ 16GB/ 1TB 256GB SSD/ Win11 Home/ 4GB Graph)',\n",
       "       'MSI Stealth 16 Mercedes AMG A13VF-265IN Gaming Laptop (13th Gen Core i9/ 32GB/ 1TB SSD/ Win11/ 8GB Graph)',\n",
       "       'Lenovo IdeaPad 3 15ITL6 82H803GSIN Laptop (11th Gen Core i3/ 8GB/ 512GB SSD/ Win11 Home)',\n",
       "       'Infinix INBook X3 Slim Series XL422 Laptop (12th Gen Core i7/ 16GB/ 512GB SSD/ Win 11 Home)',\n",
       "       'Lenovo IdeaPad Slim 5 82XD003NIN Laptop (13th Gen Core i5/ 16GB/ 512GB SSD/ Win11)',\n",
       "       'Infinix INBook X3 Slim XL422 Laptop (12th Gen Core i5/ 16GB/ 512GB SSD/ Win 11 Home)',\n",
       "       'Infinix INBook X3 Slim XL422 2023 Laptop (12th Gen Core i3/ 8GB/ 512GB SSD/ Win 11 Home)',\n",
       "       'Dell Inspiron 3530 2023 Laptop (13th Gen Core i3/ 8GB/ 1TB SSD/ Win11 Home)',\n",
       "       'Dell Inspiron 3520 Laptop (11th Gen Core i3/ 8GB/ 512GB SSD/ Win11)',\n",
       "       'Lenovo IdeaPad Slim 5i 82XD0040IN Laptop (13th Gen Core i7/ 16GB/ 512GB SSD/ Win11)',\n",
       "       'Lenovo IdeaPad Slim 5 16IRL8 82XF003JIN Laptop (13th Gen Core i7/ 16GB/ 512GB SSD/ Win11)',\n",
       "       'Lenovo V15 82KB00RJIH Laptop (11th Gen Core i5/ 16GB/ 512GB SSD/ Win11 Home)',\n",
       "       'Dell Vostro 3430 Laptop (13th Gen Core i3/ 8GB/ 512GB SSD/ Win11)',\n",
       "       'Dell Inspiron 7430 2023 2 in 1 Laptop (13th Gen Core i5/ 8GB/ 1TB SSD/ Win11)',\n",
       "       'Dell Inspiron 13 5330 Laptop (13th Gen Core i7/ 16GB/ 1TB SSD/ Win11)',\n",
       "       'Dell Inspiron 3535 2023 Laptop (AMD Ryzen R5-7520U/ 8GB/ 1TB SSD/ Win11)',\n",
       "       'Dell Inspiron 5330 2023 Laptop (13th Gen Core i5/ 16GB/ 1TB SSD/ Win11)',\n",
       "       'Dell Inspiron 7430 2 in 1 Touch Laptop (13th Gen Core i5/ 16GB/ 1TB SSD/ Win11)',\n",
       "       'Dell Vostro 3430 VN3430RHXFG001ORB1 Laptop (13th Gen Core i5/ 8GB/ 512GB SSD/ Win11 Pro)',\n",
       "       'HP Victus 15-FB0142AX Gaming Laptop (AMD Ryzen 5 5600H/ 16GB/ 512GB SSD/ Win11/ 4GB Graph)',\n",
       "       'HP Pavilion 15-eg3017TU Laptop (13th Gen Core i5/ 16GB/ 1TB SSD/ Win11 Home)',\n",
       "       'MSI Thin GF63 12VE-664IN Gaming Laptop (12th Gen Core i7/ 16GB/ 1TB SSD/ Win11/ 6GB Graph)',\n",
       "       'MSI Katana 17 B12VGK-672IN Gaming Laptop (12th Gen Core i7/ 16GB/ 1TB SSD/ Win11 Home/ 8GB Graph)',\n",
       "       'MSI Katana 17 B12VFK-668IN Gaming Laptop (12th Gen Core i7/ 8GB/ 1TB SSD/ Win11 Home/ 8GB Graph)',\n",
       "       'MSI Thin GF63 12VF-663IN Gaming Laptop (12th Gen Core i7/ 16GB/ 512GB SSD/ Win11/ 8GB Graph)',\n",
       "       'MSI Katana 17 B12VFK-673IN Gaming Laptop (12th Gen Core i7/ 16GB/ 1TB SSD/ Win11 Home/ 8GB Graph)',\n",
       "       'MSI Thin GF63 11UCX-1496IN Gaming Laptop (11th Gen Core i5/ 16GB/ 512GB SSD/ Win11 Home/ 4GB Graph)',\n",
       "       'MSI Thin GF63 11SC-1493IN Gaming Laptop (11th Gen Core i5/ 16GB/ 512GB SSD/ Win11 Home/ 4GB Graph)',\n",
       "       'HP Omen 16-u0023TX Gaming Laptop (13th Gen Core i9/ 32GB/ 1TB SSD/ Win11 Home/ 8GB Graph)',\n",
       "       'MSI Thin GF63 11UCX-1497IN Gaming Laptop (11th Gen Core i5/ 8GB/ 512GB SSD/ Win11 Home/ 4GB Graph)',\n",
       "       'HP Victus 15-fa1064TX Gaming Laptop (13th Gen Core i7/ 16GB/ 512GB SSD/ Win11 Home/ 6GB Graph)',\n",
       "       'MSI Pulse 17 B13VGK-666IN Gaming Laptop (13th Gen Core i7/ 8GB/ 1TB SSD/ Win11 Home/ 8GB Graph)',\n",
       "       'MSI Pulse 17 B13VGK-652IN Gaming Laptop (13th Gen Core i9/ 16GB/ 1TB SSD/ Win11 Home/ 8GB Graph)',\n",
       "       'HP Victus 16-s0089AX Gaming Laptop (AMD Ryzen 7 7840HS/ 16GB/ 1TB SSD/ Win11/ 4GB Graph)',\n",
       "       'Lenovo Ideapad Slim 3 15ITL05 81X800N1IN Laptop (11th Gen Core i3/ 8GB/ 512GB SSD/ Win11)',\n",
       "       'HP Victus  15-fa1060TX  Gaming Laptop (13th Gen Core i5/ 16GB/ 512GB SSD/ Win11 Home/ 6GB Graph)',\n",
       "       'Asus VivoBook 14 2023 X1404ZA-NK321WS Laptop (12th Gen Core i3/ 8GB/ 512GB SSD/ Win11 Home)',\n",
       "       'Gigabyte Aorus 15 9SF Gaming Laptop (12th Gen Core i5/ 16GB/ 1TB SSD/ Win11 Pro/ 8GB Graph)',\n",
       "       'HP Victus 15-fb0153AX Gaming Laptop (AMD Ryzen 5 5600H/ 8GB/ 512GB SSD/ Win11/ 4GB Graph)',\n",
       "       'Lenovo IdeaPad Slim 5 82XE004RIN Laptop (AMD Ryzen 5 7530U/ 16GB/ 512GB SSD/ Win11)',\n",
       "       'Asus Vivobook 15 X1504ZA-NJ325WS Laptop (12th Gen Core i3/ 8GB/ 512GB SSD/ Win11)',\n",
       "       'HP Dragonfly G4 Laptop (13th Gen Core i7/ 16GB/ 512GB SSD/ Win11)',\n",
       "       'Chuwi CoreBook X Pro Laptop (10th Gen Core i5/ 16GB/ 512GB SSD/ Win11)',\n",
       "       'Asus Vivobook Pro 15 M6500QFB-LK541WS Laptop (AMD Ryzen 5 5600H/ 16GB/ 512GB SSD/ Win11/ 4GB Graph)',\n",
       "       'Asus Vivobook 16X 2023 K3605ZC-MBN741WS Laptop (12th Gen Core i7/ 16GB/ 512GB SSD/ Win11 Home/ 4GB Graph)',\n",
       "       'Lenovo IdeaPad Slim 3 82XQ008VIN Laptop (AMD Ryzen 5 7520U/ 16GB/ 512GB SSD/ Win11)',\n",
       "       'HP Omen 16-wd0770TX Gaming Laptop (13th Gen Core i5/ 16GB/ 512GB SSD/ Win11 Home/ 6GB Graph)',\n",
       "       'HP Envy x360 13-bf0141tu Laptop (12th Gen Core i7/ 16GB/ 512GB SSD/ Win11)',\n",
       "       'MSI Katana 15 B13UDXK-1017IN Gaming Laptop (12th Gen Core i7/ 8GB/ 512GB SSD/ Win11 Home/ 6GB Graph)',\n",
       "       'Acer Predator 16 NH.QLUSI.005 Laptop (13th Gen Core i9/ 16GB/ 1TB SSD/ Win11/ 8GB Graph)',\n",
       "       'Lenovo IdeaPad Slim 5i 82XF003CIN Laptop (13th Gen Core i5/ 16GB/ 512GB SSD/ Win11)',\n",
       "       'HP Victus 15-fb0134AX Gaming Laptop (AMD Ryzen 5 5600H/ 16GB/ 512GB SSD/ Win11/ 4GB Graph)',\n",
       "       'HP Victus 15-fa0188TX Gaming Laptop (12th Gen Core i7/ 16GB/ 512GB SSD/ Win11/ 4GB Graph)',\n",
       "       'Lenovo IdeaPad Slim 5 82XD003PIN Laptop (13th Gen Core i5/ 16GB/ 512GB SSD/ Win11)',\n",
       "       'Dell Inspiron 3520 IN3520KTMFJ001ORS1 Laptop (11th Gen Core i3/ 8GB/ 512GB SSD/ Win11)',\n",
       "       'Asus Vivobook Pro 15 M6500QFB-LK742WS Laptop (Ryzen 7 5800H/ 16GB/ 512GB SSD/ Win11/ 4GB Graph)',\n",
       "       'MSI Prestige 16 A13UCX-250IN Laptop (13th Gen Core i7/ 16GB/ 1TB SSD/ Win11/ 4GB Graphic)',\n",
       "       'Asus VivoBook 15 X1500EA-EJ326WS Laptop (11th Gen Core i3/ 8GB/ 512GB SSD/ Win11)',\n",
       "       'Lenovo LOQ 15IRH8 82XV00F7IN 2023 Gaming Laptop (12th Gen Core i5/ 16GB/ 512GB SSD/ Win11/ 8GB Graph)',\n",
       "       'Lenovo LOQ 15IRH8 82XV00F5IN 2023 Gaming Laptop (12th Gen Core i5/ 16GB/ 512GB SSD/ Win11/ 6GB Graph)',\n",
       "       'HP Pavilion x360 14-ek1074TU Laptop (13th Gen Core i5/ 16GB/ 512GB SSD/ Win11)',\n",
       "       'Lenovo LOQ 15IRH8 82XV00F6IN 2023 Gaming Laptop (12th Gen Core i5/ 16GB/ 512GB SSD/ Win11/ 6GB Graph)',\n",
       "       'HP 15s-fr2515TU Laptop (11th Gen Core i3/ 8GB/ 512GB SSD/ Win11)',\n",
       "       'Lenovo LOQ 15APH8 82XT004JIN 2023 Gaming Laptop (AMD Ryzen 7 7840HS/ 16GB/ 512GB SSD/ Win11/ 6GB Graph)',\n",
       "       'Asus Vivobook 15 X1502ZA-EJ545WS Laptop (12th Gen Core i5/ 16GB/ 512GB SSD/ Win11)',\n",
       "       'MSI Vector GP78HX 13VI-409IN Gaming Laptop (13th Gen Core i9/ 32GB/ 2TB SSD/ Win11 Home/ 16GB Graph)',\n",
       "       'HP Omen 16-wf0111TX Gaming Laptop (13th Gen Core i7/ 16GB/ 1TB SSD/ Win11 Home/ 8GB Graph)',\n",
       "       'Lenovo LOQ 15IRH8 82XV00BQIN 2023 Gaming Laptop (13th Gen Core i7/ 16GB/ 512GB SSD/ Win11/ 6GB Graph)',\n",
       "       'Lenovo LOQ 15APH8 82XT009CIN 2023 Gaming Laptop (AMD Ryzen 7 7840HS/ 16GB/ 512GB SSD/ Win11/ 8GB Graph)',\n",
       "       'Lenovo LOQ 15IRH8 82XV00BRIN 2023 Gaming Laptop (13th Gen Core i7/ 16GB/ 512GB SSD/ Win11/ 8GB Graph)',\n",
       "       'HP Omen 16-wf0055TX Gaming Laptop (13th Gen Core i7/ 16GB/ 512GB SSD/ Win11 Home/ 8GB Graph)',\n",
       "       'HP Omen 16-xf0059AX Gaming Laptop (AMD Ryzen 7 7840HS/ 16GB/ 512GB SSD/ Win11/ 8GB Graph)',\n",
       "       'HP 240 G8 689U2PA Business Laptop (11th Gen Core i3/ 8GB/ 512 GB SSD/ Win11)',\n",
       "       'Infinix INBook X2 Plus Laptop (11th Gen Core i7/ 16GB/ 1TB SSD/ Win 11 Home)',\n",
       "       'Acer Nitro 5 AN515-58 NH.QFHSI.008 Gaming Laptop (12th Gen Core i5/ 8GB/ 512GB SSD/ Win11/ 4GB Graph)',\n",
       "       'Acer Aspire Lite AL15-51 2023 Laptop (AMD Ryzen 5 5500U/ 8GB/ 512GB SSD/ Win11)',\n",
       "       'Lenovo LOQ 2023 Gaming Laptop  (13th Gen Core i5/ 8GB/ 512GB SSD/ Win11/ 8GB Graph)',\n",
       "       'Lenovo Yoga Book 9i 2023 82YQ001DIN Laptop (13th Gen Core i7/ 16GB/ 1TB SSD/ Win11)',\n",
       "       'Dell Inspiron 5330 Laptop (13th Gen Core i7/ 16GB/ 512GB SSD/ Win11)',\n",
       "       'Dell XPS 15 9530 Laptop (13th Gen Core i7/ 16GB/ 1TB SSD/ Win11/ 6GB Graph)',\n",
       "       'Lenovo Legion Y9000X 2023 Laptop (13th Gen Core i9/ 32GB/ 1TB SSD/ Win11/ 8GB Graph)',\n",
       "       'Asus Vivobook 15 X1504ZA-NJ321WS Laptop (12th Gen Core i3/ 8GB/ 512GB SSD/ Win11)',\n",
       "       'HP Victus 16-D0314TX Gaming Laptop (11th Gen Core i5/ 16GB/ 512GB SSD/ Win11/ 4GB Graph)',\n",
       "       'Acer Nitro 5 AN515-58 NH.QFHSI.007 Gaming Laptop (12th Gen Core i7/ 16GB/ 512GB SSD/ Win11/ 4GB Graph)',\n",
       "       'Jio JioBook NB1112MM BLU 2023 Netbook Laptop (Octa Core/ 4GB/ 64GB eMMC/ JioOS)',\n",
       "       'HP Omen 16-u0005TX Gaming Laptop (13th Gen Core i7/ 16GB/ 1TB SSD/ Win11 Home/ 8GB Graph)',\n",
       "       'Lenovo IdeaPad Slim 5i 82XF003DIN Laptop (13th Gen Core i7/ 16GB/ 512GB SSD/ Win11)',\n",
       "       'Lenovo Legion Y9000X Laptop (13th Gen Core i9/ DDR5 RAM/ 1 TB SSD/ 8 GB Graphics)',\n",
       "       'Dell Inspiron 5425 Laptop (AMD Ryzen 75825U/ 16GB/ 512GB SSD/ Win11) 84 votes',\n",
       "       'Dell Alienware X16 R1 2023 Gaming Laptop (13th Gen Core i9/ 32GB/ 1TB SSD/ Win 11/ 12GB Graph)',\n",
       "       'Dell Alienware X16 Gaming Laptop (13th Gen Core i9/ 32GB/ 2TB SSD/ Win 11/ 16GB Graph)',\n",
       "       'Dell Alienware m16 2023 Gaming Laptop (AMD Ryzen 7 7745HX/ 16GB/ 1TB SSD/ Win 11/ 8GB Graph)',\n",
       "       'MSI Prestige 14H B12UCX-412IN Laptop (12th Gen Core i5/ 16GB/ 512GB SSD/Win11 Home/ 4GB Graphic)',\n",
       "       'MSI Modern 15 B11M-063IN Laptop (11th Gen Core i3/ 8GB/ 512GB SSD/ Win11 Home)',\n",
       "       'MSI Modern 15 B12M-613IN Laptop (12th Gen Core i3/ 8GB/ 512GB SSD/ Win11 Home)',\n",
       "       'Dell Alienware M18 R1 2023 Gaming Laptop (13th Gen Core i9/ 64GB/ 1TB SSD/ Win 11/ 16GB Graph)',\n",
       "       'Lenovo Yoga 6 83B2005TIN Laptop (AMD Ryzen 5 7530U/ 16GB/ 512GB SSD/ Win11 Home)',\n",
       "       'Acer Nitro 16 \\u200eAN16-41 Gaming Laptop (AMD Ryzen 7 7840HS/ 16GB/ 512GB SSD/ Win11 Home/ 8GB Graph)',\n",
       "       'Lenovo IdeaPad Flex 5 82XX007KIN Laptop (AMD Ryzen 5 7530U/ 16GB/ 512GB SSD/ Win11 Home)',\n",
       "       'Asus Vivobook 14X K3405ZFB-KM752WS Laptop (12th Gen Core i7 /16GB/ 1TB SSD/Win11/ 4GB Graphic)',\n",
       "       'Lenovo IdeaPad Flex 5 82R900D9IN Laptop (AMD Ryzen 7 5700U/ 16GB/ 512GB SSD/ Win11 Home)',\n",
       "       'HP 15s-fy5004TU Laptop (12th Gen Core i3/ 16GB/ 512GB SSD/ Win11 Home)',\n",
       "       'Asus Zenbook 14X OLED 2023 UX5401ZA-KM541WS Laptop (12th Gen Core i5/ 16GB/ 512GB SSD/ Win11 Home)',\n",
       "       'Asus Vivobook 16X 2023 K3605ZF-MBN741WS Laptop (12th Gen Core i7/ 16GB/ 512GB SSD/ Win11 Home/ 4GB Graph)',\n",
       "       'Lenovo IdeaPad Slim 3 82XQ008GIN Laptop (AMD Ryzen 5 7520U/ 8GB/ 512GB SSD/ Win11)',\n",
       "       'Asus ROG Zephyrus G16 2023 GU603ZU-N3023WS Laptop (12th Gen Core i7/ 16GB/ 1TB SSD/ Win11 Home/ 6GB Graph)',\n",
       "       'Dell Alienware m16 Gaming Laptop (AMD Ryzen 9 7845HX/ 32GB/ 2TB SSD/ Win 11/ 12GB Graph)',\n",
       "       'Asus Vivobook 16X 2023 K3605ZF-MBN543WS Laptop (12th Gen Core i5/ 16GB/ 512GB SSD/ Win11 Home/ 4GB Graph)',\n",
       "       'Asus Vivobook Pro 15 M6500QC-LK742WS Laptop (Ryzen 7 5800H/ 16GB/ 512GB SSD/ Win11/ 4GB Graph)',\n",
       "       'HP ZBook Firefly 14 G9 Workstation 2023 Laptop (12th Gen Core i7/ 16GB/ 512GB SSD/ Win11 )',\n",
       "       'Acer Aspire Lite AL15-51 2023 Laptop (11th Gen Core i5/ 16GB/ 512GB SSD/ Win11)',\n",
       "       'Acer Aspire Lite 2023 AL15-51 Laptop (11th Gen Core i5/ 8GB/ 512GB SSD/ Win11)',\n",
       "       'HP 15s-fq3073TU Laptop Intel Pentium Silver N6000/ 8GB/ 512GB SSD/ Win11 Home)',\n",
       "       'Fujitsu UH-X \\u200e4ZR1L12856 Laptop (13th Gen Core i7/ 16GB/ 512GB SSD/ Win11)',\n",
       "       'LG UltraPC 16 \\u200e16U70R-G.AH56A2 Laptop (AMD Ryzen5-7530U/ 16GB/ 512GB SSD/ Win11)',\n",
       "       'Asus ROG Zephyrus G14 GA402NJ-L8094WS Gaming Laptop (AMD Ryzen 7 7735HS/ 16GB/ 512GB SSD/ Win11/ 6GB Graph)',\n",
       "       'HP ZBook Studio G9 WUXGA Workstation Laptop (12th Gen Core i7/ 16GB/ 1TB SSD/ Win11/ 8GB Graph)',\n",
       "       'HP ZBook Studio G9 2023 Workstation WQUXGA Laptop (12th Gen Core i9/ 32GB/ 1TB SSD/ Win11/ 12GB Graph)',\n",
       "       'Lenovo IdeaPad 1 82V6005CIN Laptop (Celeron N4020/ 4GB/ 256GB SSD/ Win11 Home)',\n",
       "       'HP ZBook Studio G9 WUXGA 16 Workstation Laptop (12th Gen Core i9/ 32GB/ 1TB SSD/ Win11/ 16GB Graph)',\n",
       "       'HP ZBook Firefly 14 G9 WUXGA Laptop (12th Gen Core i5/ 16GB/ 1TB SSD/ Win11 )',\n",
       "       'HP ZBook Firefly 14 G9 Laptop (12th Gen Core i5/ 16GB/ 512GB SSD/ Win11 )',\n",
       "       'LG Gram 14 2023 \\u200e14Z90R-G.CH75A2 Laptop (13th Gen Core i7/ 16GB/ 512GB SSD/ Win11)',\n",
       "       'LG gram360 16 Laptop (13th Gen Core i7/ 16GB/ 1TB SSD/ Win11)',\n",
       "       'Dell Vostro 5630 IN5630P8YRR001ORS1 Laptop (13th Gen Core i5/ 16GB/ 512GB SSD/ Win11)',\n",
       "       'Dell Inspiron 5430 Laptop (13th Gen Core i7/ 16GB/ 1TB SSD/ Win11)',\n",
       "       'Dell Inspiron 14 5430 2023 Laptop (13th Gen Core i5/ 8GB/ 1TB SSD/ Win11)',\n",
       "       'Asus Vivobook 16X 2023 K3605ZV-MB741WS Laptop (12th Gen Core i7/ 16GB/ 512GB SSD/ Win11 Home/ 8GB Graph)',\n",
       "       'Asus Vivobook 15 2023 X1504VA-NJ544WS Laptop (13th Gen Core i5/ 16GB/ 512GB SSD/ Win11)',\n",
       "       'Acer Nitro 5 AN515-58 UN.QFHSI.026 Gaming Laptop (12th Gen Core i5/ 16GB/ 512GB SSD/ Win11/ 4GB Graph)',\n",
       "       'Dell Inspiron 2023 14 5430 Laptop (13th Gen Core i5/ 16GB/ 1TB SSD/ Win11)',\n",
       "       'HP 255 G8 6E3Z0PA Laptop (Ryzen 3 3250U/ 8GB/512GB SSD/ Dos)',\n",
       "       'Infinix Zerobook 13 ZL513 2023 Laptop (13th Gen Core i7/ 32GB/ 1TB SSD/ Win 11 Home)',\n",
       "       'Lenovo ThinkPad E14 21JRS00Y00 Laptop (AMD Ryzen 3 7330U/ 8GB/ 512GB SSD/ Win11 Home)',\n",
       "       'Lenovo ThinkBook 15 21JF002CIN Laptop (AMD Ryzen 3 7330U/ 8 GB/ 512 GB SSD/ DOS)',\n",
       "       'MSI Thin GF63 11SC-1477IN Gaming Laptop (11th Gen Core i5/ 8GB/ 512GB SSD/ Win11 Home/ 4GB Graph)',\n",
       "       'MSI Katana GF66 12UCOK 2023 Gaming Laptop (12th Gen Core i5/ 16GB/ 512GB SSD/ Win11 Home/ 4GB Graph)',\n",
       "       'Lenovo S14 Gen 3 82TW001CIH Laptop (12th Gen Core i5/ 8GB/ 512GB SSD/ Win11)',\n",
       "       'Lenovo IdeaPad 1 14IGL7 82V6005EIN Laptop (Celeron Dual Core/ 8GB/ 256GB SSD/ Win11 Home)',\n",
       "       'Lenovo IdeaPad Gaming 3 15ACH6 82K2022YIN Laptop (AMD Ryzen 5 5600H/ 8GB/ 512GB SSD/ Win11 Home/ 4GB Graph)',\n",
       "       'Dell G15-5520 2023 Laptop (12th Gen Core i5/ 16GB/ 1TB SSD/ Win11 Home/ 4GB Graph)',\n",
       "       'Asus Vivobook 15 OLED 2023 X1505VAU-LK543WS Laptop (13th Gen Core i5/ 16GB/ 512GB SSD/ Win11 Home)',\n",
       "       'Lenovo IdeaPad Gaming 3 82K101LHIN Laptop (11th Gen Core i5/ 16GB/ 512GB SSD/ Win11 Home/ 4GB Graph)',\n",
       "       'Lenovo ThinkPad E14 21JRS00T00 Laptop (AMD Ryzen 5 7530U/ 8GB/ 512GB SSD/ Win11 Home)',\n",
       "       'Asus Vivobook 15 2023 X1504VA-NJ543WS Laptop (13th Gen Core i5/ 16GB/ 512GB SSD/ Win11)',\n",
       "       'HP 14-em0027AU Laptop (AMD Ryzen 5 7520U/ 16GB/ 512GB SSD/ Win11 Home)',\n",
       "       'Asus Vivobook 15 X1502ZA-EJ523WS Laptop (12th Gen Core i5/ 8GB/ 512GB SSD/ Win11)',\n",
       "       'Asus Vivobook 14X K3405ZFB-KM541WS Laptop (12th Gen Core i5 /16GB/512GB SSD/Win11)',\n",
       "       'HP Pavilion Plus \\u200e14-eh1047TU Laptop (13th Gen Core i7/ 16GB/ 512GB SSD/ Win 11)',\n",
       "       'HP Envy x360 15-fh0016AU Laptop (AMD Ryzen 5 7530U/ 16GB/ 512GB SSD/ Win11 Home)',\n",
       "       'HP Envy x360 15-ew0041TU Laptop (12th Gen Core i5/ 16GB/ 512GB SSD/ Win11)',\n",
       "       'HP Envy x360 15-fe0028TU Laptop (13th Gen Core i5/ 16GB/ 512GB SSD/ Win11 Home)',\n",
       "       'Acer Aspire Lite AL15-51 Laptop (11th Gen Core i3/ 8GB/ 256GB SSD/ Win11)',\n",
       "       'Lenovo IdeaPad Slim 3 2023 82X70033IN Laptop (13th Gen Core i3/ 8GB/ 512GB SSD/ Win11)',\n",
       "       'HP Envy x360 15-fe0027TU Laptop (13th Gen Core i5/ 16GB/ 512GB SSD/ Win11 Home)',\n",
       "       'Dell Inspiron 7430 2 in 1 Laptop (13th Gen Core i3/ 8GB/ 1TB SSD/ Win11)',\n",
       "       'HP Envy x360 15-fh0019AU Laptop (AMD Ryzen 7 7730U/ 16GB/ 512GB SSD/ Win11 Home)',\n",
       "       'HP 14-em0025AU Laptop (AMD Ryzen  3 7320U/ 8GB/ 512GB SSD/ Win11 Home)',\n",
       "       'Acer Aspire Lite AL15-51 UN.431SI.252 Laptop (11th Gen Core i3/ 8GB/ 512GB SSD/ Win11)',\n",
       "       'Lenovo ThinkPad E14 21JRS00U00 Laptop (AMD Ryzen 5 7530U/ 16GB/ 512GB SSD/ Win11 Home)',\n",
       "       'Lenovo Thinkbook 15 21DJ00EXIH Laptop (12th Gen Core i5/ 8GB/ 512GB SSD/ Win11 Home)',\n",
       "       'HP Pavilion Plus 14-eh1022TU Laptop (13th Gen Core i5/ 16GB/ 512GB SSD/ Win 11)',\n",
       "       'MSI Stealth 15 A13VF-074IN Gaming Laptop (13th Gen Core i7/ 16GB/ 1TB SSD/ Win11 Home/ 8GB Graph)',\n",
       "       'Infinix Zerobook 13 ZL513 Laptop (13th Gen Core i7/ 16GB/ 512GB SSD/ Win 11 Home)',\n",
       "       '\\u200eHP Zbook Power G4-A 2023 ZHAN 99 Laptop (AMD Ryzen 5 6600H/ 16GB/ 1TB 512GB SSD/ Win11/ 4GB Graph)',\n",
       "       'Chuwi CoreBook X Laptop (10th Gen Core i3/ 8GB/ 512GB SSD/ Win11)',\n",
       "       'Lenovo Ideapad Flex 5i 14IAU7 82R70067IN Laptop (12th Gen Core i3/ 8GB/ 512GB SSD/ Win11 Home)',\n",
       "       'HP Envy 15-fe0032TU Laptop (13th Gen Core i7/ 16GB/ 1TB SSD/ Win11)',\n",
       "       'HP 14-hr0001AU Laptop (AMD Ryzen 5 7520U/ 8GB/ 512GB SSD/ Win11 Home)',\n",
       "       'HP 15s-ey2001AU Laptop (AMD Ryzen 7 5700U/ 16GB/ 512GB SSD/ Win11 Home)',\n",
       "       'HP 14-hr0000AU Laptop (AMD Ryzen 5 7520U/ 16GB/ 512GB SSD/ Win11 Home)',\n",
       "       'HP 14-gr0000TU Laptop (13th Gen Core i3/ 8GB/ 512GB SSD/ Win11 Home)',\n",
       "       'Dell Inspiron 3535 Laptop (AMD Ryzen R5-7520U/ 8GB/ 512GB SSD/ Win11)',\n",
       "       'Asus TUF Gaming F15 FX506HF-HN026W Gaming Laptop (11th Gen Core i5/ 8GB/ 1TB SSD/ Win11/ 4GB Graph)',\n",
       "       'Dell Inspiron 5430 2023 Laptop (13th Gen Core i7/ 16GB/ 512GB SSD/ Win11)',\n",
       "       'Lenovo ThinkBook 15 G5 21JFA00QIN Laptop (AMD Ryzen 7 7730U/ 8 GB/ 512 GB SSD/ DOS)',\n",
       "       'Ninkear A16 Gaming Laptop (AMD Ryzen 7 7735HS/ 32 GB RAM/ 2 TB SSD/ Win 11)',\n",
       "       'Lenovo IdeaPad Gaming 3 82K2022VIN Laptop (AMD Ryzen 5-5600H/ 8GB/ 512GB SSD/ Win11 Home/ 4GB Graph)',\n",
       "       'Lenovo IdeaPad Gaming 3 15IHU6 82K101M5IN Laptop (11th Gen Core i5/ 16GB/ 512GB SSD/ Win11 Home/ 4GB Graph)',\n",
       "       'HP 14-em0026AU Laptop (AMD Ryzen 5 7520U/ 8GB/ 512GB SSD/ Win11 Home)',\n",
       "       'MSI Cyborg 15 A12VF-049IN Gaming Laptop (12th Gen Core i7/ 16GB/ 512GB SSD/ Win11 Home/ 8GB Graph)',\n",
       "       'MSI GF75 Thin 10SCXR-007IN Laptop (10th Gen Core i7/ 8GB/ 512GB SSD/ Win10/ 4GB Graph)',\n",
       "       'Dell Vostro 5620 Laptop (12th Gen Core i3/ 8GB/ 512GB SSD/ Win11)',\n",
       "       'Lenovo IdeaPad Slim 3 82XQ008EIN Laptop (AMD Ryzen 3 7320U/ 8GB/ 512GB SSD/ Win11 Home)',\n",
       "       'Dell Inspiron 16 5635 Laptop (AMD Ryzen 5 7530U/ 8GB/ 512GB SSD/ Win11)',\n",
       "       'Acer Aspire 3 A315-510P Laptop (Intel Core i3 N305/ 8GB/ 256GB SSD/ Win11 Home)',\n",
       "       'Razer Blade 14 2023 Gaming Laptop (AMD Ryzen 9 7940HS/ 32GB/ 1TB SSD/ Win11 Home/ 8GB Graph)',\n",
       "       'MSI Thin GF63 11UCX-1476IN Gaming Laptop (11th Gen Core i5/ 16GB/ 512GB SSD/ Win11 Home/ 4GB Graph)',\n",
       "       'MSI Bravo 15 C7VFK-087IN Gaming Laptop (AMD Ryzen 7 7735HS/ 16GB/ 1TB SSD/ Win11 Home/ 8GB Graph)',\n",
       "       'Asus Vivobook 16X 2023 K3605ZF-MBN524WS Laptop (12th Gen Core i5/ 8GB/ 512GB SSD/ Win11 Home/ 4GB Graph)',\n",
       "       'MSI Bravo 15 C7UDXK-093IN Gaming Laptop (AMD Ryzen 5 7535HS/ 16 GB RAM/ 512 GB SSD/ Win 11/ 6 GB Graphics)',\n",
       "       'MSI Bravo 15 C7UCXK-095IN Gaming Laptop (AMD Ryzen 5 7535HS/ 8 GB RAM/ 512 GB SSD/ Win 11/ 4 GB Graphics)',\n",
       "       'Acer Aspire 5 A514-56M 2023 Gaming Laptop (13th Gen Core i5/ 8GB/ 512GB SSD/ Win11 Home)',\n",
       "       'Acer Nitro 5 AN515-58 NH.QLZSI.001 Gaming Laptop (12th Gen Core i7/ 16GB/ 512GB SSD/ Win11/ 6GB Graph)',\n",
       "       'MSI Bravo 17 C7VFK-034IN Gaming Laptop (AMD Ryzen 7 7735HS/ 16GB/ 1TB SSD/ Win11 Home/8GB Graph)',\n",
       "       'MSI Bravo 15 C7VEK-088IN Gaming Laptop (AMD Ryzen 7 7735HS/ 16GB/ 1TB SSD/ Win11 Home/ 6GB Graph)',\n",
       "       'Asus Vivobook 15 X1502ZA-EJ541WS Laptop (12th Gen Core i5/ 16GB/ 512GB SSD/ Win11)',\n",
       "       'MSI Bravo 15 C7VEK-089IN Gaming Laptop (AMD Ryzen 5 7535HS/ 16GB/ 512GB SSD/ Win11 Home/ 6GB Graph)',\n",
       "       'Asus Vivobook 15 X1504ZA-NJ521WS Laptop (12th Gen Core i5/ 8GB/ 512GB SSD/ Win11)',\n",
       "       'Asus TUF Gaming F15 2022 FX507ZC4-HN115W Gaming Laptop (12th Gen Core i5/ 8GB/512GB SSD/ Win11 / 4GB Graph)',\n",
       "       'MSI Bravo 17 C7VEK-035IN Gaming Laptop (AMD Ryzen 7 7735HS/ 16GB/ 1TB SSD/ Win11 Home/ 6GB Graph)',\n",
       "       'Dell Inspiron 5620 ICC-C783531WIN8 Laptop (12th Gen Core i5/ 16GB/ 512GB SSD/ Win11/ 2GB Graph)',\n",
       "       'HP 255 G9 7M654PA Laptop (12th Gen Core i3/ 8GB/ 512 GB SSD/ Win11)',\n",
       "       'HP Pavilion 15-eg3079TU Laptop (13th Gen Core i5/ 16GB/ 512GB SSD/ Win11 Pro)',\n",
       "       'MSI Modern 14 C12M-671IN Laptop (12th Gen Core i7/ 16GB/ 512GB SSD/ Win11 Home)',\n",
       "       'MSI Prestige 13 Evo A12M-085IN Laptop (12th Gen Core i5/ 8GB/ 512GB SSD/Win11 Home)',\n",
       "       'MSI Modern 14 C12M-670IN Laptop (12th Gen Core i7/ 8GB/ 512GB SSD/ Win11 Home) Price',\n",
       "       'Dell XPS 9530 2023 Laptop (13th Gen Core i7/ 32GB/ 1TB SSD/ Win11/ 6GB Graph)',\n",
       "       'MSI Thin GF63 11UC-1474IN Gaming Laptop (11th Gen Core i5/ 16GB/ 512GB SSD/ Win11 Home/ 4GB Graph)',\n",
       "       'Dell XPS 13 Plus 9320 2023 Laptop (13th Gen Core i7/ 32GB/ 1TB SSD/ Win11)',\n",
       "       'MSI Thin GF63 11UC-1475IN Gaming Laptop (11th Gen Core i5/ 8GB/ 512GB SSD/ Win11 Home/ 4GB Graph)',\n",
       "       'Dell XPS 17 9730 Laptop (13th Gen Core i7/ 32GB/ 1TB SSD/ Win11/ 8GB Graph)',\n",
       "       'Dell XPS 17 9730 Laptop (13th Gen Core i9/ 32GB/ 1TB SSD/ Win11/ 8GB Graph)',\n",
       "       'Lenovo Legion Slim 7i 2023 Gaming Laptop (13th Gen Core i5/ 16GB/ 1TB SSD/ Win11 Home/ 8GB Graph)',\n",
       "       'Lenovo Legion Pro 7i 2023 Gaming Laptop (13th Gen Core i9/ 32GB/ 1TB SSD/ Win11 Home/ 12GB Graph)',\n",
       "       'Lenovo Legion Pro 5 82WM00B5IN 2023 Gaming Laptop (AMD Ryzen 7 7745HX/ 16GB/ 1TB SSD/ Win11 Home/ 8GB Graph)',\n",
       "       'Lenovo V15 G3 IAP 82TTA00UIH Laptop (12th Gen Core i3/ 8GB/ 512GB SSD/ DOS)',\n",
       "       'Lenovo Thinkpad E14 G4 21E3S02M00 Laptop (12th Gen Core i7/ 16GB/ 512GB SSD/ Win11 Pro)',\n",
       "       'LG Gram 17 2023 17Z90R-G.CH77A2 Laptop (13th Gen Core i7/ 16GB/ 1TB SSD/ Win11/ 4GB Graphic)',\n",
       "       'LG UltraPC 16 16U70R-G.AH76A2 Laptop (AMD Ryzen7-7730U/ 16GB/ 512GB SSD/ Win11)',\n",
       "       'MSI Modern 14 C12M-444IN Laptop (12th Gen Core i3/ 16GB/ 512GB SSD/ Win11 Home)',\n",
       "       'AXL Vayu Book LAP02 Laptop (Celeron N4020/ 4GB/ 256GB SSD / Win11 Home)',\n",
       "       'AXL Vayu Book LAP01 Laptop (Celeron N4020/ 4GB/ 128GB SSD / Win11 Home)',\n",
       "       'Dell Inspiron 3525 D560927WIN9S Laptop (AMD Ryzen 5-5500U/ 8GB/ 512GB SSD/ Win11)',\n",
       "       'MSI Modern 14 C7M-218IN Laptop (Ryzen 7 7730U/ 16GB/ 512GB SSD/ Win11)',\n",
       "       'HP Pavilion 15-EH3101AU Laptop (AMD Ryzen 7- 7730U/ 16GB/ 512GB SSD/ Win11 Home)',\n",
       "       'Lenovo S14 82TW0019IH Laptop (12th Gen Core i5/ 8GB/ 512GB SSD/ Win11 Home)',\n",
       "       'Asus Vivobook 14X 90NB11H2-M004D0 Laptop (12th Gen Core i5/ 16GB/ 512GB SSD/ Win11/4 GB Graphics)',\n",
       "       'Lenovo V15 G2 ALC 82KDA01YIH Laptop (AMD Ryzen 5 5500U/ 8GB/ 512GB SSD/ DOS)',\n",
       "       'HP Victus 16 16-d0309TX Laptop (11th Gen Core i5/ 8GB/ 512GB SSD/ Win11 Home/ 4GB Graph)',\n",
       "       'Dell Alienware x14 R2 Gaming Laptop (13th Gen Core i7/ 16GB/ 1TB SSD/ Win 11/ 6GB Graph)',\n",
       "       'Asus Vivobook Pro 15 M6500QF-HN741WS  Laptop (Ryzen 7 5800H/ 16GB/ 512GB SSD/ Win11/ 4GB Graph)',\n",
       "       'Lenovo V15 G4 82YU00W6IN Laptop (AMD Ryzen 3 7320U/ 8GB/ 512GB SSD/ DOS)',\n",
       "       'Asus Vivobook Pro 15 M6500QF-HN521WS Laptop (Ryzen 5 5600HS/ 8GB/ 512GB SSD/ Win11/ 4GB Graph)',\n",
       "       'Asus VivoBook 14 X415EA-EK326WS Notebook (11th Gen Core i3/ 8GB/ 512GB SSD/ Win11 Home)',\n",
       "       'Acer Aspire 7 A715-76G UN.QMESI.004 Gaming Laptop (12th Gen Core i5/ 16GB/ 512GB SSD/ Win11 Home/ 4GB Graph)',\n",
       "       'Asus VivoBook 15 X515EA-EJ328WS Laptop (11th Gen Core i3/ 8GB/ 512GB SSD/ Win11)',\n",
       "       'Lenovo V15 G3 IAP Laptop (12th Gen Core i3/ 8GB/ 512GB SSD/Win11)',\n",
       "       'Dell Vostro 5630 Laptop (13th Gen Core i7/ 16GB/ 512GB SSD/ Win11)',\n",
       "       'Lenovo Thinkpad E14 20TA00J2IG Laptop (11th Gen Core i5/ 16GB/ 512GB SSD/ Win11 Pro)',\n",
       "       'Lenovo V14 G3 IAP Laptop (12th Gen Core i3/ 8GB/ 512GB SSD/ Win11)',\n",
       "       'Lenovo V15 G3 Laptop (12th Gen Core i5/ 8GB/ 512GB SSD/Win11)',\n",
       "       'Lenovo V15 G3 \\u200e\\u200e82C7007SGE Laptop (AMD Ryzen 3 7320U/ 8GB/ 512GB SSD/ Win11 Home)',\n",
       "       'Lenovo V14 G3 IAP Laptop (12th Gen Core i5/ 8GB/ 512GB SSD/ Win11)',\n",
       "       'Lenovo IdeaPad Slim 3 82H803B6IN Laptop (11th Gen Core i7/ 16GB/ 512GB SSD/ Win11)',\n",
       "       'HP Victus 16-d0302TX Gaming Laptop (11th Gen Core i5/ 8GB/ 512GB SSD/ Win11/ 4GB Graph)',\n",
       "       'HP 15s-ey1509AU Laptop (AMD Athlon Silver 3050U/ 8GB/ 512GB SSD/ Win11)',\n",
       "       'Dell Inspiron 3530 Laptop (13th Gen Core i5/ 8GB/ 512GB SSD/ Win11 Home)',\n",
       "       'Dell \\u200eG16-7630 2023 Gaming Laptop (13th Gen Core i7/ 16GB/ 1TB SSD/ Win11/ 8GB Graph)',\n",
       "       'Dell 2023 \\u200eG16-7630 Gaming Laptop (13th Gen Core i7/ 32GB/ 1TB SSD/ Win11/ 8GB Graph)',\n",
       "       'HP Omen 17-cm2003TX Gaming Laptop (13th Gen Core i7/ 16GB/ 1TB SSD/ Win11 Home/ 8GB Graph)',\n",
       "       'HP 14s-dr3003TU 832T7PA Laptop (Pentium Silver N6000/ 8GB/ 512GB SSD/ Win11 Home)',\n",
       "       'Dell Inspiron 7430 IC7430FD64T001ORS1 Laptop (13th Gen Core i7/ 16GB/ 512GB SSD/ Win11)',\n",
       "       'MSI Stealth 17 Studio A13VG-024IN Gaming Laptop (13th Gen Core i7/ 32GB/ 2TB SSD/ Win11 Home/ 8GB Graph)',\n",
       "       'Dell Inspiron 7430 IC7430VVR8C001ORS1 Laptop (13th Gen Core i5/ 16GB/ 512GB SSD/ Win11)',\n",
       "       'Apple MacBook Air 15 2023 Laptop (Apple M2/ 8GB/ 512GB SSD/ MacOS)',\n",
       "       'Dell Inspiron 15 3530 Laptop (13th Gen Core i3/ 8GB/ 512GB SSD/ Win11 Home)',\n",
       "       'Infinix INBook X2 Slim Series Laptop (11th Gen Core i3/ 8GB/ 512GB SSD/ Win 11 Home)',\n",
       "       'Asus Eeebook 15 E510MA-EJ021WS Laptop (Intel Celeron N4020/ 8GB/ 512GB SSD/ Win11 Home)',\n",
       "       'Lenovo Legion 5 Pro 2023 Gaming Laptop (13th Gen Core i7/ 32GB/ 1TB SSD/ Win11/ 16GB Graph)',\n",
       "       'Dell Inspiron 3520 D560872WIN9S Laptop (12th Gen Core i5/ 16GB/ 512GB SSD/ Win11)',\n",
       "       'Dell Inspiron 5430 IN54308TR2G001ORS1 Laptop (13th Gen Core i5/ 16GB/ 512GB SSD/ Win11)',\n",
       "       'Infinix INBook X2 Slim Series XL23 Laptop (11th Gen Core i5/ 16GB/ 512GB SSD/ Win 11 Home)',\n",
       "       'Dell Inspiron 5430 IN54304D6P9M01ORS1 Laptop (13th Gen Core i7/ 16GB/ 512GB SSD/ Win11)',\n",
       "       'Acer One 14 Z8-415 Laptop (11th Gen Core i3 / 8GB/ 512GB SSD/ Win11 Home)',\n",
       "       'HP ProBook 445 G8 7K2J8PA Business Laptop (AMD Ryzen 7 5800U/ 8GB/ 512GB SSD/ FreeDOS)',\n",
       "       'Asus Vivobook Go 15 E510MA-EJ011WS Laptop (Intel Celeron N4020/ 8GB/ 256GB SSD/ Win11 Home)',\n",
       "       'Dell Inspiron 5430 IN5430YXVW9M01ORS1 Laptop (13th Gen Core i5/ 8GB/ 512GB SSD/ Win11)',\n",
       "       'Dell Inspiron 3530 IN3530NM1NN001ORS1 Laptop (13th Gen Core i5/ 8GB/ 512GB SSD/ Win11 Home)',\n",
       "       'MSI Creator Z17 HX Studio A13V Laptop',\n",
       "       'MSI Stealth 16 Mercedes AMG Motorsport A13V Gaming Laptop (13th Gen Core i9/ 32GB/ 1TB SSD/ Win11 Home/ 8GB Graph)',\n",
       "       'Asus Vivobook 16 2023 M1605YA-MB521WS Laptop (Ryzen 5 7530U / 8GB/ 512GB SSD/ Win11 Home)',\n",
       "       'Dell Inspiron 7630 IC7630GHHRH001ORS1 2 in 1 Laptop (13th Gen Core i5/ 8GB/ 512GB SSD/ Win11 Home)',\n",
       "       'HP Pavilion 15s-fq5190TU Laptop (12th Gen Core i7/ 16GB/ 512GB SSD/ Win11 Home)',\n",
       "       'Dell Inspiron 5630 2023 Laptop (13th Gen Core i5 1335U/ 16GB/ 512GB SSD/ Win11)',\n",
       "       'Asus Vivobook 15 X515EA-EJ542WS Laptop (11th Gen Core i5/ 16GB/ 512GB SSD/ Win11)',\n",
       "       'HP Victus 15-fb0131AX Gaming Laptop (AMD Ryzen 5 5600H/ 8GB/ 512GB SSD/ Win11/ 4GB Graph)',\n",
       "       'HP Victus 15-fb0133AX Gaming Laptop (AMD Ryzen 5 5600H/ 16GB/ 512GB SSD/ Win11/ 4GB Graph)',\n",
       "       'HP Victus 15-fa0555TX  Laptop (12th Gen Core i5/ 16GB/ 512GB SSD/ Win11 Home/ 4GB Graph)',\n",
       "       'Asus Vivobook 15 X1502ZA-EJ542WS Laptop (12th Gen Core i5/ 16GB/ 512GB SSD/ Win11)',\n",
       "       'Acer Aspire 7 A715-76G NH.QMESI.002 Gaming Laptop (12th Gen Core i5/ 8GB/ 512GB SSD/ Win11 Home/ 4GB Graph)',\n",
       "       'HP 14-ep0068TU Laptop (Core i3-N305/ 8GB/ 512GB SSD/ Win11 Home)',\n",
       "       'MSI Katana 15 B12UDXK-1017IN Gaming Laptop (12th Gen Core i7/ 8GB/ 512GB SSD/ Win11 Home/ 6GB Graph)',\n",
       "       'HP 15s-fq3071TU Laptop (Intel Celeron N4500/ 8GB/ 512GB SSD/ Win11 Home)',\n",
       "       'Acer One 14 Business Z2-493 Laptop (Ryzen 3 3250U/ 8GB/ 512GB SSD/ Win11)',\n",
       "       'HP Victus 15-fb0136AX Gaming Laptop (AMD Ryzen 5 5600H/ 16GB/ 512GB SSD/ Win11/ 4GB Graph)',\n",
       "       'HP Victus 15-fb0135AX Gaming Laptop (AMD Ryzen 5 5600H/ 8GB/ 512GB SSD/ Win11/ 4GB Graph)',\n",
       "       'Asus VivoBook 14 X415EA-EK344WS Notebook (11th Gen Core i3/ 16GB/ 512GB SSD/ Win11 Home)',\n",
       "       'Asus Zenbook 14X OLED 2023 UM5401QA-KM751WS Laptop (Ryzen 7 5800HS / 16GB/ 1TB SSD/ Win11 Home)',\n",
       "       'Acer Swift Edge 16 2023 Laptop (AMD Ryzen 7040 Series/ 16GB/ 1TB SSD/ Win11 Home)',\n",
       "       'Dell G15-5530 Gaming 2023 Laptop (13th Gen Core i7/ 16GB/ 512GB SSD/ Win11/ RTX 4060 8GB Graph)',\n",
       "       'HP Pavilion 15-eg3027TU Laptop (13th Gen Core i5/ 16GB/ 512GB SSD/ Win11 Home)',\n",
       "       'Acer Aspire 5 A515-58P NX.KHJSI.001 Gaming Laptop (13th Gen Core i3/ 8GB/ 512GB SSD/ Win11 Home)',\n",
       "       'Dell G15-5530 GN5530VMMD9002ORB1 Gaming Laptop (13th Gen Core i7/ 16GB/ 512GB SSD/ Win11/ 6GB Graph)',\n",
       "       'Dell G15-5530 Gaming Laptop (13th Gen Core i7/ 16GB/ 512GB SSD/ Win11/ RTX 4050 6GB Graph)',\n",
       "       'Dell G15-5530 GN5530D83M6002ORB1 Gaming Laptop (13th Gen Core i5/ 16GB/ 512GB SSD/ Win11/ 6GB Graph)',\n",
       "       'Dell \\u200eG16-7630 Gaming Laptop (13th Gen Core i9/ 16GB/ 1TB SSD/ Win11/ 8GB Graph)',\n",
       "       'Dell G15-5530 GN553064GRM002ORB1 Gaming Laptop (13th Gen Core i5/ 8GB/ 512GB SSD/ Win11/ 6GB Graph)',\n",
       "       'Dell G15-5530 2023 Gaming Laptop (13th Gen Core i7/ 16GB/ 512GB SSD/ Win11/ RTX 4050 6GB Graph)',\n",
       "       'Acer Aspire 5 A515-58M NX.KHFSI.001 Gaming Laptop (13th Gen Core i5/ 8GB/ 512GB SSD/ Win11 Home)',\n",
       "       'Acer Aspire Vero AV14-52P NX.KJTSI.002 Laptop (13th Gen Core i3/ 16GB/ 512GB SSD/ Win11 Home)',\n",
       "       'Acer Aspire 5 A515-58M NX.KHGSI.002 Gaming Laptop (13th Gen Core i5/ 16GB/ 512GB SSD/ Win11 Home)',\n",
       "       'Xiaomi Redmi Book 14 2023 Laptop (12th Gen Core i5/ 16GB/ 512GB SSD/ Win 11)',\n",
       "       'HP Pavilion x360 14-ek1020TU Laptop (13th Gen Core i7/ 16GB/ 512 GB SSD/ Win11)',\n",
       "       'Asus Vivobook 15X 2023 K3504VAB-NJ321WS Laptop (13th Gen Core i3/ 8GB/ 512GB SSD/ Win11 Home)',\n",
       "       'Asus TUF Gaming A15 2023 FA577XU-LP041WS Gaming Laptop (AMD Ryzen 9 7940HS/ 16GB/ 1TB SSD/ Win11 Home/ 6GB Graph)',\n",
       "       'Asus TUF Gaming F15 2023 FX507VU-LP083WS Gaming Laptop (13th Gen Core i7/ 16GB/ 512GB SSD/ Win11 Home/ 6GB Graph)',\n",
       "       'Huawei MateBook E 2023 Laptop (12th Gen Core i5/ 16GB/ 512GB SSD/ Win11)',\n",
       "       'Asus Vivobook 16X 2023 K3605ZF-MB541WS Laptop (12th Gen Core i5/ 16GB/ 512GB SSD/ Win11 Home/ 4GB Graph)',\n",
       "       'Acer Aspire 5 A514-56GM Gaming Laptop (13th Gen Core i7/ 8GB/ 512GB SSD/ Win11 Home/ 4GB Graph)',\n",
       "       'Asus TUF Gaming A15 2023 FA577XV-HQ036WS Gaming Laptop (AMD Ryzen 9 7940HS/ 16GB/ 1TB SSD/ Win11 Home/ 8GB Graph)',\n",
       "       'Acer Aspire 5 A514-56GM 2023 Gaming Laptop (13th Gen Core i5/ 8GB/ 512GB SSD/ Win11 Home/ 4GB Graph)',\n",
       "       'Lenovo IdeaPad Slim 5 82FG01B3IN Laptop (11th Gen Core i5/ 16GB/ 512GB SSD/ Win11 Home)',\n",
       "       'MSI Bravo 15 B5ED-034IN Gaming Laptop (AMD Ryzen 7 5800H/ 8GB/ 512GB SSD/ Win11 Home/ 4GB Graph)',\n",
       "       'Asus ROG Flow X13 GV302XU-MU013WS Gaming Laptop (AMD Ryzen 9 7940HS/ 16GB/ 1TB SSD/ Win11 Home/ 6GB Graph)',\n",
       "       'Asus TUF Gaming A17 FA777XU-HX026WS Gaming Laptop (AMD Ryzen 9 7940HS / 16GB/ 1TB SSD/ Win11 Home/ 6GB Graph)',\n",
       "       'Asus ROG Strix G16 2023 G614JU-N3221WS Gaming Laptop (13th Gen Core i5/ 16GB/ 1TB SSD/ Win11/ 6GB Graph)',\n",
       "       'Asus ROG Zephyrus G14 2023 GA402XZ-N2020WS Gaming Laptop (AMD Ryzen 9 7940HS/ 32GB/ 1TB SSD/ Win11/ 12GB Graph)',\n",
       "       'ASUS TUF Gaming A16 Advantage Edition FA617XS-N3025WS Gaming Laptop (AMD Ryzen 9 7940HS / 16GB/ 1TB SSD/ Win11 Home/ 8GB Graph)',\n",
       "       'Asus TUF Gaming F15 2023 FX507VV-LP071WS Gaming Laptop (13th Gen Core i9/ 16GB/1TB SSD/ Win11 Home/ 8GB Graph)',\n",
       "       'Asus ROG Zephyrus G14 2023 GA402NU-N2023WS Gaming Laptop (AMD Ryzen 7 7735HS/ 16GB/ 1TB SSD/ Win11/ 6GB Graph)',\n",
       "       'Asus Vivobook 15X OLED M3504YA-LK541WS Laptop (AMD Ryzen 5 7530U/ 16GB/ 512GB SSD/ Win11 Home)',\n",
       "       'Asus ROG Strix G16 2023 G614JI-N4151WS Gaming Laptop (13th Gen Core i9/ 16GB/ 1TB SSD/ Win11/ 8GB Graph)',\n",
       "       'Asus Vivobook 15 X1502ZA-EJ532WS Laptop (12th Gen Core i5/ 8GB/ 512GB SSD/ Win11)',\n",
       "       'HP Victus 15-fa0092TX Gaming Laptop (12th Gen Core i5/ 16GB/ 512GB SSD/ Win11/ 4GB Graph)',\n",
       "       'Acer Predator Helios 16 PH16-71 Gaming Laptop (13th Gen Core i7/ 16GB/ 512GB SSD/ Win11/ 8GB Graph)',\n",
       "       'Asus Vivobook Pro 15 OLED K6502VU-MA541WS Laptop (13th Gen Core i5/ 16GB/ 512GB SSD/ Win11 Home/ 6GB Graph)',\n",
       "       'Dell Alienware m16 Gaming Laptop (13th Gen Core i7/ 16GB/ 1TB SSD/ Win 11/ 8GB Graph)',\n",
       "       'Dell Alienware x14 R2 2023 Gaming Laptop (13th Gen Core i7/ 32GB/ 1TB SSD/ Win 11/ 8GB Graph)',\n",
       "       'Asus Vivobook 16X 2023 K3605ZF-MB521WS Laptop (12th Gen Core i5/ 8GB/ 512GB SSD/ Win11 Home/ 4GB Graph)',\n",
       "       'Huawei MateBook X Pro 2023 Laptop (13th Gen Core i7/ 16GB/ 1TB SSD/ Win11 Home)',\n",
       "       'HP 15-hr0001TU Laptop (13th Gen Core i5/ 16GB/ 512GB SSD/ Win11 Home)',\n",
       "       'HP 15-hr0000TU Laptop (13th Gen Core i5/ 8GB/ 512GB SSD/ Win11 Home)',\n",
       "       'MSI Katana 15 B12UDXK-1006IN Gaming Laptop (12th Gen Core i5/ 8GB/ 512GB SSD/ Win11 Home/ 6GB Graph)',\n",
       "       'HP 15s-fr4001TU Laptop (11th Gen Core i5/16GB/ 512GB SSD/ Win11 Home)',\n",
       "       'HP 15-fd0013TU Laptop (13th Gen Core i5/ 16GB/ 512GB SSD/ Win11 Home)',\n",
       "       'HP 15s-eq1580AU Laptop (AMD Ryzen 3 3250U/ 8GB/ 512GB SSD/ Win11 Home)',\n",
       "       'HP 15-fd0021TU Laptop (13th Gen Core i5/ 8GB/ 512GB SSD/ Win11 Home)',\n",
       "       'MSI Thin GF63 12VE-267IN Gaming Laptop (12th Gen Core i5/ 16GB/ 1TB 256GB SSD/ Win11/6GB Graphics)',\n",
       "       'Acer Swift Go 14 SFG14-41 NX.KG3SI.003 Laptop (AMD Ryzen 5 7530U/ 16GB/ 512GB SSD/ Win11 Home)',\n",
       "       'Dell G15-5525 D560896WIN9S Gaming Laptop (Ryzen 9 6900HX/ 16GB/ 1TB SSD/ Win11 Home/ 6GB Graph)',\n",
       "       'Acer Predator Helios Neo 16 PHN16-71 2023 Gaming Laptop (13th Gen Core i7/ 16GB/ 1TB SSD/ Win11/ 8GB Graph)',\n",
       "       'MSI Stealth 16 Studio A13VG-030IN Gaming Laptop (13th Gen Core i7/ 32GB/ 1TB SSD/ Win11 Home/ 8GB Graph)',\n",
       "       'Asus Vivobook 16X 2023 K3605VC-MB951WS Laptop (13th Gen Core i9/ 16GB/ 1TB SSD/ Win11 Home/ 4GB Graph)',\n",
       "       'Asus Vivobook 14X 2023 K3405VF-LY541WS Laptop (13th Gen Core i5/ 16GB/ 512GB SSD/ Win11/4 GB Graphics)',\n",
       "       'Asus TUF Gaming F17 FX706HF-HX018W Laptop (11th Gen Core i5/ 8GB/ 512GB SSD/ Win11/ 4GB Graph)',\n",
       "       'HP Pavilion 15-eh2050AU Laptop (AMD Ryzen 5 5625U/ 8GB/ 512GB SSD/ Win11 Home)',\n",
       "       'Asus Zenbook Pro 14 Duo OLED 2023 UX8402VU-MZ551WS Laptop (13th Gen Core i5/ 16GB/ 1TB SSD/ Win11 Home/ 6GB Graph)',\n",
       "       'MSI GF63 Thin 11SC-1298IN Gaming Laptop (11th Gen Core i7/ 16GB/ 1TB 256GB SSD/ Win11/ 4GB Graph)',\n",
       "       'Asus Vivobook Pro 15 OLED K6502VU-MA951WS Laptop (13th Gen Core i9/ 16GB/ 1TB SSD/ Win11 Home/ 6GB Graph)',\n",
       "       'HP 15-fd0024TU Laptop (13th Gen Core i7/ 16GB/ 512 GB SSD/ Win11 Home)',\n",
       "       'Asus Vivobook 16X 2023 K3605VC-MB542WS Laptop (13th Gen Core i5/ 16GB/ 512GB SSD/ Win11 Home/ 4GB Graph)',\n",
       "       'Asus VivoBook 15 X515EA-EJ342WS Laptop (11th Gen Core i3/ 16GB/ 512GB SSD/ Win11)',\n",
       "       'HP 15s-fy5003TU Laptop (12th Gen Core i3/ 8GB/ 512GB SSD/ Win11 Home)',\n",
       "       'Lenovo IdeaPad Gaming 3 15ACH6 82K2022XIN Laptop (AMD Ryzen 7-5800H/ 8GB/ 512GB SSD/ Win11 Home/ 4GB Graph)',\n",
       "       'Acer One 14 Z8-415 Laptop (11th Gen Core i5 / 8GB/ 512GB SSD/ Win11 Home)',\n",
       "       'Lenovo Ideapad Gaming 3 15ACH6 82K20145IN Laptop (Ryzen 7 5800H/ 16GB/ 512GB SSD/ Win11 Home/ 4GB Graph)',\n",
       "       'HP 15s-fy5002TU Laptop (12th Gen Core i5/ 8GB/ 512GB SSD/ Win11 Home)',\n",
       "       'Dell Alienware X16 R1 Gaming Laptop (13th Gen Core i9/ 32GB/ 1TB SSD/ Win 11/ 12GB Graph)',\n",
       "       'Dell Alienware M18 R1 Gaming Laptop (13th Gen Core i9/ 32GB/ 1TB SSD/ Win 11/ 12GB Graph)',\n",
       "       'Acer One 11 Z8-284 UN.013SI.014 Laptop ( Intel Celeron N4500/ 8GB/ 256GB SSD/ Win11 Home)',\n",
       "       'HP 15-eg3036TU Laptop (13th Gen Core i7/ 16GB/ 1TB SSD/ Win11 Home)',\n",
       "       'HP 15-fc0030AU Laptop (AMD Ryzen 5 7520U/ 16GB/ 512GB SSD/ Win11 Home)',\n",
       "       'HP 15-fd0012TU Laptop (13th Gen Core i5/ 8GB/ 1TB SSD/ Win11 Home)',\n",
       "       'HP 15-fd0011TU Laptop (13th Gen Core i5/ 8GB/ 512GB SSD/ Win11 Home)',\n",
       "       'HP 15-fd0018TU Laptop (13th Gen Core i3/ 8GB/ 512GB SSD/ Win11 Home)',\n",
       "       'HP 15-eg3026TU Laptop (13th Gen Core i5/ 16GB/ 512GB SSD/ Win11 Home)',\n",
       "       'Acer Predator Helios Neo 16 NH.QLTSI.001 Laptop (13th Gen Core i5/ 16GB/ 512GB SSD/ Win11/ 6GB Graph)',\n",
       "       'Acer Predator Helios Neo 16 PHN16-71 Laptop (13th Gen Core i7/ 16GB/ 512GB SSD/ Win11/ 6GB Graph)',\n",
       "       'Realme Book Prime CloudPro002 Laptop (11th Gen Core i5/ 8GB/ 512GB SSD/ Win11)',\n",
       "       'HP 15-fd0006TU Laptop (13th Gen Core i3/ 8GB/ 512GB SSD/ Win11 Home)',\n",
       "       'MSI Thin GF63 12VF-268IN Laptop (12th Gen Core i5/ 16GB/ 1TB 256GB SSD/ Win11/ 8GB Graph)',\n",
       "       'Dell Vostro 15 3510 2023 Laptop (11th Gen Core i5/ 8GB/ 512GB SSD/ Win11 Home)',\n",
       "       'Asus Vivobook Pro 16 OLED 2023 K6602VU-LZ542WS Laptop (13th Gen Core i5/ 16GB/ 512GB SSD/ Win11/ 6GB Graph)',\n",
       "       'MSI Cyborg 15 A12UCX-264IN Gaming Laptop (12th Gen Core i5/ 16GB/ 512GB SSD/ Win11/ 4GB Graph)',\n",
       "       'Asus VivoBook 14 X1400EA-EK322WS Notebook (11th Gen Core i3/ 8GB/ 512GB SSD/ Win11 Home)',\n",
       "       'MSI Cyborg 15 A12UCX-265IN Gaming Laptop (12th Gen Core i5/ 8GB/ 512GB SSD/ Win11/ 4GB Graph)',\n",
       "       'Asus Vivobook 15 2023 X1504VA-NJ321WS Laptop (13th Gen Core i3/ 8GB/ 512GB SSD/ Win11)',\n",
       "       'Acer Nitro 5 AN515-46 Gaming Laptop (Ryzen 5 6600H/ 16GB/ 1TB SSD/ Win11 Home/ 4GB Graph)',\n",
       "       'Dell Vostro 3425 Laptop (AMD Ryzen 5-5500U/ 8GB/ 512GB SSD/ Win11 Home)',\n",
       "       'Dell Vostro 3420 Laptop (11th Gen Core i5/ 16GB/ 512GB SSD/ Win11)',\n",
       "       'HP 250 G8 7M6L7PA Laptop (11th Gen Core i3/ 8GB/ 1TB 256GB SSD/ Win11)',\n",
       "       'Asus Vivobook Go 15 OLED 2023 E1504FA-LK545WS Laptop (Ryzen 5 7520U / 16GB/ 512GB SSD/ Win11 Home)',\n",
       "       'Lenovo Thinkpad P15 20YRS3A300 Laptop (11th Gen Core i7/ 32GB/ 512GB SSD/ Win10 Pro/ 4GB Graph)',\n",
       "       'Asus Vivobook 14X OLED 2023 K3405VFB-KM541WS Laptop (13th Gen Core i5/ 16GB/ 512GB SSD/ Win11/4 GB Graphics)',\n",
       "       'HP Victus 15-fa1066TX Gaming Laptop (13th Gen Core i7/ 16GB/ 512GB SSD/ Win11 Home/ 6GB Graph)',\n",
       "       'Asus Zenbook 14 OLED 2023 UX3402VA-KN541WS Laptop (13th Gen Core i5/ 16GB/ 512GB SSD/ Win11 Home)',\n",
       "       'MSI Cyborg 15 A12VF-205IN Gaming Laptop (12th Gen Core i7/ 16GB/ 1TB SSD/ Win11 / 8GB Graph)',\n",
       "       'Asus Vivobook 16 2023 X1605VAB-MB544WS Laptop (13th Gen Core i5/ 16GB/ 512GB SSD/ Win11 Home)',\n",
       "       'Asus Zenbook 14 OLED 2023 UX3402VA-KN741WS Laptop (13th Gen Core i7/ 16GB/ 512GB SSD/ Win11 Home)',\n",
       "       'HP 15-fc0026AU Laptop (AMD Ryzen 3 7320U/ 8GB/ 512GB SSD/ Win11 Home)',\n",
       "       'HP Pavilion 15-eg2017TU Laptop (12th Gen Core i3/ 8GB/ 512GB SSD/ Win11 Home)',\n",
       "       'HP 15s-fq2738TU Laptop (11th Gen Core i3/ 8GB/ 512GB SSD/ Win 11 Home)',\n",
       "       'HP Victus 15-fb0121AX Gaming Laptop (AMD Ryzen 5 5600H/ 8GB/ 512GB SSD/ Win11/ 4GB Graph)',\n",
       "       'Asus Vivobook Flip 14 2023 TP3402VAB-LZ542WS Laptop (13th Gen Core i5/ 16GB/ 512GB SSD/ Win11 Home)',\n",
       "       'Asus Vivobook 15 X1502ZA-EJ953WS Laptop (12th Gen Core i3/ 8GB/ 512GB SSD/ Win11)',\n",
       "       'MSI Stealth 16 Studio A13VF-023IN Gaming Laptop (13th Gen Core i7/ 32GB/ 1TB SSD/ Win11 Home/ 8GB Graph)',\n",
       "       'MSI GF63 Thin 11UC-1295IN Gaming Laptop (11th Gen Core i5/ 16GB/ 1TB 256GB SSD/ Win11 Home/ 4GB Graph)',\n",
       "       'Asus Vivobook 15 2023 X1504VA-NJ523WS Laptop (13th Gen Core i5/ 8GB/ 512GB SSD/ Win11)',\n",
       "       'Acer Nitro 5 AN515-47 2023 Gaming Laptop (AMD Ryzen 5 7535HS/ 16GB/ 512GB SSD/ Win11/ 4GB Graph)',\n",
       "       'Asus Vivobook Go 14 E1404GA-NK322WS Laptop (Intel Core i3-N305/ 8GB/ 512GB SSD/ Win11 Home)',\n",
       "       'MSI Thin GF63 12UCX-265IN Gaming Laptop (12th Gen Core i5/ 16GB/ 512GB SSD/ Win11 Home/ 4GB Graph)',\n",
       "       'MSI Raider GE68HX 13VG-027IN Gaming Laptop (13th Gen Core i9/ 32GB/ 2TB SSD/ Win11 Home/ 8GB Graph)',\n",
       "       'Lenovo ThinkPad P14s 21AKS02800 Laptop (12th Gen Core i7/ 16GB/ 512GB SSD/ Win11 Pro/ 4GB Graphics)',\n",
       "       'MSI Stealth 14 Studio A13VF-037IN Gaming Laptop (13th Gen Core i7/ 16GB/ 1TB SSD/ Win11 Home/ 8GB Graph)',\n",
       "       'Asus Vivobook S14 Flip 2022 TN3402QA-LZ741WS Laptop (AMD Ryzen 7-5800H/ 16GB/ 512GB SSD/Win11)',\n",
       "       'MSI GF63 Thin 11UC-1297IN Gaming Laptop (11th Gen Core i5/ 8GB/ 1TB 256GB SSD/ Win11 Home/ 4GB Graph)',\n",
       "       'Asus Vivobook 15X 2023 K3504VAB-NJ541WS Laptop (13th Gen Core i5/ 16GB/ 512GB SSD/ Win11 Home)',\n",
       "       'HP Spectre x360 2023 13.5-ef2034TU Laptop (13th Gen Core i7/ 32GB/ 1TB SSD/ Win11 Home)',\n",
       "       'MSI Pulse 15 B13VFK-293IN Gaming Laptop (13th Gen Core i7/ 16GB/ 1TB SSD/ Win11/ 8GB Graph)',\n",
       "       'Asus Vivobook Go 15 OLED 2023 E1504GA-LK322WS Laptop (Intel Core i3-N305/ 8GB/ 512GB SSD/ Win11 Home)',\n",
       "       'Asus Vivobook S15 OLED 2023 S5504VA-MA543WS Laptop (13th Gen Core i5/ 16GB/ 512GB SSD/ Win11)',\n",
       "       'Asus VivoBook 14 2023 X1404VA-NK321WS Laptop (13th Gen Core i3/ 8GB/ 512GB SSD/ Win11 Home)',\n",
       "       'Asus Vivobook S15 OLED 2023 K5504VA-LK542WS Laptop (13th Gen Core i5/ 16GB/ 512GB SSD/ Win11 Home)',\n",
       "       'Asus Vivobook Go 15 2023 E1504GA-NJ322WS Laptop (Intel Core i3-N305/ 8GB/ 512GB SSD/ Win11 Home)',\n",
       "       'Asus Zenbook 14 Flip OLED 2023 UP3404VA-KN542WS Laptop (13th Gen Core i5/ 16GB/ 512GB SSD/ Win11 Home)',\n",
       "       'Asus VivoBook 14 2023 X1404VA-NK541WS Laptop (13th Gen Core i5/ 16GB/ 512GB SSD/ Win11 Home)',\n",
       "       'Asus Zenbook S13 OLED 2023 UX5304VA-NQ742WS Laptop (13th Gen Core i7/ 16GB/ 1TB SSD/ Win11)',\n",
       "       'Asus Zenbook 14 Flip OLED 2023 UP3404VA-KN753WS Laptop (13th Gen Core i7/ 16GB/ 1TB SSD/ Win11 Home)',\n",
       "       'Asus VivoBook 14 2023 X1404VA-NK522WS Laptop (13th Gen Core i5/ 8GB/ 512GB SSD/ Win11 Home)',\n",
       "       'Asus Vivobook S15 OLED 2023 S5504VA-MA953WS Laptop (13th Gen Core i9/ 16GB/ 1TB SSD/ Win11)',\n",
       "       'Asus Vivobook 15 2023 X1502VA-NJ541WS Laptop (13th Gen Core i5/ 16GB/ 512GB SSD/ Win11)',\n",
       "       'Asus Vivobook 15 OLED 2023 X1505VA-LK542WS Laptop (13th Gen Core i5/ 16GB/ 512GB SSD/ Win11 Home)',\n",
       "       'Asus Zenbook S13 OLED 2023 UX5304VA-NQ762WS Laptop (13th Gen Core i7/ 32GB/ 1TB SSD/ Win11)',\n",
       "       'Asus Vivobook 16 2023 X1605VAB-MB322WS Laptop (13th Gen Core i3/ 8GB/ 512GB SSD/ Win11 Home)',\n",
       "       'Asus Vivobook 15X OLED 2023 K3504VA-LK542WS Laptop (13th Gen Core i5/ 16GB/ 512GB SSD/ Win11 Home)',\n",
       "       'Asus Zenbook S13 OLED 2023 UX5304VA-NQ542WS Laptop (13th Gen Core i5/ 16GB/ 512GB SSD/ Win11)',\n",
       "       'Asus Vivobook S14 Flip 2022 TN3402QA-LZ520WS Laptop (AMD Ryzen 5-5600H/ 8GB/ 512GB SSD/Win11)',\n",
       "       'Lenovo V15 82QYA00MIN Laptop (Celeron N4020/ 8GB/ 256GB SSD/ Win11 Home)',\n",
       "       'HP 255 G9 7B1L8PA Laptop (AMD Ryzen 5 5625U/ 8GB/ 512 GB SSD/ Win11 Home)',\n",
       "       'MSI Bravo 15 B5ED-035IN Gaming Laptop (AMD Ryzen 7 / 16GB/ 512GB SSD/ Win11 Home/ 4GB Graph)',\n",
       "       'Dell Vostro 3420 D552317WIN9B Laptop (12th Gen Core i5/ 8GB/ 512GB SSD/ Win11)',\n",
       "       'HP Spectre x360 16-f2005TX Laptop (13th Gen Core i7/ 32GB/ 1TB SSD/ Win11/ 4GB Graph)',\n",
       "       'HP Spectre x360 2023 13.5-ef2033TU Laptop (13th Gen Core i7/ 16GB/ 1TB SSD/ Win11 Home)',\n",
       "       'Huawei MateBook D14 2023 Laptop (13th Gen Core i5/ 16GB/ 512GB SSD/ Win11)',\n",
       "       'Huawei MateBook D16 2023 Laptop (13th Gen Core i5/ 8GB/ 512GB SSD/ Win11)'],\n",
       "      dtype=object)"
      ]
     },
     "execution_count": 13,
     "metadata": {},
     "output_type": "execute_result"
    }
   ],
   "source": [
    "# checking unique vlues of name column\n",
    "df.name.unique()"
   ]
  },
  {
   "cell_type": "code",
   "execution_count": 14,
   "id": "a9b79a66-3594-49fd-ac9a-2b35573f59e0",
   "metadata": {},
   "outputs": [],
   "source": [
    "# removing unwanted characters in name column\n",
    "df['name'] =df['name'].str.strip('â€Ž')"
   ]
  },
  {
   "cell_type": "code",
   "execution_count": 15,
   "id": "6945f03c-9d55-43ac-8afa-8a2fb7e10a14",
   "metadata": {},
   "outputs": [],
   "source": [
    "# spliting name column on the basis of different specifications\n",
    "df['product_name']=df['name'].str.split(\"(\",expand=True)[0]"
   ]
  },
  {
   "cell_type": "code",
   "execution_count": 16,
   "id": "350ee611-c2b9-4794-924d-d65d96949514",
   "metadata": {},
   "outputs": [],
   "source": [
    "# changing name of different specifications\n",
    "df[[\"processor_name\",\"ram\",\"ssd\",\"windows\",\"graphic\"]]=df['name'].str.split(\"(\",\n",
    "                                                              expand=True)[1].str.split(\"/\",expand =True)[[0,1,2,3,4]]"
   ]
  },
  {
   "cell_type": "code",
   "execution_count": 17,
   "id": "b98a5032-90f9-440d-9fcb-5476d95ad50e",
   "metadata": {},
   "outputs": [
    {
     "data": {
      "text/plain": [
       "array([' 4GB Graph)', ' RTX 4060)', None, ' 6GB Graph)', ' 8GB Graph)',\n",
       "       ' 16GB Graph)', ' RTX 4090)', '4 GB Graphics)', ' 12GB Graph)',\n",
       "       ' 4GB Graphics)', ' RTX 3050)', '6GB Graph)', ' 8GB Graphics)',\n",
       "       ' 6GB Graphics)', ' RTX 3050 6GB Graph)', ' 8 GB Graphics)',\n",
       "       ' RTX4060)', ' 4 GB Graphics)', ' 4GB Graphic)', ' 6 GB Graphics)',\n",
       "       '8GB Graph)', ' 2GB Graph)', ' RTX 4060 8GB Graph)',\n",
       "       ' RTX 4050 6GB Graph)', '6GB Graphics)'], dtype=object)"
      ]
     },
     "execution_count": 17,
     "metadata": {},
     "output_type": "execute_result"
    }
   ],
   "source": [
    "# checking unique values \n",
    "df.graphic.unique()"
   ]
  },
  {
   "cell_type": "code",
   "execution_count": 18,
   "id": "0dfd43a4-a88c-496b-961d-9c160bcf0913",
   "metadata": {},
   "outputs": [],
   "source": [
    "# removing unwanted values from windows and graphic column\n",
    "df['graphic'] =df['graphic'].str.rstrip(\")\")\n",
    "df['windows'] =df['windows'].str.rstrip(\")\")"
   ]
  },
  {
   "cell_type": "code",
   "execution_count": 19,
   "id": "2ca41260-1239-419b-b520-f7e33f2fb99d",
   "metadata": {},
   "outputs": [
    {
     "data": {
      "text/plain": [
       "array([' 4GB Graph', ' RTX 4060', None, ' 6GB Graph', ' 8GB Graph',\n",
       "       ' 16GB Graph', ' RTX 4090', '4 GB Graphics', ' 12GB Graph',\n",
       "       ' 4GB Graphics', ' RTX 3050', '6GB Graph', ' 8GB Graphics',\n",
       "       ' 6GB Graphics', ' RTX 3050 6GB Graph', ' 8 GB Graphics',\n",
       "       ' RTX4060', ' 4 GB Graphics', ' 4GB Graphic', ' 6 GB Graphics',\n",
       "       '8GB Graph', ' 2GB Graph', ' RTX 4060 8GB Graph',\n",
       "       ' RTX 4050 6GB Graph', '6GB Graphics'], dtype=object)"
      ]
     },
     "execution_count": 19,
     "metadata": {},
     "output_type": "execute_result"
    }
   ],
   "source": [
    "# checking unique values \n",
    "df.graphic.unique()"
   ]
  },
  {
   "cell_type": "code",
   "execution_count": 20,
   "id": "4599eb9d-cc7b-4434-97b4-ff5826536b88",
   "metadata": {},
   "outputs": [
    {
     "data": {
      "text/plain": [
       "np.int64(633)"
      ]
     },
     "execution_count": 20,
     "metadata": {},
     "output_type": "execute_result"
    }
   ],
   "source": [
    "# checking nan values \n",
    "df['graphic'].isna().sum()"
   ]
  },
  {
   "cell_type": "code",
   "execution_count": 21,
   "id": "2c7d31cb-98ac-493d-bf96-010ac3fa6aa8",
   "metadata": {},
   "outputs": [],
   "source": [
    "# filling nan value of graphics_card column after comparing with graphic\n",
    "df['graphic']=df['graphic'].fillna(df['graphics_card'])"
   ]
  },
  {
   "cell_type": "code",
   "execution_count": 22,
   "id": "a9d8e385-a5dc-4baf-b0bc-048350c70de7",
   "metadata": {},
   "outputs": [
    {
     "data": {
      "text/plain": [
       "np.int64(3)"
      ]
     },
     "execution_count": 22,
     "metadata": {},
     "output_type": "execute_result"
    }
   ],
   "source": [
    "# checking nan values \n",
    "df['graphic'].isna().sum()"
   ]
  },
  {
   "cell_type": "code",
   "execution_count": 23,
   "id": "44cbaa78-7786-475d-ab04-f229b91dd3d7",
   "metadata": {},
   "outputs": [],
   "source": [
    "# filling nan value of graphic column\n",
    "df['graphic'] =df['graphic'].fillna(\"Not Available\")"
   ]
  },
  {
   "cell_type": "code",
   "execution_count": 24,
   "id": "5f34d8dd-5407-4c90-84c0-2aac3d431d6c",
   "metadata": {},
   "outputs": [
    {
     "data": {
      "text/plain": [
       "np.int64(0)"
      ]
     },
     "execution_count": 24,
     "metadata": {},
     "output_type": "execute_result"
    }
   ],
   "source": [
    "# checking nan values \n",
    "df['graphic'].isna().sum()"
   ]
  },
  {
   "cell_type": "code",
   "execution_count": 25,
   "id": "87263435-b2c7-429d-8b83-4c6b6d360e6a",
   "metadata": {},
   "outputs": [],
   "source": [
    "# removing unwanted columns\n",
    "df.drop(columns=[\"name\",\"graphics_card\"],inplace= True)"
   ]
  },
  {
   "cell_type": "code",
   "execution_count": 26,
   "id": "b5ca3b1e-5bca-4ea8-b6ee-3e2ac00ea0fb",
   "metadata": {},
   "outputs": [
    {
     "name": "stdout",
     "output_type": "stream",
     "text": [
      "<class 'pandas.core.frame.DataFrame'>\n",
      "Index: 1020 entries, 0 to 1019\n",
      "Data columns (total 30 columns):\n",
      " #   Column               Non-Null Count  Dtype  \n",
      "---  ------               --------------  -----  \n",
      " 0   price                1020 non-null   object \n",
      " 1   specification_score  1020 non-null   float64\n",
      " 2   votes                1020 non-null   object \n",
      " 3   user_rating          1020 non-null   float64\n",
      " 4   operating_system     1015 non-null   object \n",
      " 5   utility              1018 non-null   object \n",
      " 6   thickness            770 non-null    object \n",
      " 7   weight               909 non-null    object \n",
      " 8   warranty             1011 non-null   object \n",
      " 9   screen_size          1020 non-null   object \n",
      " 10  resolution           1019 non-null   object \n",
      " 11  pixels_per_inch      1020 non-null   object \n",
      " 12  battery              957 non-null    object \n",
      " 13  screen_feature1      925 non-null    object \n",
      " 14  screen_feature2      456 non-null    object \n",
      " 15  processor_name       1017 non-null   object \n",
      " 16  processor_speed      1014 non-null   object \n",
      " 17  number_of_cores      930 non-null    object \n",
      " 18  caches               982 non-null    object \n",
      " 19  rom_memory           810 non-null    object \n",
      " 20  internal_memory      1014 non-null   object \n",
      " 21  port_connection      1005 non-null   object \n",
      " 22  wireless_connection  1020 non-null   object \n",
      " 23  usb_ports            1014 non-null   object \n",
      " 24  hardware_features    1018 non-null   object \n",
      " 25  product_name         1020 non-null   object \n",
      " 26  ram                  1017 non-null   object \n",
      " 27  ssd                  1017 non-null   object \n",
      " 28  windows              1017 non-null   object \n",
      " 29  graphic              1020 non-null   object \n",
      "dtypes: float64(2), object(28)\n",
      "memory usage: 247.0+ KB\n"
     ]
    }
   ],
   "source": [
    "df.info()"
   ]
  },
  {
   "cell_type": "code",
   "execution_count": 27,
   "id": "226dc2ed-892c-496b-ab01-95f263cf7772",
   "metadata": {},
   "outputs": [
    {
     "data": {
      "text/plain": [
       "price                    0\n",
       "specification_score      0\n",
       "votes                    0\n",
       "user_rating              0\n",
       "operating_system         5\n",
       "utility                  2\n",
       "thickness              250\n",
       "weight                 111\n",
       "warranty                 9\n",
       "screen_size              0\n",
       "resolution               1\n",
       "pixels_per_inch          0\n",
       "battery                 63\n",
       "screen_feature1         95\n",
       "screen_feature2        564\n",
       "processor_name           3\n",
       "processor_speed          6\n",
       "number_of_cores         90\n",
       "caches                  38\n",
       "rom_memory             210\n",
       "internal_memory          6\n",
       "port_connection         15\n",
       "wireless_connection      0\n",
       "usb_ports                6\n",
       "hardware_features        2\n",
       "product_name             0\n",
       "ram                      3\n",
       "ssd                      3\n",
       "windows                  3\n",
       "graphic                  0\n",
       "dtype: int64"
      ]
     },
     "execution_count": 27,
     "metadata": {},
     "output_type": "execute_result"
    }
   ],
   "source": [
    "# checking null values of dataset\n",
    "df.isna().sum()"
   ]
  },
  {
   "cell_type": "code",
   "execution_count": 28,
   "id": "72010ec8-e3a1-4cec-97bf-4dfd3d31b7f1",
   "metadata": {
    "scrolled": true
   },
   "outputs": [
    {
     "data": {
      "text/plain": [
       "array(['₹49,800', '₹1,02,990', '₹23,990', '₹62,990', '₹79,990', '₹26,780',\n",
       "       '₹35,990', '₹54,990', '₹52,990', '₹99,900', '₹32,990', '₹81,490',\n",
       "       '₹24,990', '₹33,990', '₹26,749', '₹58,990', '₹74,990', '₹39,990',\n",
       "       '₹43,990', '₹56,490', '₹59,990', '₹1,14,900', '₹99,990', '₹49,990',\n",
       "       '₹42,990', '₹55,390', '₹89,999', '₹84,990', '₹33,790', '₹27,990',\n",
       "       '₹44,990', '₹65,990', '₹77,990', '₹1,20,900', '₹19,979', '₹89,990',\n",
       "       '₹25,680', '₹37,990', '₹69,999', '₹46,990', '₹72,990', '₹8,000',\n",
       "       '₹1,54,900', '₹1,34,225', '₹1,46,990', '₹63,490', '₹1,91,668',\n",
       "       '₹75,990', '₹3,29,990', '₹1,35,999', '₹51,990', '₹36,990',\n",
       "       '₹34,880', '₹1,37,990', '₹5,99,990', '₹1,49,990', '₹1,99,990',\n",
       "       '₹84,700', '₹3,99,900', '₹1,86,899', '₹24,790', '₹69,990',\n",
       "       '₹41,990', '₹35,900', '₹64,690', '₹71,990', '₹35,091', '₹48,490',\n",
       "       '₹53,990', '₹53,999', '₹19,990', '₹35,790', '₹73,990', '₹12,990',\n",
       "       '₹18,990', '₹76,990', '₹54,790', '₹36,890', '₹86,990', '₹36,280',\n",
       "       '₹31,990', '₹64,990', '₹57,990', '₹70,490', '₹89,900', '₹52,999',\n",
       "       '₹1,12,990', '₹68,990', '₹68,490', '₹1,04,990', '₹94,990',\n",
       "       '₹74,490', '₹4,89,883', '₹46,490', '₹1,08,000', '₹17,990',\n",
       "       '₹69,890', '₹1,84,999', '₹4,49,990', '₹1,20,490', '₹87,990',\n",
       "       '₹30,700', '₹1,62,990', '₹2,29,990', '₹1,13,861', '₹1,19,990',\n",
       "       '₹1,07,990', '₹1,04,072', '₹1,14,990', '₹2,99,990', '₹1,09,990',\n",
       "       '₹1,33,999', '₹1,34,900', '₹1,74,900', '₹78,990', '₹96,999',\n",
       "       '₹81,990', '₹1,03,990', '₹1,11,990', '₹2,49,990', '₹2,25,862',\n",
       "       '₹2,79,990', '₹21,990', '₹3,49,990', '₹67,490', '₹1,38,990',\n",
       "       '₹1,63,990', '₹1,22,990', '₹1,79,990', '₹73,882', '₹35,500',\n",
       "       '₹1,69,990', '₹1,59,990', '₹47,990', '₹1,39,990', '₹1,71,990',\n",
       "       '₹1,31,990', '₹1,41,990', '₹1,81,990', '₹2,89,990', '₹1,89,990',\n",
       "       '₹96,990', '₹2,97,758', '₹25,990', '₹1,06,000', '₹62,479',\n",
       "       '₹1,02,900', '₹55,990', '₹97,990', '₹82,990', '₹1,95,990',\n",
       "       '₹56,990', '₹38,249', '₹1,15,999', '₹1,01,990', '₹28,190',\n",
       "       '₹22,090', '₹59,490', '₹59,997', '₹58,500', '₹49,490', '₹24,900',\n",
       "       '₹26,990', '₹72,000', '₹1,74,490', '₹49,199', '₹1,76,499',\n",
       "       '₹20,990', '₹60,990', '₹73,223', '₹34,990', '₹15,990', '₹83,990',\n",
       "       '₹1,87,490', '₹80,650', '₹26,490', '₹1,13,999', '₹1,51,490',\n",
       "       '₹57,000', '₹1,99,999', '₹35,490', '₹49,999', '₹48,900', '₹40,490',\n",
       "       '₹1,49,900', '₹63,499', '₹81,999', '₹2,99,999', '₹81,400',\n",
       "       '₹62,490', '₹80,999', '₹34,490', '₹35,999', '₹52,199', '₹67,990',\n",
       "       '₹87,190', '₹1,29,900', '₹72,190', '₹14,999', '₹1,48,990',\n",
       "       '₹67,900', '₹31,500', '₹5,19,990', '₹50,000', '₹2,18,990',\n",
       "       '₹30,834', '₹44,750', '₹1,02,999', '₹2,30,590', '₹2,24,990',\n",
       "       '₹1,76,490', '₹3,49,900', '₹2,89,690', '₹1,23,190', '₹50,790',\n",
       "       '₹58,900', '₹50,390', '₹98,790', '₹19,999', '₹1,54,990',\n",
       "       '₹1,06,590', '₹90,223', '₹38,990', '₹45,990', '₹93,990', '₹58,999',\n",
       "       '₹59,900', '₹38,790', '₹88,990', '₹52,850', '₹1,24,999', '₹52,890',\n",
       "       '₹50,990', '₹66,990', '₹91,190', '₹32,790', '₹1,32,190', '₹34,821',\n",
       "       '₹33,290', '₹16,490', '₹53,490', '₹33,118', '₹45,890', '₹53,499',\n",
       "       '₹36,490', '₹49,921', '₹3,39,999', '₹11,990', '₹27,490', '₹63,990',\n",
       "       '₹20,000', '₹40,990', '₹1,51,990', '₹1,68,025', '₹80,990',\n",
       "       '₹80,190', '₹59,290', '₹1,39,190', '₹2,98,990', '₹1,64,190',\n",
       "       '₹1,03,395', '₹39,390', '₹89,190', '₹1,21,000', '₹33,350',\n",
       "       '₹61,712', '₹50,490', '₹95,689', '₹44,890', '₹63,889', '₹52,499',\n",
       "       '₹55,700', '₹28,990', '₹2,39,990', '₹2,71,990', '₹36,499',\n",
       "       '₹44,490', '₹64,490', '₹43,590', '₹66,450', '₹1,24,000', '₹47,490',\n",
       "       '₹35,499', '₹86,190', '₹94,599', '₹1,14,190', '₹1,28,990',\n",
       "       '₹98,000', '₹1,30,990', '₹26,100', '₹4,15,000', '₹59,856',\n",
       "       '₹72,490', '₹62,500', '₹34,890', '₹94,190', '₹23,999', '₹62,190',\n",
       "       '₹81,088', '₹3,99,999', '₹1,30,000', '₹14,990', '₹40,739',\n",
       "       '₹38,999', '₹60,190', '₹69,190', '₹59,190', '₹61,000', '₹43,400',\n",
       "       '₹85,990', '₹41,200', '₹48,290', '₹1,53,490', '₹34,000', '₹52,010',\n",
       "       '₹29,990', '₹61,990', '₹70,190', '₹2,19,990', '₹67,190', '₹51,000',\n",
       "       '₹36,700', '₹85,190', '₹84,190', '₹48,990', '₹39,490', '₹1,06,499',\n",
       "       '₹45,490', '₹87,490', '₹68,999', '₹90,990', '₹1,34,990',\n",
       "       '₹1,00,990', '₹1,10,990', '₹2,37,990', '₹1,09,490', '₹1,83,990',\n",
       "       '₹80,490', '₹36,500', '₹56,190', '₹2,31,746', '₹32,999', '₹54,559',\n",
       "       '₹36,790', '₹92,990', '₹3,44,990', '₹1,26,499', '₹1,00,190',\n",
       "       '₹1,16,990', '₹1,32,490', '₹1,13,090', '₹31,890', '₹2,22,990',\n",
       "       '₹96,490', '₹2,57,490', '₹60,200', '₹14,701', '₹1,59,999',\n",
       "       '₹90,000', '₹1,50,000', '₹61,490', '₹3,22,190', '₹4,53,990',\n",
       "       '₹1,99,290', '₹4,48,690', '₹75,190', '₹1,29,990', '₹65,190',\n",
       "       '₹41,199', '₹3,03,290', '₹1,21,860', '₹42,600', '₹41,400',\n",
       "       '₹31,490', '₹78,299', '₹2,61,921', '₹3,90,914', '₹22,490',\n",
       "       '₹3,73,192', '₹1,11,422', '₹96,700', '₹1,17,899', '₹1,52,499',\n",
       "       '₹78,980', '₹86,730', '₹70,790', '₹23,940', '₹47,890', '₹52,400',\n",
       "       '₹69,345', '₹1,08,990', '₹86,490', '₹95,990', '₹30,990', '₹88,490',\n",
       "       '₹58,490', '₹85,600', '₹32,390', '₹50,999', '₹69,490', '₹1,15,558',\n",
       "       '₹58,400', '₹1,17,000', '₹56,267', '₹84,899', '₹79,999', '₹83,500',\n",
       "       '₹46,899', '₹31,899', '₹1,04,989', '₹70,990', '₹38,900',\n",
       "       '₹2,79,490', '₹2,02,490', '₹3,03,490', '₹3,55,490', '₹1,57,544',\n",
       "       '₹2,86,200', '₹1,42,190', '₹32,500', '₹1,25,000', '₹89,799',\n",
       "       '₹16,990', '₹56,999', '₹1,99,900', '₹54,199', '₹35,083', '₹95,790',\n",
       "       '₹65,899', '₹32,490', '₹45,900', '₹43,980', '₹56,900', '₹55,999',\n",
       "       '₹1,58,990', '₹1,66,490', '₹1,56,990', '₹27,590', '₹99,950',\n",
       "       '₹2,10,990', '₹1,31,590', '₹1,72,990', '₹52,299', '₹67,890',\n",
       "       '₹34,200', '₹63,290', '₹2,47,999', '₹2,92,990', '₹94,490',\n",
       "       '₹62,842', '₹27,499', '₹27,390', '₹44,799', '₹58,800', '₹62,687',\n",
       "       '₹54,299', '₹71,999', '₹1,07,399', '₹1,49,999', '₹38,490',\n",
       "       '₹1,02,490', '₹1,22,638', '₹1,78,490', '₹1,06,990', '₹55,800',\n",
       "       '₹39,800', '₹88,999', '₹54,900', '₹1,32,900', '₹1,42,990',\n",
       "       '₹2,51,041', '₹1,98,999', '₹47,250', '₹1,62,000', '₹2,20,990',\n",
       "       '₹2,24,790', '₹58,890', '₹1,84,990', '₹62,590', '₹61,690',\n",
       "       '₹54,271', '₹1,05,299', '₹2,34,990', '₹1,59,450', '₹1,55,500',\n",
       "       '₹78,490', '₹81,000', '₹3,86,990', '₹3,66,190', '₹36,800',\n",
       "       '₹87,890', '₹45,399', '₹75,999', '₹47,999', '₹41,800', '₹93,566',\n",
       "       '₹35,290', '₹34,980', '₹1,18,300', '₹98,990', '₹47,237', '₹51,899',\n",
       "       '₹2,09,990', '₹2,64,990', '₹1,33,990', '₹1,44,990', '₹1,26,990',\n",
       "       '₹99,399', '₹1,09,900', '₹95,700', '₹21,390', '₹42,100', '₹59,890',\n",
       "       '₹51,199', '₹1,85,990', '₹84,999'], dtype=object)"
      ]
     },
     "execution_count": 28,
     "metadata": {},
     "output_type": "execute_result"
    }
   ],
   "source": [
    "df.price.unique()"
   ]
  },
  {
   "cell_type": "code",
   "execution_count": 29,
   "id": "befd2853-54c1-4668-b144-292b966af6ce",
   "metadata": {},
   "outputs": [],
   "source": [
    "# removing symbol in price column\n",
    "df['price']=df['price'].str.lstrip(\"₹\").str.replace(\",\",\"\").astype('int64')"
   ]
  },
  {
   "cell_type": "code",
   "execution_count": 30,
   "id": "162ac44b-3c22-4ede-8d92-dd07b0ba0caf",
   "metadata": {},
   "outputs": [
    {
     "data": {
      "text/plain": [
       "454    36990\n",
       "338    59900\n",
       "522    43400\n",
       "187    35500\n",
       "500    51990\n",
       "Name: price, dtype: int64"
      ]
     },
     "execution_count": 30,
     "metadata": {},
     "output_type": "execute_result"
    }
   ],
   "source": [
    "# checking sample values of price column\n",
    "df['price'].sample(5)"
   ]
  },
  {
   "cell_type": "code",
   "execution_count": 31,
   "id": "cc602c08-08d2-4fa7-9a38-1f2ca1c1ce46",
   "metadata": {
    "scrolled": true
   },
   "outputs": [
    {
     "data": {
      "text/plain": [
       "array(['97 votes ', '71 votes ', '177 votes ', '1,511 votes • 23 reviews',\n",
       "       '20,380 votes • 43 reviews', '205 votes • 14 reviews',\n",
       "       '3,400 votes • 32 reviews', '111 votes ', '88 votes • 6 reviews',\n",
       "       '5,622 votes • 49 reviews', '309 votes • 15 reviews', '145 votes ',\n",
       "       '1,369 votes • 27 reviews', '1,492 votes • 20 reviews',\n",
       "       '772 votes • 21 reviews', '107 votes ', '98 votes ', '70 votes ',\n",
       "       '63 votes ', '212 votes • 3 reviews', '312 votes • 2 reviews',\n",
       "       '78 votes ', '248 votes • 13 reviews', '104 votes ',\n",
       "       '544 votes • 22 reviews', '344 votes • 14 reviews',\n",
       "       '1,205 votes • 16 reviews', '2,534 votes • 19 reviews',\n",
       "       '84 votes ', '65 votes ', '108 votes ', '93 votes ', '323 votes ',\n",
       "       '189 votes ', '189 votes • 9 reviews', '102 votes • 2 reviews',\n",
       "       '90 votes ', '456 votes • 4 reviews', '154 votes ',\n",
       "       '1,110 votes • 4 reviews', '2,026 votes • 8 reviews',\n",
       "       '144 votes • 7 reviews', '308 votes ', '342 votes • 19 reviews',\n",
       "       '1,160 votes • 13 reviews', '103 votes ',\n",
       "       '2,240 votes • 28 reviews', '1,220 votes ', '182 votes ',\n",
       "       '1,743 votes • 62 reviews', '76 votes ', '67 votes ', '105 votes ',\n",
       "       '55 votes ', '102 votes ', '61 votes ', '338 votes ',\n",
       "       '121 votes • 14 reviews', '56 votes ', '122 votes • 9 reviews',\n",
       "       '119 votes • 2 reviews', '72 votes ', '101 votes ', '60 votes ',\n",
       "       '81 votes ', '416 votes • 13 reviews', '92 votes ',\n",
       "       '136 votes • 9 reviews', '141 votes • 9 reviews',\n",
       "       '121 votes • 1 reviews', '1,044 votes • 22 reviews',\n",
       "       '190 votes • 15 reviews', '112 votes • 1 reviews',\n",
       "       '80 votes • 8 reviews', '906 votes ', '257 votes • 13 reviews',\n",
       "       '277 votes • 14 reviews', '2,425 votes • 7 reviews',\n",
       "       '1,246 votes • 12 reviews', '313 votes ',\n",
       "       '3,769 votes • 5 reviews', '339 votes • 4 reviews', '122 votes ',\n",
       "       '428 votes • 8 reviews', '877 votes • 8 reviews',\n",
       "       '108 votes • 6 reviews', '1,192 votes • 11 reviews', '456 votes ',\n",
       "       '140 votes ', '539 votes • 18 reviews', '99 votes • 6 reviews',\n",
       "       '1,236 votes • 10 reviews', '526 votes ', '590 votes • 8 reviews',\n",
       "       '411 votes • 19 reviews', '68 votes • 1 reviews',\n",
       "       '115 votes • 1 reviews', '431 votes • 18 reviews',\n",
       "       '74 votes • 2 reviews', '115 votes • 3 reviews',\n",
       "       '410 votes • 5 reviews', '1,295 votes • 25 reviews', '68 votes ',\n",
       "       '73 votes ', '98 votes • 9 reviews', '800 votes • 6 reviews',\n",
       "       '425 votes ', '223 votes ', '227 votes • 3 reviews', '143 votes ',\n",
       "       '167 votes • 18 reviews', '1,863 votes • 43 reviews',\n",
       "       '2,556 votes • 15 reviews', '516 votes • 2 reviews', '99 votes ',\n",
       "       '1,084 votes • 19 reviews', '160 votes • 11 reviews',\n",
       "       '1,242 votes • 5 reviews', '271 votes • 26 reviews',\n",
       "       '662 votes • 13 reviews', '57 votes ', '922 votes • 26 reviews',\n",
       "       '64 votes ', '69 votes ', '79 votes ', '87 votes ', '52 votes ',\n",
       "       '86 votes ', '91 votes ', '83 votes ', '75 votes ', '89 votes ',\n",
       "       '66 votes ', '58 votes ', '100 votes ', '347 votes ', '54 votes ',\n",
       "       '292 votes ', '51 votes ', '80 votes ', '82 votes ', '109 votes ',\n",
       "       '88 votes ', '59 votes ', '85 votes ', '96 votes ',\n",
       "       '92 votes • 1 reviews', '74 votes ', '62 votes ', '94 votes ',\n",
       "       '83 votes • 8 reviews', '160 votes ', '265 votes ',\n",
       "       '103 votes • 3 reviews', '122 votes • 2 reviews', '267 votes ',\n",
       "       '110 votes ', '127 votes ', '144 votes ', '352 votes • 7 reviews',\n",
       "       '4,659 votes ', '7,663 votes • 1 reviews', '112 votes ',\n",
       "       '434 votes ', '114 votes ', '485 votes ',\n",
       "       '2,140 votes • 10 reviews', '168 votes • 11 reviews',\n",
       "       '1,753 votes ', '522 votes ', '120 votes ', '221 votes ',\n",
       "       '308 votes • 5 reviews', '612 votes ', '138 votes • 4 reviews',\n",
       "       '53 votes ', '78 votes • 1 reviews', '77 votes ',\n",
       "       '86 votes • 1 reviews', '216 votes • 13 reviews',\n",
       "       '93 votes • 2 reviews', '111 votes • 1 reviews',\n",
       "       '82 votes • 1 reviews', '193 votes ', '114 votes • 1 reviews',\n",
       "       '134 votes • 5 reviews', '84 votes • 6 reviews',\n",
       "       '117 votes • 6 reviews', '421 votes ', '105 votes • 7 reviews',\n",
       "       '181 votes • 7 reviews', '150 votes • 9 reviews',\n",
       "       '660 votes • 7 reviews', '1,151 votes • 16 reviews',\n",
       "       '1,316 votes • 18 reviews', '568 votes • 3 reviews',\n",
       "       '516 votes • 17 reviews', '168 votes • 2 reviews',\n",
       "       '235 votes • 2 reviews', '121 votes ', '173 votes • 14 reviews',\n",
       "       '239 votes • 12 reviews', '190 votes • 2 reviews', '113 votes ',\n",
       "       '225 votes • 1 reviews', '102 votes • 3 reviews',\n",
       "       '62 votes • 1 reviews', '1,498 votes • 2 reviews', '168 votes ',\n",
       "       '986 votes • 18 reviews', '130 votes • 11 reviews',\n",
       "       '119 votes • 1 reviews', '219 votes ', '654 votes ', '947 votes ',\n",
       "       '207 votes • 14 reviews', '133 votes • 2 reviews',\n",
       "       '608 votes • 11 reviews', '256 votes • 13 reviews',\n",
       "       '195 votes • 8 reviews', '166 votes • 9 reviews',\n",
       "       '1,292 votes • 18 reviews', '644 votes • 2 reviews',\n",
       "       '408 votes • 17 reviews', '301 votes ', '95 votes ',\n",
       "       '221 votes • 10 reviews', '408 votes • 4 reviews',\n",
       "       '1,004 votes • 1 reviews', '537 votes • 13 reviews',\n",
       "       '1,383 votes • 12 reviews', '684 votes • 3 reviews',\n",
       "       '82 votes • 2 reviews', '379 votes • 14 reviews',\n",
       "       '75 votes • 3 reviews', '377 votes • 14 reviews',\n",
       "       '964 votes • 1 reviews', '323 votes • 2 reviews',\n",
       "       '98 votes • 1 reviews', '78 votes • 2 reviews', '382 votes ',\n",
       "       '64 votes • 2 reviews', '58 votes • 3 reviews',\n",
       "       '151 votes • 10 reviews', '121 votes • 7 reviews',\n",
       "       '275 votes • 16 reviews', '97 votes • 1 reviews',\n",
       "       '1,144 votes • 7 reviews', '95 votes • 1 reviews',\n",
       "       '880 votes • 14 reviews', '196 votes • 8 reviews', '106 votes ',\n",
       "       '357 votes • 16 reviews', '125 votes • 6 reviews',\n",
       "       '236 votes • 11 reviews', '280 votes • 14 reviews',\n",
       "       '120 votes • 1 reviews', '304 votes • 10 reviews',\n",
       "       '99 votes • 4 reviews', '642 votes • 5 reviews', '674 votes ',\n",
       "       '132 votes ', '127 votes • 12 reviews', '119 votes ',\n",
       "       '187 votes • 5 reviews', '117 votes ', '947 votes • 14 reviews',\n",
       "       '469 votes • 19 reviews', '747 votes ', '3,714 votes • 3 reviews',\n",
       "       '118 votes • 1 reviews', '158 votes • 17 reviews',\n",
       "       '541 votes • 11 reviews', '575 votes • 7 reviews',\n",
       "       '191 votes • 17 reviews', '116 votes • 3 reviews',\n",
       "       '296 votes • 16 reviews', '64 votes • 1 reviews',\n",
       "       '147 votes • 11 reviews', '206 votes • 12 reviews',\n",
       "       '928 votes • 21 reviews', '1,151 votes • 15 reviews',\n",
       "       '156 votes • 6 reviews', '149 votes • 6 reviews',\n",
       "       '141 votes • 2 reviews', '118 votes ', '262 votes • 7 reviews',\n",
       "       '106 votes • 1 reviews', '119 votes • 6 reviews',\n",
       "       '195 votes • 6 reviews', '909 votes • 7 reviews',\n",
       "       '160 votes • 6 reviews', '92 votes • 2 reviews', '285 votes ',\n",
       "       '135 votes • 7 reviews', '605 votes • 16 reviews',\n",
       "       '763 votes • 24 reviews', '111 votes • 3 reviews',\n",
       "       '239 votes • 3 reviews', '87 votes • 3 reviews',\n",
       "       '481 votes • 7 reviews', '222 votes • 10 reviews',\n",
       "       '280 votes • 12 reviews', '141 votes • 14 reviews',\n",
       "       '149 votes • 8 reviews', '594 votes • 21 reviews',\n",
       "       '96 votes • 7 reviews', '470 votes • 4 reviews',\n",
       "       '116 votes • 6 reviews', '1,060 votes • 4 reviews',\n",
       "       '224 votes • 15 reviews', '164 votes • 9 reviews',\n",
       "       '186 votes • 15 reviews', '115 votes ', '664 votes • 5 reviews',\n",
       "       '258 votes ', '101 votes • 2 reviews', '111 votes • 4 reviews',\n",
       "       '2,665 votes ', '123 votes ', '595 votes • 2 reviews',\n",
       "       '286 votes • 7 reviews', '175 votes ', '627 votes • 11 reviews',\n",
       "       '180 votes • 5 reviews', '115 votes • 16 reviews',\n",
       "       '149 votes • 12 reviews', '116 votes ', '332 votes • 8 reviews',\n",
       "       '89 votes • 1 reviews', '524 votes • 12 reviews',\n",
       "       '363 votes • 1 reviews', '294 votes ', '358 votes • 27 reviews',\n",
       "       '126 votes ', '84 votes • 2 reviews', '798 votes ',\n",
       "       '100 votes • 3 reviews', '259 votes ', '91 votes • 3 reviews',\n",
       "       '1,004 votes • 15 reviews', '140 votes • 1 reviews',\n",
       "       '133 votes • 7 reviews', '167 votes • 5 reviews',\n",
       "       '7,198 votes • 22 reviews', '863 votes • 6 reviews',\n",
       "       '95 votes • 3 reviews', '124 votes ', '117 votes • 1 reviews',\n",
       "       '423 votes • 19 reviews', '209 votes ', '136 votes • 3 reviews',\n",
       "       '123 votes • 1 reviews', '369 votes • 5 reviews',\n",
       "       '141 votes • 8 reviews', '153 votes • 6 reviews',\n",
       "       '431 votes • 11 reviews', '319 votes • 6 reviews',\n",
       "       '151 votes • 1 reviews', '351 votes • 1 reviews',\n",
       "       '119 votes • 3 reviews', '81 votes • 1 reviews',\n",
       "       '146 votes • 9 reviews', '283 votes • 13 reviews',\n",
       "       '147 votes • 7 reviews', '1,187 votes • 23 reviews',\n",
       "       '505 votes • 9 reviews', '1,589 votes • 15 reviews',\n",
       "       '337 votes • 10 reviews', '218 votes ', '3,730 votes • 1 reviews',\n",
       "       '340 votes • 3 reviews', '1,949 votes • 21 reviews',\n",
       "       '506 votes • 17 reviews', '96 votes • 1 reviews',\n",
       "       '538 votes • 18 reviews', '5,912 votes • 22 reviews',\n",
       "       '1,328 votes • 12 reviews', '104 votes • 1 reviews',\n",
       "       '129 votes • 2 reviews', '106 votes • 2 reviews',\n",
       "       '171 votes • 1 reviews', '2,118 votes • 21 reviews',\n",
       "       '1,521 votes • 11 reviews', '675 votes • 14 reviews',\n",
       "       '113 votes • 14 reviews', '275 votes • 18 reviews', '212 votes ',\n",
       "       '1,561 votes • 10 reviews', '628 votes • 15 reviews',\n",
       "       '346 votes • 4 reviews', '927 votes • 14 reviews',\n",
       "       '869 votes • 1 reviews', '3,258 votes • 13 reviews',\n",
       "       '290 votes • 12 reviews', '91 votes • 1 reviews',\n",
       "       '121 votes • 3 reviews', '88 votes • 1 reviews',\n",
       "       '73 votes • 10 reviews', '80 votes • 1 reviews', '151 votes ',\n",
       "       '1,201 votes • 18 reviews', '71 votes • 1 reviews',\n",
       "       '98 votes • 3 reviews', '120 votes • 3 reviews', '426 votes ',\n",
       "       '107 votes • 4 reviews', '141 votes ', '142 votes ',\n",
       "       '180 votes • 4 reviews', '3,834 votes • 6 reviews',\n",
       "       '444 votes • 8 reviews', '3,933 votes • 1 reviews',\n",
       "       '425 votes • 1 reviews', '209 votes • 16 reviews',\n",
       "       '77 votes • 23 reviews', '301 votes • 1 reviews',\n",
       "       '206 votes • 16 reviews', '268 votes • 11 reviews', '153 votes ',\n",
       "       '609 votes • 30 reviews', '2,699 votes • 20 reviews',\n",
       "       '1,859 votes • 24 reviews', '850 votes • 6 reviews',\n",
       "       '932 votes • 14 reviews', '105 votes • 3 reviews',\n",
       "       '294 votes • 3 reviews', '142 votes • 4 reviews',\n",
       "       '397 votes • 6 reviews', '407 votes • 8 reviews',\n",
       "       '106 votes • 6 reviews', '600 votes • 19 reviews',\n",
       "       '596 votes • 12 reviews', '374 votes • 47 reviews',\n",
       "       '344 votes • 1 reviews', '143 votes • 13 reviews',\n",
       "       '200 votes • 5 reviews', '191 votes • 1 reviews',\n",
       "       '294 votes • 7 reviews', '570 votes ', '247 votes • 23 reviews',\n",
       "       '177 votes • 15 reviews', '160 votes • 9 reviews',\n",
       "       '202 votes • 8 reviews', '259 votes • 14 reviews',\n",
       "       '223 votes • 16 reviews', '312 votes • 3 reviews',\n",
       "       '242 votes • 11 reviews', '67 votes • 1 reviews',\n",
       "       '1,918 votes • 24 reviews', '170 votes • 8 reviews',\n",
       "       '125 votes • 2 reviews', '245 votes • 31 reviews',\n",
       "       '174 votes • 2 reviews', '234 votes • 11 reviews',\n",
       "       '143 votes • 4 reviews', '113 votes • 8 reviews',\n",
       "       '166 votes • 3 reviews', '192 votes • 12 reviews',\n",
       "       '163 votes • 23 reviews', '164 votes • 6 reviews',\n",
       "       '85 votes • 3 reviews', '189 votes • 8 reviews',\n",
       "       '90 votes • 1 reviews', '233 votes • 6 reviews',\n",
       "       '172 votes • 9 reviews', '156 votes ', '207 votes • 12 reviews',\n",
       "       '469 votes • 23 reviews', '2,412 votes • 23 reviews',\n",
       "       '1,186 votes • 7 reviews'], dtype=object)"
      ]
     },
     "execution_count": 31,
     "metadata": {},
     "output_type": "execute_result"
    }
   ],
   "source": [
    "# checking unique values\n",
    "df.votes.unique()"
   ]
  },
  {
   "cell_type": "code",
   "execution_count": 32,
   "id": "96b92e3e-0598-4931-93fa-9f9a0b725535",
   "metadata": {},
   "outputs": [
    {
     "data": {
      "text/plain": [
       "498     275 votes • 16 reviews\n",
       "502                 103 votes \n",
       "903                 104 votes \n",
       "218                  74 votes \n",
       "1008    207 votes • 12 reviews\n",
       "Name: votes, dtype: object"
      ]
     },
     "execution_count": 32,
     "metadata": {},
     "output_type": "execute_result"
    }
   ],
   "source": [
    "# checking sample values of votes column\n",
    "df['votes'].sample(5)"
   ]
  },
  {
   "cell_type": "code",
   "execution_count": 33,
   "id": "4d96f071-81c3-4e11-9703-988da91a7ef8",
   "metadata": {},
   "outputs": [],
   "source": [
    "# removing unwanted text in votes column\n",
    "df['votes'] =df['votes'].str.split(\"votes\",expand=True)[0].str.replace(\",\",\"\")"
   ]
  },
  {
   "cell_type": "code",
   "execution_count": 34,
   "id": "dbe0572b-34b5-466c-b13a-27a2a65cf454",
   "metadata": {},
   "outputs": [],
   "source": [
    "# changing dtype of votes column\n",
    "df['votes'] =df['votes'].astype('int')"
   ]
  },
  {
   "cell_type": "code",
   "execution_count": 35,
   "id": "307b2fba-8ec4-4465-b2be-9f01c509d47a",
   "metadata": {},
   "outputs": [
    {
     "data": {
      "text/plain": [
       "66      72\n",
       "680    101\n",
       "601    239\n",
       "314     74\n",
       "169    347\n",
       "Name: votes, dtype: int64"
      ]
     },
     "execution_count": 35,
     "metadata": {},
     "output_type": "execute_result"
    }
   ],
   "source": [
    "# checking sample values of votes column\n",
    "df['votes'].sample(5)"
   ]
  },
  {
   "cell_type": "code",
   "execution_count": 36,
   "id": "61e83aee-cf5a-45c1-961f-62f76dd335c8",
   "metadata": {
    "scrolled": true
   },
   "outputs": [
    {
     "data": {
      "text/plain": [
       "array([   97,    71,   177,  1511, 20380,   205,  3400,   111,    88,\n",
       "        5622,   309,   145,  1369,  1492,   772,   107,    98,    70,\n",
       "          63,   212,   312,    78,   248,   104,   544,   344,  1205,\n",
       "        2534,    84,    65,   108,    93,   323,   189,   102,    90,\n",
       "         456,   154,  1110,  2026,   144,   308,   342,  1160,   103,\n",
       "        2240,  1220,   182,  1743,    76,    67,   105,    55,    61,\n",
       "         338,   121,    56,   122,   119,    72,   101,    60,    81,\n",
       "         416,    92,   136,   141,  1044,   190,   112,    80,   906,\n",
       "         257,   277,  2425,  1246,   313,  3769,   339,   428,   877,\n",
       "        1192,   140,   539,    99,  1236,   526,   590,   411,    68,\n",
       "         115,   431,    74,   410,  1295,    73,   800,   425,   223,\n",
       "         227,   143,   167,  1863,  2556,   516,  1084,   160,  1242,\n",
       "         271,   662,    57,   922,    64,    69,    79,    87,    52,\n",
       "          86,    91,    83,    75,    89,    66,    58,   100,   347,\n",
       "          54,   292,    51,    82,   109,    59,    85,    96,    62,\n",
       "          94,   265,   267,   110,   127,   352,  4659,  7663,   434,\n",
       "         114,   485,  2140,   168,  1753,   522,   120,   221,   612,\n",
       "         138,    53,    77,   216,   193,   134,   117,   421,   181,\n",
       "         150,   660,  1151,  1316,   568,   235,   173,   239,   113,\n",
       "         225,  1498,   986,   130,   219,   654,   947,   207,   133,\n",
       "         608,   256,   195,   166,  1292,   644,   408,   301,    95,\n",
       "        1004,   537,  1383,   684,   379,   377,   964,   382,   151,\n",
       "         275,  1144,   880,   196,   106,   357,   125,   236,   280,\n",
       "         304,   642,   674,   132,   187,   469,   747,  3714,   118,\n",
       "         158,   541,   575,   191,   116,   296,   147,   206,   928,\n",
       "         156,   149,   262,   909,   285,   135,   605,   763,   481,\n",
       "         222,   594,   470,  1060,   224,   164,   186,   664,   258,\n",
       "        2665,   123,   595,   286,   175,   627,   180,   332,   524,\n",
       "         363,   294,   358,   126,   798,   259,  7198,   863,   124,\n",
       "         423,   209,   369,   153,   319,   351,   146,   283,  1187,\n",
       "         505,  1589,   337,   218,  3730,   340,  1949,   506,   538,\n",
       "        5912,  1328,   129,   171,  2118,  1521,   675,  1561,   628,\n",
       "         346,   927,   869,  3258,   290,  1201,   426,   142,  3834,\n",
       "         444,  3933,   268,   609,  2699,  1859,   850,   932,   397,\n",
       "         407,   600,   596,   374,   200,   570,   247,   202,   242,\n",
       "        1918,   170,   245,   174,   234,   192,   163,   233,   172,\n",
       "        2412,  1186])"
      ]
     },
     "execution_count": 36,
     "metadata": {},
     "output_type": "execute_result"
    }
   ],
   "source": [
    "# checking unique value\n",
    "df.votes.unique()"
   ]
  },
  {
   "cell_type": "code",
   "execution_count": 37,
   "id": "b50ee7e6-0681-4894-838e-034aeaeee740",
   "metadata": {},
   "outputs": [
    {
     "data": {
      "text/plain": [
       "array(['OS: Windows 11', 'OS: Mac', 'OS: DOS', 'OS: Windows 10',\n",
       "       'OS: Ubuntu', 'OS: Chrome', 'OS: Linux', nan, 'OS: Windows',\n",
       "       'OS: Windows 11 ', 'OS: DOS 3.0', 'OS: Windows 10 '], dtype=object)"
      ]
     },
     "execution_count": 37,
     "metadata": {},
     "output_type": "execute_result"
    }
   ],
   "source": [
    "# checking unique values\n",
    "df.operating_system.unique()"
   ]
  },
  {
   "cell_type": "code",
   "execution_count": 38,
   "id": "a5d72b4b-ae85-4151-9739-c4b5d2dcd2a0",
   "metadata": {},
   "outputs": [
    {
     "data": {
      "text/plain": [
       "321    OS: Windows 11\n",
       "155    OS: Windows 11\n",
       "478    OS: Windows 11\n",
       "22     OS: Windows 11\n",
       "199    OS: Windows 11\n",
       "Name: operating_system, dtype: object"
      ]
     },
     "execution_count": 38,
     "metadata": {},
     "output_type": "execute_result"
    }
   ],
   "source": [
    "# checking sample values of operating_system column\n",
    "df['operating_system'].sample(5)"
   ]
  },
  {
   "cell_type": "code",
   "execution_count": 39,
   "id": "babd92fd-e127-4d76-b456-06da8d218d95",
   "metadata": {},
   "outputs": [],
   "source": [
    "# clean the operating_system column from unwanted text\n",
    "df['operating_system']=df['operating_system'].str.split(\":\",expand= True)[1]"
   ]
  },
  {
   "cell_type": "code",
   "execution_count": 40,
   "id": "0af251c8-c9fa-43d9-930d-a6c7674b7d26",
   "metadata": {},
   "outputs": [],
   "source": [
    "# filling nan values \n",
    "df['operating_system'] =df['operating_system'].fillna(\"Not Available\")"
   ]
  },
  {
   "cell_type": "code",
   "execution_count": 41,
   "id": "a1f5c061-488a-414f-a49c-eb0057847060",
   "metadata": {},
   "outputs": [
    {
     "data": {
      "text/plain": [
       "732     Windows 11\n",
       "94      Windows 11\n",
       "962     Windows 11\n",
       "169     Windows 11\n",
       "191     Windows 11\n",
       "Name: operating_system, dtype: object"
      ]
     },
     "execution_count": 41,
     "metadata": {},
     "output_type": "execute_result"
    }
   ],
   "source": [
    "# checking sample values of operating_system column\n",
    "df['operating_system'].sample(5)"
   ]
  },
  {
   "cell_type": "code",
   "execution_count": 42,
   "id": "783e857b-e5e8-4558-8ffb-a4f95257dd72",
   "metadata": {},
   "outputs": [
    {
     "data": {
      "text/plain": [
       "array([' Windows 11', ' Mac', ' DOS', ' Windows 10', ' Ubuntu', ' Chrome',\n",
       "       ' Linux', 'Not Available', ' Windows', ' Windows 11 ', ' DOS 3.0',\n",
       "       ' Windows 10 '], dtype=object)"
      ]
     },
     "execution_count": 42,
     "metadata": {},
     "output_type": "execute_result"
    }
   ],
   "source": [
    "# checking unique values\n",
    "df.operating_system.unique()"
   ]
  },
  {
   "cell_type": "code",
   "execution_count": 43,
   "id": "4050b697-d0cf-44e7-9b66-068f2a490aea",
   "metadata": {},
   "outputs": [],
   "source": [
    "# removing unwanted space\n",
    "df.operating_system =df.operating_system.str.strip(\" \")"
   ]
  },
  {
   "cell_type": "code",
   "execution_count": 44,
   "id": "e32b2c9d-6671-4ae3-aa1c-7cf1a01a81e5",
   "metadata": {},
   "outputs": [
    {
     "data": {
      "text/plain": [
       "array(['Windows 11', 'Mac', 'DOS', 'Windows 10', 'Ubuntu', 'Chrome',\n",
       "       'Linux', 'Not Available', 'Windows', 'DOS 3.0'], dtype=object)"
      ]
     },
     "execution_count": 44,
     "metadata": {},
     "output_type": "execute_result"
    }
   ],
   "source": [
    "# checking unique values\n",
    "df.operating_system.unique()"
   ]
  },
  {
   "cell_type": "code",
   "execution_count": 45,
   "id": "1dd84b1f-48e5-4637-93a7-c66d3e98ed97",
   "metadata": {},
   "outputs": [
    {
     "data": {
      "text/plain": [
       "np.int64(0)"
      ]
     },
     "execution_count": 45,
     "metadata": {},
     "output_type": "execute_result"
    }
   ],
   "source": [
    "# checking null values \n",
    "df.operating_system.isna().sum()"
   ]
  },
  {
   "cell_type": "code",
   "execution_count": 46,
   "id": "288b5253-6d22-4bc7-ad4c-9d5e0be8fb5c",
   "metadata": {},
   "outputs": [
    {
     "data": {
      "text/plain": [
       "array(['Utility: Gaming', 'Utility: Performance', 'Utility: Everyday Use',\n",
       "       'Utility: Business, Performance',\n",
       "       'Utility: Everyday Use, Business, Performance',\n",
       "       'Utility: Everyday Use, Business', 'Utility: Gaming, Performance',\n",
       "       'Utility: Business', 'Utility: Performance, Gaming',\n",
       "       'Utility: Everyday Use, Performance',\n",
       "       'Utility: Everyday Use, Gaming, Performance', nan,\n",
       "       'Utility: Gaming, Everyday Use, Performance',\n",
       "       'Utility: Business, Everyday Use',\n",
       "       'Utility: Performance, Everyday Use',\n",
       "       'Utility: Everyday Use, Gaming, Business, Performance',\n",
       "       'Utility: Everyday Use, Gaming',\n",
       "       'Utility: Everyday Use, Business, Performance, Gaming',\n",
       "       'Utility: Everyday Use, Performance, Gaming',\n",
       "       'Utility: Gaming, Everyday Use',\n",
       "       'Utility: Performance, Business, Everyday Use',\n",
       "       'Utility: Performance, Business',\n",
       "       'Utility: Business, Everyday Use, Performance'], dtype=object)"
      ]
     },
     "execution_count": 46,
     "metadata": {},
     "output_type": "execute_result"
    }
   ],
   "source": [
    "# checking unique values\n",
    "df.utility.unique()"
   ]
  },
  {
   "cell_type": "code",
   "execution_count": 47,
   "id": "f84f1cac-112f-4f03-afd8-b723c4c3e856",
   "metadata": {},
   "outputs": [],
   "source": [
    "# removing unwanted space\n",
    "df.utility =df.utility.str.strip(\" \")"
   ]
  },
  {
   "cell_type": "code",
   "execution_count": 48,
   "id": "688db30d-67cc-4e4d-9f4a-a4baa311717a",
   "metadata": {},
   "outputs": [
    {
     "data": {
      "text/plain": [
       "442               Utility: Performance\n",
       "16     Utility: Everyday Use, Business\n",
       "237                    Utility: Gaming\n",
       "67                     Utility: Gaming\n",
       "59               Utility: Everyday Use\n",
       "Name: utility, dtype: object"
      ]
     },
     "execution_count": 48,
     "metadata": {},
     "output_type": "execute_result"
    }
   ],
   "source": [
    "# checking sample values of utility column\n",
    "df['utility'].sample(5)"
   ]
  },
  {
   "cell_type": "code",
   "execution_count": 49,
   "id": "c92e8f45-49b0-4a8a-a642-de5c37c870f2",
   "metadata": {},
   "outputs": [],
   "source": [
    "# clean the utility column from unwanted text\n",
    "df['utility']=df['utility'].str.split(\":\",expand= True)[1]"
   ]
  },
  {
   "cell_type": "code",
   "execution_count": 50,
   "id": "939b7590-8b3f-4e78-9d69-4593ec2b3fb7",
   "metadata": {},
   "outputs": [],
   "source": [
    "# filling nan values \n",
    "df['utility'] =df['utility'].fillna(\"Not Available\")"
   ]
  },
  {
   "cell_type": "code",
   "execution_count": 51,
   "id": "ccb5f46e-d4d4-410c-a4b6-1e2946c4ca06",
   "metadata": {},
   "outputs": [
    {
     "data": {
      "text/plain": [
       "795      Performance\n",
       "884      Performance\n",
       "443     Everyday Use\n",
       "459     Everyday Use\n",
       "346         Business\n",
       "Name: utility, dtype: object"
      ]
     },
     "execution_count": 51,
     "metadata": {},
     "output_type": "execute_result"
    }
   ],
   "source": [
    "# checking sample values of utility column\n",
    "df['utility'].sample(5)"
   ]
  },
  {
   "cell_type": "code",
   "execution_count": 52,
   "id": "1a1917ab-f175-4e80-85f8-9ecf6584fff6",
   "metadata": {},
   "outputs": [
    {
     "data": {
      "text/plain": [
       "array([' Gaming', ' Performance', ' Everyday Use',\n",
       "       ' Business, Performance', ' Everyday Use, Business, Performance',\n",
       "       ' Everyday Use, Business', ' Gaming, Performance', ' Business',\n",
       "       ' Performance, Gaming', ' Everyday Use, Performance',\n",
       "       ' Everyday Use, Gaming, Performance', 'Not Available',\n",
       "       ' Gaming, Everyday Use, Performance', ' Business, Everyday Use',\n",
       "       ' Performance, Everyday Use',\n",
       "       ' Everyday Use, Gaming, Business, Performance',\n",
       "       ' Everyday Use, Gaming',\n",
       "       ' Everyday Use, Business, Performance, Gaming',\n",
       "       ' Everyday Use, Performance, Gaming', ' Gaming, Everyday Use',\n",
       "       ' Performance, Business, Everyday Use', ' Performance, Business',\n",
       "       ' Business, Everyday Use, Performance'], dtype=object)"
      ]
     },
     "execution_count": 52,
     "metadata": {},
     "output_type": "execute_result"
    }
   ],
   "source": [
    "# checking unique values\n",
    "df.utility.unique()"
   ]
  },
  {
   "cell_type": "code",
   "execution_count": 53,
   "id": "b20d3104-c84d-45ed-b679-fd281f4a1cb6",
   "metadata": {},
   "outputs": [
    {
     "data": {
      "text/plain": [
       "np.int64(0)"
      ]
     },
     "execution_count": 53,
     "metadata": {},
     "output_type": "execute_result"
    }
   ],
   "source": [
    "# checking null values\n",
    "df.utility.isna().sum()"
   ]
  },
  {
   "cell_type": "code",
   "execution_count": 54,
   "id": "31db4491-ffcc-447c-bc9a-78207ba94986",
   "metadata": {},
   "outputs": [
    {
     "data": {
      "text/plain": [
       "price                    0\n",
       "specification_score      0\n",
       "votes                    0\n",
       "user_rating              0\n",
       "operating_system         0\n",
       "utility                  0\n",
       "thickness              250\n",
       "weight                 111\n",
       "warranty                 9\n",
       "screen_size              0\n",
       "resolution               1\n",
       "pixels_per_inch          0\n",
       "battery                 63\n",
       "screen_feature1         95\n",
       "screen_feature2        564\n",
       "processor_name           3\n",
       "processor_speed          6\n",
       "number_of_cores         90\n",
       "caches                  38\n",
       "rom_memory             210\n",
       "internal_memory          6\n",
       "port_connection         15\n",
       "wireless_connection      0\n",
       "usb_ports                6\n",
       "hardware_features        2\n",
       "product_name             0\n",
       "ram                      3\n",
       "ssd                      3\n",
       "windows                  3\n",
       "graphic                  0\n",
       "dtype: int64"
      ]
     },
     "execution_count": 54,
     "metadata": {},
     "output_type": "execute_result"
    }
   ],
   "source": [
    "# checking null values of dataset\n",
    "df.isna().sum()"
   ]
  },
  {
   "cell_type": "code",
   "execution_count": 55,
   "id": "ac92e2fd-350c-484f-be39-37a13f08b472",
   "metadata": {
    "scrolled": true
   },
   "outputs": [
    {
     "data": {
      "text/plain": [
       "array(['Thickness: 23.5\\u2009mmThick', 'Thickness: 23.45\\u2009mmThick',\n",
       "       'Thickness: 14.8\\u2009mmUltra Slim', 'Thickness: 11.2\\u2009mmSlim',\n",
       "       'Thickness: 16.1\\u2009mmSlim', 'Thickness: 19.9\\u2009mmAverage',\n",
       "       'Thickness: 17.9\\u2009mmSlim', nan, 'Thickness: 11.3\\u2009mmSlim',\n",
       "       'Thickness: 24\\u2009mmThick', 'Thickness: 21\\u2009mmThick',\n",
       "       'Thickness: 22.5\\u2009mmThick', 'Thickness: 15.4\\u2009mmSlim',\n",
       "       'Thickness: 22.8\\u2009mmThick', 'Thickness: 25.2\\u2009mmThick',\n",
       "       'Thickness: 16.95\\u2009mmSlim', 'Thickness: 22.4\\u2009mmAverage',\n",
       "       'Thickness: 24.5\\u2009mmThick', 'Thickness: 18.5\\u2009mmSlim',\n",
       "       'Thickness: 26.9\\u2009mmThick', 'Thickness: 16.9\\u2009mmSlim',\n",
       "       'Thickness: 18.9\\u2009mmSlim', 'Thickness: 18.9\\u2009mmAverage',\n",
       "       'Thickness: 25.9\\u2009mmThick', 'Thickness: 13.5\\u2009mmSlim',\n",
       "       'Thickness: 17.9\\u2009mmAverage', 'Thickness: 21.6\\u2009mmThick',\n",
       "       'Thickness: 24.9\\u2009mmThick', 'Thickness: 19.35\\u2009mmAverage',\n",
       "       'Thickness: 15.7\\u2009mmSlim', 'Thickness: 20\\u2009mmThick',\n",
       "       'Thickness: 11.5\\u2009mmSlim', 'Thickness: 24\\u2009mmUltra Slim',\n",
       "       'Thickness: 16.9\\u2009mmAverage',\n",
       "       'Thickness: 19.85\\u2009mmAverage',\n",
       "       'Thickness: 30.4\\u2009mmThickest', 'Thickness: 17.95\\u2009mmSlim',\n",
       "       'Thickness: 19.7\\u2009mmAverage', 'Thickness: 23.88\\u2009mmThick',\n",
       "       'Thickness: 12.8\\u2009mmSlim', 'Thickness: 15.9\\u2009mmSlim',\n",
       "       'Thickness: 16.8\\u2009mmSlim', 'Thickness: 15.5\\u2009mmSlim',\n",
       "       'Thickness: 14.9\\u2009mmSlim', 'Thickness: 25.4\\u2009mmThick',\n",
       "       'Thickness: 24.95\\u2009mmThick', 'Thickness: 22.9\\u2009mmThick',\n",
       "       'Thickness: 242\\u2009mmThick', 'Thickness: 25\\u2009mmThick',\n",
       "       'Thickness: 21.7\\u2009mmThick', 'Thickness: 22.1\\u2009mmThick',\n",
       "       'Thickness: 23.9\\u2009mmThick', 'Thickness: 18.15\\u2009mmAverage',\n",
       "       'Thickness: 20\\u2009mmAverage', 'Thickness: 21.8\\u2009mmThick',\n",
       "       'Thickness: 17.6\\u2009mmSlim', 'Thickness: 18.2\\u2009mmAverage',\n",
       "       'Thickness: 19.8\\u2009mmAverage', 'Thickness: 23\\u2009mmThick',\n",
       "       'Thickness: 2.6\\u2009mmUltra Slim', 'Thickness: 17\\u2009mmSlim',\n",
       "       'Thickness: 20.1\\u2009mmThickest', 'Thickness: 11.65\\u2009mmSlim',\n",
       "       'Thickness: 18.9\\u2009mmUltra Slim',\n",
       "       'Thickness: 18.4\\u2009mmAverage', 'Thickness: 18.6\\u2009mmAverage',\n",
       "       'Thickness: 18.6\\u2009mmSlim', 'Thickness: 16.5\\u2009mmSlim',\n",
       "       'Thickness: 21.95\\u2009mmAverage', 'Thickness: 21.95\\u2009mmThick',\n",
       "       'Thickness: 17.02\\u2009mmAverage', 'Thickness: 17.02\\u2009mmSlim',\n",
       "       'Thickness: 21.7\\u2009mmAverage', 'Thickness: 19.95\\u2009mmThick',\n",
       "       'Thickness: 28.55\\u2009mmThickest',\n",
       "       'Thickness: 29.45\\u2009mmThick', 'Thickness: 14.8\\u2009mmSlim',\n",
       "       'Thickness: 19.8\\u2009mmThick', 'Thickness: 17.5\\u2009mmSlim',\n",
       "       'Thickness: 13.7\\u2009mmSlim', 'Thickness: 16\\u2009mmSlim',\n",
       "       'Thickness: 18.95\\u2009mmAverage', 'Thickness: 11.6\\u2009mmSlim',\n",
       "       'Thickness: 12.5\\u2009mmSlim', 'Thickness: 17.2\\u2009mmAverage',\n",
       "       'Thickness: 269\\u2009mmThickest', 'Thickness: 19\\u2009mmAverage',\n",
       "       'Thickness: 19.5\\u2009mmAverage', 'Thickness: 25.65\\u2009mmThick',\n",
       "       'Thickness: 18.7\\u2009mmSlim', 'Thickness: 10.9\\u2009mmSlim',\n",
       "       'Thickness: 19.3\\u2009mmThick', 'Thickness: 19.3\\u2009mmAverage',\n",
       "       'Thickness: 18\\u2009mmSlim', 'Thickness: 19\\u2009mmUltra Slim',\n",
       "       'Thickness: 15.5\\u2009mmUltra Slim',\n",
       "       'Thickness: 24.2\\u2009mmThick', 'Thickness: 22.1\\u2009mmAverage',\n",
       "       'Thickness: 2.34\\u2009mmUltra Slim', 'Thickness: 18.2\\u2009mmSlim',\n",
       "       'Thickness: 225\\u2009mmThick', 'Thickness: 15.75\\u2009mmSlim',\n",
       "       'Thickness: 17.8\\u2009mmSlim', 'Thickness: 18.5\\u2009mmAverage',\n",
       "       'Thickness: 17.7\\u2009mmAverage', 'Thickness: 22.7\\u2009mmThick',\n",
       "       'Thickness: 16.49\\u2009mmSlim', 'Thickness: 21.9\\u2009mmThick',\n",
       "       'Thickness: 17.7\\u2009mmSlim', 'Thickness: 16.96\\u2009mmSlim',\n",
       "       'Thickness: 27\\u2009mmAverage', 'Thickness: 27\\u2009mmThick',\n",
       "       'Thickness: 19.9\\u2009mmThick', 'Thickness: 17.4\\u2009mmSlim',\n",
       "       'Thickness: 22.45\\u2009mmThick', 'Thickness: 21\\u2009mmAverage',\n",
       "       'Thickness: 21.1\\u2009mmThick', 'Thickness: 20.6\\u2009mmThick',\n",
       "       'Thickness: 30.4\\u2009mmThick', 'Thickness: 26.95\\u2009mmThick',\n",
       "       'Thickness: 15.1\\u2009mmSlim', 'Thickness: 22.5\\u2009mmAverage',\n",
       "       'Thickness: 376.17\\u2009mmThickest',\n",
       "       'Thickness: 234.3\\u2009mmThick', 'Thickness: 242\\u2009mmThickest',\n",
       "       'Thickness: 263.8\\u2009mmThickest',\n",
       "       'Thickness: 18.7\\u2009mmAverage', 'Thickness: 249.1\\u2009mmThick',\n",
       "       'Thickness: 222.5\\u2009mmThick', 'Thickness: 259.4\\u2009mmThick',\n",
       "       'Thickness: 16.3\\u2009mmSlim', 'Thickness: 18.4\\u2009mmSlim',\n",
       "       'Thickness: 19.95\\u2009mmAverage', 'Thickness: 211.1\\u2009mmThick',\n",
       "       'Thickness: 18.48\\u2009mmAverage', 'Thickness: 27.2\\u2009mmThick',\n",
       "       'Thickness: 20.9\\u2009mmThick', 'Thickness: 16.85\\u2009mmSlim',\n",
       "       'Thickness: 26\\u2009mmThick', 'Thickness: 15.95\\u2009mmSlim',\n",
       "       'Thickness: 18\\u2009mmAverage', 'Thickness: 17.6\\u2009mmAverage',\n",
       "       'Thickness: 27.9\\u2009mmThick', 'Thickness: 22.3\\u2009mmThick',\n",
       "       'Thickness: 19\\u2009mmSlim', 'Thickness: 16.95\\u2009mmAverage',\n",
       "       'Thickness: 18.3\\u2009mmAverage', 'Thickness: 24.1\\u2009mmThick',\n",
       "       'Thickness: 16.8\\u2009mmAverage', 'Thickness: 259\\u2009mmThickest',\n",
       "       'Thickness: 15.28\\u2009mmSlim', 'Thickness: 19.5\\u2009mmSlim',\n",
       "       'Thickness: 17.8\\u2009mmAverage', 'Thickness: 23.3\\u2009mmThick',\n",
       "       'Thickness: 14.5\\u2009mmSlim', 'Thickness: 20.1\\u2009mmThick',\n",
       "       'Thickness: 18.1\\u2009mmSlim', 'Thickness: 18.99\\u2009mmAverage',\n",
       "       'Thickness: 12.95\\u2009mmSlim', 'Thickness: 7.99\\u2009mmSlim',\n",
       "       'Thickness: 24.8\\u2009mmThick', 'Thickness: 26.8\\u2009mmThick',\n",
       "       'Thickness: 22.4\\u2009mmThick', 'Thickness: 19.6\\u2009mmAverage',\n",
       "       'Thickness: 2.6\\u2009mmSlim', 'Thickness: 27.85\\u2009mmThick'],\n",
       "      dtype=object)"
      ]
     },
     "execution_count": 55,
     "metadata": {},
     "output_type": "execute_result"
    }
   ],
   "source": [
    "# checking unique values\n",
    "df.thickness.unique()"
   ]
  },
  {
   "cell_type": "code",
   "execution_count": 56,
   "id": "e504eb00-6d57-4e77-bf5f-97b33ed23a06",
   "metadata": {},
   "outputs": [],
   "source": [
    "# replacing unwanted text\n",
    "df['thickness'] = df['thickness'].str.replace('Thickness:','')"
   ]
  },
  {
   "cell_type": "code",
   "execution_count": 57,
   "id": "1946e84a-aefd-4d5f-8475-ee4d89083705",
   "metadata": {},
   "outputs": [],
   "source": [
    "# replacing unwanted text\n",
    "df['thickness'] = df['thickness'].str.replace('\\u2009','')"
   ]
  },
  {
   "cell_type": "code",
   "execution_count": 58,
   "id": "7caadc4b-a38b-4225-9cf6-c93262a24451",
   "metadata": {},
   "outputs": [],
   "source": [
    "# spliting the column\n",
    "df[['thickness_in_mm','thickness_in_size']]=df['thickness'].str.split(\"mm\",expand = True)"
   ]
  },
  {
   "cell_type": "code",
   "execution_count": 59,
   "id": "55050e89-6699-4c6a-b54b-1c307781a376",
   "metadata": {},
   "outputs": [],
   "source": [
    "# filling nan values\n",
    "df.thickness_in_size=df.thickness_in_size.fillna(\"Not Available\")\n",
    "df.thickness_in_mm=df.thickness_in_mm.fillna(\"Not Available\")"
   ]
  },
  {
   "cell_type": "code",
   "execution_count": 60,
   "id": "9b1d9e66-5ce8-4d7c-b1c6-3bf1dc1cd6f5",
   "metadata": {},
   "outputs": [],
   "source": [
    "# removing unwanted column\n",
    "df.drop(columns=['thickness'],inplace = True)"
   ]
  },
  {
   "cell_type": "code",
   "execution_count": 61,
   "id": "88bc607e-28cd-462f-b3a4-bdf43c7e8152",
   "metadata": {
    "scrolled": true
   },
   "outputs": [
    {
     "data": {
      "text/plain": [
       "array(['2.29\\u2009kgHeavy', '2.7\\u2009kgHeavy', '1.56\\u2009kgAverage',\n",
       "       '870\\u2009gLight', '1.29\\u2009kgLight', '1.65\\u2009kgAverage',\n",
       "       '1.69\\u2009kgAverage', '1.7\\u2009kgAverage', '1.24\\u2009kgLight',\n",
       "       '1.76\\u2009kgHeavy', '2.48\\u2009kgHeavy', '1.6\\u2009kgAverage',\n",
       "       '1.74\\u2009kgHeavy', '2.37\\u2009kgHeavy', '1.55\\u2009kgLight',\n",
       "       '1.46\\u2009kgLight', '2.2\\u2009kgHeavy', '2.4\\u2009kgHeavy',\n",
       "       '1.8\\u2009kgAverage', '2.2\\u2009kgAverage', '2.3\\u2009kgHeavy',\n",
       "       '1.8\\u2009kgHeavy', '1.37\\u2009kgLight', ' ', '2.65\\u2009kgHeavy',\n",
       "       '1.3\\u2009kgLight', '1.62\\u2009kgLight', '2.6\\u2009kgHeavy',\n",
       "       '1.47\\u2009kgAverage', '1.49\\u2009kgLight', '1.4\\u2009kgLight',\n",
       "       '1.54\\u2009kgLight', '1.04\\u2009kgLight', '1\\u2009kgLightest',\n",
       "       '1.51\\u2009kgLight', '1.51\\u2009kgAverage', '1.36\\u2009kgLight',\n",
       "       '1.77\\u2009kgAverage', '1.75\\u2009kgAverage', nan,\n",
       "       '2.65\\u2009kgAverage', '1.68\\u2009kgAverage', '1.78\\u2009kgHeavy',\n",
       "       '1.59\\u2009kgLight', '2.39\\u2009kgHeavy', '1.66\\u2009kgLight',\n",
       "       '2.16\\u2009kgLight', '1.61\\u2009kgLight', '1.35\\u2009kgLight',\n",
       "       '2.35\\u2009kgHeavy', '1.63\\u2009kgAverage', '2.31\\u2009kgHeavy',\n",
       "       '2.1\\u2009kgHeavy', '1.86\\u2009kgHeavy', '1.57\\u2009kgAverage',\n",
       "       '2.32\\u2009kgHeavy', '1.6\\u2009kgLight', '1.85\\u2009kgAverage',\n",
       "       '1.9\\u2009kgAverage', '2.5\\u2009kgHeavy', '2.25\\u2009kgHeavy',\n",
       "       '1.41\\u2009kgLight', '2.8\\u2009kgHeaviest', '1.46\\u2009kgAverage',\n",
       "       '2.48\\u2009kgHeaviest', '2.57\\u2009kgHeavy', '1.84\\u2009kgAverage',\n",
       "       '2.56\\u2009kgAverage', '2.14\\u2009kgHeavy', '1.77\\u2009kgHeavy',\n",
       "       '1.7\\u2009kgLight', '1.98\\u2009kgAverage', '3.1\\u2009kgHeavy',\n",
       "       '1.44\\u2009kgLight', '1.86\\u2009kgAverage', '1.99\\u2009kgAverage',\n",
       "       '3\\u2009kgHeavy', '1.88\\u2009kgHeavy', '1.9\\u2009kgHeavy',\n",
       "       '1.38\\u2009kgLight', '1.66\\u2009kgAverage', '1.87\\u2009kgHeavy',\n",
       "       '1.5\\u2009kgAverage', '990\\u2009gLight', '1.23\\u2009kgLight',\n",
       "       '1.56\\u2009kgLight', '1.22\\u2009kgLight', '2.81\\u2009kgHeaviest',\n",
       "       '1.28\\u2009kgLight', '810\\u2009gLight', '1.95\\u2009kgAverage',\n",
       "       '1.78\\u2009kgAverage', '2.8\\u2009kgHeavy', '1.31\\u2009kgLight',\n",
       "       '1.47\\u2009kgLight', '1.45\\u2009kgLight', '1.5\\u2009kgLight',\n",
       "       '1.3\\u2009kgAverage', '2.99\\u2009kgHeavy', '1.58\\u2009kgLight',\n",
       "       '1.65\\u2009kgLight', '1\\u2009kgLight', '1.86\\u2009kgLight',\n",
       "       '1\\u2009kgHeavy', '1.89\\u2009kgHeavy', '1.79\\u2009kgHeavy',\n",
       "       '2.49\\u2009kgLightest', '1.55\\u2009kgAverage', '1.13\\u2009kgLight',\n",
       "       '1.58\\u2009kgAverage', '1.89\\u2009kgAverage', '2.08\\u2009kgHeavy',\n",
       "       '1.26\\u2009kgAverage', '1.83\\u2009kgHeavy', '1.2\\u2009kgLight',\n",
       "       '2.78\\u2009kgAverage', '2.78\\u2009kgHeavy', '2.09\\u2009kgAverage',\n",
       "       '2.45\\u2009kgHeavy', '2\\u2009kgAverage', '1.88\\u2009kgAverage',\n",
       "       '1.63\\u2009kgLight', '1.6\\u2009kgHeavy', '2.29\\u2009kgAverage',\n",
       "       '1.75\\u2009kgHeavy', '1.62\\u2009kgLightest', '998\\u2009gLight',\n",
       "       '1.74\\u2009kgAverage', '1.25\\u2009kgLight', '1.47\\u2009kgHeavy',\n",
       "       '1.48\\u2009kgLight', '1.24\\u2009kgLightest', '990\\u2009gLightest',\n",
       "       '1.32\\u2009kgLight', '1.85\\u2009kgHeavy', '3\\u2009kgAverage',\n",
       "       '1.34\\u2009kgLight', '1.92\\u2009kgAverage', '2.46\\u2009kgHeavy',\n",
       "       '2.1\\u2009kgAverage', '2.72\\u2009kgAverage',\n",
       "       '2.72\\u2009kgHeaviest', '3.23\\u2009kgHeavy', '908\\u2009gLight',\n",
       "       '1.73\\u2009kgLight', '1.73\\u2009kgLightest', '999\\u2009gLight',\n",
       "       '1.91\\u2009kgAverage', '1.59\\u2009kgAverage',\n",
       "       '2.14\\u2009kgAverage', '1.87\\u2009kgAverage', '1.91\\u2009kgHeavy',\n",
       "       '1.84\\u2009kgHeavy', '2.25\\u2009kgAverage', '2.44\\u2009kgAverage',\n",
       "       '2.44\\u2009kgLight', '2.47\\u2009kgHeavy', '2.87\\u2009kgHeaviest',\n",
       "       '2.87\\u2009kgHeavy', '1.57\\u2009kgLight', '2.49\\u2009kgHeavy',\n",
       "       '2.11\\u2009kgAverage', '699\\u2009gLightest',\n",
       "       '3.25\\u2009kgHeaviest', '1.82\\u2009kgHeavy', '2.51\\u2009kgHeavy',\n",
       "       '3.86\\u2009kgHeavy', '1.2\\u2009kgLightest', '1.98\\u2009kgHeavy',\n",
       "       '1.39\\u2009kgLight', '2.15\\u2009kgHeavy'], dtype=object)"
      ]
     },
     "execution_count": 61,
     "metadata": {},
     "output_type": "execute_result"
    }
   ],
   "source": [
    "# checking unique values\n",
    "df.weight.unique()"
   ]
  },
  {
   "cell_type": "code",
   "execution_count": 62,
   "id": "5509e5f2-3b77-4a7a-9536-df792bf08574",
   "metadata": {},
   "outputs": [],
   "source": [
    "# removing unwanted text\n",
    "df.weight =df.weight.str.replace(\"\\u2009\",\"\")"
   ]
  },
  {
   "cell_type": "code",
   "execution_count": 63,
   "id": "ee153975-ca93-41f3-9e03-4bf2ed023e4e",
   "metadata": {},
   "outputs": [
    {
     "data": {
      "text/plain": [
       "687      1.47kgLight\n",
       "243       2.4kgHeavy\n",
       "846      1.41kgLight\n",
       "161    1.86kgAverage\n",
       "321     1.7kgAverage\n",
       "Name: weight, dtype: object"
      ]
     },
     "execution_count": 63,
     "metadata": {},
     "output_type": "execute_result"
    }
   ],
   "source": [
    "# checking sample values\n",
    "df.weight.sample(5)"
   ]
  },
  {
   "cell_type": "code",
   "execution_count": 64,
   "id": "8f734689-3b02-45e2-8a34-35fe50e846ae",
   "metadata": {},
   "outputs": [
    {
     "data": {
      "text/plain": [
       "np.int64(111)"
      ]
     },
     "execution_count": 64,
     "metadata": {},
     "output_type": "execute_result"
    }
   ],
   "source": [
    "# checking null values\n",
    "df.weight.isna().sum()"
   ]
  },
  {
   "cell_type": "code",
   "execution_count": 65,
   "id": "11c7200a-6809-4720-b937-1051d35de551",
   "metadata": {},
   "outputs": [],
   "source": [
    "# filling nan values\n",
    "df.weight =df.weight.fillna(\"Not Available\")"
   ]
  },
  {
   "cell_type": "code",
   "execution_count": 66,
   "id": "8f61ce75-0967-45b3-a46e-bdfb5d1a60d3",
   "metadata": {},
   "outputs": [
    {
     "data": {
      "text/plain": [
       "np.int64(0)"
      ]
     },
     "execution_count": 66,
     "metadata": {},
     "output_type": "execute_result"
    }
   ],
   "source": [
    "# checking null values\n",
    "df.weight.isna().sum()"
   ]
  },
  {
   "cell_type": "code",
   "execution_count": 67,
   "id": "da892f99-4f3e-48ef-9188-3de89438bab5",
   "metadata": {},
   "outputs": [
    {
     "data": {
      "text/plain": [
       "array(['1 Year Warranty', nan, '2 Year Warranty', '3 Year Warranty'],\n",
       "      dtype=object)"
      ]
     },
     "execution_count": 67,
     "metadata": {},
     "output_type": "execute_result"
    }
   ],
   "source": [
    "# checking unique values\n",
    "df.warranty.unique()"
   ]
  },
  {
   "cell_type": "code",
   "execution_count": 68,
   "id": "5fd8e238-2fc6-4944-8e8d-b1381ffef53a",
   "metadata": {},
   "outputs": [],
   "source": [
    "# replacing unwanted text\n",
    "df['warranty'] = df['warranty'].str.replace('Warranty','')"
   ]
  },
  {
   "cell_type": "code",
   "execution_count": 69,
   "id": "178ede45-c02a-4fd9-aa90-1844330f72ae",
   "metadata": {},
   "outputs": [
    {
     "data": {
      "text/plain": [
       "array(['1 Year ', nan, '2 Year ', '3 Year '], dtype=object)"
      ]
     },
     "execution_count": 69,
     "metadata": {},
     "output_type": "execute_result"
    }
   ],
   "source": [
    "# checking unique values\n",
    "df.warranty.unique()"
   ]
  },
  {
   "cell_type": "code",
   "execution_count": 70,
   "id": "402773d7-ab2f-41c2-80f5-0a837c8a2afc",
   "metadata": {},
   "outputs": [
    {
     "data": {
      "text/plain": [
       "np.int64(9)"
      ]
     },
     "execution_count": 70,
     "metadata": {},
     "output_type": "execute_result"
    }
   ],
   "source": [
    "# checking null values \n",
    "df.warranty.isna().sum()"
   ]
  },
  {
   "cell_type": "code",
   "execution_count": 71,
   "id": "85b19d7d-c133-4ca2-8830-ebacdb5822d5",
   "metadata": {},
   "outputs": [],
   "source": [
    "# filling nan values\n",
    "df.warranty=df.warranty.fillna(\"Not Available\")"
   ]
  },
  {
   "cell_type": "code",
   "execution_count": 72,
   "id": "39c63caf-25db-4959-a3c3-f89e543ec751",
   "metadata": {},
   "outputs": [
    {
     "data": {
      "text/plain": [
       "array(['1 Year ', 'Not Available', '2 Year ', '3 Year '], dtype=object)"
      ]
     },
     "execution_count": 72,
     "metadata": {},
     "output_type": "execute_result"
    }
   ],
   "source": [
    "# checking unique values\n",
    "df.warranty.unique()"
   ]
  },
  {
   "cell_type": "code",
   "execution_count": 73,
   "id": "ab9deed1-80eb-4966-8244-278162d282ca",
   "metadata": {},
   "outputs": [
    {
     "data": {
      "text/plain": [
       "np.int64(0)"
      ]
     },
     "execution_count": 73,
     "metadata": {},
     "output_type": "execute_result"
    }
   ],
   "source": [
    "# checking null values \n",
    "df.warranty.isna().sum()"
   ]
  },
  {
   "cell_type": "code",
   "execution_count": 74,
   "id": "2344d0c3-da44-4c25-a7e2-81727989adf7",
   "metadata": {
    "scrolled": true
   },
   "outputs": [
    {
     "data": {
      "text/plain": [
       "array(['15.6\\u2009inchesAverage', '16.1\\u2009inchesLarge',\n",
       "       '15.6\\u2009inchesLargest', '13.3\\u2009inchesSmall',\n",
       "       '15.6\\u2009inchesLarge', '13.6\\u2009inchesSmall',\n",
       "       '14\\u2009inchesSmall', '13.4\\u2009inchesSmall',\n",
       "       '16\\u2009inchesLarge', '14\\u2009inchesAverage',\n",
       "       '11.6\\u2009inchesLargest', '15.3\\u2009inchesSmall',\n",
       "       '15.3\\u2009inchesAverage', '13.5\\u2009inchesSmall',\n",
       "       '16\\u2009inchesAverage', '17\\u2009inchesLargest',\n",
       "       '16\\u2009inchesLargest', '18\\u2009inchesLargest',\n",
       "       '16.2\\u2009inchesAverage', '14.2\\u2009inchesSmall',\n",
       "       '17.3\\u2009inchesLargest', '17.3\\u2009inchesLarge',\n",
       "       '14.1\\u2009inchesAverage', '16.1\\u2009inchesLargest',\n",
       "       '16\\u2009inchesSmallest', '15.6\\u2009inchesSmall',\n",
       "       '15.75\\u2009inchesLarge', '17\\u2009inchesLarge',\n",
       "       '12\\u2009inchesSmall', '14\\u2009inchesSmallest',\n",
       "       '14.2\\u2009inchesAverage', '11.6\\u2009inchesAverage',\n",
       "       '17\\u2009inchesSmallest', '16.2\\u2009inchesLarge',\n",
       "       '14.2\\u2009inchesSmallest', '12.4\\u2009inchesSmallest',\n",
       "       '15\\u2009inchesAverage', '11.6\\u2009inchesSmallest',\n",
       "       '11.6\\u2009inchesLarge', '11.6\\u2009inchesSmall',\n",
       "       '17\\u2009inchesAverage', '14.1\\u2009inchesSmall',\n",
       "       '13.3\\u2009inchesSmallest', '12.6\\u2009inchesSmall',\n",
       "       '14.5\\u2009inchesSmall'], dtype=object)"
      ]
     },
     "execution_count": 74,
     "metadata": {},
     "output_type": "execute_result"
    }
   ],
   "source": [
    "# checking unique values\n",
    "df.screen_size.unique()"
   ]
  },
  {
   "cell_type": "code",
   "execution_count": 75,
   "id": "e698c47c-8779-470c-96a1-ee4a4728fddb",
   "metadata": {},
   "outputs": [],
   "source": [
    "# removing unwanted text\n",
    "df.screen_size =df.screen_size.str.replace(\"\\u2009\",\"\")"
   ]
  },
  {
   "cell_type": "code",
   "execution_count": 76,
   "id": "f2bbfccf-c7d3-4897-a2e4-d46d1487e3a4",
   "metadata": {},
   "outputs": [
    {
     "data": {
      "text/plain": [
       "array(['15.6inchesAverage', '16.1inchesLarge', '15.6inchesLargest',\n",
       "       '13.3inchesSmall', '15.6inchesLarge', '13.6inchesSmall',\n",
       "       '14inchesSmall', '13.4inchesSmall', '16inchesLarge',\n",
       "       '14inchesAverage', '11.6inchesLargest', '15.3inchesSmall',\n",
       "       '15.3inchesAverage', '13.5inchesSmall', '16inchesAverage',\n",
       "       '17inchesLargest', '16inchesLargest', '18inchesLargest',\n",
       "       '16.2inchesAverage', '14.2inchesSmall', '17.3inchesLargest',\n",
       "       '17.3inchesLarge', '14.1inchesAverage', '16.1inchesLargest',\n",
       "       '16inchesSmallest', '15.6inchesSmall', '15.75inchesLarge',\n",
       "       '17inchesLarge', '12inchesSmall', '14inchesSmallest',\n",
       "       '14.2inchesAverage', '11.6inchesAverage', '17inchesSmallest',\n",
       "       '16.2inchesLarge', '14.2inchesSmallest', '12.4inchesSmallest',\n",
       "       '15inchesAverage', '11.6inchesSmallest', '11.6inchesLarge',\n",
       "       '11.6inchesSmall', '17inchesAverage', '14.1inchesSmall',\n",
       "       '13.3inchesSmallest', '12.6inchesSmall', '14.5inchesSmall'],\n",
       "      dtype=object)"
      ]
     },
     "execution_count": 76,
     "metadata": {},
     "output_type": "execute_result"
    }
   ],
   "source": [
    "# checking unique values\n",
    "df.screen_size.unique()"
   ]
  },
  {
   "cell_type": "code",
   "execution_count": 77,
   "id": "b0030629-89d7-4187-9bb7-03837960ad8d",
   "metadata": {},
   "outputs": [],
   "source": [
    "# spliting the column\n",
    "df[['screen_size_in_inches','screen_size']] =df.screen_size.str.split(\"inches\",expand= True)"
   ]
  },
  {
   "cell_type": "code",
   "execution_count": 78,
   "id": "1098d805-58d3-41d1-9e13-3a29999308c1",
   "metadata": {},
   "outputs": [
    {
     "data": {
      "text/plain": [
       "287      Large\n",
       "122    Average\n",
       "143    Average\n",
       "650      Large\n",
       "54       Large\n",
       "Name: screen_size, dtype: object"
      ]
     },
     "execution_count": 78,
     "metadata": {},
     "output_type": "execute_result"
    }
   ],
   "source": [
    "# checking sample values \n",
    "df.screen_size.sample(5)"
   ]
  },
  {
   "cell_type": "code",
   "execution_count": 79,
   "id": "ba14d2f2-ddd9-478b-ba54-6f4a371f25fc",
   "metadata": {},
   "outputs": [
    {
     "data": {
      "text/plain": [
       "265    15.6\n",
       "827      16\n",
       "911      16\n",
       "411    11.6\n",
       "716    15.6\n",
       "Name: screen_size_in_inches, dtype: object"
      ]
     },
     "execution_count": 79,
     "metadata": {},
     "output_type": "execute_result"
    }
   ],
   "source": [
    "# checking sample values \n",
    "df.screen_size_in_inches.sample(5)"
   ]
  },
  {
   "cell_type": "code",
   "execution_count": 80,
   "id": "00cff266-af88-4747-a2e0-be714f3616d2",
   "metadata": {},
   "outputs": [
    {
     "name": "stdout",
     "output_type": "stream",
     "text": [
      "<class 'pandas.core.frame.DataFrame'>\n",
      "Index: 1020 entries, 0 to 1019\n",
      "Data columns (total 32 columns):\n",
      " #   Column                 Non-Null Count  Dtype  \n",
      "---  ------                 --------------  -----  \n",
      " 0   price                  1020 non-null   int64  \n",
      " 1   specification_score    1020 non-null   float64\n",
      " 2   votes                  1020 non-null   int64  \n",
      " 3   user_rating            1020 non-null   float64\n",
      " 4   operating_system       1020 non-null   object \n",
      " 5   utility                1020 non-null   object \n",
      " 6   weight                 1020 non-null   object \n",
      " 7   warranty               1020 non-null   object \n",
      " 8   screen_size            1020 non-null   object \n",
      " 9   resolution             1019 non-null   object \n",
      " 10  pixels_per_inch        1020 non-null   object \n",
      " 11  battery                957 non-null    object \n",
      " 12  screen_feature1        925 non-null    object \n",
      " 13  screen_feature2        456 non-null    object \n",
      " 14  processor_name         1017 non-null   object \n",
      " 15  processor_speed        1014 non-null   object \n",
      " 16  number_of_cores        930 non-null    object \n",
      " 17  caches                 982 non-null    object \n",
      " 18  rom_memory             810 non-null    object \n",
      " 19  internal_memory        1014 non-null   object \n",
      " 20  port_connection        1005 non-null   object \n",
      " 21  wireless_connection    1020 non-null   object \n",
      " 22  usb_ports              1014 non-null   object \n",
      " 23  hardware_features      1018 non-null   object \n",
      " 24  product_name           1020 non-null   object \n",
      " 25  ram                    1017 non-null   object \n",
      " 26  ssd                    1017 non-null   object \n",
      " 27  windows                1017 non-null   object \n",
      " 28  graphic                1020 non-null   object \n",
      " 29  thickness_in_mm        1020 non-null   object \n",
      " 30  thickness_in_size      1020 non-null   object \n",
      " 31  screen_size_in_inches  1020 non-null   object \n",
      "dtypes: float64(2), int64(2), object(28)\n",
      "memory usage: 263.0+ KB\n"
     ]
    }
   ],
   "source": [
    "df.info()"
   ]
  },
  {
   "cell_type": "code",
   "execution_count": 81,
   "id": "75f371a5-a40f-40a5-9223-167a5df989a6",
   "metadata": {},
   "outputs": [
    {
     "data": {
      "text/plain": [
       "price                      0\n",
       "specification_score        0\n",
       "votes                      0\n",
       "user_rating                0\n",
       "operating_system           0\n",
       "utility                    0\n",
       "weight                     0\n",
       "warranty                   0\n",
       "screen_size                0\n",
       "resolution                 1\n",
       "pixels_per_inch            0\n",
       "battery                   63\n",
       "screen_feature1           95\n",
       "screen_feature2          564\n",
       "processor_name             3\n",
       "processor_speed            6\n",
       "number_of_cores           90\n",
       "caches                    38\n",
       "rom_memory               210\n",
       "internal_memory            6\n",
       "port_connection           15\n",
       "wireless_connection        0\n",
       "usb_ports                  6\n",
       "hardware_features          2\n",
       "product_name               0\n",
       "ram                        3\n",
       "ssd                        3\n",
       "windows                    3\n",
       "graphic                    0\n",
       "thickness_in_mm            0\n",
       "thickness_in_size          0\n",
       "screen_size_in_inches      0\n",
       "dtype: int64"
      ]
     },
     "execution_count": 81,
     "metadata": {},
     "output_type": "execute_result"
    }
   ],
   "source": [
    "# checking null values\n",
    "df.isna().sum()"
   ]
  },
  {
   "cell_type": "code",
   "execution_count": 82,
   "id": "8ad86f70-f5e1-471e-90d9-161123ef81d5",
   "metadata": {
    "scrolled": true
   },
   "outputs": [
    {
     "data": {
      "text/plain": [
       "array(['1920\\u2009x\\u20091080\\u2009pixelsAverage',\n",
       "       '2560\\u2009x\\u20091600\\u2009pixelsGood',\n",
       "       '1080\\u2009x\\u20091920\\u2009pixelsAverage',\n",
       "       '2560\\u2009x\\u20091664\\u2009pixelsGood',\n",
       "       '2560\\u2009x\\u20091440\\u2009pixelsGood',\n",
       "       '1920\\u2009x\\u20091200\\u2009pixelsGood',\n",
       "       '1920\\u2009x\\u20091080\\u2009pixelsBad',\n",
       "       '1366\\u2009x\\u2009768\\u2009pixelsBad',\n",
       "       '1366\\u2009x\\u2009768\\u2009pixelsBest',\n",
       "       '2880\\u2009x\\u20091864\\u2009pixelsGood',\n",
       "       '3000\\u2009x\\u20092000\\u2009pixelsGood',\n",
       "       '2880\\u2009x\\u20091800\\u2009pixelsAverage',\n",
       "       '2560\\u2009x\\u20091600\\u2009pixelsAverage',\n",
       "       '1440\\u2009x\\u20092560\\u2009pixelsAverage',\n",
       "       '3840\\u2009x\\u20092400\\u2009pixelsBest',\n",
       "       '3456\\u2009x\\u20092234\\u2009pixelsGood',\n",
       "       '3024\\u2009x\\u20091964\\u2009pixelsGood',\n",
       "       '2240\\u2009x\\u20091400\\u2009pixelsGood',\n",
       "       '2256\\u2009x\\u20091504\\u2009pixelsBest',\n",
       "       '1920\\u2009x\\u20091080\\u2009pixelsBest',\n",
       "       '1366\\u2009x\\u2009768\\u2009pixelsPoor',\n",
       "       '2880\\u2009x\\u20091800\\u2009pixelsGood',\n",
       "       '3200\\u2009x\\u20092000\\u2009pixelsGood',\n",
       "       '1920\\u2009x\\u20091200\\u2009pixelsAverage',\n",
       "       '3840\\u2009x\\u20092160\\u2009pixelsBest',\n",
       "       '1920\\u2009x\\u20091200\\u2009pixelsPoor',\n",
       "       '3200\\u2009x\\u20092000\\u2009pixelsBest',\n",
       "       '3072\\u2009x\\u20091920\\u2009pixelsGood',\n",
       "       '2561\\u2009x\\u20091600\\u2009pixelsGood',\n",
       "       '2160\\u2009x\\u20091440\\u2009pixelsGood',\n",
       "       '2160\\u2009x\\u20091440\\u2009pixelsBest',\n",
       "       '1366\\u2009x\\u2009768\\u2009pixelsAverage',\n",
       "       '2520\\u2009x\\u20091680\\u2009pixelsGood',\n",
       "       '2560\\u2009x\\u20091600\\u2009pixelsBad',\n",
       "       '3024\\u2009x\\u20091964\\u2009pixelsAverage',\n",
       "       '1536\\u2009x\\u20091024\\u2009pixelsBad',\n",
       "       '2560\\u2009x\\u20091440\\u2009pixelsPoor',\n",
       "       '1366\\u2009x\\u2009768\\u2009pixelsGood',\n",
       "       '1280\\u2009x\\u20091024\\u2009pixelsAverage',\n",
       "       '1536\\u2009x\\u20091024\\u2009pixelsPoor',\n",
       "       '1920\\u2009x\\u20092560\\u2009pixelsPoor',\n",
       "       '3200\\u2009x\\u20092000\\u2009pixelsAverage',\n",
       "       '2560\\u2009x\\u20091440\\u2009pixelsAverage',\n",
       "       '1920\\u2009x\\u20091280\\u2009pixelsPoor',\n",
       "       '3456\\u2009x\\u20092160\\u2009pixelsGood',\n",
       "       '3200\\u2009x\\u20091800\\u2009pixelsAverage', nan,\n",
       "       '1200\\u2009x\\u20091920\\u2009pixelsAverage',\n",
       "       '1600\\u2009x\\u20092560\\u2009pixelsAverage',\n",
       "       '1920\\u2009x\\u20091200\\u2009pixelsBest',\n",
       "       '2880\\u2009x\\u20091800\\u2009pixelsBest',\n",
       "       '1600\\u2009x\\u20092560\\u2009pixelsGood',\n",
       "       '2880\\u2009x\\u20091620\\u2009pixelsGood',\n",
       "       '3120\\u2009x\\u20092080\\u2009pixelsGood'], dtype=object)"
      ]
     },
     "execution_count": 82,
     "metadata": {},
     "output_type": "execute_result"
    }
   ],
   "source": [
    "# checking unique values\n",
    "df.resolution.unique()"
   ]
  },
  {
   "cell_type": "code",
   "execution_count": 83,
   "id": "c670611f-0479-46a9-bbdd-d8397a7db053",
   "metadata": {},
   "outputs": [],
   "source": [
    "# removing unwanted text\n",
    "df.resolution =df.resolution.str.replace(\"\\u2009\",\"\")"
   ]
  },
  {
   "cell_type": "code",
   "execution_count": 84,
   "id": "4ae67cdc-04f6-460b-8f3d-34f12d74b1f9",
   "metadata": {
    "scrolled": true
   },
   "outputs": [
    {
     "data": {
      "text/plain": [
       "array(['1920x1080pixelsAverage', '2560x1600pixelsGood',\n",
       "       '1080x1920pixelsAverage', '2560x1664pixelsGood',\n",
       "       '2560x1440pixelsGood', '1920x1200pixelsGood', '1920x1080pixelsBad',\n",
       "       '1366x768pixelsBad', '1366x768pixelsBest', '2880x1864pixelsGood',\n",
       "       '3000x2000pixelsGood', '2880x1800pixelsAverage',\n",
       "       '2560x1600pixelsAverage', '1440x2560pixelsAverage',\n",
       "       '3840x2400pixelsBest', '3456x2234pixelsGood',\n",
       "       '3024x1964pixelsGood', '2240x1400pixelsGood',\n",
       "       '2256x1504pixelsBest', '1920x1080pixelsBest', '1366x768pixelsPoor',\n",
       "       '2880x1800pixelsGood', '3200x2000pixelsGood',\n",
       "       '1920x1200pixelsAverage', '3840x2160pixelsBest',\n",
       "       '1920x1200pixelsPoor', '3200x2000pixelsBest',\n",
       "       '3072x1920pixelsGood', '2561x1600pixelsGood',\n",
       "       '2160x1440pixelsGood', '2160x1440pixelsBest',\n",
       "       '1366x768pixelsAverage', '2520x1680pixelsGood',\n",
       "       '2560x1600pixelsBad', '3024x1964pixelsAverage',\n",
       "       '1536x1024pixelsBad', '2560x1440pixelsPoor', '1366x768pixelsGood',\n",
       "       '1280x1024pixelsAverage', '1536x1024pixelsPoor',\n",
       "       '1920x2560pixelsPoor', '3200x2000pixelsAverage',\n",
       "       '2560x1440pixelsAverage', '1920x1280pixelsPoor',\n",
       "       '3456x2160pixelsGood', '3200x1800pixelsAverage', nan,\n",
       "       '1200x1920pixelsAverage', '1600x2560pixelsAverage',\n",
       "       '1920x1200pixelsBest', '2880x1800pixelsBest',\n",
       "       '1600x2560pixelsGood', '2880x1620pixelsGood',\n",
       "       '3120x2080pixelsGood'], dtype=object)"
      ]
     },
     "execution_count": 84,
     "metadata": {},
     "output_type": "execute_result"
    }
   ],
   "source": [
    "# checking sample values\n",
    "df.resolution.unique()"
   ]
  },
  {
   "cell_type": "code",
   "execution_count": 85,
   "id": "28fb1312-cd79-4922-b49c-12f0a5ee59c1",
   "metadata": {},
   "outputs": [],
   "source": [
    "# spliting the column\n",
    "df[['resolution_in_size','resolution_in_quality']] =df.resolution.str.split(\"pixels\",expand= True)"
   ]
  },
  {
   "cell_type": "code",
   "execution_count": 86,
   "id": "12d149e2-9182-4cb0-abb0-edd0a330af17",
   "metadata": {},
   "outputs": [
    {
     "data": {
      "text/plain": [
       "np.int64(1)"
      ]
     },
     "execution_count": 86,
     "metadata": {},
     "output_type": "execute_result"
    }
   ],
   "source": [
    "# checking null values \n",
    "df.resolution_in_size.isna().sum()"
   ]
  },
  {
   "cell_type": "code",
   "execution_count": 87,
   "id": "1803af23-a5de-4046-ac7a-531c4de479a5",
   "metadata": {},
   "outputs": [
    {
     "data": {
      "text/plain": [
       "np.int64(1)"
      ]
     },
     "execution_count": 87,
     "metadata": {},
     "output_type": "execute_result"
    }
   ],
   "source": [
    "# checking null values \n",
    "df.resolution_in_quality.isna().sum()"
   ]
  },
  {
   "cell_type": "code",
   "execution_count": 88,
   "id": "e567e436-385a-4b82-a3ea-5db4509ac024",
   "metadata": {},
   "outputs": [],
   "source": [
    "# filling nan values \n",
    "df['resolution_in_size'] =df['resolution_in_size'].fillna(\"Not Available\")\n",
    "df['resolution_in_quality'] =df['resolution_in_quality'].fillna(\"Not Available\")"
   ]
  },
  {
   "cell_type": "code",
   "execution_count": 89,
   "id": "0a320973-1884-46ba-9339-0abd5b529374",
   "metadata": {},
   "outputs": [
    {
     "data": {
      "text/plain": [
       "np.int64(0)"
      ]
     },
     "execution_count": 89,
     "metadata": {},
     "output_type": "execute_result"
    }
   ],
   "source": [
    "# checking null values \n",
    "df.resolution_in_size.isna().sum()"
   ]
  },
  {
   "cell_type": "code",
   "execution_count": 90,
   "id": "cf49cc37-ba5b-4181-8bbf-e61bb7f9bd3c",
   "metadata": {},
   "outputs": [
    {
     "data": {
      "text/plain": [
       "np.int64(0)"
      ]
     },
     "execution_count": 90,
     "metadata": {},
     "output_type": "execute_result"
    }
   ],
   "source": [
    "# checking null values \n",
    "df.resolution_in_quality.isna().sum()"
   ]
  },
  {
   "cell_type": "code",
   "execution_count": 91,
   "id": "cd16da75-8267-4e2a-89ae-823c6aec1341",
   "metadata": {},
   "outputs": [],
   "source": [
    "# removing unwanted column\n",
    "df.drop(columns=['resolution'],inplace= True)"
   ]
  },
  {
   "cell_type": "code",
   "execution_count": 92,
   "id": "780287cc-a8cd-4752-8923-271f008558b5",
   "metadata": {
    "scrolled": true
   },
   "outputs": [
    {
     "data": {
      "text/plain": [
       "array(['~ 141\\u2009PPIAverage', '~ 188\\u2009PPIHigh',\n",
       "       '~ 166\\u2009PPIHigh', '~ 227\\u2009PPIHigh', '~ 147\\u2009PPIHigh',\n",
       "       '~ 224\\u2009PPIHigh', '~ 137\\u2009PPILow', '~ 157\\u2009PPIHigh',\n",
       "       '~ 184\\u2009PPIHigh', '~ 169\\u2009PPIHigh', '~ 134\\u2009PPILow',\n",
       "       '~ 141\\u2009PPILow', '~ 100\\u2009PPILowest', '~ 135\\u2009PPILow',\n",
       "       '~ 157\\u2009PPIAverage', '~ 283\\u2009PPIHighest',\n",
       "       '~ 135\\u2009PPIHighest', '~ 267\\u2009PPIHigh',\n",
       "       '~ 243\\u2009PPIHigh', '~ 142\\u2009PPIAverage',\n",
       "       '~ 189\\u2009PPIAverage', '~ 142\\u2009PPIHigh', '~ 127\\u2009PPILow',\n",
       "       '~ 252\\u2009PPIHighest', '~ 212\\u2009PPIAverage',\n",
       "       '~ 189\\u2009PPIHigh', '~ 254\\u2009PPIHigh', '~ 201\\u2009PPIHigh',\n",
       "       '~ 156\\u2009PPIHigh', '~ 283\\u2009PPIHigh', '~ 112\\u2009PPILow',\n",
       "       '~ 236\\u2009PPIHigh', '~ 182\\u2009PPIHigh',\n",
       "       '~ 255\\u2009PPIHighest', '~ 145\\u2009PPILow',\n",
       "       '~ 236\\u2009PPIHighest', '~ 162\\u2009PPIHigh', '~ 100\\u2009PPILow',\n",
       "       '~ 194\\u2009PPIAverage', '~ 140\\u2009PPILow',\n",
       "       '~ 127\\u2009PPILowest', '~ 178\\u2009PPILow',\n",
       "       '~ 162\\u2009PPIAverage', '~ 138\\u2009PPILow',\n",
       "       '~ 170\\u2009PPIAverage', '~ 170\\u2009PPIHigh',\n",
       "       '~ 212\\u2009PPIHigh', '~ 216\\u2009PPIHigh',\n",
       "       '~ 112\\u2009PPIAverage', '~ 185\\u2009PPIHigh',\n",
       "       '~ 111\\u2009PPILowest', '~ 182\\u2009PPIAverage',\n",
       "       '~ 142\\u2009PPILow', '~ 255\\u2009PPIHigh', '~ 213\\u2009PPIHigh',\n",
       "       '~ 135\\u2009PPIAverage', '~ 166\\u2009PPIAverage',\n",
       "       '~ 178\\u2009PPILowest', '~ 157\\u2009PPILow',\n",
       "       '~ 254\\u2009PPIAverage', '~ 148\\u2009PPIAverage',\n",
       "       '~ 147\\u2009PPIAverage', '~ 135\\u2009PPIHigh',\n",
       "       '~ 191\\u2009PPIAverage', '~ 112\\u2009PPILowest',\n",
       "       '~ 188\\u2009PPILow', '~ 323\\u2009PPIHighest',\n",
       "       '~ 236\\u2009PPIAverage', '~ 157\\u2009PPIHighest',\n",
       "       '~ 141\\u2009PPIHigh', '~ 188\\u2009PPIAverage', '~ 166\\u2009PPILow',\n",
       "       '~ 280\\u2009PPIHighest', '~ 178\\u2009PPIAverage',\n",
       "       '~ 290\\u2009PPIHighest', '~ 229\\u2009PPIAverage',\n",
       "       '~ 204\\u2009PPIAverage', '~ 216\\u2009PPIAverage',\n",
       "       '~ 186\\u2009PPIHigh', '~ 164\\u2009PPILow', '~ 266\\u2009PPIHigh',\n",
       "       '~ 147\\u2009PPILow', '~ 101\\u2009PPILow', '~ 170\\u2009PPILow',\n",
       "       '~ 184\\u2009PPIAverage', '~ 240\\u2009PPIHigh',\n",
       "       '~ 225\\u2009PPIHigh', '~ 145\\u2009PPIAverage',\n",
       "       '~ 264\\u2009PPIHigh', '~ 234\\u2009PPIHigh', '~ 161\\u2009PPIHigh'],\n",
       "      dtype=object)"
      ]
     },
     "execution_count": 92,
     "metadata": {},
     "output_type": "execute_result"
    }
   ],
   "source": [
    "# checking unique values\n",
    "df['pixels_per_inch'].unique()"
   ]
  },
  {
   "cell_type": "code",
   "execution_count": 93,
   "id": "91aa7d12-2211-4cec-b444-bc2e8d508414",
   "metadata": {},
   "outputs": [],
   "source": [
    "# removing unwanted text\n",
    "df.pixels_per_inch =df.pixels_per_inch.str.replace(\"\\u2009\",\"\")"
   ]
  },
  {
   "cell_type": "code",
   "execution_count": 94,
   "id": "51ea5455-9735-4d4e-a81a-ebd4647ee66f",
   "metadata": {},
   "outputs": [],
   "source": [
    "# removing unwanted text\n",
    "df.pixels_per_inch =df.pixels_per_inch.str.replace(\"~ \",\"\")"
   ]
  },
  {
   "cell_type": "code",
   "execution_count": 95,
   "id": "441cec08-e827-4f0b-955c-750a68f38e41",
   "metadata": {},
   "outputs": [
    {
     "data": {
      "text/plain": [
       "array(['141PPIAverage', '188PPIHigh', '166PPIHigh', '227PPIHigh',\n",
       "       '147PPIHigh', '224PPIHigh', '137PPILow', '157PPIHigh',\n",
       "       '184PPIHigh', '169PPIHigh', '134PPILow', '141PPILow',\n",
       "       '100PPILowest', '135PPILow', '157PPIAverage', '283PPIHighest',\n",
       "       '135PPIHighest', '267PPIHigh', '243PPIHigh', '142PPIAverage',\n",
       "       '189PPIAverage', '142PPIHigh', '127PPILow', '252PPIHighest',\n",
       "       '212PPIAverage', '189PPIHigh', '254PPIHigh', '201PPIHigh',\n",
       "       '156PPIHigh', '283PPIHigh', '112PPILow', '236PPIHigh',\n",
       "       '182PPIHigh', '255PPIHighest', '145PPILow', '236PPIHighest',\n",
       "       '162PPIHigh', '100PPILow', '194PPIAverage', '140PPILow',\n",
       "       '127PPILowest', '178PPILow', '162PPIAverage', '138PPILow',\n",
       "       '170PPIAverage', '170PPIHigh', '212PPIHigh', '216PPIHigh',\n",
       "       '112PPIAverage', '185PPIHigh', '111PPILowest', '182PPIAverage',\n",
       "       '142PPILow', '255PPIHigh', '213PPIHigh', '135PPIAverage',\n",
       "       '166PPIAverage', '178PPILowest', '157PPILow', '254PPIAverage',\n",
       "       '148PPIAverage', '147PPIAverage', '135PPIHigh', '191PPIAverage',\n",
       "       '112PPILowest', '188PPILow', '323PPIHighest', '236PPIAverage',\n",
       "       '157PPIHighest', '141PPIHigh', '188PPIAverage', '166PPILow',\n",
       "       '280PPIHighest', '178PPIAverage', '290PPIHighest', '229PPIAverage',\n",
       "       '204PPIAverage', '216PPIAverage', '186PPIHigh', '164PPILow',\n",
       "       '266PPIHigh', '147PPILow', '101PPILow', '170PPILow',\n",
       "       '184PPIAverage', '240PPIHigh', '225PPIHigh', '145PPIAverage',\n",
       "       '264PPIHigh', '234PPIHigh', '161PPIHigh'], dtype=object)"
      ]
     },
     "execution_count": 95,
     "metadata": {},
     "output_type": "execute_result"
    }
   ],
   "source": [
    "# checking unique values\n",
    "df['pixels_per_inch'].unique()"
   ]
  },
  {
   "cell_type": "code",
   "execution_count": 96,
   "id": "c2deb6ed-53f5-4cf4-a87e-7e270a495f9e",
   "metadata": {},
   "outputs": [],
   "source": [
    "# spliting the column\n",
    "df[['pixels_per_inch','pixels_per_inch_quality']] =df.pixels_per_inch.str.split(\"PPI\",expand= True)"
   ]
  },
  {
   "cell_type": "code",
   "execution_count": 97,
   "id": "37c22de5-7d1f-475f-8337-d438e72e13a4",
   "metadata": {},
   "outputs": [
    {
     "data": {
      "text/html": [
       "<div>\n",
       "<style scoped>\n",
       "    .dataframe tbody tr th:only-of-type {\n",
       "        vertical-align: middle;\n",
       "    }\n",
       "\n",
       "    .dataframe tbody tr th {\n",
       "        vertical-align: top;\n",
       "    }\n",
       "\n",
       "    .dataframe thead th {\n",
       "        text-align: right;\n",
       "    }\n",
       "</style>\n",
       "<table border=\"1\" class=\"dataframe\">\n",
       "  <thead>\n",
       "    <tr style=\"text-align: right;\">\n",
       "      <th></th>\n",
       "      <th>pixels_per_inch</th>\n",
       "      <th>pixels_per_inch_quality</th>\n",
       "    </tr>\n",
       "  </thead>\n",
       "  <tbody>\n",
       "    <tr>\n",
       "      <th>0</th>\n",
       "      <td>141</td>\n",
       "      <td>Average</td>\n",
       "    </tr>\n",
       "    <tr>\n",
       "      <th>1</th>\n",
       "      <td>188</td>\n",
       "      <td>High</td>\n",
       "    </tr>\n",
       "    <tr>\n",
       "      <th>2</th>\n",
       "      <td>141</td>\n",
       "      <td>Average</td>\n",
       "    </tr>\n",
       "    <tr>\n",
       "      <th>3</th>\n",
       "      <td>166</td>\n",
       "      <td>High</td>\n",
       "    </tr>\n",
       "    <tr>\n",
       "      <th>4</th>\n",
       "      <td>227</td>\n",
       "      <td>High</td>\n",
       "    </tr>\n",
       "    <tr>\n",
       "      <th>...</th>\n",
       "      <td>...</td>\n",
       "      <td>...</td>\n",
       "    </tr>\n",
       "    <tr>\n",
       "      <th>1015</th>\n",
       "      <td>157</td>\n",
       "      <td>High</td>\n",
       "    </tr>\n",
       "    <tr>\n",
       "      <th>1016</th>\n",
       "      <td>283</td>\n",
       "      <td>High</td>\n",
       "    </tr>\n",
       "    <tr>\n",
       "      <th>1017</th>\n",
       "      <td>267</td>\n",
       "      <td>High</td>\n",
       "    </tr>\n",
       "    <tr>\n",
       "      <th>1018</th>\n",
       "      <td>161</td>\n",
       "      <td>High</td>\n",
       "    </tr>\n",
       "    <tr>\n",
       "      <th>1019</th>\n",
       "      <td>142</td>\n",
       "      <td>Average</td>\n",
       "    </tr>\n",
       "  </tbody>\n",
       "</table>\n",
       "<p>1020 rows × 2 columns</p>\n",
       "</div>"
      ],
      "text/plain": [
       "     pixels_per_inch pixels_per_inch_quality\n",
       "0                141                 Average\n",
       "1                188                    High\n",
       "2                141                 Average\n",
       "3                166                    High\n",
       "4                227                    High\n",
       "...              ...                     ...\n",
       "1015             157                    High\n",
       "1016             283                    High\n",
       "1017             267                    High\n",
       "1018             161                    High\n",
       "1019             142                 Average\n",
       "\n",
       "[1020 rows x 2 columns]"
      ]
     },
     "execution_count": 97,
     "metadata": {},
     "output_type": "execute_result"
    }
   ],
   "source": [
    "df[['pixels_per_inch','pixels_per_inch_quality']]"
   ]
  },
  {
   "cell_type": "code",
   "execution_count": 98,
   "id": "b99ee0d0-74de-445d-8f3c-f35b8e3deca6",
   "metadata": {},
   "outputs": [
    {
     "data": {
      "text/plain": [
       "pixels_per_inch            0\n",
       "pixels_per_inch_quality    0\n",
       "dtype: int64"
      ]
     },
     "execution_count": 98,
     "metadata": {},
     "output_type": "execute_result"
    }
   ],
   "source": [
    "# checking null values\n",
    "df[['pixels_per_inch','pixels_per_inch_quality']].isna().sum()"
   ]
  },
  {
   "cell_type": "code",
   "execution_count": 99,
   "id": "b01ac3ff-b464-4c35-bfe7-26c727d5d2eb",
   "metadata": {},
   "outputs": [
    {
     "name": "stdout",
     "output_type": "stream",
     "text": [
      "<class 'pandas.core.frame.DataFrame'>\n",
      "Index: 1020 entries, 0 to 1019\n",
      "Data columns (total 34 columns):\n",
      " #   Column                   Non-Null Count  Dtype  \n",
      "---  ------                   --------------  -----  \n",
      " 0   price                    1020 non-null   int64  \n",
      " 1   specification_score      1020 non-null   float64\n",
      " 2   votes                    1020 non-null   int64  \n",
      " 3   user_rating              1020 non-null   float64\n",
      " 4   operating_system         1020 non-null   object \n",
      " 5   utility                  1020 non-null   object \n",
      " 6   weight                   1020 non-null   object \n",
      " 7   warranty                 1020 non-null   object \n",
      " 8   screen_size              1020 non-null   object \n",
      " 9   pixels_per_inch          1020 non-null   object \n",
      " 10  battery                  957 non-null    object \n",
      " 11  screen_feature1          925 non-null    object \n",
      " 12  screen_feature2          456 non-null    object \n",
      " 13  processor_name           1017 non-null   object \n",
      " 14  processor_speed          1014 non-null   object \n",
      " 15  number_of_cores          930 non-null    object \n",
      " 16  caches                   982 non-null    object \n",
      " 17  rom_memory               810 non-null    object \n",
      " 18  internal_memory          1014 non-null   object \n",
      " 19  port_connection          1005 non-null   object \n",
      " 20  wireless_connection      1020 non-null   object \n",
      " 21  usb_ports                1014 non-null   object \n",
      " 22  hardware_features        1018 non-null   object \n",
      " 23  product_name             1020 non-null   object \n",
      " 24  ram                      1017 non-null   object \n",
      " 25  ssd                      1017 non-null   object \n",
      " 26  windows                  1017 non-null   object \n",
      " 27  graphic                  1020 non-null   object \n",
      " 28  thickness_in_mm          1020 non-null   object \n",
      " 29  thickness_in_size        1020 non-null   object \n",
      " 30  screen_size_in_inches    1020 non-null   object \n",
      " 31  resolution_in_size       1020 non-null   object \n",
      " 32  resolution_in_quality    1020 non-null   object \n",
      " 33  pixels_per_inch_quality  1020 non-null   object \n",
      "dtypes: float64(2), int64(2), object(30)\n",
      "memory usage: 278.9+ KB\n"
     ]
    }
   ],
   "source": [
    "df.info()"
   ]
  },
  {
   "cell_type": "code",
   "execution_count": 100,
   "id": "aba0a077-64b9-4eb9-9f05-054d068ee409",
   "metadata": {},
   "outputs": [
    {
     "data": {
      "text/plain": [
       "price                        0\n",
       "specification_score          0\n",
       "votes                        0\n",
       "user_rating                  0\n",
       "operating_system             0\n",
       "utility                      0\n",
       "weight                       0\n",
       "warranty                     0\n",
       "screen_size                  0\n",
       "pixels_per_inch              0\n",
       "battery                     63\n",
       "screen_feature1             95\n",
       "screen_feature2            564\n",
       "processor_name               3\n",
       "processor_speed              6\n",
       "number_of_cores             90\n",
       "caches                      38\n",
       "rom_memory                 210\n",
       "internal_memory              6\n",
       "port_connection             15\n",
       "wireless_connection          0\n",
       "usb_ports                    6\n",
       "hardware_features            2\n",
       "product_name                 0\n",
       "ram                          3\n",
       "ssd                          3\n",
       "windows                      3\n",
       "graphic                      0\n",
       "thickness_in_mm              0\n",
       "thickness_in_size            0\n",
       "screen_size_in_inches        0\n",
       "resolution_in_size           0\n",
       "resolution_in_quality        0\n",
       "pixels_per_inch_quality      0\n",
       "dtype: int64"
      ]
     },
     "execution_count": 100,
     "metadata": {},
     "output_type": "execute_result"
    }
   ],
   "source": [
    "# checking null values\n",
    "df.isna().sum()"
   ]
  },
  {
   "cell_type": "code",
   "execution_count": 101,
   "id": "be254034-f5df-4838-a8ff-c2d1a3091c3c",
   "metadata": {
    "scrolled": true
   },
   "outputs": [
    {
     "data": {
      "text/plain": [
       "array(['52.5\\u2009Wh, 3 Cell BatteryGood', '80\\u2009Wh BatteryGood',\n",
       "       '70\\u2009Wh BatteryGood', nan, '49.9\\u2009Wh BatteryGood',\n",
       "       '41\\u2009Wh, 3 Cell BatteryGood', '42\\u2009Wh, 3 Cell BatteryGood',\n",
       "       '52.6\\u2009Wh BatteryGood', '38.5\\u2009Wh BatteryGood',\n",
       "       '70\\u2009Wh, 4 Cell BatteryGood', '17.85\\u2009Wh BatteryGood',\n",
       "       '3 Cell Battery', '54\\u2009Wh BatteryGood',\n",
       "       '90\\u2009Wh, 4 Cell BatteryGood', '4 Cell Battery',\n",
       "       '60\\u2009Wh, 3 Cell BatteryGood', '90\\u2009Wh, 3 Cell BatteryGood',\n",
       "       '43\\u2009Wh, 4 Cell BatteryGood', '47\\u2009Wh, 3 Cell BatteryGood',\n",
       "       '56\\u2009Wh, 3 Cell BatteryGood', '62\\u2009Wh, 4 Cell BatteryGood',\n",
       "       '45\\u2009Wh, 3 Cell BatteryGood', '83\\u2009Wh, 6 Cell BatteryGood',\n",
       "       '45.5\\u2009Wh, 2 Cell BatteryGood',\n",
       "       '48\\u2009Wh, 4 Cell BatteryGood',\n",
       "       '39.3\\u2009Wh, 3 Cell BatteryGood',\n",
       "       '50\\u2009Wh, 3 Cell BatteryGood', '66.5\\u2009Wh BatteryGood',\n",
       "       '66\\u2009Wh, 4 Cell BatteryGood', '71\\u2009Wh, 6 Cell BatteryGood',\n",
       "       '57\\u2009Wh, 3 Cell BatteryGood', '48\\u2009Wh, 3 Cell BatteryGood',\n",
       "       '36\\u2009Wh, 3 Cell BatteryGood', '80\\u2009Wh, 4 Cell BatteryGood',\n",
       "       '76\\u2009Wh BatteryGood', '72\\u2009Wh BatteryGood',\n",
       "       '100\\u2009Wh BatteryGood', '6 Cell Battery',\n",
       "       '65\\u2009Wh, 4 Cell BatteryGood',\n",
       "       '52.4\\u2009Wh, 3 Cell BatteryGood',\n",
       "       '18.5\\u2009Wh, 2 Cell BatteryGood', '40\\u2009Wh BatteryGood',\n",
       "       '70\\u2009Wh, 3 Cell BatteryGood', '63\\u2009Wh, 3 Cell BatteryGood',\n",
       "       '54\\u2009Wh, 4 Cell BatteryGood', '96\\u2009Wh, 6 Cell BatteryGood',\n",
       "       '57\\u2009Wh, 4 Cell BatteryGood',\n",
       "       '53.5\\u2009Wh, 3 Cell BatteryGood',\n",
       "       '43\\u2009Wh, 3 Cell BatteryGood', '99\\u2009Wh, 4 Cell BatteryGood',\n",
       "       '40\\u2009Wh, 3 Cell BatteryGood', '2 Cell Battery',\n",
       "       '37\\u2009Wh, 2 Cell BatteryGood',\n",
       "       '99.9\\u2009Wh, 4 Cell BatteryGood',\n",
       "       '55\\u2009Wh, 4 Cell BatteryGood',\n",
       "       '53.8\\u2009Wh, 3 Cell BatteryGood',\n",
       "       '72\\u2009Wh, 4 Cell BatteryGood', '59\\u2009Wh, 3 Cell BatteryGood',\n",
       "       '38\\u2009Wh BatteryGood', '50\\u2009Wh BatteryGood',\n",
       "       '99\\u2009Wh BatteryGood', '51\\u2009Wh, 3 Cell BatteryGood',\n",
       "       '68\\u2009Wh BatteryGood', '60\\u2009Wh, 4 Cell BatteryGood',\n",
       "       '75\\u2009Wh, 4 Cell BatteryGood', '63\\u2009Wh BatteryGood',\n",
       "       '65\\u2009Wh, 3 Cell BatteryGood', '68\\u2009Wh, 4 Cell BatteryGood',\n",
       "       '47\\u2009Wh BatteryGood', '52.5\\u2009Wh, 4 Cell BatteryGood',\n",
       "       '60\\u2009Wh BatteryGood', '42\\u2009Wh, 2 Cell BatteryGood',\n",
       "       '46.2\\u2009Wh BatteryGood', '18.5\\u2009Wh BatteryGood',\n",
       "       '38\\u2009Wh, 2 Cell BatteryGood', '42\\u2009Wh BatteryGood',\n",
       "       '63\\u2009Wh, 4 Cell BatteryGood', '56\\u2009Wh BatteryGood',\n",
       "       '45\\u2009Wh BatteryGood', '75.4\\u2009Wh, 4 Cell BatteryGood',\n",
       "       '73\\u2009Wh BatteryGood', '56.6\\u2009Wh, 3 Cell BatteryGood',\n",
       "       '86\\u2009Wh, 6 Cell BatteryGood', '50\\u2009Wh, 4 Cell BatteryGood',\n",
       "       '41\\u2009Wh BatteryGood', '54\\u2009Wh, 3 Cell BatteryGood',\n",
       "       '71\\u2009Wh, 4 Cell BatteryGood', '83\\u2009Wh, 8 Cell BatteryGood',\n",
       "       '97\\u2009Wh, 6 Cell BatteryGood', '65\\u2009Wh BatteryGood',\n",
       "       '52.5\\u2009Wh BatteryGood', '53\\u2009Wh, 3 Cell BatteryGood',\n",
       "       '56\\u2009Wh, 4 Cell BatteryGood', '59\\u2009Wh, 4 Cell BatteryGood',\n",
       "       '94.3\\u2009Wh, 6 Cell BatteryGood', '56.6\\u2009Wh BatteryGood',\n",
       "       '68\\u2009Wh, 6 Cell BatteryGood', '66.9\\u2009Wh BatteryGood',\n",
       "       '82\\u2009Wh, 4 Cell BatteryGood', '43\\u2009Wh BatteryGood',\n",
       "       '57.5\\u2009Wh, 4 Cell BatteryGood',\n",
       "       '99\\u2009Wh, 3 Cell BatteryGood',\n",
       "       '14.8\\u2009Wh, 2 Cell BatteryGood',\n",
       "       '90\\u2009Wh, 6 Cell BatteryGood', '64\\u2009Wh, 4 Cell BatteryGood',\n",
       "       '83\\u2009Wh BatteryGood', '68.1\\u2009Wh BatteryGood',\n",
       "       '55\\u2009Wh, 3 Cell BatteryGood', '90\\u2009Wh BatteryGood',\n",
       "       '80.5\\u2009Wh, 6 Cell BatteryGood', '6\\u2009Wh BatteryGood',\n",
       "       '57\\u2009Wh BatteryGood', '76\\u2009Wh, 4 Cell BatteryGood',\n",
       "       '75\\u2009Wh BatteryGood', '75\\u2009Wh, 3 Cell BatteryGood'],\n",
       "      dtype=object)"
      ]
     },
     "execution_count": 101,
     "metadata": {},
     "output_type": "execute_result"
    }
   ],
   "source": [
    "# checking unique values\n",
    "df.battery.unique()"
   ]
  },
  {
   "cell_type": "code",
   "execution_count": 102,
   "id": "7a1f0bb7-75ca-4ace-ac89-bc1556a71f8a",
   "metadata": {},
   "outputs": [],
   "source": [
    "# removing unwanted text\n",
    "df.battery =df.battery.str.replace(\"\\u2009\",\"\")"
   ]
  },
  {
   "cell_type": "code",
   "execution_count": 103,
   "id": "4c654345-0e51-49f3-9fe1-cbebd4330a15",
   "metadata": {
    "scrolled": true
   },
   "outputs": [
    {
     "data": {
      "text/plain": [
       "array(['52.5Wh, 3 Cell BatteryGood', '80Wh BatteryGood',\n",
       "       '70Wh BatteryGood', nan, '49.9Wh BatteryGood',\n",
       "       '41Wh, 3 Cell BatteryGood', '42Wh, 3 Cell BatteryGood',\n",
       "       '52.6Wh BatteryGood', '38.5Wh BatteryGood',\n",
       "       '70Wh, 4 Cell BatteryGood', '17.85Wh BatteryGood',\n",
       "       '3 Cell Battery', '54Wh BatteryGood', '90Wh, 4 Cell BatteryGood',\n",
       "       '4 Cell Battery', '60Wh, 3 Cell BatteryGood',\n",
       "       '90Wh, 3 Cell BatteryGood', '43Wh, 4 Cell BatteryGood',\n",
       "       '47Wh, 3 Cell BatteryGood', '56Wh, 3 Cell BatteryGood',\n",
       "       '62Wh, 4 Cell BatteryGood', '45Wh, 3 Cell BatteryGood',\n",
       "       '83Wh, 6 Cell BatteryGood', '45.5Wh, 2 Cell BatteryGood',\n",
       "       '48Wh, 4 Cell BatteryGood', '39.3Wh, 3 Cell BatteryGood',\n",
       "       '50Wh, 3 Cell BatteryGood', '66.5Wh BatteryGood',\n",
       "       '66Wh, 4 Cell BatteryGood', '71Wh, 6 Cell BatteryGood',\n",
       "       '57Wh, 3 Cell BatteryGood', '48Wh, 3 Cell BatteryGood',\n",
       "       '36Wh, 3 Cell BatteryGood', '80Wh, 4 Cell BatteryGood',\n",
       "       '76Wh BatteryGood', '72Wh BatteryGood', '100Wh BatteryGood',\n",
       "       '6 Cell Battery', '65Wh, 4 Cell BatteryGood',\n",
       "       '52.4Wh, 3 Cell BatteryGood', '18.5Wh, 2 Cell BatteryGood',\n",
       "       '40Wh BatteryGood', '70Wh, 3 Cell BatteryGood',\n",
       "       '63Wh, 3 Cell BatteryGood', '54Wh, 4 Cell BatteryGood',\n",
       "       '96Wh, 6 Cell BatteryGood', '57Wh, 4 Cell BatteryGood',\n",
       "       '53.5Wh, 3 Cell BatteryGood', '43Wh, 3 Cell BatteryGood',\n",
       "       '99Wh, 4 Cell BatteryGood', '40Wh, 3 Cell BatteryGood',\n",
       "       '2 Cell Battery', '37Wh, 2 Cell BatteryGood',\n",
       "       '99.9Wh, 4 Cell BatteryGood', '55Wh, 4 Cell BatteryGood',\n",
       "       '53.8Wh, 3 Cell BatteryGood', '72Wh, 4 Cell BatteryGood',\n",
       "       '59Wh, 3 Cell BatteryGood', '38Wh BatteryGood', '50Wh BatteryGood',\n",
       "       '99Wh BatteryGood', '51Wh, 3 Cell BatteryGood', '68Wh BatteryGood',\n",
       "       '60Wh, 4 Cell BatteryGood', '75Wh, 4 Cell BatteryGood',\n",
       "       '63Wh BatteryGood', '65Wh, 3 Cell BatteryGood',\n",
       "       '68Wh, 4 Cell BatteryGood', '47Wh BatteryGood',\n",
       "       '52.5Wh, 4 Cell BatteryGood', '60Wh BatteryGood',\n",
       "       '42Wh, 2 Cell BatteryGood', '46.2Wh BatteryGood',\n",
       "       '18.5Wh BatteryGood', '38Wh, 2 Cell BatteryGood',\n",
       "       '42Wh BatteryGood', '63Wh, 4 Cell BatteryGood', '56Wh BatteryGood',\n",
       "       '45Wh BatteryGood', '75.4Wh, 4 Cell BatteryGood',\n",
       "       '73Wh BatteryGood', '56.6Wh, 3 Cell BatteryGood',\n",
       "       '86Wh, 6 Cell BatteryGood', '50Wh, 4 Cell BatteryGood',\n",
       "       '41Wh BatteryGood', '54Wh, 3 Cell BatteryGood',\n",
       "       '71Wh, 4 Cell BatteryGood', '83Wh, 8 Cell BatteryGood',\n",
       "       '97Wh, 6 Cell BatteryGood', '65Wh BatteryGood',\n",
       "       '52.5Wh BatteryGood', '53Wh, 3 Cell BatteryGood',\n",
       "       '56Wh, 4 Cell BatteryGood', '59Wh, 4 Cell BatteryGood',\n",
       "       '94.3Wh, 6 Cell BatteryGood', '56.6Wh BatteryGood',\n",
       "       '68Wh, 6 Cell BatteryGood', '66.9Wh BatteryGood',\n",
       "       '82Wh, 4 Cell BatteryGood', '43Wh BatteryGood',\n",
       "       '57.5Wh, 4 Cell BatteryGood', '99Wh, 3 Cell BatteryGood',\n",
       "       '14.8Wh, 2 Cell BatteryGood', '90Wh, 6 Cell BatteryGood',\n",
       "       '64Wh, 4 Cell BatteryGood', '83Wh BatteryGood',\n",
       "       '68.1Wh BatteryGood', '55Wh, 3 Cell BatteryGood',\n",
       "       '90Wh BatteryGood', '80.5Wh, 6 Cell BatteryGood',\n",
       "       '6Wh BatteryGood', '57Wh BatteryGood', '76Wh, 4 Cell BatteryGood',\n",
       "       '75Wh BatteryGood', '75Wh, 3 Cell BatteryGood'], dtype=object)"
      ]
     },
     "execution_count": 103,
     "metadata": {},
     "output_type": "execute_result"
    }
   ],
   "source": [
    "# checking unique values\n",
    "df.battery.unique()"
   ]
  },
  {
   "cell_type": "code",
   "execution_count": 104,
   "id": "acb955cc-0cba-4963-aad0-e556777596f4",
   "metadata": {},
   "outputs": [],
   "source": [
    "# extracting data\n",
    "df[['battery_in_wh','battery_cell']]= df['battery'].str.extract(r'(?P<Wh>\\d+\\.?\\d*Wh)?[,\\s]*(?P<Cell>\\d+\\sCell)?')"
   ]
  },
  {
   "cell_type": "code",
   "execution_count": 105,
   "id": "234a9ab8-2863-4cc4-bff3-b03516369edd",
   "metadata": {},
   "outputs": [],
   "source": [
    "# removing text from battery_in_wh\n",
    "df['battery_in_wh'] =df['battery_in_wh'].str.replace(\"Wh\",\"\")"
   ]
  },
  {
   "cell_type": "code",
   "execution_count": 106,
   "id": "164093a8-beb5-4ab6-8705-ffb71009a30c",
   "metadata": {},
   "outputs": [],
   "source": [
    "# removing text from battery_cell\n",
    "df['battery_cell'] =df['battery_cell'].str.replace(\" Cell\",\"\")"
   ]
  },
  {
   "cell_type": "code",
   "execution_count": 107,
   "id": "f1bd475c-2b31-4909-a2fc-9ce893cd4913",
   "metadata": {},
   "outputs": [
    {
     "data": {
      "text/plain": [
       "battery_in_wh    203\n",
       "battery_cell     214\n",
       "dtype: int64"
      ]
     },
     "execution_count": 107,
     "metadata": {},
     "output_type": "execute_result"
    }
   ],
   "source": [
    "# checking null values \n",
    "df[['battery_in_wh','battery_cell']].isna().sum()"
   ]
  },
  {
   "cell_type": "code",
   "execution_count": 108,
   "id": "0e0d755d-620b-47d0-b2c8-551980c546e7",
   "metadata": {},
   "outputs": [],
   "source": [
    "# filling nan values\n",
    "df['battery_in_wh']=df['battery_in_wh'].fillna(\"Not Available\")\n",
    "df['battery_cell']=df['battery_cell'].fillna(\"Not Available\")"
   ]
  },
  {
   "cell_type": "code",
   "execution_count": 109,
   "id": "5882e412-cf13-4a0e-b664-de725af3aa5d",
   "metadata": {},
   "outputs": [
    {
     "data": {
      "text/plain": [
       "battery_in_wh    0\n",
       "battery_cell     0\n",
       "dtype: int64"
      ]
     },
     "execution_count": 109,
     "metadata": {},
     "output_type": "execute_result"
    }
   ],
   "source": [
    "# checking null values \n",
    "df[['battery_in_wh','battery_cell']].isna().sum()"
   ]
  },
  {
   "cell_type": "code",
   "execution_count": 110,
   "id": "8dd713bf-1d22-4557-8503-0723a7ab6629",
   "metadata": {},
   "outputs": [],
   "source": [
    "# removing unwanted column\n",
    "df.drop(columns=['battery'],inplace=True)"
   ]
  },
  {
   "cell_type": "code",
   "execution_count": 111,
   "id": "3c7f8cc7-b7ba-4554-ab56-9f15fceb6d35",
   "metadata": {},
   "outputs": [
    {
     "data": {
      "text/plain": [
       "array(['Touch Screen', 'Anti Glare', nan, '16:9   Aspect Ratio',\n",
       "       '16:9 Aspect Ratio', '16:10 Aspect Ratio', '3:2 Aspect Ratio'],\n",
       "      dtype=object)"
      ]
     },
     "execution_count": 111,
     "metadata": {},
     "output_type": "execute_result"
    }
   ],
   "source": [
    "# checking unique values\n",
    "df.screen_feature1.unique()"
   ]
  },
  {
   "cell_type": "code",
   "execution_count": 112,
   "id": "d259af08-b110-4edd-a7a1-d9dd2a9f6e17",
   "metadata": {},
   "outputs": [
    {
     "data": {
      "text/plain": [
       "np.int64(95)"
      ]
     },
     "execution_count": 112,
     "metadata": {},
     "output_type": "execute_result"
    }
   ],
   "source": [
    "# checking nan values\n",
    "df.screen_feature1.isna().sum()"
   ]
  },
  {
   "cell_type": "code",
   "execution_count": 113,
   "id": "ca90d3c9-a504-4fc0-9d3f-b1623b5ab8cb",
   "metadata": {},
   "outputs": [],
   "source": [
    "# filling nan values \n",
    "df.screen_feature1 =df.screen_feature1.fillna(\"Not Available\")"
   ]
  },
  {
   "cell_type": "code",
   "execution_count": 114,
   "id": "89a9ee2c-6ada-4a78-a942-1622afb2b204",
   "metadata": {},
   "outputs": [
    {
     "data": {
      "text/plain": [
       "np.int64(0)"
      ]
     },
     "execution_count": 114,
     "metadata": {},
     "output_type": "execute_result"
    }
   ],
   "source": [
    "# checking nan values\n",
    "df.screen_feature1.isna().sum()"
   ]
  },
  {
   "cell_type": "code",
   "execution_count": 115,
   "id": "9430ef2c-bd40-4b9c-b0f0-5e3cf83eb731",
   "metadata": {},
   "outputs": [],
   "source": [
    "# replacing column names\n",
    "df.rename(columns={'screen_feature1':'screen_feature'},inplace = True)"
   ]
  },
  {
   "cell_type": "code",
   "execution_count": 116,
   "id": "b588855d-9bd0-47c8-bd0b-1368c6c5039f",
   "metadata": {},
   "outputs": [],
   "source": [
    "# removing unwanted column\n",
    "df.drop(columns=['screen_feature2'],inplace =True)"
   ]
  },
  {
   "cell_type": "code",
   "execution_count": 117,
   "id": "0745c179-c42d-4b0d-afdc-613cfed19a67",
   "metadata": {},
   "outputs": [
    {
     "name": "stdout",
     "output_type": "stream",
     "text": [
      "<class 'pandas.core.frame.DataFrame'>\n",
      "Index: 1020 entries, 0 to 1019\n",
      "Data columns (total 34 columns):\n",
      " #   Column                   Non-Null Count  Dtype  \n",
      "---  ------                   --------------  -----  \n",
      " 0   price                    1020 non-null   int64  \n",
      " 1   specification_score      1020 non-null   float64\n",
      " 2   votes                    1020 non-null   int64  \n",
      " 3   user_rating              1020 non-null   float64\n",
      " 4   operating_system         1020 non-null   object \n",
      " 5   utility                  1020 non-null   object \n",
      " 6   weight                   1020 non-null   object \n",
      " 7   warranty                 1020 non-null   object \n",
      " 8   screen_size              1020 non-null   object \n",
      " 9   pixels_per_inch          1020 non-null   object \n",
      " 10  screen_feature           1020 non-null   object \n",
      " 11  processor_name           1017 non-null   object \n",
      " 12  processor_speed          1014 non-null   object \n",
      " 13  number_of_cores          930 non-null    object \n",
      " 14  caches                   982 non-null    object \n",
      " 15  rom_memory               810 non-null    object \n",
      " 16  internal_memory          1014 non-null   object \n",
      " 17  port_connection          1005 non-null   object \n",
      " 18  wireless_connection      1020 non-null   object \n",
      " 19  usb_ports                1014 non-null   object \n",
      " 20  hardware_features        1018 non-null   object \n",
      " 21  product_name             1020 non-null   object \n",
      " 22  ram                      1017 non-null   object \n",
      " 23  ssd                      1017 non-null   object \n",
      " 24  windows                  1017 non-null   object \n",
      " 25  graphic                  1020 non-null   object \n",
      " 26  thickness_in_mm          1020 non-null   object \n",
      " 27  thickness_in_size        1020 non-null   object \n",
      " 28  screen_size_in_inches    1020 non-null   object \n",
      " 29  resolution_in_size       1020 non-null   object \n",
      " 30  resolution_in_quality    1020 non-null   object \n",
      " 31  pixels_per_inch_quality  1020 non-null   object \n",
      " 32  battery_in_wh            1020 non-null   object \n",
      " 33  battery_cell             1020 non-null   object \n",
      "dtypes: float64(2), int64(2), object(30)\n",
      "memory usage: 278.9+ KB\n"
     ]
    }
   ],
   "source": [
    "df.info()"
   ]
  },
  {
   "cell_type": "code",
   "execution_count": 118,
   "id": "48ca051e-9f6f-4f74-828d-d72eed07a32f",
   "metadata": {},
   "outputs": [
    {
     "data": {
      "text/plain": [
       "price                        0\n",
       "specification_score          0\n",
       "votes                        0\n",
       "user_rating                  0\n",
       "operating_system             0\n",
       "utility                      0\n",
       "weight                       0\n",
       "warranty                     0\n",
       "screen_size                  0\n",
       "pixels_per_inch              0\n",
       "screen_feature               0\n",
       "processor_name               3\n",
       "processor_speed              6\n",
       "number_of_cores             90\n",
       "caches                      38\n",
       "rom_memory                 210\n",
       "internal_memory              6\n",
       "port_connection             15\n",
       "wireless_connection          0\n",
       "usb_ports                    6\n",
       "hardware_features            2\n",
       "product_name                 0\n",
       "ram                          3\n",
       "ssd                          3\n",
       "windows                      3\n",
       "graphic                      0\n",
       "thickness_in_mm              0\n",
       "thickness_in_size            0\n",
       "screen_size_in_inches        0\n",
       "resolution_in_size           0\n",
       "resolution_in_quality        0\n",
       "pixels_per_inch_quality      0\n",
       "battery_in_wh                0\n",
       "battery_cell                 0\n",
       "dtype: int64"
      ]
     },
     "execution_count": 118,
     "metadata": {},
     "output_type": "execute_result"
    }
   ],
   "source": [
    "# checking nan values \n",
    "df.isna().sum()"
   ]
  },
  {
   "cell_type": "code",
   "execution_count": 119,
   "id": "e4025dba-43bc-41fd-8bab-497cb8cb6727",
   "metadata": {
    "scrolled": true
   },
   "outputs": [
    {
     "data": {
      "text/plain": [
       "array(['AMD Ryzen 5 5600H', '14th Gen Core i9', '11th Gen Core i3',\n",
       "       '12th Gen Core i5', 'Apple M1', 'AMD Ryzen 3 7320U',\n",
       "       '12th Gen Core i3', 'Apple M2', 'AMD Ryzen 7 7840HS',\n",
       "       '11th Gen Core i5', 'AMD Ryzen 3 5300U',\n",
       "       'Intel Core 5 Processor 120U', '12th Gen Core i7 ',\n",
       "       '11th Gen Core i7', 'AMD Ryzen 5 7535HS', 'Apple M3',\n",
       "       '13th Gen Core i9', '12th Gen Core i7', '13th Gen Core i5',\n",
       "       'AMD Ryzen 9 6900HS', 'AMD Ryzen 3 7330U', '12th Gen Core i3 ',\n",
       "       'AMD Ryzen 7 7730U', 'AMD Athlon Silver-3050U',\n",
       "       '11th Gen Core i5 ', 'AMD Ryzen 7 7735HS', 'Ryzen 3 3250U',\n",
       "       'Ryzen 5 7530U', 'Ryzen 5-5600H', 'AQC', '13th Gen Core i7',\n",
       "       'Intel Core Ultra 7 155H', 'Intel Core Ultra 5',\n",
       "       '13th Gen Core i3', '14th Gen Core i7', 'Intel Core Ultra 7',\n",
       "       'Apple M3 Max', 'Apple M3 Pro', 'AMD Athlon Silver 7120U',\n",
       "       '11th Gen Core i3 ', 'Celeron N4020', 'AMD Ryzen 5 5500U',\n",
       "       'Intel Celeron N5100', 'Ryzen 7 5800H', 'AMD Ryzen 7 6800H',\n",
       "       'Ryzen 5 7520U', 'Celeron N4500', 'Ryzen 7-5800H',\n",
       "       '10th Gen Core i7', 'AMD Ryzen 5 7520U', 'Snapdragon X Elite',\n",
       "       'AMD Ryzen 7 8845HS', 'Intel Core Ultra 5 125H',\n",
       "       'Intel Core Ultra 7 155U', 'AMD Ryzen 5 7535H',\n",
       "       'Intel Core Ultra 5 125U', 'AMD Ryzen 7 7735H',\n",
       "       'Intel Core Ultra 9', 'Intel Celeron N4020', 'Intel Celeron N100',\n",
       "       'Intel Core 7 Processor 150U', ' Intel Core Ultra 7',\n",
       "       'Intel Pentium Gold', 'AMD Ryzen 7 5700U', '10th Gen Core i3',\n",
       "       'Ryzen 5 5500U', 'Intel Pentium N100', 'MediaTek Kompanio 520',\n",
       "       ' AMD Ryzen 5 7530U', 'AMD Ryzen 3 3250U', 'AMD Ryzen 5 7530U',\n",
       "       '10th Gen Core i5', 'Intel Core Ultra 9 ', 'AMD Ryzen 5 5500U ',\n",
       "       ' Intel Core Ultra 7 155U', 'Kirin 9006C', 'AMD Ryzen R3-7320U,',\n",
       "       'Octa Core', 'Intel Core i3 N305', 'AMD Ryzen 5 7535HS ',\n",
       "       'AMD Ryzen 5 5500H', 'Ryzen 7 5800HS', 'AMD Ryzen 3 7320U ',\n",
       "       'Intel Celeron N4500', '12th Gen Core i5 ', 'MediaTek MT8183',\n",
       "       ' Intel Celeron N4500', 'AMD Ryzen 7 7840H', ' AMD Ryzen 7 7745HX',\n",
       "       'AMD Ryzen 7 5800H', 'AMD Ryzen 5 7520U ', 'AMD Ryzen 7 6800HS',\n",
       "       'AMD Ryzen 5 6600H', 'AMD Ryzen 7', 'AMD Athlon 7120U ',\n",
       "       'AMD Athlon Silver 3050U', 'AMD Ryzen 5-5500U',\n",
       "       'AMD Ryzen 7 7735U', 'AMD Ryzen 5 5600HS', 'AMD Ryzen 7 5800HS',\n",
       "       'Ryzen 5-5500U', 'Ryzen 3 7320U ', 'Ryzen 5 5600H',\n",
       "       '10th Gen Core i5 ', 'AMD Ryzen R5-7520U', 'AMD Ryzen 75825U',\n",
       "       'AMD Ryzen 7 7745HX', 'AMD Ryzen 9 7845HX', None,\n",
       "       'AMD Ryzen5-7530U', '12th Gen Core i9', 'Celeron Dual Core',\n",
       "       'AMD Ryzen  3 7320U', 'AMD Ryzen 5-5600H', 'AMD Ryzen 9 7940HS',\n",
       "       'AMD Ryzen7-7730U', 'Ryzen 7 7730U', 'AMD Ryzen 7- 7730U',\n",
       "       'Ryzen 5 5600HS', 'Pentium Silver N6000', 'AMD Ryzen 7 5800U',\n",
       "       'Ryzen 5 7530U ', '13th Gen Core i5 1335U', 'Core i3-N305',\n",
       "       'Ryzen 7 5800HS ', 'AMD Ryzen 7040 Series', 'AMD Ryzen 9 7940HS ',\n",
       "       'Ryzen 9 6900HX', 'AMD Ryzen 5 5625U', 'AMD Ryzen 7-5800H',\n",
       "       'Ryzen 5 6600H', 'Ryzen 5 7520U ', 'Intel Core i3-N305',\n",
       "       'AMD Ryzen 7 '], dtype=object)"
      ]
     },
     "execution_count": 119,
     "metadata": {},
     "output_type": "execute_result"
    }
   ],
   "source": [
    "# checking unique values\n",
    "df.processor_name.unique()"
   ]
  },
  {
   "cell_type": "code",
   "execution_count": 120,
   "id": "a91ff01f-6ec5-4b7f-8f5c-9d5b7a6d9702",
   "metadata": {},
   "outputs": [],
   "source": [
    "# Intel Generation: Extracts '12', '11', etc. from '12th Gen Core i5'\n",
    "df['intel_gen'] = df['processor_name'].str.extract(r'(\\d{1,2})(?=th Gen Core)')\n",
    "\n",
    "# AMD Generation: Extracts '3', '5', etc. from 'Ryzen 5 5600H'\n",
    "df['amd_gen'] = df['processor_name'].str.extract(r'Ryzen (\\d) \\d{4}[A-Z]*')\n",
    "\n",
    "# Combine both into one 'generation' column\n",
    "df['generation'] = df['intel_gen'].combine_first(df['amd_gen'])\n",
    "\n",
    "# Drop intermediate columns if needed\n",
    "df.drop(columns=['intel_gen', 'amd_gen'], inplace=True)"
   ]
  },
  {
   "cell_type": "code",
   "execution_count": 121,
   "id": "2fe899bd-c71d-4e2e-9560-6de932faded8",
   "metadata": {},
   "outputs": [
    {
     "data": {
      "text/plain": [
       "917    12\n",
       "619     7\n",
       "339     5\n",
       "669    13\n",
       "5       3\n",
       "Name: generation, dtype: object"
      ]
     },
     "execution_count": 121,
     "metadata": {},
     "output_type": "execute_result"
    }
   ],
   "source": [
    "# checking sample values\n",
    "df['generation'].sample(5)"
   ]
  },
  {
   "cell_type": "code",
   "execution_count": 122,
   "id": "250ac920-41a6-45a6-aac0-dd7e5ff8f6b4",
   "metadata": {},
   "outputs": [
    {
     "data": {
      "text/plain": [
       "np.int64(153)"
      ]
     },
     "execution_count": 122,
     "metadata": {},
     "output_type": "execute_result"
    }
   ],
   "source": [
    "# checking nan values \n",
    "df.generation.isna().sum()"
   ]
  },
  {
   "cell_type": "code",
   "execution_count": 123,
   "id": "2a73ee9c-ea30-4eb9-bb39-8dc3f6c7e1cf",
   "metadata": {},
   "outputs": [],
   "source": [
    "# filling nan vales\n",
    "df.generation =df.generation.fillna(\"Not Available\")"
   ]
  },
  {
   "cell_type": "code",
   "execution_count": 124,
   "id": "85a8eab1-3bf5-4174-b027-c9d931db0a2b",
   "metadata": {},
   "outputs": [
    {
     "data": {
      "text/plain": [
       "np.int64(0)"
      ]
     },
     "execution_count": 124,
     "metadata": {},
     "output_type": "execute_result"
    }
   ],
   "source": [
    "# checking nan values \n",
    "df.generation.isna().sum()"
   ]
  },
  {
   "cell_type": "code",
   "execution_count": 125,
   "id": "080e4c84-0129-42fc-8116-7c4cc6c94df8",
   "metadata": {},
   "outputs": [],
   "source": [
    "# removing unwanted column\n",
    "df.drop(columns=['processor_name'],inplace = True)"
   ]
  },
  {
   "cell_type": "code",
   "execution_count": 126,
   "id": "759fc2ea-8bdc-4147-94f4-5771e184f5a3",
   "metadata": {
    "scrolled": true
   },
   "outputs": [
    {
     "data": {
      "text/plain": [
       "array(['6 x 3.3\\u2009GHz (Turbo Speed upto 4.2\\u2009GHz) Cores',\n",
       "       '8 x 2.2\\u2009GHz (Turbo Speed upto 5.8\\u2009GHz) Performance Cores16 x 1.6\\u2009GHz (Turbo Speed upto 4.1\\u2009GHz) Efficient Cores',\n",
       "       '2 x 3\\u2009GHz (Turbo Speed upto 4.1\\u2009GHz) Cores',\n",
       "       '4 x 1.7\\u2009GHz (Turbo Speed upto 4.4\\u2009GHz) Performance Cores8 x 1.2\\u2009GHz (Turbo Speed upto 3.3\\u2009GHz) Efficient Cores',\n",
       "       '4 x (Turbo Speed upto 3.2\\u2009GHz) Performance Cores4 x (Turbo Speed upto 2.1\\u2009GHz) Efficient Cores',\n",
       "       '4 x 2.4\\u2009GHz (Turbo Speed upto 4.1\\u2009GHz) Cores',\n",
       "       '2 x 1.2\\u2009GHz (Turbo Speed upto 4.4\\u2009GHz) Performance Cores4 x 900\\u2009MHz (Turbo Speed upto 3.3\\u2009GHz) Efficient Cores',\n",
       "       '2 x 1.3\\u2009GHz (Turbo Speed upto 4.4\\u2009GHz) Performance Cores8 x 900\\u2009MHz (Turbo Speed upto 3.3\\u2009GHz) Efficient Cores',\n",
       "       '4 x 2.5\\u2009GHz (Turbo Speed upto 4.5\\u2009GHz) Performance Cores8 x 1.8\\u2009GHz (Turbo Speed upto 3.3\\u2009GHz) Efficient Cores',\n",
       "       '4 x (Turbo Speed upto 3.5\\u2009GHz) Performance Cores4 x (Turbo Speed upto 2.4\\u2009GHz) Efficient Cores',\n",
       "       '8 x 3.8\\u2009GHz (Turbo Speed upto 5.1\\u2009GHz) Cores',\n",
       "       '4 x 2.4\\u2009GHz (Turbo Speed upto 4.2\\u2009GHz) Cores',\n",
       "       '4 x 2.6\\u2009GHz (Turbo Speed upto 3.8\\u2009GHz) Cores',\n",
       "       '4 x 2\\u2009GHz (Turbo Speed upto 4.4\\u2009GHz) Performance Cores4 x 1.5\\u2009GHz (Turbo Speed upto 3.3\\u2009GHz) Efficient Cores',\n",
       "       '2 x 1.4\\u2009GHz (Turbo Speed upto 5\\u2009GHz) Performance Cores8 x 900\\u2009MHz (Turbo Speed upto 3.8\\u2009GHz) Efficient Cores',\n",
       "       '2 x 1.7\\u2009GHz (Turbo Speed upto 4.7\\u2009GHz) Performance Cores8 x 1.2\\u2009GHz (Turbo Speed upto 3.5\\u2009GHz) Efficient Cores',\n",
       "       '8 x 2.3\\u2009GHz (Turbo Speed upto 4.6\\u2009GHz) Cores',\n",
       "       '6 x 3.3\\u2009GHz (Turbo Speed upto 4.55\\u2009GHz) Cores',\n",
       "       '4 x Performance Cores4 x Efficient Cores',\n",
       "       '6 x 2.6\\u2009GHz (Turbo Speed upto 5.4\\u2009GHz) Performance Cores8 x 1.9\\u2009GHz (Turbo Speed upto 4.1\\u2009GHz) Efficient Cores',\n",
       "       '6 x 2.3\\u2009GHz (Turbo Speed upto 4.7\\u2009GHz) Performance Cores8 x 1.7\\u2009GHz (Turbo Speed upto 3.5\\u2009GHz) Efficient Cores',\n",
       "       '6 x 2.2\\u2009GHz (Turbo Speed upto 4.5\\u2009GHz) Cores',\n",
       "       '6 x 2.3\\u2009GHz (Turbo Speed upto 4.7\\u2009GHz) Performance Cores4 x 1.7\\u2009GHz (Turbo Speed upto 3.5\\u2009GHz) Efficient Cores',\n",
       "       '6 x (Turbo Speed upto 4.6\\u2009GHz) Performance Cores4 x (Turbo Speed upto 3.4\\u2009GHz) Efficient Cores',\n",
       "       '8 x 3.3\\u2009GHz (Turbo Speed upto 4.9\\u2009GHz) Cores',\n",
       "       '4 x 2.3\\u2009GHz (Turbo Speed upto 4.3\\u2009GHz) Cores',\n",
       "       '8 x 2\\u2009GHz (Turbo Speed upto 4.5\\u2009GHz) Cores',\n",
       "       '4 x (Turbo Speed upto 4.6\\u2009GHz) Performance Cores4 x (Turbo Speed upto 3.4\\u2009GHz) Efficient Cores',\n",
       "       '2 x 2.3\\u2009GHz (Turbo Speed upto 3.2\\u2009GHz) Cores',\n",
       "       '8 x 3.2\\u2009GHz (Turbo Speed upto 4.75\\u2009GHz) Cores',\n",
       "       '2 x 2.6\\u2009GHz (Turbo Speed upto 3.5\\u2009GHz) Cores',\n",
       "       '6 x 2\\u2009GHz (Turbo Speed upto 4.5\\u2009GHz) Cores',\n",
       "       '4 x 1.33\\u2009GHz (Turbo Speed upto 1.83\\u2009GHz) Cores',\n",
       "       '2 x (Turbo Speed upto 5\\u2009GHz) Performance Cores8 x (Turbo Speed upto 3.7\\u2009GHz) Efficient Cores',\n",
       "       '2 x (Turbo Speed upto 4.6\\u2009GHz) Performance Cores8 x (Turbo Speed upto 3.4\\u2009GHz) Efficient Cores',\n",
       "       '6 x 1.4\\u2009GHz (Turbo Speed upto 4.8\\u2009GHz) Performance Cores8 x 900\\u2009MHz (Turbo Speed upto 3.8\\u2009GHz) Efficient Cores2 x 700\\u2009MHz (Turbo Speed upto 2.5\\u2009GHz) Low Power Efficient Cores',\n",
       "       '4 x 1.2\\u2009GHz (Turbo Speed upto 4.5\\u2009GHz) Performance Cores8 x 700\\u2009MHz (Turbo Speed upto 3.6\\u2009GHz) Efficient Cores2 x 700\\u2009MHz (Turbo Speed upto 2.5\\u2009GHz) Low Power Efficient Cores',\n",
       "       '2 x 1.2\\u2009GHz (Turbo Speed upto 4.5\\u2009GHz) Performance Cores4 x 900\\u2009MHz (Turbo Speed upto 3.3\\u2009GHz) Efficient Cores',\n",
       "       '8 x 2.1\\u2009GHz (Turbo Speed upto 5.5\\u2009GHz) Performance Cores12 x 1.5\\u2009GHz (Turbo Speed upto 3.9\\u2009GHz) Efficient Cores',\n",
       "       nan,\n",
       "       '8 x (Turbo Speed upto 5.5\\u2009GHz) Performance Cores16 x (Turbo Speed upto 3.7\\u2009GHz) Efficient Cores',\n",
       "       '4 x (Turbo Speed upto 4.7\\u2009GHz) Performance Cores8 x (Turbo Speed upto 3.5\\u2009GHz) Efficient Cores',\n",
       "       '4 x 2.2\\u2009GHz (Turbo Speed upto 5\\u2009GHz) Performance Cores8 x 1.6\\u2009GHz (Turbo Speed upto 3.7\\u2009GHz) Efficient Cores',\n",
       "       '12 x Performance Cores4 x Efficient Cores',\n",
       "       '5 x Performance Cores6 x Efficient Cores',\n",
       "       '2 x 2.4\\u2009GHz (Turbo Speed upto 3.5\\u2009GHz) Cores',\n",
       "       '2 x 1.5\\u2009GHz (Turbo Speed upto 4.4\\u2009GHz) Performance Cores8 x 1.1\\u2009GHz (Turbo Speed upto 3.3\\u2009GHz) Efficient Cores',\n",
       "       '6 x (Turbo Speed upto 4.9\\u2009GHz) Performance Cores8 x (Turbo Speed upto 3.6\\u2009GHz) Efficient Cores',\n",
       "       '4 x (Turbo Speed upto 3.7\\u2009GHz) Cores',\n",
       "       '6 x 2.1\\u2009GHz (Turbo Speed upto 4.4\\u2009GHz) Cores',\n",
       "       '14 x 3\\u2009GHz (Turbo Speed upto 4.7\\u2009GHz) Cores',\n",
       "       '2 x 1.1\\u2009GHz (Turbo Speed upto 2.8\\u2009GHz) Cores',\n",
       "       '6 x 2.1\\u2009GHz (Turbo Speed upto 4\\u2009GHz) Cores',\n",
       "       '4 x 1.1\\u2009GHz (Turbo Speed upto 2.8\\u2009GHz) Cores',\n",
       "       '4 x 1.9\\u2009GHz (Turbo Speed upto 4.6\\u2009GHz) Performance Cores8 x 1.4\\u2009GHz (Turbo Speed upto 3.4\\u2009GHz) Efficient Cores',\n",
       "       '8 x 3.2\\u2009GHz (Turbo Speed upto 4.4\\u2009GHz) Cores',\n",
       "       '8 x (Turbo Speed upto 5\\u2009GHz) Performance Cores8 x (Turbo Speed upto 3.7\\u2009GHz) Efficient Cores',\n",
       "       '8 x 3.2\\u2009GHz (Turbo Speed upto 4.7\\u2009GHz) Cores',\n",
       "       '4 x 2.8\\u2009GHz (Turbo Speed upto 4.3\\u2009GHz) Cores',\n",
       "       '2 x (Turbo Speed upto 4.1\\u2009GHz) Cores',\n",
       "       '6 x 2.6\\u2009GHz (Turbo Speed upto 5\\u2009GHz) Cores',\n",
       "       '8 x (Turbo Speed upto 5.6\\u2009GHz) Performance Cores16 x (Turbo Speed upto 4\\u2009GHz) Efficient Cores',\n",
       "       '6 x (Turbo Speed upto 5\\u2009GHz) Performance Cores8 x (Turbo Speed upto 3.7\\u2009GHz) Efficient Cores',\n",
       "       '2 x 1.7\\u2009GHz (Turbo Speed upto 4.8\\u2009GHz) Performance Cores8 x 1.2\\u2009GHz (Turbo Speed upto 3.8\\u2009GHz) Efficient Cores2 x 700\\u2009MHz (Turbo Speed upto 2.1\\u2009GHz) Low Power Efficient Cores',\n",
       "       '2 x 1.3\\u2009GHz (Turbo Speed upto 4.3\\u2009GHz) Performance Cores8 x 800\\u2009MHz (Turbo Speed upto 3.6\\u2009GHz) Efficient Cores2 x 700\\u2009MHz (Turbo Speed upto 2.1\\u2009GHz) Low Power Efficient Cores',\n",
       "       '6 x 2.3\\u2009GHz (Turbo Speed upto 5.1\\u2009GHz) Performance Cores8 x 1.8\\u2009GHz (Turbo Speed upto 3.8\\u2009GHz) Efficient Cores2 x (Turbo Speed upto 2.5\\u2009GHz) Low Power Efficient Cores',\n",
       "       '4 x 2.5\\u2009GHz (Turbo Speed upto 4.5\\u2009GHz) Cores',\n",
       "       '4 x (Turbo Speed upto 3.4\\u2009GHz) Cores',\n",
       "       '2 x 1.8\\u2009GHz (Turbo Speed upto 5.4\\u2009GHz) Performance Cores8 x 1.2\\u2009GHz (Turbo Speed upto 4\\u2009GHz) Efficient Cores',\n",
       "       '6 x (Turbo Speed upto 4.9\\u2009GHz) Performance Cores4 x (Turbo Speed upto 3.6\\u2009GHz) Efficient Cores',\n",
       "       '4 x 1.2\\u2009GHz (Turbo Speed upto 4.7\\u2009GHz) Cores',\n",
       "       '2 x 2\\u2009GHz (Turbo Speed upto 3.5\\u2009GHz) Cores',\n",
       "       '8 x 1.8\\u2009GHz (Turbo Speed upto 4.3\\u2009GHz) Cores',\n",
       "       '1 x (Turbo Speed upto 4.5\\u2009GHz) Performance Cores4 x (Turbo Speed upto 3.3\\u2009GHz) Efficient Cores',\n",
       "       '4 x 1\\u2009GHz (Turbo Speed upto 4\\u2009GHz) Cores',\n",
       "       '8 x (Turbo Speed upto 2\\u2009GHz) Cores',\n",
       "       '4 x (Turbo Speed upto 4.4\\u2009GHz) Performance Cores4 x (Turbo Speed upto 3.1\\u2009GHz) Efficient Cores',\n",
       "       '4 x 1\\u2009GHz (Turbo Speed upto 3.6\\u2009GHz) Cores',\n",
       "       '8 x (Turbo Speed upto 5.4\\u2009GHz) Performance Cores16 x (Turbo Speed upto 3.9\\u2009GHz) Efficient Cores',\n",
       "       '8 x (Turbo Speed upto 3.8\\u2009GHz) Cores',\n",
       "       '6 x Performance Cores6 x Efficient Cores',\n",
       "       '10 x Performance Cores4 x Efficient Cores',\n",
       "       '4 x 3.3\\u2009GHz (Turbo Speed upto 4.2\\u2009GHz) Cores',\n",
       "       '8 x 2.8\\u2009GHz (Turbo Speed upto 4.4\\u2009GHz) Cores',\n",
       "       '2 x 2.8\\u2009Hz Cores',\n",
       "       '8 x 3.6\\u2009GHz (Turbo Speed upto 5.1\\u2009GHz) Cores',\n",
       "       '6 x (Turbo Speed upto 4.5\\u2009GHz) Cores',\n",
       "       '2 x (Turbo Speed upto 2.8\\u2009GHz) Cores',\n",
       "       '2 x (Turbo Speed upto 4.7\\u2009GHz) Performance Cores8 x (Turbo Speed upto 3.5\\u2009GHz) Efficient Cores',\n",
       "       '8 x 2.7\\u2009GHz (Turbo Speed upto 4.75\\u2009GHz) Cores',\n",
       "       '6 x 3\\u2009GHz (Turbo Speed upto 4.2\\u2009GHz) Cores',\n",
       "       '4 x 1.1\\u2009GHz (Turbo Speed upto 3.7\\u2009GHz) Cores',\n",
       "       '1 x (Turbo Speed upto 4.5\\u2009GHz) Performance Cores4 x (Turbo Speed upto 3.5\\u2009GHz) Efficient Cores',\n",
       "       '2 x (Turbo Speed upto 5.2\\u2009GHz) Performance Cores8 x (Turbo Speed upto 3.9\\u2009GHz) Efficient Cores',\n",
       "       '4 x 1.6\\u2009GHz (Turbo Speed upto 4.2\\u2009GHz) Cores',\n",
       "       '4 x 2.9\\u2009GHz (Turbo Speed upto 5\\u2009GHz) Cores',\n",
       "       '6 x (Turbo Speed upto 5.4\\u2009GHz) Performance Cores8 x (Turbo Speed upto 4.1\\u2009GHz) Efficient Cores',\n",
       "       '12 x 3\\u2009GHz (Turbo Speed upto 5.2\\u2009GHz) Cores',\n",
       "       '4 x 1.1\\u2009GHz (Turbo Speed upto 3.3\\u2009GHz) Cores',\n",
       "       '6 x 2.5\\u2009GHz (Turbo Speed upto 5\\u2009GHz) Performance Cores8 x 1.8\\u2009GHz (Turbo Speed upto 3.8\\u2009GHz) Efficient Cores',\n",
       "       '2 x (Turbo Speed upto 4.5\\u2009GHz) Performance Cores4 x (Turbo Speed upto 3.3\\u2009GHz) Efficient Cores',\n",
       "       '2 x 1.2\\u2009GHz (Turbo Speed upto 3.4\\u2009GHz) Cores',\n",
       "       '8 x 4\\u2009GHz (Turbo Speed upto 5.2\\u2009GHz) Cores',\n",
       "       '8 x 1.9\\u2009GHz (Turbo Speed upto 4.4\\u2009GHz) Cores',\n",
       "       '2 x 2.8\\u2009GHz Cores', '8 x Cores',\n",
       "       '2 x (Turbo Speed upto 4.4\\u2009GHz) Performance Cores8 x (Turbo Speed upto 3.3\\u2009GHz) Efficient Cores',\n",
       "       '6 x 2.3\\u2009GHz (Turbo Speed upto 4.3\\u2009GHz) Cores',\n",
       "       '6 x (Turbo Speed upto 4.7\\u2009GHz) Performance Cores8 x (Turbo Speed upto 3.5\\u2009GHz) Efficient Cores',\n",
       "       '8 x 2.5\\u2009GHz (Turbo Speed upto 4.8\\u2009GHz) Cores',\n",
       "       '8 x (Turbo Speed upto 5.5\\u2009GHz) Performance Cores16 x (Turbo Speed upto 4\\u2009GHz) Efficient Cores',\n",
       "       '4 x 2.1\\u2009GHz (Turbo Speed upto 4.7\\u2009GHz) Performance Cores8 x 1.5\\u2009GHz (Turbo Speed upto 3.4\\u2009GHz) Efficient Cores'],\n",
       "      dtype=object)"
      ]
     },
     "execution_count": 126,
     "metadata": {},
     "output_type": "execute_result"
    }
   ],
   "source": [
    "# checking unique values\n",
    "df.processor_speed.unique()"
   ]
  },
  {
   "cell_type": "code",
   "execution_count": 127,
   "id": "3adef460-03f6-4af6-9b15-ca63db7da224",
   "metadata": {},
   "outputs": [],
   "source": [
    "# removing unwanted text\n",
    "df.processor_speed =df.processor_speed.str.replace(\"\\u2009\",\"\")"
   ]
  },
  {
   "cell_type": "code",
   "execution_count": 128,
   "id": "898ac041-2b55-4140-8db1-0b7801eab3d6",
   "metadata": {},
   "outputs": [],
   "source": [
    "# extracting data\n",
    "df['processor_speed']=df['processor_speed'].str.extract(r'(\\(.*?\\))')"
   ]
  },
  {
   "cell_type": "code",
   "execution_count": 129,
   "id": "7f1d6ccf-fd63-44e6-a1e3-ce14acc43882",
   "metadata": {
    "scrolled": true
   },
   "outputs": [
    {
     "data": {
      "text/plain": [
       "array(['(Turbo Speed upto 4.2GHz)', '(Turbo Speed upto 5.8GHz)',\n",
       "       '(Turbo Speed upto 4.1GHz)', '(Turbo Speed upto 4.4GHz)',\n",
       "       '(Turbo Speed upto 3.2GHz)', '(Turbo Speed upto 4.5GHz)',\n",
       "       '(Turbo Speed upto 3.5GHz)', '(Turbo Speed upto 5.1GHz)',\n",
       "       '(Turbo Speed upto 3.8GHz)', '(Turbo Speed upto 5GHz)',\n",
       "       '(Turbo Speed upto 4.7GHz)', '(Turbo Speed upto 4.6GHz)',\n",
       "       '(Turbo Speed upto 4.55GHz)', nan, '(Turbo Speed upto 5.4GHz)',\n",
       "       '(Turbo Speed upto 4.9GHz)', '(Turbo Speed upto 4.3GHz)',\n",
       "       '(Turbo Speed upto 4.75GHz)', '(Turbo Speed upto 1.83GHz)',\n",
       "       '(Turbo Speed upto 4.8GHz)', '(Turbo Speed upto 5.5GHz)',\n",
       "       '(Turbo Speed upto 3.7GHz)', '(Turbo Speed upto 2.8GHz)',\n",
       "       '(Turbo Speed upto 4GHz)', '(Turbo Speed upto 5.6GHz)',\n",
       "       '(Turbo Speed upto 3.4GHz)', '(Turbo Speed upto 2GHz)',\n",
       "       '(Turbo Speed upto 3.6GHz)', '(Turbo Speed upto 5.2GHz)',\n",
       "       '(Turbo Speed upto 3.3GHz)'], dtype=object)"
      ]
     },
     "execution_count": 129,
     "metadata": {},
     "output_type": "execute_result"
    }
   ],
   "source": [
    "# checking unique values\n",
    "df['processor_speed'].unique()"
   ]
  },
  {
   "cell_type": "code",
   "execution_count": 130,
   "id": "6ca91017-31e8-40d5-ad99-25ca6a48e7b6",
   "metadata": {},
   "outputs": [
    {
     "data": {
      "text/plain": [
       "np.int64(23)"
      ]
     },
     "execution_count": 130,
     "metadata": {},
     "output_type": "execute_result"
    }
   ],
   "source": [
    "# checking nan values\n",
    "df['processor_speed'].isna().sum()"
   ]
  },
  {
   "cell_type": "code",
   "execution_count": 131,
   "id": "f9e707b3-7428-409d-a40c-401d843cab4e",
   "metadata": {},
   "outputs": [],
   "source": [
    "# filling nan values\n",
    "df['processor_speed'] =df['processor_speed'].fillna(\"Not Available\")"
   ]
  },
  {
   "cell_type": "code",
   "execution_count": 132,
   "id": "3c25cb44-d307-4718-a09f-e5e11871af7f",
   "metadata": {},
   "outputs": [
    {
     "data": {
      "text/plain": [
       "np.int64(0)"
      ]
     },
     "execution_count": 132,
     "metadata": {},
     "output_type": "execute_result"
    }
   ],
   "source": [
    "# checking nan values\n",
    "df['processor_speed'].isna().sum()"
   ]
  },
  {
   "cell_type": "code",
   "execution_count": 133,
   "id": "4b5349f7-db26-40c2-b57e-0a315cf33a15",
   "metadata": {},
   "outputs": [
    {
     "data": {
      "text/plain": [
       "718    (Turbo Speed upto 4.9GHz)\n",
       "787    (Turbo Speed upto 4.4GHz)\n",
       "527    (Turbo Speed upto 4.4GHz)\n",
       "847    (Turbo Speed upto 4.5GHz)\n",
       "378    (Turbo Speed upto 5.4GHz)\n",
       "Name: processor_speed, dtype: object"
      ]
     },
     "execution_count": 133,
     "metadata": {},
     "output_type": "execute_result"
    }
   ],
   "source": [
    "# checking sample values\n",
    "df['processor_speed'].sample(5)"
   ]
  },
  {
   "cell_type": "code",
   "execution_count": 134,
   "id": "6c65f487-773f-41b1-8557-c55c69f91611",
   "metadata": {},
   "outputs": [
    {
     "name": "stdout",
     "output_type": "stream",
     "text": [
      "<class 'pandas.core.frame.DataFrame'>\n",
      "Index: 1020 entries, 0 to 1019\n",
      "Data columns (total 34 columns):\n",
      " #   Column                   Non-Null Count  Dtype  \n",
      "---  ------                   --------------  -----  \n",
      " 0   price                    1020 non-null   int64  \n",
      " 1   specification_score      1020 non-null   float64\n",
      " 2   votes                    1020 non-null   int64  \n",
      " 3   user_rating              1020 non-null   float64\n",
      " 4   operating_system         1020 non-null   object \n",
      " 5   utility                  1020 non-null   object \n",
      " 6   weight                   1020 non-null   object \n",
      " 7   warranty                 1020 non-null   object \n",
      " 8   screen_size              1020 non-null   object \n",
      " 9   pixels_per_inch          1020 non-null   object \n",
      " 10  screen_feature           1020 non-null   object \n",
      " 11  processor_speed          1020 non-null   object \n",
      " 12  number_of_cores          930 non-null    object \n",
      " 13  caches                   982 non-null    object \n",
      " 14  rom_memory               810 non-null    object \n",
      " 15  internal_memory          1014 non-null   object \n",
      " 16  port_connection          1005 non-null   object \n",
      " 17  wireless_connection      1020 non-null   object \n",
      " 18  usb_ports                1014 non-null   object \n",
      " 19  hardware_features        1018 non-null   object \n",
      " 20  product_name             1020 non-null   object \n",
      " 21  ram                      1017 non-null   object \n",
      " 22  ssd                      1017 non-null   object \n",
      " 23  windows                  1017 non-null   object \n",
      " 24  graphic                  1020 non-null   object \n",
      " 25  thickness_in_mm          1020 non-null   object \n",
      " 26  thickness_in_size        1020 non-null   object \n",
      " 27  screen_size_in_inches    1020 non-null   object \n",
      " 28  resolution_in_size       1020 non-null   object \n",
      " 29  resolution_in_quality    1020 non-null   object \n",
      " 30  pixels_per_inch_quality  1020 non-null   object \n",
      " 31  battery_in_wh            1020 non-null   object \n",
      " 32  battery_cell             1020 non-null   object \n",
      " 33  generation               1020 non-null   object \n",
      "dtypes: float64(2), int64(2), object(30)\n",
      "memory usage: 278.9+ KB\n"
     ]
    }
   ],
   "source": [
    "df.info()"
   ]
  },
  {
   "cell_type": "code",
   "execution_count": 135,
   "id": "8b1e8022-0cf3-4979-84be-c5af80ae418c",
   "metadata": {},
   "outputs": [
    {
     "data": {
      "text/plain": [
       "price                        0\n",
       "specification_score          0\n",
       "votes                        0\n",
       "user_rating                  0\n",
       "operating_system             0\n",
       "utility                      0\n",
       "weight                       0\n",
       "warranty                     0\n",
       "screen_size                  0\n",
       "pixels_per_inch              0\n",
       "screen_feature               0\n",
       "processor_speed              0\n",
       "number_of_cores             90\n",
       "caches                      38\n",
       "rom_memory                 210\n",
       "internal_memory              6\n",
       "port_connection             15\n",
       "wireless_connection          0\n",
       "usb_ports                    6\n",
       "hardware_features            2\n",
       "product_name                 0\n",
       "ram                          3\n",
       "ssd                          3\n",
       "windows                      3\n",
       "graphic                      0\n",
       "thickness_in_mm              0\n",
       "thickness_in_size            0\n",
       "screen_size_in_inches        0\n",
       "resolution_in_size           0\n",
       "resolution_in_quality        0\n",
       "pixels_per_inch_quality      0\n",
       "battery_in_wh                0\n",
       "battery_cell                 0\n",
       "generation                   0\n",
       "dtype: int64"
      ]
     },
     "execution_count": 135,
     "metadata": {},
     "output_type": "execute_result"
    }
   ],
   "source": [
    "# checking null values \n",
    "df.isna().sum()"
   ]
  },
  {
   "cell_type": "code",
   "execution_count": 136,
   "id": "dd16934d-ccb2-4fd8-a798-d9f454cf09e0",
   "metadata": {},
   "outputs": [
    {
     "data": {
      "text/plain": [
       "array(['Hexa Core, 12 Threads', '24 Cores (8P + 16E), 32 Threads',\n",
       "       'Dual Core, 4 Threads', '12 Cores (4P + 8E), 16 Threads',\n",
       "       'Octa Core (4P + 4E)', 'Quad Core, 8 Threads',\n",
       "       'Hexa Core (2P + 4E), 8 Threads', '10 Cores (2P + 8E), 12 Threads',\n",
       "       'Octa Core, 16 Threads', 'Octa Core (4P + 4E), 12 Threads',\n",
       "       '14 Cores (6P + 8E), 20 Threads', '10 Cores (6P + 4E), 16 Threads',\n",
       "       'Dual Core, 2 Threads', 'Quad Core',\n",
       "       '16 Cores (6P + 8E + 2LP-E), 22 Threads',\n",
       "       '14 Cores (4P + 8E + 2LP-E), 18 Threads',\n",
       "       '20 Cores (8P + 12E), 28 Threads', nan, '14 Cores (6P + 8E)',\n",
       "       '14 Cores, 20 Threads', 'Quad Core, 4 Threads',\n",
       "       '16 Cores (8P + 8E), 24 Threads',\n",
       "       '12 Cores (2P + 8E + 2LP-E), 14 Threads',\n",
       "       '5 Cores (1P + 4E), 6 Threads', '3.13\\u2009GHz Cores', 'Octa Core',\n",
       "       'Octa Core, 8 Threads', '12 Cores (6P + 6E)',\n",
       "       '14 Cores (10P + 4E)', 'Dual Core', '20 Threads',\n",
       "       '12 Cores, 24 Threads', '24 Cores (8P + 16E)'], dtype=object)"
      ]
     },
     "execution_count": 136,
     "metadata": {},
     "output_type": "execute_result"
    }
   ],
   "source": [
    "# checking unique values\n",
    "df.number_of_cores.unique()"
   ]
  },
  {
   "cell_type": "code",
   "execution_count": 137,
   "id": "6ff60a3f-48d2-4819-abe5-37a25d21f7a5",
   "metadata": {},
   "outputs": [],
   "source": [
    "# Remove unwanted text and strip extra spaces\n",
    "df['number_of_cores'] = df['number_of_cores'].str.replace(r'\\([^)]*\\)', '', regex=True).str.strip()"
   ]
  },
  {
   "cell_type": "code",
   "execution_count": 138,
   "id": "5d5a5b55-84cc-4891-a19d-ac132fd7143e",
   "metadata": {},
   "outputs": [
    {
     "data": {
      "text/plain": [
       "array(['Hexa Core, 12 Threads', '24 Cores , 32 Threads',\n",
       "       'Dual Core, 4 Threads', '12 Cores , 16 Threads', 'Octa Core',\n",
       "       'Quad Core, 8 Threads', 'Hexa Core , 8 Threads',\n",
       "       '10 Cores , 12 Threads', 'Octa Core, 16 Threads',\n",
       "       'Octa Core , 12 Threads', '14 Cores , 20 Threads',\n",
       "       '10 Cores , 16 Threads', 'Dual Core, 2 Threads', 'Quad Core',\n",
       "       '16 Cores , 22 Threads', '14 Cores , 18 Threads',\n",
       "       '20 Cores , 28 Threads', nan, '14 Cores', '14 Cores, 20 Threads',\n",
       "       'Quad Core, 4 Threads', '16 Cores , 24 Threads',\n",
       "       '12 Cores , 14 Threads', '5 Cores , 6 Threads',\n",
       "       '3.13\\u2009GHz Cores', 'Octa Core, 8 Threads', '12 Cores',\n",
       "       'Dual Core', '20 Threads', '12 Cores, 24 Threads', '24 Cores'],\n",
       "      dtype=object)"
      ]
     },
     "execution_count": 138,
     "metadata": {},
     "output_type": "execute_result"
    }
   ],
   "source": [
    "# checking unique values \n",
    "df['number_of_cores'].unique()"
   ]
  },
  {
   "cell_type": "code",
   "execution_count": 139,
   "id": "0875a730-0fb6-41ef-bed2-ae25a5e9bf65",
   "metadata": {},
   "outputs": [],
   "source": [
    "# removing unwanted text\n",
    "df.number_of_cores =df.number_of_cores.str.replace(\"\\u2009\",\"\")"
   ]
  },
  {
   "cell_type": "code",
   "execution_count": 140,
   "id": "e764c3f9-090e-4feb-a826-e606f9bc8376",
   "metadata": {},
   "outputs": [
    {
     "data": {
      "text/plain": [
       "array(['Hexa Core, 12 Threads', '24 Cores , 32 Threads',\n",
       "       'Dual Core, 4 Threads', '12 Cores , 16 Threads', 'Octa Core',\n",
       "       'Quad Core, 8 Threads', 'Hexa Core , 8 Threads',\n",
       "       '10 Cores , 12 Threads', 'Octa Core, 16 Threads',\n",
       "       'Octa Core , 12 Threads', '14 Cores , 20 Threads',\n",
       "       '10 Cores , 16 Threads', 'Dual Core, 2 Threads', 'Quad Core',\n",
       "       '16 Cores , 22 Threads', '14 Cores , 18 Threads',\n",
       "       '20 Cores , 28 Threads', nan, '14 Cores', '14 Cores, 20 Threads',\n",
       "       'Quad Core, 4 Threads', '16 Cores , 24 Threads',\n",
       "       '12 Cores , 14 Threads', '5 Cores , 6 Threads', '3.13GHz Cores',\n",
       "       'Octa Core, 8 Threads', '12 Cores', 'Dual Core', '20 Threads',\n",
       "       '12 Cores, 24 Threads', '24 Cores'], dtype=object)"
      ]
     },
     "execution_count": 140,
     "metadata": {},
     "output_type": "execute_result"
    }
   ],
   "source": [
    "# checking unique values \n",
    "df['number_of_cores'].unique()"
   ]
  },
  {
   "cell_type": "code",
   "execution_count": 141,
   "id": "45ed9959-1d68-4097-8613-00890cc123cb",
   "metadata": {},
   "outputs": [
    {
     "data": {
      "text/plain": [
       "np.int64(90)"
      ]
     },
     "execution_count": 141,
     "metadata": {},
     "output_type": "execute_result"
    }
   ],
   "source": [
    "# checking null values\n",
    "df.number_of_cores.isna().sum()"
   ]
  },
  {
   "cell_type": "code",
   "execution_count": 142,
   "id": "529272fa-6c95-4790-8c89-51590e996599",
   "metadata": {},
   "outputs": [],
   "source": [
    "# filling nan values \n",
    "df.number_of_cores=df.number_of_cores.fillna(\"Not Available\")"
   ]
  },
  {
   "cell_type": "code",
   "execution_count": 143,
   "id": "57abd4e8-674c-4ac5-a615-f62da5cf3acc",
   "metadata": {},
   "outputs": [
    {
     "data": {
      "text/plain": [
       "np.int64(0)"
      ]
     },
     "execution_count": 143,
     "metadata": {},
     "output_type": "execute_result"
    }
   ],
   "source": [
    "# checking null values\n",
    "df.number_of_cores.isna().sum()"
   ]
  },
  {
   "cell_type": "code",
   "execution_count": 144,
   "id": "6ba5fcb7-1e51-4d7b-b4c0-921b6df31d52",
   "metadata": {},
   "outputs": [
    {
     "data": {
      "text/plain": [
       "array(['16\\u2009MB Cache', '36\\u2009MB Cache', '6\\u2009MB Cache',\n",
       "       '12\\u2009MB Cache', nan, '4\\u2009MB Cache', '10\\u2009MB Cache',\n",
       "       '18\\u2009MB Cache', '8\\u2009MB Cache', '24\\u2009MB Cache',\n",
       "       '20\\u2009MB Cache', '2\\u2009MB Cache', '33\\u2009MB Cache',\n",
       "       '30\\u2009MB Cache', '32\\u2009MB Cache', 'Smart Cache Cache',\n",
       "       '64\\u2009MB Cache'], dtype=object)"
      ]
     },
     "execution_count": 144,
     "metadata": {},
     "output_type": "execute_result"
    }
   ],
   "source": [
    "# checking unique values\n",
    "df['caches'].unique()"
   ]
  },
  {
   "cell_type": "code",
   "execution_count": 145,
   "id": "68a13ea9-d398-485b-8fa3-9b9c85ebf668",
   "metadata": {},
   "outputs": [],
   "source": [
    "# removing unwanted text\n",
    "df.caches =df.caches.str.replace(\"\\u2009\",\"\")"
   ]
  },
  {
   "cell_type": "code",
   "execution_count": 146,
   "id": "fc166f09-cb58-445e-9fc4-4c1f4768be94",
   "metadata": {},
   "outputs": [
    {
     "data": {
      "text/plain": [
       "array(['16MB Cache', '36MB Cache', '6MB Cache', '12MB Cache', nan,\n",
       "       '4MB Cache', '10MB Cache', '18MB Cache', '8MB Cache', '24MB Cache',\n",
       "       '20MB Cache', '2MB Cache', '33MB Cache', '30MB Cache',\n",
       "       '32MB Cache', 'Smart Cache Cache', '64MB Cache'], dtype=object)"
      ]
     },
     "execution_count": 146,
     "metadata": {},
     "output_type": "execute_result"
    }
   ],
   "source": [
    "# checking unique values\n",
    "df['caches'].unique()"
   ]
  },
  {
   "cell_type": "code",
   "execution_count": 147,
   "id": "3e883e69-4435-479f-9767-10f7db467857",
   "metadata": {},
   "outputs": [
    {
     "data": {
      "text/plain": [
       "np.int64(38)"
      ]
     },
     "execution_count": 147,
     "metadata": {},
     "output_type": "execute_result"
    }
   ],
   "source": [
    "# checking nan values\n",
    "df['caches'].isna().sum()"
   ]
  },
  {
   "cell_type": "code",
   "execution_count": 148,
   "id": "fddfd40d-c0d1-4697-b38d-7dcb186c6cc6",
   "metadata": {},
   "outputs": [],
   "source": [
    "# filling nan values \n",
    "df['caches'] =df['caches'].fillna(\"Not Available\")"
   ]
  },
  {
   "cell_type": "code",
   "execution_count": 149,
   "id": "be730089-af34-4e29-9e49-985dc2b642ce",
   "metadata": {},
   "outputs": [
    {
     "data": {
      "text/plain": [
       "np.int64(0)"
      ]
     },
     "execution_count": 149,
     "metadata": {},
     "output_type": "execute_result"
    }
   ],
   "source": [
    "# checking nan values\n",
    "df['caches'].isna().sum()"
   ]
  },
  {
   "cell_type": "code",
   "execution_count": 150,
   "id": "0619e36b-1246-4275-9cb3-259d3167fadd",
   "metadata": {},
   "outputs": [],
   "source": [
    "# removing unwanted text\n",
    "df['cache']=df['caches'].str.replace(\" Cache\",\"\")"
   ]
  },
  {
   "cell_type": "code",
   "execution_count": 151,
   "id": "07b76043-84d8-4b01-8455-e8421d899f89",
   "metadata": {},
   "outputs": [
    {
     "data": {
      "text/plain": [
       "array(['16MB', '36MB', '6MB', '12MB', 'Not Available', '4MB', '10MB',\n",
       "       '18MB', '8MB', '24MB', '20MB', '2MB', '33MB', '30MB', '32MB',\n",
       "       'Smart', '64MB'], dtype=object)"
      ]
     },
     "execution_count": 151,
     "metadata": {},
     "output_type": "execute_result"
    }
   ],
   "source": [
    "# checking unique values \n",
    "df['cache'].unique()"
   ]
  },
  {
   "cell_type": "code",
   "execution_count": 152,
   "id": "4646eece-394a-4091-9770-9d321d8202ab",
   "metadata": {},
   "outputs": [],
   "source": [
    "# removing unwanted column\n",
    "df.drop(columns=['caches'],inplace=True)"
   ]
  },
  {
   "cell_type": "code",
   "execution_count": 153,
   "id": "87878954-ee80-489b-b0e1-c50a9051f600",
   "metadata": {},
   "outputs": [
    {
     "name": "stdout",
     "output_type": "stream",
     "text": [
      "<class 'pandas.core.frame.DataFrame'>\n",
      "Index: 1020 entries, 0 to 1019\n",
      "Data columns (total 34 columns):\n",
      " #   Column                   Non-Null Count  Dtype  \n",
      "---  ------                   --------------  -----  \n",
      " 0   price                    1020 non-null   int64  \n",
      " 1   specification_score      1020 non-null   float64\n",
      " 2   votes                    1020 non-null   int64  \n",
      " 3   user_rating              1020 non-null   float64\n",
      " 4   operating_system         1020 non-null   object \n",
      " 5   utility                  1020 non-null   object \n",
      " 6   weight                   1020 non-null   object \n",
      " 7   warranty                 1020 non-null   object \n",
      " 8   screen_size              1020 non-null   object \n",
      " 9   pixels_per_inch          1020 non-null   object \n",
      " 10  screen_feature           1020 non-null   object \n",
      " 11  processor_speed          1020 non-null   object \n",
      " 12  number_of_cores          1020 non-null   object \n",
      " 13  rom_memory               810 non-null    object \n",
      " 14  internal_memory          1014 non-null   object \n",
      " 15  port_connection          1005 non-null   object \n",
      " 16  wireless_connection      1020 non-null   object \n",
      " 17  usb_ports                1014 non-null   object \n",
      " 18  hardware_features        1018 non-null   object \n",
      " 19  product_name             1020 non-null   object \n",
      " 20  ram                      1017 non-null   object \n",
      " 21  ssd                      1017 non-null   object \n",
      " 22  windows                  1017 non-null   object \n",
      " 23  graphic                  1020 non-null   object \n",
      " 24  thickness_in_mm          1020 non-null   object \n",
      " 25  thickness_in_size        1020 non-null   object \n",
      " 26  screen_size_in_inches    1020 non-null   object \n",
      " 27  resolution_in_size       1020 non-null   object \n",
      " 28  resolution_in_quality    1020 non-null   object \n",
      " 29  pixels_per_inch_quality  1020 non-null   object \n",
      " 30  battery_in_wh            1020 non-null   object \n",
      " 31  battery_cell             1020 non-null   object \n",
      " 32  generation               1020 non-null   object \n",
      " 33  cache                    1020 non-null   object \n",
      "dtypes: float64(2), int64(2), object(30)\n",
      "memory usage: 278.9+ KB\n"
     ]
    }
   ],
   "source": [
    "df.info()"
   ]
  },
  {
   "cell_type": "code",
   "execution_count": 154,
   "id": "16e05554-3ca0-4512-93c1-47f7330b1f88",
   "metadata": {},
   "outputs": [
    {
     "data": {
      "text/plain": [
       "price                        0\n",
       "specification_score          0\n",
       "votes                        0\n",
       "user_rating                  0\n",
       "operating_system             0\n",
       "utility                      0\n",
       "weight                       0\n",
       "warranty                     0\n",
       "screen_size                  0\n",
       "pixels_per_inch              0\n",
       "screen_feature               0\n",
       "processor_speed              0\n",
       "number_of_cores              0\n",
       "rom_memory                 210\n",
       "internal_memory              6\n",
       "port_connection             15\n",
       "wireless_connection          0\n",
       "usb_ports                    6\n",
       "hardware_features            2\n",
       "product_name                 0\n",
       "ram                          3\n",
       "ssd                          3\n",
       "windows                      3\n",
       "graphic                      0\n",
       "thickness_in_mm              0\n",
       "thickness_in_size            0\n",
       "screen_size_in_inches        0\n",
       "resolution_in_size           0\n",
       "resolution_in_quality        0\n",
       "pixels_per_inch_quality      0\n",
       "battery_in_wh                0\n",
       "battery_cell                 0\n",
       "generation                   0\n",
       "cache                        0\n",
       "dtype: int64"
      ]
     },
     "execution_count": 154,
     "metadata": {},
     "output_type": "execute_result"
    }
   ],
   "source": [
    "# checking nan values \n",
    "df.isna().sum()"
   ]
  },
  {
   "cell_type": "code",
   "execution_count": 155,
   "id": "e32ba83e-4b55-42a8-ab99-013a2d20043b",
   "metadata": {
    "scrolled": true
   },
   "outputs": [
    {
     "data": {
      "text/plain": [
       "array(['8\\u2009GB DDR4 RAMAverage', '16\\u2009GB DDR5 RAMLargest',\n",
       "       '8\\u2009GB LPDDR4 RAMLargest', '16\\u2009GB LPDDR5 RAMAverage',\n",
       "       '8\\u2009GB DDR4 RAMSmallest', '8\\u2009GB LPDDR5 RAMLargest',\n",
       "       '16\\u2009GB DDR4 RAMAverage', '16\\u2009GB DDR4 RAMLargest',\n",
       "       '16\\u2009GB DDR5 RAMAverage', '8\\u2009GB DDR4 RAMLargest',\n",
       "       '16\\u2009GB LPDDR4x RAMAverage', '8\\u2009GB LPDDR4x RAMSmallest',\n",
       "       '8\\u2009GB RAMSmallest', '32\\u2009GB LPDDR5X RAMLargest',\n",
       "       '8\\u2009GB LPDDR4 RAMAverage', '16\\u2009GB DDR5 SDRAM RAMAverage',\n",
       "       '4\\u2009GB DDR4 RAMAverage', '2\\u2009GB DDR3 RAMLargest',\n",
       "       '16\\u2009GB RAMAverage', '32\\u2009GB LPDDR4X RAMLargest',\n",
       "       '16\\u2009GB LPDDR5x RAMAverage', '32\\u2009GB DDR5 RAMAverage',\n",
       "       '16\\u2009GB DDR4 RAMLarge', '16\\u2009GB LPDDR4x RAMLargest',\n",
       "       '32\\u2009GB DDR5 RAMLargest', '16\\u2009GB LPDDR4X RAMLargest', nan,\n",
       "       '48\\u2009GB RAMLarge', '18\\u2009GB RAMLarge',\n",
       "       '4\\u2009GB LPDDR4X RAMAverage', '8\\u2009GB LPDDR4X RAMLargest',\n",
       "       '32\\u2009GB LPDDR5X RAMAverage', '16\\u2009GB LPDDR5X RAMAverage',\n",
       "       '8\\u2009GB LPDDR5 RAMAverage', '16\\u2009GB LPDDR5 RAMLarge',\n",
       "       '4\\u2009GB \\u200eLPDDR4 RAMAverage', '8\\u2009GB RAMAverage',\n",
       "       '64\\u2009GB DDR5 RAMLargest', '18\\u2009GB RAMAverage',\n",
       "       '36\\u2009GB RAMLarge', '36\\u2009GB RAMLargest',\n",
       "       '8\\u2009GB DDR5 RAMAverage', '8\\u2009GB DDR4  RAMAverage',\n",
       "       '8\\u2009GB LPDDR4X RAMAverage', '8\\u2009GB LPDDR5 RAMSmallest',\n",
       "       '16\\u2009GB LPDDR5 RAMLargest', '4\\u2009GB LPDDR4 RAMLarge',\n",
       "       '16\\u2009GB LPDDR4X RAMAverage', '8\\u2009GB LPDDR5  RAMAverage',\n",
       "       '16\\u2009GB LPDDR5X RAMLargest', '4\\u2009GB LPDDR4 RAMAverage',\n",
       "       '8\\u2009GB DDR4  RAMLargest', '16\\u2009GB DDR5  RAMAverage',\n",
       "       '16\\u2009GB LPDDR5 RAMSmallest', '16\\u2009GB DDR4- RAMAverage',\n",
       "       '8\\u2009GB DDR5 SDRAM RAMSmallest', '8\\u2009GB DDR5 RAMSmallest',\n",
       "       '8\\u2009GB LPDDR4x RAMAverage', '16\\u2009GB LPDDR5  RAMAverage',\n",
       "       '16\\u2009GB LPDDR4 RAMAverage', '16\\u2009GB  LPDDR5 RAMAverage',\n",
       "       '16\\u2009GB LPDDR5  RAMLargest', '16\\u2009GB LPDDR4 RAMLargest',\n",
       "       '16\\u2009GB  LPDDR5 RAMLargest', '16\\u2009GB LPDDR4X RAMLarge',\n",
       "       '16\\u2009GB PDDR5X  RAMAverage', '16\\u2009GB DDR5 RAMSmallest',\n",
       "       'DDR5 RAM', '32\\u2009GB LPDDR5 RAMAverage',\n",
       "       '64\\u2009GB LPDDR5 RAMLargest', '8\\u2009GB  LPDDR5 RAMAverage',\n",
       "       '4\\u2009GB DDR4  RAMAverage', '8\\u2009GB DDR4  RAMSmallest',\n",
       "       '16\\u2009GB DDR4  RAMLarge', '32\\u2009GB LPDDR5 RAMLargest',\n",
       "       '16\\u2009GB DDR4  RAMLargest', '32\\u2009GB DDR4 RAMLargest',\n",
       "       '8\\u2009GB LPDDR4X RAMSmallest'], dtype=object)"
      ]
     },
     "execution_count": 155,
     "metadata": {},
     "output_type": "execute_result"
    }
   ],
   "source": [
    "# checking unique values\n",
    "df['rom_memory'].unique()"
   ]
  },
  {
   "cell_type": "code",
   "execution_count": 156,
   "id": "ea71c13e-67bc-466f-9021-0eec79faf80f",
   "metadata": {},
   "outputs": [],
   "source": [
    "# removing unwanted text\n",
    "df.rom_memory =df.rom_memory.str.replace(\"\\u2009\",\"\")"
   ]
  },
  {
   "cell_type": "code",
   "execution_count": 157,
   "id": "550fa004-7772-4488-b4f9-c9904b0c9b5f",
   "metadata": {},
   "outputs": [],
   "source": [
    "# removing unwanted text\n",
    "df.rom_memory =df.rom_memory.str.replace(\"\\u200e\",\"\")"
   ]
  },
  {
   "cell_type": "code",
   "execution_count": 158,
   "id": "84d0bf2a-eeb9-4381-97d6-15f8b9f8648a",
   "metadata": {},
   "outputs": [],
   "source": [
    "# removing unwanted text\n",
    "df.rom_memory =df.rom_memory.str.replace(\"x\",\"\")"
   ]
  },
  {
   "cell_type": "code",
   "execution_count": 159,
   "id": "89138e38-93c7-47f0-ad5c-343b104888e1",
   "metadata": {},
   "outputs": [],
   "source": [
    "# removing unwanted text\n",
    "df.rom_memory =df.rom_memory.str.replace(\"X\",\"\")"
   ]
  },
  {
   "cell_type": "code",
   "execution_count": 160,
   "id": "13a9dc26-724c-4ae4-a38f-1998ecba2bf2",
   "metadata": {},
   "outputs": [],
   "source": [
    "# removing unwanted text\n",
    "df.rom_memory =df.rom_memory.str.replace(\"-\",\"\")"
   ]
  },
  {
   "cell_type": "code",
   "execution_count": 161,
   "id": "f79bb19d-f3cf-4528-92b2-cc39ac9ba62d",
   "metadata": {},
   "outputs": [],
   "source": [
    "# removing unwanted spacing\n",
    "df.rom_memory =df.rom_memory.str.replace(\"  \",\" \")"
   ]
  },
  {
   "cell_type": "code",
   "execution_count": 162,
   "id": "22d28167-8797-4fd3-973f-dff45d9d8cf4",
   "metadata": {},
   "outputs": [
    {
     "data": {
      "text/plain": [
       "array(['8GB DDR4 RAMAverage', '16GB DDR5 RAMLargest',\n",
       "       '8GB LPDDR4 RAMLargest', '16GB LPDDR5 RAMAverage',\n",
       "       '8GB DDR4 RAMSmallest', '8GB LPDDR5 RAMLargest',\n",
       "       '16GB DDR4 RAMAverage', '16GB DDR4 RAMLargest',\n",
       "       '16GB DDR5 RAMAverage', '8GB DDR4 RAMLargest',\n",
       "       '16GB LPDDR4 RAMAverage', '8GB LPDDR4 RAMSmallest',\n",
       "       '8GB RAMSmallest', '32GB LPDDR5 RAMLargest',\n",
       "       '8GB LPDDR4 RAMAverage', '16GB DDR5 SDRAM RAMAverage',\n",
       "       '4GB DDR4 RAMAverage', '2GB DDR3 RAMLargest', '16GB RAMAverage',\n",
       "       '32GB LPDDR4 RAMLargest', '32GB DDR5 RAMAverage',\n",
       "       '16GB DDR4 RAMLarge', '16GB LPDDR4 RAMLargest',\n",
       "       '32GB DDR5 RAMLargest', nan, '48GB RAMLarge', '18GB RAMLarge',\n",
       "       '4GB LPDDR4 RAMAverage', '32GB LPDDR5 RAMAverage',\n",
       "       '8GB LPDDR5 RAMAverage', '16GB LPDDR5 RAMLarge', '8GB RAMAverage',\n",
       "       '64GB DDR5 RAMLargest', '18GB RAMAverage', '36GB RAMLarge',\n",
       "       '36GB RAMLargest', '8GB DDR5 RAMAverage', '8GB LPDDR5 RAMSmallest',\n",
       "       '16GB LPDDR5 RAMLargest', '4GB LPDDR4 RAMLarge',\n",
       "       '16GB LPDDR5 RAMSmallest', '8GB DDR5 SDRAM RAMSmallest',\n",
       "       '8GB DDR5 RAMSmallest', '16GB LPDDR4 RAMLarge',\n",
       "       '16GB PDDR5 RAMAverage', '16GB DDR5 RAMSmallest', 'DDR5 RAM',\n",
       "       '64GB LPDDR5 RAMLargest', '32GB DDR4 RAMLargest'], dtype=object)"
      ]
     },
     "execution_count": 162,
     "metadata": {},
     "output_type": "execute_result"
    }
   ],
   "source": [
    "# checking unique values\n",
    "df['rom_memory'].unique()"
   ]
  },
  {
   "cell_type": "code",
   "execution_count": 163,
   "id": "4a84211c-d2af-4dc7-a6b2-65acd807ef3e",
   "metadata": {},
   "outputs": [],
   "source": [
    "# spliting the column \n",
    "df['DDR']=df[\"rom_memory\"].str.split(\" RAM\",expand =True)[0]"
   ]
  },
  {
   "cell_type": "code",
   "execution_count": 164,
   "id": "81d5e269-6368-4d79-b562-7ef424871335",
   "metadata": {},
   "outputs": [
    {
     "data": {
      "text/plain": [
       "array(['8GB DDR4', '16GB DDR5', '8GB LPDDR4', '16GB LPDDR5', '8GB LPDDR5',\n",
       "       '16GB DDR4', '16GB LPDDR4', '8GB', '32GB LPDDR5',\n",
       "       '16GB DDR5 SDRAM', '4GB DDR4', '2GB DDR3', '16GB', '32GB LPDDR4',\n",
       "       '32GB DDR5', nan, '48GB', '18GB', '4GB LPDDR4', '64GB DDR5',\n",
       "       '36GB', '8GB DDR5', '8GB DDR5 SDRAM', '16GB PDDR5', 'DDR5',\n",
       "       '64GB LPDDR5', '32GB DDR4'], dtype=object)"
      ]
     },
     "execution_count": 164,
     "metadata": {},
     "output_type": "execute_result"
    }
   ],
   "source": [
    "df['DDR'].unique()"
   ]
  },
  {
   "cell_type": "code",
   "execution_count": 165,
   "id": "44fca5c3-9a4d-45f8-a0de-8652b26c7a32",
   "metadata": {},
   "outputs": [],
   "source": [
    "# spliting the column\n",
    "df['DDR'] =df['DDR'].str.split(\" \",expand=True)[1]"
   ]
  },
  {
   "cell_type": "code",
   "execution_count": 166,
   "id": "c8406497-939a-4543-af0d-6fd316dfec1a",
   "metadata": {},
   "outputs": [
    {
     "data": {
      "text/plain": [
       "array(['DDR4', 'DDR5', 'LPDDR4', 'LPDDR5', None, 'DDR3', nan, 'PDDR5'],\n",
       "      dtype=object)"
      ]
     },
     "execution_count": 166,
     "metadata": {},
     "output_type": "execute_result"
    }
   ],
   "source": [
    "# checking unique values\n",
    "df['DDR'].unique()"
   ]
  },
  {
   "cell_type": "code",
   "execution_count": 167,
   "id": "86aca75d-9903-4d0a-accf-ba23a40962de",
   "metadata": {},
   "outputs": [
    {
     "data": {
      "text/plain": [
       "np.int64(234)"
      ]
     },
     "execution_count": 167,
     "metadata": {},
     "output_type": "execute_result"
    }
   ],
   "source": [
    "# checking nan values \n",
    "df.DDR.isna().sum()"
   ]
  },
  {
   "cell_type": "code",
   "execution_count": 168,
   "id": "49da1f2e-2fdb-47d0-9159-409abc2c00e3",
   "metadata": {},
   "outputs": [],
   "source": [
    "# filling nan values\n",
    "df.DDR =df.DDR.fillna(\"Not Available\")"
   ]
  },
  {
   "cell_type": "code",
   "execution_count": 169,
   "id": "0e62fc76-9625-4a16-9580-13e7eedac8d9",
   "metadata": {},
   "outputs": [
    {
     "data": {
      "text/plain": [
       "np.int64(0)"
      ]
     },
     "execution_count": 169,
     "metadata": {},
     "output_type": "execute_result"
    }
   ],
   "source": [
    "# checking nan values \n",
    "df.DDR.isna().sum()"
   ]
  },
  {
   "cell_type": "code",
   "execution_count": 170,
   "id": "94191f22-ef7d-4cc3-ac56-a0f7cfafba08",
   "metadata": {},
   "outputs": [],
   "source": [
    "# removing unwanted column\n",
    "df.drop(columns=['rom_memory'],inplace= True)"
   ]
  },
  {
   "cell_type": "code",
   "execution_count": 171,
   "id": "20377185-a3da-40e0-85ac-432db250b47e",
   "metadata": {},
   "outputs": [
    {
     "name": "stdout",
     "output_type": "stream",
     "text": [
      "<class 'pandas.core.frame.DataFrame'>\n",
      "Index: 1020 entries, 0 to 1019\n",
      "Data columns (total 34 columns):\n",
      " #   Column                   Non-Null Count  Dtype  \n",
      "---  ------                   --------------  -----  \n",
      " 0   price                    1020 non-null   int64  \n",
      " 1   specification_score      1020 non-null   float64\n",
      " 2   votes                    1020 non-null   int64  \n",
      " 3   user_rating              1020 non-null   float64\n",
      " 4   operating_system         1020 non-null   object \n",
      " 5   utility                  1020 non-null   object \n",
      " 6   weight                   1020 non-null   object \n",
      " 7   warranty                 1020 non-null   object \n",
      " 8   screen_size              1020 non-null   object \n",
      " 9   pixels_per_inch          1020 non-null   object \n",
      " 10  screen_feature           1020 non-null   object \n",
      " 11  processor_speed          1020 non-null   object \n",
      " 12  number_of_cores          1020 non-null   object \n",
      " 13  internal_memory          1014 non-null   object \n",
      " 14  port_connection          1005 non-null   object \n",
      " 15  wireless_connection      1020 non-null   object \n",
      " 16  usb_ports                1014 non-null   object \n",
      " 17  hardware_features        1018 non-null   object \n",
      " 18  product_name             1020 non-null   object \n",
      " 19  ram                      1017 non-null   object \n",
      " 20  ssd                      1017 non-null   object \n",
      " 21  windows                  1017 non-null   object \n",
      " 22  graphic                  1020 non-null   object \n",
      " 23  thickness_in_mm          1020 non-null   object \n",
      " 24  thickness_in_size        1020 non-null   object \n",
      " 25  screen_size_in_inches    1020 non-null   object \n",
      " 26  resolution_in_size       1020 non-null   object \n",
      " 27  resolution_in_quality    1020 non-null   object \n",
      " 28  pixels_per_inch_quality  1020 non-null   object \n",
      " 29  battery_in_wh            1020 non-null   object \n",
      " 30  battery_cell             1020 non-null   object \n",
      " 31  generation               1020 non-null   object \n",
      " 32  cache                    1020 non-null   object \n",
      " 33  DDR                      1020 non-null   object \n",
      "dtypes: float64(2), int64(2), object(30)\n",
      "memory usage: 278.9+ KB\n"
     ]
    }
   ],
   "source": [
    "df.info()"
   ]
  },
  {
   "cell_type": "code",
   "execution_count": 172,
   "id": "02b0a67a-c5c7-43a3-9c80-1121441b8cb0",
   "metadata": {},
   "outputs": [
    {
     "data": {
      "text/plain": [
       "price                       0\n",
       "specification_score         0\n",
       "votes                       0\n",
       "user_rating                 0\n",
       "operating_system            0\n",
       "utility                     0\n",
       "weight                      0\n",
       "warranty                    0\n",
       "screen_size                 0\n",
       "pixels_per_inch             0\n",
       "screen_feature              0\n",
       "processor_speed             0\n",
       "number_of_cores             0\n",
       "internal_memory             6\n",
       "port_connection            15\n",
       "wireless_connection         0\n",
       "usb_ports                   6\n",
       "hardware_features           2\n",
       "product_name                0\n",
       "ram                         3\n",
       "ssd                         3\n",
       "windows                     3\n",
       "graphic                     0\n",
       "thickness_in_mm             0\n",
       "thickness_in_size           0\n",
       "screen_size_in_inches       0\n",
       "resolution_in_size          0\n",
       "resolution_in_quality       0\n",
       "pixels_per_inch_quality     0\n",
       "battery_in_wh               0\n",
       "battery_cell                0\n",
       "generation                  0\n",
       "cache                       0\n",
       "DDR                         0\n",
       "dtype: int64"
      ]
     },
     "execution_count": 172,
     "metadata": {},
     "output_type": "execute_result"
    }
   ],
   "source": [
    "# checking nan values\n",
    "df.isna().sum()"
   ]
  },
  {
   "cell_type": "code",
   "execution_count": 173,
   "id": "40e633cc-308a-46c6-afb2-0ab1d5730daa",
   "metadata": {},
   "outputs": [],
   "source": [
    "# removing unwanted column\n",
    "df.drop(columns=['internal_memory'],inplace = True)"
   ]
  },
  {
   "cell_type": "code",
   "execution_count": 174,
   "id": "2000e73b-ab0f-40a0-a6ac-ead2427262a8",
   "metadata": {},
   "outputs": [
    {
     "data": {
      "text/plain": [
       "array(['Ethernet (LAN), HDMI, Multi Card Reader',\n",
       "       'HDMI, Display Port, Thunderbolt, Multi Card Reader', 'HDMI',\n",
       "       'HDMI, Thunderbolt, Multi Card Reader', 'Thunderbolt',\n",
       "       'HDMI, Multi Card Reader', 'Display Port, Thunderbolt',\n",
       "       'Ethernet (LAN), HDMI', 'Ethernet (LAN), HDMI, Thunderbolt',\n",
       "       'HDMI, Display Port, Multi Card Reader', 'HDMI, Display Port',\n",
       "       'Ethernet (LAN), HDMI, Display Port',\n",
       "       'Ethernet (LAN), HDMI, Thunderbolt, Multi Card Reader',\n",
       "       'Thunderbolt, Multi Card Reader',\n",
       "       'Ethernet (LAN), HDMI, Display Port, Multi Card Reader',\n",
       "       'HDMI, Thunderbolt', nan, 'Multi Card Reader',\n",
       "       'Ethernet (LAN), HDMI, Display Port, Thunderbolt',\n",
       "       'Ethernet (LAN), HDMI, Display Port, Thunderbolt, Multi Card Reader',\n",
       "       'Ethernet (LAN), HDMI, VGA, Multi Card Reader', 'Ethernet (LAN)'],\n",
       "      dtype=object)"
      ]
     },
     "execution_count": 174,
     "metadata": {},
     "output_type": "execute_result"
    }
   ],
   "source": [
    "# checking unique values\n",
    "df.port_connection.unique()"
   ]
  },
  {
   "cell_type": "code",
   "execution_count": 175,
   "id": "1305d49c-7096-4085-afb8-89428fa15bc0",
   "metadata": {},
   "outputs": [
    {
     "data": {
      "text/plain": [
       "np.int64(15)"
      ]
     },
     "execution_count": 175,
     "metadata": {},
     "output_type": "execute_result"
    }
   ],
   "source": [
    "# checking nan values\n",
    "df.port_connection.isna().sum()"
   ]
  },
  {
   "cell_type": "code",
   "execution_count": 176,
   "id": "f57b142d-cfee-49b7-88c0-ff53421bccfa",
   "metadata": {},
   "outputs": [],
   "source": [
    "# filling nan values \n",
    "df.port_connection =df.port_connection.fillna(\"Not Available\")"
   ]
  },
  {
   "cell_type": "code",
   "execution_count": 177,
   "id": "66afccff-cbf2-4000-acc0-c964d96c0296",
   "metadata": {},
   "outputs": [
    {
     "data": {
      "text/plain": [
       "np.int64(0)"
      ]
     },
     "execution_count": 177,
     "metadata": {},
     "output_type": "execute_result"
    }
   ],
   "source": [
    "# checking nan values\n",
    "df.port_connection.isna().sum()"
   ]
  },
  {
   "cell_type": "code",
   "execution_count": 178,
   "id": "e852a31c-8525-4b9e-bc04-0c9faeb30806",
   "metadata": {},
   "outputs": [
    {
     "data": {
      "text/plain": [
       "array(['Ethernet (LAN), HDMI, Multi Card Reader',\n",
       "       'HDMI, Display Port, Thunderbolt, Multi Card Reader', 'HDMI',\n",
       "       'HDMI, Thunderbolt, Multi Card Reader', 'Thunderbolt',\n",
       "       'HDMI, Multi Card Reader', 'Display Port, Thunderbolt',\n",
       "       'Ethernet (LAN), HDMI', 'Ethernet (LAN), HDMI, Thunderbolt',\n",
       "       'HDMI, Display Port, Multi Card Reader', 'HDMI, Display Port',\n",
       "       'Ethernet (LAN), HDMI, Display Port',\n",
       "       'Ethernet (LAN), HDMI, Thunderbolt, Multi Card Reader',\n",
       "       'Thunderbolt, Multi Card Reader',\n",
       "       'Ethernet (LAN), HDMI, Display Port, Multi Card Reader',\n",
       "       'HDMI, Thunderbolt', 'Not Available', 'Multi Card Reader',\n",
       "       'Ethernet (LAN), HDMI, Display Port, Thunderbolt',\n",
       "       'Ethernet (LAN), HDMI, Display Port, Thunderbolt, Multi Card Reader',\n",
       "       'Ethernet (LAN), HDMI, VGA, Multi Card Reader', 'Ethernet (LAN)'],\n",
       "      dtype=object)"
      ]
     },
     "execution_count": 178,
     "metadata": {},
     "output_type": "execute_result"
    }
   ],
   "source": [
    "# checking unique values\n",
    "df.port_connection.unique()"
   ]
  },
  {
   "cell_type": "code",
   "execution_count": 179,
   "id": "fa88b6a4-5f8c-4507-a0df-46868790a34f",
   "metadata": {},
   "outputs": [
    {
     "data": {
      "text/plain": [
       "885                                       HDMI\n",
       "977    Ethernet (LAN), HDMI, Multi Card Reader\n",
       "314          Ethernet (LAN), HDMI, Thunderbolt\n",
       "751                       Ethernet (LAN), HDMI\n",
       "197                          HDMI, Thunderbolt\n",
       "Name: port_connection, dtype: object"
      ]
     },
     "execution_count": 179,
     "metadata": {},
     "output_type": "execute_result"
    }
   ],
   "source": [
    "# checking sample values \n",
    "df.port_connection.sample(5)"
   ]
  },
  {
   "cell_type": "code",
   "execution_count": 180,
   "id": "5b2b3d0d-2d5b-44f2-b0ef-b38140096a3c",
   "metadata": {},
   "outputs": [
    {
     "data": {
      "text/plain": [
       "array(['WiFi, Bluetooth v5.3', 'WiFi, Bluetooth', 'WiFi, Bluetooth v5.1',\n",
       "       'WiFi, Bluetooth v5.0', 'WiFi, Bluetooth v5.2',\n",
       "       'WiFi, Bluetooth v4.0', 'WiFi, Bluetooth v5.4',\n",
       "       'WiFi, Bluetooth v4.1', 'WiFi, Bluetooth v4.2', 'Bluetooth',\n",
       "       'Bluetooth v5.3'], dtype=object)"
      ]
     },
     "execution_count": 180,
     "metadata": {},
     "output_type": "execute_result"
    }
   ],
   "source": [
    "# checking unique values \n",
    "df.wireless_connection.unique()"
   ]
  },
  {
   "cell_type": "code",
   "execution_count": 181,
   "id": "f52e33e4-0b11-4970-ac55-82ea15ca0abc",
   "metadata": {},
   "outputs": [
    {
     "data": {
      "text/plain": [
       "np.int64(0)"
      ]
     },
     "execution_count": 181,
     "metadata": {},
     "output_type": "execute_result"
    }
   ],
   "source": [
    "# checking nan values\n",
    "df.wireless_connection.isna().sum()"
   ]
  },
  {
   "cell_type": "code",
   "execution_count": 182,
   "id": "9197ddfd-07c4-468e-b1e0-b4d3acc62106",
   "metadata": {},
   "outputs": [],
   "source": [
    "# spliting column\n",
    "df[['wireless_connection','bluetooth_version']] =df.wireless_connection.str.split(\" v\",expand=True)"
   ]
  },
  {
   "cell_type": "code",
   "execution_count": 183,
   "id": "01e75807-636f-4406-996a-68e6953025c9",
   "metadata": {},
   "outputs": [
    {
     "data": {
      "text/plain": [
       "np.int64(0)"
      ]
     },
     "execution_count": 183,
     "metadata": {},
     "output_type": "execute_result"
    }
   ],
   "source": [
    "# checking nan values\n",
    "df.wireless_connection.isna().sum()"
   ]
  },
  {
   "cell_type": "code",
   "execution_count": 184,
   "id": "18ca6521-c351-4e16-8ba3-12afcbae9080",
   "metadata": {},
   "outputs": [
    {
     "data": {
      "text/plain": [
       "np.int64(133)"
      ]
     },
     "execution_count": 184,
     "metadata": {},
     "output_type": "execute_result"
    }
   ],
   "source": [
    "# checking nan values\n",
    "df.bluetooth_version.isna().sum()"
   ]
  },
  {
   "cell_type": "code",
   "execution_count": 185,
   "id": "b917cd6c-a887-474d-8531-2fcf1750b8a3",
   "metadata": {},
   "outputs": [],
   "source": [
    "# filling nan values \n",
    "df.bluetooth_version =df.bluetooth_version.fillna(\"Not Available\")"
   ]
  },
  {
   "cell_type": "code",
   "execution_count": 186,
   "id": "a9c3dc8d-37da-4765-a183-b407dc853062",
   "metadata": {},
   "outputs": [
    {
     "data": {
      "text/plain": [
       "np.int64(0)"
      ]
     },
     "execution_count": 186,
     "metadata": {},
     "output_type": "execute_result"
    }
   ],
   "source": [
    "# checking nan values\n",
    "df.bluetooth_version.isna().sum()"
   ]
  },
  {
   "cell_type": "code",
   "execution_count": 187,
   "id": "5781e6ac-134f-4d53-8c31-924e74ac8c24",
   "metadata": {},
   "outputs": [
    {
     "name": "stdout",
     "output_type": "stream",
     "text": [
      "<class 'pandas.core.frame.DataFrame'>\n",
      "Index: 1020 entries, 0 to 1019\n",
      "Data columns (total 34 columns):\n",
      " #   Column                   Non-Null Count  Dtype  \n",
      "---  ------                   --------------  -----  \n",
      " 0   price                    1020 non-null   int64  \n",
      " 1   specification_score      1020 non-null   float64\n",
      " 2   votes                    1020 non-null   int64  \n",
      " 3   user_rating              1020 non-null   float64\n",
      " 4   operating_system         1020 non-null   object \n",
      " 5   utility                  1020 non-null   object \n",
      " 6   weight                   1020 non-null   object \n",
      " 7   warranty                 1020 non-null   object \n",
      " 8   screen_size              1020 non-null   object \n",
      " 9   pixels_per_inch          1020 non-null   object \n",
      " 10  screen_feature           1020 non-null   object \n",
      " 11  processor_speed          1020 non-null   object \n",
      " 12  number_of_cores          1020 non-null   object \n",
      " 13  port_connection          1020 non-null   object \n",
      " 14  wireless_connection      1020 non-null   object \n",
      " 15  usb_ports                1014 non-null   object \n",
      " 16  hardware_features        1018 non-null   object \n",
      " 17  product_name             1020 non-null   object \n",
      " 18  ram                      1017 non-null   object \n",
      " 19  ssd                      1017 non-null   object \n",
      " 20  windows                  1017 non-null   object \n",
      " 21  graphic                  1020 non-null   object \n",
      " 22  thickness_in_mm          1020 non-null   object \n",
      " 23  thickness_in_size        1020 non-null   object \n",
      " 24  screen_size_in_inches    1020 non-null   object \n",
      " 25  resolution_in_size       1020 non-null   object \n",
      " 26  resolution_in_quality    1020 non-null   object \n",
      " 27  pixels_per_inch_quality  1020 non-null   object \n",
      " 28  battery_in_wh            1020 non-null   object \n",
      " 29  battery_cell             1020 non-null   object \n",
      " 30  generation               1020 non-null   object \n",
      " 31  cache                    1020 non-null   object \n",
      " 32  DDR                      1020 non-null   object \n",
      " 33  bluetooth_version        1020 non-null   object \n",
      "dtypes: float64(2), int64(2), object(30)\n",
      "memory usage: 278.9+ KB\n"
     ]
    }
   ],
   "source": [
    "df.info()"
   ]
  },
  {
   "cell_type": "code",
   "execution_count": 188,
   "id": "f49f299b-0700-4965-805c-fd248dbe4cf6",
   "metadata": {},
   "outputs": [
    {
     "data": {
      "text/plain": [
       "price                      0\n",
       "specification_score        0\n",
       "votes                      0\n",
       "user_rating                0\n",
       "operating_system           0\n",
       "utility                    0\n",
       "weight                     0\n",
       "warranty                   0\n",
       "screen_size                0\n",
       "pixels_per_inch            0\n",
       "screen_feature             0\n",
       "processor_speed            0\n",
       "number_of_cores            0\n",
       "port_connection            0\n",
       "wireless_connection        0\n",
       "usb_ports                  6\n",
       "hardware_features          2\n",
       "product_name               0\n",
       "ram                        3\n",
       "ssd                        3\n",
       "windows                    3\n",
       "graphic                    0\n",
       "thickness_in_mm            0\n",
       "thickness_in_size          0\n",
       "screen_size_in_inches      0\n",
       "resolution_in_size         0\n",
       "resolution_in_quality      0\n",
       "pixels_per_inch_quality    0\n",
       "battery_in_wh              0\n",
       "battery_cell               0\n",
       "generation                 0\n",
       "cache                      0\n",
       "DDR                        0\n",
       "bluetooth_version          0\n",
       "dtype: int64"
      ]
     },
     "execution_count": 188,
     "metadata": {},
     "output_type": "execute_result"
    }
   ],
   "source": [
    "# checking nan values\n",
    "df.isna().sum()"
   ]
  },
  {
   "cell_type": "code",
   "execution_count": 189,
   "id": "6bf3ccdf-8c04-4f71-a3b7-8b3df1be1817",
   "metadata": {},
   "outputs": [
    {
     "data": {
      "text/plain": [
       "array(['2 x USB 3.0, 1 x USB Type-C',\n",
       "       '1 x USB 2.0, 3 x USB 3.0, 1 x USB Type-C',\n",
       "       '3 x USB 3.0, 2 x USB Type-C', '1 x USB 3.0, 1 x USB Type-C',\n",
       "       '2 x USB 3.0, 2 x USB Type-C',\n",
       "       '1 x USB 2.0, 2 x USB 3.0, 1 x USB Type-C', '2 x USB Type-C',\n",
       "       '1 x USB 2.0, 2 x USB 3.0, 2 x USB Type-C',\n",
       "       '3 x USB 3.0, 1 x USB Type-C', '1 x USB 2.0, 2 x USB 3.0',\n",
       "       '1 x USB 3.0, 2 x USB Type-C', '2 x USB 2.0, 2 x USB 3.0',\n",
       "       '1 x USB 2.0, 1 x USB 3.0, 2 x USB Type-C',\n",
       "       '2 x USB 2.0, 1 x USB 3.0, 1 x USB Type-C', '1 x USB 3.0',\n",
       "       '3 x USB Type-C', '1 x USB 2.0, 1 x USB 3.0, 1 x USB Type-C',\n",
       "       '1 x USB Type-C', '1 x USB 2.0, 1 x USB 3.0',\n",
       "       '1 x USB 2.0, 3 x USB 3.0', '2 x USB 3.0',\n",
       "       '2 x USB 3.0, 3 x USB Type-C', '4 x USB 3.0, 2 x USB Type-C',\n",
       "       '3 x USB 3.0', nan, '2 x USB 2.0', '2 x USB 2.0, 1 x USB 3.0',\n",
       "       '1 x USB 3.0, 3 x USB Type-C', '4 x USB Type-C'], dtype=object)"
      ]
     },
     "execution_count": 189,
     "metadata": {},
     "output_type": "execute_result"
    }
   ],
   "source": [
    "# checking unique values\n",
    "df.usb_ports.unique()"
   ]
  },
  {
   "cell_type": "code",
   "execution_count": 190,
   "id": "a8fe68c3-454d-4865-bfa3-c7f32fb6a419",
   "metadata": {},
   "outputs": [
    {
     "data": {
      "text/plain": [
       "np.int64(6)"
      ]
     },
     "execution_count": 190,
     "metadata": {},
     "output_type": "execute_result"
    }
   ],
   "source": [
    "# checking nan values\n",
    "df.usb_ports.isna().sum()"
   ]
  },
  {
   "cell_type": "code",
   "execution_count": 191,
   "id": "b7b29d50-d1fe-4643-b63f-7545f58a21c3",
   "metadata": {},
   "outputs": [],
   "source": [
    "# filling nan values \n",
    "df.usb_ports =df.usb_ports.fillna(\"Not Available\")"
   ]
  },
  {
   "cell_type": "code",
   "execution_count": 192,
   "id": "a7c22cdc-9674-4de7-b22b-ad7f283f4f3c",
   "metadata": {},
   "outputs": [
    {
     "data": {
      "text/plain": [
       "np.int64(0)"
      ]
     },
     "execution_count": 192,
     "metadata": {},
     "output_type": "execute_result"
    }
   ],
   "source": [
    "# checking nan values\n",
    "df.usb_ports.isna().sum()"
   ]
  },
  {
   "cell_type": "code",
   "execution_count": 193,
   "id": "9b62ad3d-918e-4537-a7ea-87f71ada3a9e",
   "metadata": {},
   "outputs": [
    {
     "data": {
      "text/plain": [
       "array(['2 x USB 3.0, 1 x USB Type-C',\n",
       "       '1 x USB 2.0, 3 x USB 3.0, 1 x USB Type-C',\n",
       "       '3 x USB 3.0, 2 x USB Type-C', '1 x USB 3.0, 1 x USB Type-C',\n",
       "       '2 x USB 3.0, 2 x USB Type-C',\n",
       "       '1 x USB 2.0, 2 x USB 3.0, 1 x USB Type-C', '2 x USB Type-C',\n",
       "       '1 x USB 2.0, 2 x USB 3.0, 2 x USB Type-C',\n",
       "       '3 x USB 3.0, 1 x USB Type-C', '1 x USB 2.0, 2 x USB 3.0',\n",
       "       '1 x USB 3.0, 2 x USB Type-C', '2 x USB 2.0, 2 x USB 3.0',\n",
       "       '1 x USB 2.0, 1 x USB 3.0, 2 x USB Type-C',\n",
       "       '2 x USB 2.0, 1 x USB 3.0, 1 x USB Type-C', '1 x USB 3.0',\n",
       "       '3 x USB Type-C', '1 x USB 2.0, 1 x USB 3.0, 1 x USB Type-C',\n",
       "       '1 x USB Type-C', '1 x USB 2.0, 1 x USB 3.0',\n",
       "       '1 x USB 2.0, 3 x USB 3.0', '2 x USB 3.0',\n",
       "       '2 x USB 3.0, 3 x USB Type-C', '4 x USB 3.0, 2 x USB Type-C',\n",
       "       '3 x USB 3.0', 'Not Available', '2 x USB 2.0',\n",
       "       '2 x USB 2.0, 1 x USB 3.0', '1 x USB 3.0, 3 x USB Type-C',\n",
       "       '4 x USB Type-C'], dtype=object)"
      ]
     },
     "execution_count": 193,
     "metadata": {},
     "output_type": "execute_result"
    }
   ],
   "source": [
    "# checking unique values\n",
    "df.usb_ports.unique()"
   ]
  },
  {
   "cell_type": "code",
   "execution_count": 194,
   "id": "9c75363b-b667-4a4d-bf29-b4a2395cd3db",
   "metadata": {},
   "outputs": [
    {
     "data": {
      "text/plain": [
       "array(['Backlit Keyboard, Inbuilt Microphone',\n",
       "       'Fingerprint Sensor, Backlit Keyboard, Inbuilt Microphone',\n",
       "       'Inbuilt Microphone', '2\\u2009MP Camera', '1\\u2009MP Camera',\n",
       "       '0.3\\u2009MP Camera', '5\\u2009MP Camera',\n",
       "       'Fingerprint Sensor, Inbuilt Microphone', '9\\u2009MP Camera', nan,\n",
       "       'Backlit Keyboard'], dtype=object)"
      ]
     },
     "execution_count": 194,
     "metadata": {},
     "output_type": "execute_result"
    }
   ],
   "source": [
    "# checking unique values\n",
    "df.hardware_features.unique()"
   ]
  },
  {
   "cell_type": "code",
   "execution_count": 195,
   "id": "3cfa3573-c9d9-4bcc-be30-c0141c676a56",
   "metadata": {},
   "outputs": [],
   "source": [
    "# removing unwanted text\n",
    "df.hardware_features =df.hardware_features.str.replace(\"\\u2009\",\"\")"
   ]
  },
  {
   "cell_type": "code",
   "execution_count": 196,
   "id": "7f8f59db-748c-43e5-859c-e0fc3b7ecb65",
   "metadata": {},
   "outputs": [
    {
     "data": {
      "text/plain": [
       "array(['Backlit Keyboard, Inbuilt Microphone',\n",
       "       'Fingerprint Sensor, Backlit Keyboard, Inbuilt Microphone',\n",
       "       'Inbuilt Microphone', '2MP Camera', '1MP Camera', '0.3MP Camera',\n",
       "       '5MP Camera', 'Fingerprint Sensor, Inbuilt Microphone',\n",
       "       '9MP Camera', nan, 'Backlit Keyboard'], dtype=object)"
      ]
     },
     "execution_count": 196,
     "metadata": {},
     "output_type": "execute_result"
    }
   ],
   "source": [
    "# checking unique values\n",
    "df.hardware_features.unique()"
   ]
  },
  {
   "cell_type": "code",
   "execution_count": 197,
   "id": "37e6ccbb-69cd-4399-b81f-ccad2fd27bfb",
   "metadata": {},
   "outputs": [
    {
     "data": {
      "text/plain": [
       "np.int64(2)"
      ]
     },
     "execution_count": 197,
     "metadata": {},
     "output_type": "execute_result"
    }
   ],
   "source": [
    "# checking nan values\n",
    "df.hardware_features.isna().sum()"
   ]
  },
  {
   "cell_type": "code",
   "execution_count": 198,
   "id": "4be2e935-a9d5-44a1-942c-0c6f5c33dc46",
   "metadata": {},
   "outputs": [],
   "source": [
    "# filling nan values \n",
    "df.hardware_features =df.hardware_features.fillna(\"Not Available\")"
   ]
  },
  {
   "cell_type": "code",
   "execution_count": 199,
   "id": "d1c18bcd-4656-444a-904e-40dc970871ca",
   "metadata": {},
   "outputs": [
    {
     "data": {
      "text/plain": [
       "np.int64(0)"
      ]
     },
     "execution_count": 199,
     "metadata": {},
     "output_type": "execute_result"
    }
   ],
   "source": [
    "# checking nan values\n",
    "df.hardware_features.isna().sum()"
   ]
  },
  {
   "cell_type": "code",
   "execution_count": 200,
   "id": "7147ba6d-a3dd-409f-9670-fb5aeb5b5c23",
   "metadata": {},
   "outputs": [
    {
     "data": {
      "text/plain": [
       "array(['Backlit Keyboard, Inbuilt Microphone',\n",
       "       'Fingerprint Sensor, Backlit Keyboard, Inbuilt Microphone',\n",
       "       'Inbuilt Microphone', '2MP Camera', '1MP Camera', '0.3MP Camera',\n",
       "       '5MP Camera', 'Fingerprint Sensor, Inbuilt Microphone',\n",
       "       '9MP Camera', 'Not Available', 'Backlit Keyboard'], dtype=object)"
      ]
     },
     "execution_count": 200,
     "metadata": {},
     "output_type": "execute_result"
    }
   ],
   "source": [
    "# checking unique values\n",
    "df.hardware_features.unique()"
   ]
  },
  {
   "cell_type": "code",
   "execution_count": 201,
   "id": "1d1c3036-afd8-4f8b-b249-b9d05c643bcf",
   "metadata": {},
   "outputs": [
    {
     "data": {
      "text/plain": [
       "array([' 8GB', ' 16GB', ' 32GB', ' 8 GB', ' 4GB', ' 2GB', ' 16 GB RAM',\n",
       "       ' 48GB', ' 18GB', ' 12GB', ' 8 GB RAM', ' 64GB', '8GB', '16GB',\n",
       "       '12GB RAM', ' 32 GB RAM', ' 16GB RAM', ' 36GB', ' 8GB RAM',\n",
       "       ' DDR5 RAM', None], dtype=object)"
      ]
     },
     "execution_count": 201,
     "metadata": {},
     "output_type": "execute_result"
    }
   ],
   "source": [
    "# checking unique values\n",
    "df.ram.unique()"
   ]
  },
  {
   "cell_type": "code",
   "execution_count": 202,
   "id": "e0fcd04e-9066-4157-ab20-1bb001802655",
   "metadata": {},
   "outputs": [],
   "source": [
    "# spliting column\n",
    "df.ram =df.ram.str.split(\" RAM\",expand=True)[0]"
   ]
  },
  {
   "cell_type": "code",
   "execution_count": 203,
   "id": "ecd8d67c-40bc-412d-a485-853a583f55c7",
   "metadata": {},
   "outputs": [
    {
     "data": {
      "text/plain": [
       "array([' 8GB', ' 16GB', ' 32GB', ' 8 GB', ' 4GB', ' 2GB', ' 16 GB',\n",
       "       ' 48GB', ' 18GB', ' 12GB', ' 64GB', '8GB', '16GB', '12GB',\n",
       "       ' 32 GB', ' 36GB', ' DDR5', None], dtype=object)"
      ]
     },
     "execution_count": 203,
     "metadata": {},
     "output_type": "execute_result"
    }
   ],
   "source": [
    "# checking unique values\n",
    "df.ram.unique()"
   ]
  },
  {
   "cell_type": "code",
   "execution_count": 204,
   "id": "2dbc9551-8c58-422e-9fcd-2ac3bb32241e",
   "metadata": {},
   "outputs": [
    {
     "data": {
      "text/plain": [
       "np.int64(3)"
      ]
     },
     "execution_count": 204,
     "metadata": {},
     "output_type": "execute_result"
    }
   ],
   "source": [
    "# checking nan values\n",
    "df.ram.isna().sum()"
   ]
  },
  {
   "cell_type": "code",
   "execution_count": 205,
   "id": "e879e44f-989e-428b-aa6d-42164350ba2c",
   "metadata": {},
   "outputs": [],
   "source": [
    "# filling nan values \n",
    "df['ram'] =df.ram.fillna(df['ram'].mode().iloc[0])"
   ]
  },
  {
   "cell_type": "code",
   "execution_count": 206,
   "id": "9964b97f-6fa1-4f12-aaa9-0b0f5f763b84",
   "metadata": {},
   "outputs": [
    {
     "data": {
      "text/plain": [
       "np.int64(0)"
      ]
     },
     "execution_count": 206,
     "metadata": {},
     "output_type": "execute_result"
    }
   ],
   "source": [
    "# checking nan values\n",
    "df.ram.isna().sum()"
   ]
  },
  {
   "cell_type": "code",
   "execution_count": 207,
   "id": "cf8e0401-c847-435d-a03e-771c65dceec2",
   "metadata": {},
   "outputs": [],
   "source": [
    "# removing space \n",
    "df.ram =df.ram.str.lstrip(\" \")"
   ]
  },
  {
   "cell_type": "code",
   "execution_count": 208,
   "id": "1e72f452-436d-4d5e-b275-11ac5959bca1",
   "metadata": {},
   "outputs": [
    {
     "data": {
      "text/plain": [
       "array(['8GB', '16GB', '32GB', '8 GB', '4GB', '2GB', '16 GB', '48GB',\n",
       "       '18GB', '12GB', '64GB', '32 GB', '36GB', 'DDR5'], dtype=object)"
      ]
     },
     "execution_count": 208,
     "metadata": {},
     "output_type": "execute_result"
    }
   ],
   "source": [
    "# checking unique values\n",
    "df.ram.unique()"
   ]
  },
  {
   "cell_type": "code",
   "execution_count": 209,
   "id": "3ed1c16b-e7ca-4bef-b9f8-e185e9624f41",
   "metadata": {},
   "outputs": [],
   "source": [
    "# replacing the value\n",
    "df.ram =df.ram.str.replace(\"DDR5\",df['ram'].mode().iloc[0])"
   ]
  },
  {
   "cell_type": "code",
   "execution_count": 210,
   "id": "61c0c109-5739-4044-a66a-7be114350f1e",
   "metadata": {},
   "outputs": [
    {
     "data": {
      "text/plain": [
       "array(['8GB', '16GB', '32GB', '8 GB', '4GB', '2GB', '16 GB', '48GB',\n",
       "       '18GB', '12GB', '64GB', '32 GB', '36GB'], dtype=object)"
      ]
     },
     "execution_count": 210,
     "metadata": {},
     "output_type": "execute_result"
    }
   ],
   "source": [
    "# checking unique values\n",
    "df.ram.unique()"
   ]
  },
  {
   "cell_type": "code",
   "execution_count": 211,
   "id": "8fa76e62-35ae-415c-ac45-f0ba03f17d9f",
   "metadata": {},
   "outputs": [],
   "source": [
    "# replace the space\n",
    "df.ram =df.ram.str.replace(\" \",\"\")"
   ]
  },
  {
   "cell_type": "code",
   "execution_count": 212,
   "id": "0d1b0c66-48d5-49d7-8e3a-0c7fcf168d83",
   "metadata": {},
   "outputs": [
    {
     "data": {
      "text/plain": [
       "array(['8GB', '16GB', '32GB', '4GB', '2GB', '48GB', '18GB', '12GB',\n",
       "       '64GB', '36GB'], dtype=object)"
      ]
     },
     "execution_count": 212,
     "metadata": {},
     "output_type": "execute_result"
    }
   ],
   "source": [
    "# checking unique values\n",
    "df.ram.unique()"
   ]
  },
  {
   "cell_type": "code",
   "execution_count": 213,
   "id": "a5eb2915-1293-4c1d-bf65-f5dcb8eefa9f",
   "metadata": {},
   "outputs": [
    {
     "name": "stdout",
     "output_type": "stream",
     "text": [
      "<class 'pandas.core.frame.DataFrame'>\n",
      "Index: 1020 entries, 0 to 1019\n",
      "Data columns (total 34 columns):\n",
      " #   Column                   Non-Null Count  Dtype  \n",
      "---  ------                   --------------  -----  \n",
      " 0   price                    1020 non-null   int64  \n",
      " 1   specification_score      1020 non-null   float64\n",
      " 2   votes                    1020 non-null   int64  \n",
      " 3   user_rating              1020 non-null   float64\n",
      " 4   operating_system         1020 non-null   object \n",
      " 5   utility                  1020 non-null   object \n",
      " 6   weight                   1020 non-null   object \n",
      " 7   warranty                 1020 non-null   object \n",
      " 8   screen_size              1020 non-null   object \n",
      " 9   pixels_per_inch          1020 non-null   object \n",
      " 10  screen_feature           1020 non-null   object \n",
      " 11  processor_speed          1020 non-null   object \n",
      " 12  number_of_cores          1020 non-null   object \n",
      " 13  port_connection          1020 non-null   object \n",
      " 14  wireless_connection      1020 non-null   object \n",
      " 15  usb_ports                1020 non-null   object \n",
      " 16  hardware_features        1020 non-null   object \n",
      " 17  product_name             1020 non-null   object \n",
      " 18  ram                      1020 non-null   object \n",
      " 19  ssd                      1017 non-null   object \n",
      " 20  windows                  1017 non-null   object \n",
      " 21  graphic                  1020 non-null   object \n",
      " 22  thickness_in_mm          1020 non-null   object \n",
      " 23  thickness_in_size        1020 non-null   object \n",
      " 24  screen_size_in_inches    1020 non-null   object \n",
      " 25  resolution_in_size       1020 non-null   object \n",
      " 26  resolution_in_quality    1020 non-null   object \n",
      " 27  pixels_per_inch_quality  1020 non-null   object \n",
      " 28  battery_in_wh            1020 non-null   object \n",
      " 29  battery_cell             1020 non-null   object \n",
      " 30  generation               1020 non-null   object \n",
      " 31  cache                    1020 non-null   object \n",
      " 32  DDR                      1020 non-null   object \n",
      " 33  bluetooth_version        1020 non-null   object \n",
      "dtypes: float64(2), int64(2), object(30)\n",
      "memory usage: 278.9+ KB\n"
     ]
    }
   ],
   "source": [
    "df.info()"
   ]
  },
  {
   "cell_type": "code",
   "execution_count": 214,
   "id": "a602012c-213c-4f14-a537-0ffdee2a096a",
   "metadata": {},
   "outputs": [
    {
     "data": {
      "text/plain": [
       "price                      0\n",
       "specification_score        0\n",
       "votes                      0\n",
       "user_rating                0\n",
       "operating_system           0\n",
       "utility                    0\n",
       "weight                     0\n",
       "warranty                   0\n",
       "screen_size                0\n",
       "pixels_per_inch            0\n",
       "screen_feature             0\n",
       "processor_speed            0\n",
       "number_of_cores            0\n",
       "port_connection            0\n",
       "wireless_connection        0\n",
       "usb_ports                  0\n",
       "hardware_features          0\n",
       "product_name               0\n",
       "ram                        0\n",
       "ssd                        3\n",
       "windows                    3\n",
       "graphic                    0\n",
       "thickness_in_mm            0\n",
       "thickness_in_size          0\n",
       "screen_size_in_inches      0\n",
       "resolution_in_size         0\n",
       "resolution_in_quality      0\n",
       "pixels_per_inch_quality    0\n",
       "battery_in_wh              0\n",
       "battery_cell               0\n",
       "generation                 0\n",
       "cache                      0\n",
       "DDR                        0\n",
       "bluetooth_version          0\n",
       "dtype: int64"
      ]
     },
     "execution_count": 214,
     "metadata": {},
     "output_type": "execute_result"
    }
   ],
   "source": [
    "# checking nan values \n",
    "df.isna().sum()"
   ]
  },
  {
   "cell_type": "code",
   "execution_count": 215,
   "id": "a96f23f7-6d95-4e75-8dd1-816c507fff56",
   "metadata": {},
   "outputs": [
    {
     "data": {
      "text/plain": [
       "array([' 512GB SSD', ' 1TB SSD', ' 256GB SSD', '512GB SSD', ' 512 GB SSD',\n",
       "       ' 32GB', ' 2TB SSD', '1TB SSD', ' 1TB 256GB SSD', ' 128GB SSD ',\n",
       "       ' 128GB SSD', '512 GB SSD', ' 64GB eMMC', ' 128GB eMMC',\n",
       "       ' 256 GB SSD', ' 128GB EMMC', ' 1 TB SSD', ' 4TB SSD', ' 64GB SSD',\n",
       "       ' 64B eMMC', ' 1TB 512GB SSD', None, ' 2 TB SSD', ' 256GB SSD '],\n",
       "      dtype=object)"
      ]
     },
     "execution_count": 215,
     "metadata": {},
     "output_type": "execute_result"
    }
   ],
   "source": [
    "# checking uique values\n",
    "df.ssd.unique()"
   ]
  },
  {
   "cell_type": "code",
   "execution_count": 216,
   "id": "4cf8ba06-c1f3-4f2f-a2ba-027caf5be3bd",
   "metadata": {},
   "outputs": [],
   "source": [
    "# removing space \n",
    "df.ssd =df.ssd.str.lstrip(\" \")"
   ]
  },
  {
   "cell_type": "code",
   "execution_count": 217,
   "id": "78db225e-7a2c-43ca-bcb4-b8712a64f68a",
   "metadata": {},
   "outputs": [],
   "source": [
    "# changing name \n",
    "df.ssd =df.ssd.str.replace(\"EMMC\",'eMMC')"
   ]
  },
  {
   "cell_type": "code",
   "execution_count": 218,
   "id": "461471e3-168b-471a-b339-b8f7b622b1d0",
   "metadata": {},
   "outputs": [
    {
     "data": {
      "text/plain": [
       "array(['512GB SSD', '1TB SSD', '256GB SSD', '512 GB SSD', '32GB',\n",
       "       '2TB SSD', '1TB 256GB SSD', '128GB SSD ', '128GB SSD', '64GB eMMC',\n",
       "       '128GB eMMC', '256 GB SSD', '1 TB SSD', '4TB SSD', '64GB SSD',\n",
       "       '64B eMMC', '1TB 512GB SSD', None, '2 TB SSD', '256GB SSD '],\n",
       "      dtype=object)"
      ]
     },
     "execution_count": 218,
     "metadata": {},
     "output_type": "execute_result"
    }
   ],
   "source": [
    "# checking uique values\n",
    "df.ssd.unique()"
   ]
  },
  {
   "cell_type": "code",
   "execution_count": 219,
   "id": "a5d41fd2-93e1-49de-8e0f-c787e1c2c074",
   "metadata": {},
   "outputs": [
    {
     "data": {
      "text/plain": [
       "np.int64(3)"
      ]
     },
     "execution_count": 219,
     "metadata": {},
     "output_type": "execute_result"
    }
   ],
   "source": [
    "# checking nan values\n",
    "df.ssd.isna().sum()"
   ]
  },
  {
   "cell_type": "code",
   "execution_count": 220,
   "id": "54446387-8206-4e94-950f-b29663683fe6",
   "metadata": {},
   "outputs": [],
   "source": [
    "# filling nan values\n",
    "df.ssd =df.ssd.fillna(\"Not Available\")"
   ]
  },
  {
   "cell_type": "code",
   "execution_count": 221,
   "id": "0ab497ac-dd10-4d72-bded-a8f426605b40",
   "metadata": {},
   "outputs": [
    {
     "data": {
      "text/plain": [
       "np.int64(0)"
      ]
     },
     "execution_count": 221,
     "metadata": {},
     "output_type": "execute_result"
    }
   ],
   "source": [
    "# checking nan values\n",
    "df.ssd.isna().sum()"
   ]
  },
  {
   "cell_type": "code",
   "execution_count": 222,
   "id": "d361551c-44d1-4674-b033-6262d24d664f",
   "metadata": {},
   "outputs": [
    {
     "data": {
      "text/plain": [
       "array(['512GB SSD', '1TB SSD', '256GB SSD', '512 GB SSD', '32GB',\n",
       "       '2TB SSD', '1TB 256GB SSD', '128GB SSD ', '128GB SSD', '64GB eMMC',\n",
       "       '128GB eMMC', '256 GB SSD', '1 TB SSD', '4TB SSD', '64GB SSD',\n",
       "       '64B eMMC', '1TB 512GB SSD', 'Not Available', '2 TB SSD',\n",
       "       '256GB SSD '], dtype=object)"
      ]
     },
     "execution_count": 222,
     "metadata": {},
     "output_type": "execute_result"
    }
   ],
   "source": [
    "# checking uique values\n",
    "df.ssd.unique()"
   ]
  },
  {
   "cell_type": "code",
   "execution_count": 223,
   "id": "21c0db4e-21b1-42b8-9310-d815a016cd2b",
   "metadata": {},
   "outputs": [],
   "source": [
    "# removing spaces\n",
    "df.ssd =df.ssd.str.replace(\"512 GB\",'512GB')"
   ]
  },
  {
   "cell_type": "code",
   "execution_count": 224,
   "id": "d04d3844-3cea-445c-9032-395b672005cc",
   "metadata": {},
   "outputs": [],
   "source": [
    "# removing spaces\n",
    "df.ssd =df.ssd.str.replace(\"256 GB\",'256GB')"
   ]
  },
  {
   "cell_type": "code",
   "execution_count": 225,
   "id": "08edca09-440c-4133-8711-67497aa39302",
   "metadata": {},
   "outputs": [],
   "source": [
    "# removing spaces\n",
    "df.ssd =df.ssd.str.replace(\"1 TB\",'1TB')"
   ]
  },
  {
   "cell_type": "code",
   "execution_count": 226,
   "id": "e4d3d9d3-12ec-4644-91cb-ba08ddd70a94",
   "metadata": {},
   "outputs": [],
   "source": [
    "# removing spaces\n",
    "df.ssd =df.ssd.str.replace(\"2 TB\",'2TB')"
   ]
  },
  {
   "cell_type": "code",
   "execution_count": 227,
   "id": "2c2e4689-1faa-4207-8f89-9410a5682cf9",
   "metadata": {},
   "outputs": [
    {
     "data": {
      "text/plain": [
       "array(['512GB SSD', '1TB SSD', '256GB SSD', '32GB', '2TB SSD',\n",
       "       '1TB 256GB SSD', '128GB SSD ', '128GB SSD', '64GB eMMC',\n",
       "       '128GB eMMC', '4TB SSD', '64GB SSD', '64B eMMC', '1TB 512GB SSD',\n",
       "       'Not Available', '256GB SSD '], dtype=object)"
      ]
     },
     "execution_count": 227,
     "metadata": {},
     "output_type": "execute_result"
    }
   ],
   "source": [
    "# checking uique values\n",
    "df.ssd.unique()"
   ]
  },
  {
   "cell_type": "code",
   "execution_count": 228,
   "id": "7600b7d0-71b3-4d2c-8aef-89a44c60aa39",
   "metadata": {},
   "outputs": [],
   "source": [
    "# removing unwanted column\n",
    "df.drop(columns=['windows'],inplace = True)"
   ]
  },
  {
   "cell_type": "code",
   "execution_count": 229,
   "id": "a8f084b1-d49b-4f78-9988-59138d7f6c31",
   "metadata": {},
   "outputs": [
    {
     "data": {
      "text/plain": [
       "Index(['price', 'specification_score', 'votes', 'user_rating',\n",
       "       'operating_system', 'utility', 'weight', 'warranty', 'screen_size',\n",
       "       'pixels_per_inch', 'screen_feature', 'processor_speed',\n",
       "       'number_of_cores', 'port_connection', 'wireless_connection',\n",
       "       'usb_ports', 'hardware_features', 'product_name', 'ram', 'ssd',\n",
       "       'graphic', 'thickness_in_mm', 'thickness_in_size',\n",
       "       'screen_size_in_inches', 'resolution_in_size', 'resolution_in_quality',\n",
       "       'pixels_per_inch_quality', 'battery_in_wh', 'battery_cell',\n",
       "       'generation', 'cache', 'DDR', 'bluetooth_version'],\n",
       "      dtype='object')"
      ]
     },
     "execution_count": 229,
     "metadata": {},
     "output_type": "execute_result"
    }
   ],
   "source": [
    "df.columns"
   ]
  },
  {
   "cell_type": "code",
   "execution_count": 230,
   "id": "c449d281-cd96-4585-a14a-de233b94ca0a",
   "metadata": {},
   "outputs": [
    {
     "data": {
      "text/plain": [
       "np.int64(22)"
      ]
     },
     "execution_count": 230,
     "metadata": {},
     "output_type": "execute_result"
    }
   ],
   "source": [
    "# checking duplicated values\n",
    "df.duplicated().sum()"
   ]
  },
  {
   "cell_type": "code",
   "execution_count": 231,
   "id": "5ddc2332-0d90-4770-8d92-500ff2a72d31",
   "metadata": {},
   "outputs": [],
   "source": [
    "# removing duplicated rows\n",
    "df.drop_duplicates(inplace= True)"
   ]
  },
  {
   "cell_type": "code",
   "execution_count": 232,
   "id": "c7317da8-34ae-4c49-83f0-2ae993cac061",
   "metadata": {},
   "outputs": [
    {
     "data": {
      "text/plain": [
       "np.int64(0)"
      ]
     },
     "execution_count": 232,
     "metadata": {},
     "output_type": "execute_result"
    }
   ],
   "source": [
    "# checking duplicated values again\n",
    "df.duplicated().sum()"
   ]
  },
  {
   "cell_type": "code",
   "execution_count": 233,
   "id": "3ce7b2a0-f2b3-4cc4-b8a1-75481cc612ff",
   "metadata": {},
   "outputs": [],
   "source": [
    "# cleaning the extra spacing\n",
    "for i in df.columns:\n",
    "    if df[i].dtype=='object':\n",
    "        df[i] =df[i].str.strip()"
   ]
  },
  {
   "cell_type": "code",
   "execution_count": 234,
   "id": "6178a1d3-d6e9-47b4-a271-13483743c5bf",
   "metadata": {},
   "outputs": [
    {
     "name": "stdout",
     "output_type": "stream",
     "text": [
      "<class 'pandas.core.frame.DataFrame'>\n",
      "Index: 998 entries, 0 to 1019\n",
      "Data columns (total 33 columns):\n",
      " #   Column                   Non-Null Count  Dtype  \n",
      "---  ------                   --------------  -----  \n",
      " 0   price                    998 non-null    int64  \n",
      " 1   specification_score      998 non-null    float64\n",
      " 2   votes                    998 non-null    int64  \n",
      " 3   user_rating              998 non-null    float64\n",
      " 4   operating_system         998 non-null    object \n",
      " 5   utility                  998 non-null    object \n",
      " 6   weight                   998 non-null    object \n",
      " 7   warranty                 998 non-null    object \n",
      " 8   screen_size              998 non-null    object \n",
      " 9   pixels_per_inch          998 non-null    object \n",
      " 10  screen_feature           998 non-null    object \n",
      " 11  processor_speed          998 non-null    object \n",
      " 12  number_of_cores          998 non-null    object \n",
      " 13  port_connection          998 non-null    object \n",
      " 14  wireless_connection      998 non-null    object \n",
      " 15  usb_ports                998 non-null    object \n",
      " 16  hardware_features        998 non-null    object \n",
      " 17  product_name             998 non-null    object \n",
      " 18  ram                      998 non-null    object \n",
      " 19  ssd                      998 non-null    object \n",
      " 20  graphic                  998 non-null    object \n",
      " 21  thickness_in_mm          998 non-null    object \n",
      " 22  thickness_in_size        998 non-null    object \n",
      " 23  screen_size_in_inches    998 non-null    object \n",
      " 24  resolution_in_size       998 non-null    object \n",
      " 25  resolution_in_quality    998 non-null    object \n",
      " 26  pixels_per_inch_quality  998 non-null    object \n",
      " 27  battery_in_wh            998 non-null    object \n",
      " 28  battery_cell             998 non-null    object \n",
      " 29  generation               998 non-null    object \n",
      " 30  cache                    998 non-null    object \n",
      " 31  DDR                      998 non-null    object \n",
      " 32  bluetooth_version        998 non-null    object \n",
      "dtypes: float64(2), int64(2), object(29)\n",
      "memory usage: 265.1+ KB\n"
     ]
    }
   ],
   "source": [
    "df.info()"
   ]
  },
  {
   "cell_type": "code",
   "execution_count": 235,
   "id": "ad194772-9b09-442e-b871-4b25b6a4090f",
   "metadata": {},
   "outputs": [
    {
     "data": {
      "text/plain": [
       "price                      0\n",
       "specification_score        0\n",
       "votes                      0\n",
       "user_rating                0\n",
       "operating_system           0\n",
       "utility                    0\n",
       "weight                     0\n",
       "warranty                   0\n",
       "screen_size                0\n",
       "pixels_per_inch            0\n",
       "screen_feature             0\n",
       "processor_speed            0\n",
       "number_of_cores            0\n",
       "port_connection            0\n",
       "wireless_connection        0\n",
       "usb_ports                  0\n",
       "hardware_features          0\n",
       "product_name               0\n",
       "ram                        0\n",
       "ssd                        0\n",
       "graphic                    0\n",
       "thickness_in_mm            0\n",
       "thickness_in_size          0\n",
       "screen_size_in_inches      0\n",
       "resolution_in_size         0\n",
       "resolution_in_quality      0\n",
       "pixels_per_inch_quality    0\n",
       "battery_in_wh              0\n",
       "battery_cell               0\n",
       "generation                 0\n",
       "cache                      0\n",
       "DDR                        0\n",
       "bluetooth_version          0\n",
       "dtype: int64"
      ]
     },
     "execution_count": 235,
     "metadata": {},
     "output_type": "execute_result"
    }
   ],
   "source": [
    "# checking null values\n",
    "df.isna().sum()"
   ]
  },
  {
   "cell_type": "code",
   "execution_count": 236,
   "id": "2e18a832-2b01-4dee-8cde-fd4ad31d2fe9",
   "metadata": {},
   "outputs": [],
   "source": [
    "# rearrange the column name\n",
    "desired_columns = ['product_name', 'price', 'generation', 'specification_score', 'votes', 'user_rating','processor_speed',\n",
    "    'number_of_cores', 'ram', 'cache', 'DDR', 'ssd', 'graphic','screen_size', 'screen_size_in_inches', 'pixels_per_inch',\n",
    "    'resolution_in_size','resolution_in_quality', 'pixels_per_inch_quality', 'screen_feature','battery_in_wh', 'battery_cell',\n",
    "    'weight', 'thickness_in_mm', 'thickness_in_size','wireless_connection','bluetooth_version', 'port_connection', 'usb_ports',\n",
    "    'warranty', 'operating_system', 'utility', 'hardware_features']\n",
    "df = df.reindex(columns=desired_columns)"
   ]
  },
  {
   "cell_type": "code",
   "execution_count": 237,
   "id": "bf701a1a-850e-422e-8bd9-b4776a3b62b7",
   "metadata": {},
   "outputs": [
    {
     "data": {
      "text/html": [
       "<div>\n",
       "<style scoped>\n",
       "    .dataframe tbody tr th:only-of-type {\n",
       "        vertical-align: middle;\n",
       "    }\n",
       "\n",
       "    .dataframe tbody tr th {\n",
       "        vertical-align: top;\n",
       "    }\n",
       "\n",
       "    .dataframe thead th {\n",
       "        text-align: right;\n",
       "    }\n",
       "</style>\n",
       "<table border=\"1\" class=\"dataframe\">\n",
       "  <thead>\n",
       "    <tr style=\"text-align: right;\">\n",
       "      <th></th>\n",
       "      <th>product_name</th>\n",
       "      <th>price</th>\n",
       "      <th>generation</th>\n",
       "      <th>specification_score</th>\n",
       "      <th>votes</th>\n",
       "      <th>user_rating</th>\n",
       "      <th>processor_speed</th>\n",
       "      <th>number_of_cores</th>\n",
       "      <th>ram</th>\n",
       "      <th>cache</th>\n",
       "      <th>...</th>\n",
       "      <th>thickness_in_mm</th>\n",
       "      <th>thickness_in_size</th>\n",
       "      <th>wireless_connection</th>\n",
       "      <th>bluetooth_version</th>\n",
       "      <th>port_connection</th>\n",
       "      <th>usb_ports</th>\n",
       "      <th>warranty</th>\n",
       "      <th>operating_system</th>\n",
       "      <th>utility</th>\n",
       "      <th>hardware_features</th>\n",
       "    </tr>\n",
       "  </thead>\n",
       "  <tbody>\n",
       "    <tr>\n",
       "      <th>0</th>\n",
       "      <td>HP Victus 15-fb0157AX Gaming Laptop</td>\n",
       "      <td>49800</td>\n",
       "      <td>5</td>\n",
       "      <td>70.0</td>\n",
       "      <td>97</td>\n",
       "      <td>4.3</td>\n",
       "      <td>(Turbo Speed upto 4.2GHz)</td>\n",
       "      <td>Hexa Core, 12 Threads</td>\n",
       "      <td>8GB</td>\n",
       "      <td>16MB</td>\n",
       "      <td>...</td>\n",
       "      <td>23.5</td>\n",
       "      <td>Thick</td>\n",
       "      <td>WiFi, Bluetooth</td>\n",
       "      <td>5.3</td>\n",
       "      <td>Ethernet (LAN), HDMI, Multi Card Reader</td>\n",
       "      <td>2 x USB 3.0, 1 x USB Type-C</td>\n",
       "      <td>1 Year</td>\n",
       "      <td>Windows 11</td>\n",
       "      <td>Gaming</td>\n",
       "      <td>Backlit Keyboard, Inbuilt Microphone</td>\n",
       "    </tr>\n",
       "    <tr>\n",
       "      <th>1</th>\n",
       "      <td>Xiaomi Redmi G Pro 2024 Gaming Laptop</td>\n",
       "      <td>102990</td>\n",
       "      <td>14</td>\n",
       "      <td>78.0</td>\n",
       "      <td>71</td>\n",
       "      <td>4.3</td>\n",
       "      <td>(Turbo Speed upto 5.8GHz)</td>\n",
       "      <td>24 Cores , 32 Threads</td>\n",
       "      <td>16GB</td>\n",
       "      <td>36MB</td>\n",
       "      <td>...</td>\n",
       "      <td>23.45</td>\n",
       "      <td>Thick</td>\n",
       "      <td>WiFi, Bluetooth</td>\n",
       "      <td>5.3</td>\n",
       "      <td>HDMI, Display Port, Thunderbolt, Multi Card Re...</td>\n",
       "      <td>1 x USB 2.0, 3 x USB 3.0, 1 x USB Type-C</td>\n",
       "      <td>1 Year</td>\n",
       "      <td>Windows 11</td>\n",
       "      <td>Gaming</td>\n",
       "      <td>Backlit Keyboard, Inbuilt Microphone</td>\n",
       "    </tr>\n",
       "    <tr>\n",
       "      <th>2</th>\n",
       "      <td>Tecno Megabook T1 Laptop</td>\n",
       "      <td>23990</td>\n",
       "      <td>11</td>\n",
       "      <td>56.0</td>\n",
       "      <td>177</td>\n",
       "      <td>4.4</td>\n",
       "      <td>(Turbo Speed upto 4.1GHz)</td>\n",
       "      <td>Dual Core, 4 Threads</td>\n",
       "      <td>8GB</td>\n",
       "      <td>6MB</td>\n",
       "      <td>...</td>\n",
       "      <td>14.8</td>\n",
       "      <td>Ultra Slim</td>\n",
       "      <td>WiFi, Bluetooth</td>\n",
       "      <td>Not Available</td>\n",
       "      <td>HDMI</td>\n",
       "      <td>3 x USB 3.0, 2 x USB Type-C</td>\n",
       "      <td>1 Year</td>\n",
       "      <td>Windows 11</td>\n",
       "      <td>Performance</td>\n",
       "      <td>Fingerprint Sensor, Backlit Keyboard, Inbuilt ...</td>\n",
       "    </tr>\n",
       "    <tr>\n",
       "      <th>3</th>\n",
       "      <td>Samsung Galaxy Book2 Pro 13 Laptop</td>\n",
       "      <td>62990</td>\n",
       "      <td>12</td>\n",
       "      <td>60.0</td>\n",
       "      <td>1511</td>\n",
       "      <td>4.5</td>\n",
       "      <td>(Turbo Speed upto 4.4GHz)</td>\n",
       "      <td>12 Cores , 16 Threads</td>\n",
       "      <td>16GB</td>\n",
       "      <td>12MB</td>\n",
       "      <td>...</td>\n",
       "      <td>11.2</td>\n",
       "      <td>Slim</td>\n",
       "      <td>WiFi, Bluetooth</td>\n",
       "      <td>5.1</td>\n",
       "      <td>HDMI, Thunderbolt, Multi Card Reader</td>\n",
       "      <td>1 x USB 3.0, 1 x USB Type-C</td>\n",
       "      <td>1 Year</td>\n",
       "      <td>Windows 11</td>\n",
       "      <td>Everyday Use</td>\n",
       "      <td>Fingerprint Sensor, Backlit Keyboard, Inbuilt ...</td>\n",
       "    </tr>\n",
       "    <tr>\n",
       "      <th>4</th>\n",
       "      <td>Apple MacBook Air 2020 MGND3HN Laptop</td>\n",
       "      <td>79990</td>\n",
       "      <td>Not Available</td>\n",
       "      <td>43.0</td>\n",
       "      <td>20380</td>\n",
       "      <td>4.7</td>\n",
       "      <td>(Turbo Speed upto 3.2GHz)</td>\n",
       "      <td>Octa Core</td>\n",
       "      <td>8GB</td>\n",
       "      <td>Not Available</td>\n",
       "      <td>...</td>\n",
       "      <td>16.1</td>\n",
       "      <td>Slim</td>\n",
       "      <td>WiFi, Bluetooth</td>\n",
       "      <td>5.0</td>\n",
       "      <td>Thunderbolt</td>\n",
       "      <td>2 x USB 3.0, 2 x USB Type-C</td>\n",
       "      <td>1 Year</td>\n",
       "      <td>Mac</td>\n",
       "      <td>Performance</td>\n",
       "      <td>Backlit Keyboard, Inbuilt Microphone</td>\n",
       "    </tr>\n",
       "    <tr>\n",
       "      <th>...</th>\n",
       "      <td>...</td>\n",
       "      <td>...</td>\n",
       "      <td>...</td>\n",
       "      <td>...</td>\n",
       "      <td>...</td>\n",
       "      <td>...</td>\n",
       "      <td>...</td>\n",
       "      <td>...</td>\n",
       "      <td>...</td>\n",
       "      <td>...</td>\n",
       "      <td>...</td>\n",
       "      <td>...</td>\n",
       "      <td>...</td>\n",
       "      <td>...</td>\n",
       "      <td>...</td>\n",
       "      <td>...</td>\n",
       "      <td>...</td>\n",
       "      <td>...</td>\n",
       "      <td>...</td>\n",
       "      <td>...</td>\n",
       "      <td>...</td>\n",
       "    </tr>\n",
       "    <tr>\n",
       "      <th>1015</th>\n",
       "      <td>Dell Vostro 3420 D552317WIN9B Laptop</td>\n",
       "      <td>51199</td>\n",
       "      <td>12</td>\n",
       "      <td>55.0</td>\n",
       "      <td>84</td>\n",
       "      <td>4.1</td>\n",
       "      <td>(Turbo Speed upto 4.4GHz)</td>\n",
       "      <td>10 Cores , 12 Threads</td>\n",
       "      <td>8GB</td>\n",
       "      <td>12MB</td>\n",
       "      <td>...</td>\n",
       "      <td>Not Available</td>\n",
       "      <td>Not Available</td>\n",
       "      <td>WiFi, Bluetooth</td>\n",
       "      <td>5.1</td>\n",
       "      <td>Ethernet (LAN), HDMI, Multi Card Reader</td>\n",
       "      <td>1 x USB 2.0, 2 x USB 3.0</td>\n",
       "      <td>1 Year</td>\n",
       "      <td>Windows 11</td>\n",
       "      <td>Everyday Use</td>\n",
       "      <td>Backlit Keyboard, Inbuilt Microphone</td>\n",
       "    </tr>\n",
       "    <tr>\n",
       "      <th>1016</th>\n",
       "      <td>HP Spectre x360 16-f2005TX Laptop</td>\n",
       "      <td>185990</td>\n",
       "      <td>13</td>\n",
       "      <td>84.0</td>\n",
       "      <td>59</td>\n",
       "      <td>4.1</td>\n",
       "      <td>(Turbo Speed upto 5GHz)</td>\n",
       "      <td>12 Cores , 16 Threads</td>\n",
       "      <td>32GB</td>\n",
       "      <td>18MB</td>\n",
       "      <td>...</td>\n",
       "      <td>19.9</td>\n",
       "      <td>Thick</td>\n",
       "      <td>WiFi, Bluetooth</td>\n",
       "      <td>5.3</td>\n",
       "      <td>HDMI, Thunderbolt</td>\n",
       "      <td>1 x USB 3.0, 2 x USB Type-C</td>\n",
       "      <td>1 Year</td>\n",
       "      <td>Windows 11</td>\n",
       "      <td>Performance</td>\n",
       "      <td>5MP Camera</td>\n",
       "    </tr>\n",
       "    <tr>\n",
       "      <th>1017</th>\n",
       "      <td>HP Spectre x360 2023 13.5-ef2033TU Laptop</td>\n",
       "      <td>139990</td>\n",
       "      <td>13</td>\n",
       "      <td>68.0</td>\n",
       "      <td>111</td>\n",
       "      <td>4.5</td>\n",
       "      <td>(Turbo Speed upto 5GHz)</td>\n",
       "      <td>10 Cores , 12 Threads</td>\n",
       "      <td>16GB</td>\n",
       "      <td>12MB</td>\n",
       "      <td>...</td>\n",
       "      <td>16.9</td>\n",
       "      <td>Average</td>\n",
       "      <td>WiFi, Bluetooth</td>\n",
       "      <td>5.3</td>\n",
       "      <td>Thunderbolt</td>\n",
       "      <td>1 x USB 3.0, 2 x USB Type-C</td>\n",
       "      <td>1 Year</td>\n",
       "      <td>Windows 11</td>\n",
       "      <td>Performance</td>\n",
       "      <td>5MP Camera</td>\n",
       "    </tr>\n",
       "    <tr>\n",
       "      <th>1018</th>\n",
       "      <td>Huawei MateBook D14 2023 Laptop</td>\n",
       "      <td>58999</td>\n",
       "      <td>13</td>\n",
       "      <td>62.0</td>\n",
       "      <td>110</td>\n",
       "      <td>4.7</td>\n",
       "      <td>(Turbo Speed upto 4.6GHz)</td>\n",
       "      <td>12 Cores , 16 Threads</td>\n",
       "      <td>16GB</td>\n",
       "      <td>12MB</td>\n",
       "      <td>...</td>\n",
       "      <td>15.9</td>\n",
       "      <td>Slim</td>\n",
       "      <td>WiFi, Bluetooth</td>\n",
       "      <td>5.1</td>\n",
       "      <td>HDMI</td>\n",
       "      <td>1 x USB 2.0, 1 x USB 3.0, 1 x USB Type-C</td>\n",
       "      <td>1 Year</td>\n",
       "      <td>Windows 11</td>\n",
       "      <td>Business, Performance</td>\n",
       "      <td>1MP Camera</td>\n",
       "    </tr>\n",
       "    <tr>\n",
       "      <th>1019</th>\n",
       "      <td>Huawei MateBook D16 2023 Laptop</td>\n",
       "      <td>84999</td>\n",
       "      <td>13</td>\n",
       "      <td>59.0</td>\n",
       "      <td>84</td>\n",
       "      <td>4.2</td>\n",
       "      <td>(Turbo Speed upto 4.7GHz)</td>\n",
       "      <td>12 Cores , 16 Threads</td>\n",
       "      <td>8GB</td>\n",
       "      <td>18MB</td>\n",
       "      <td>...</td>\n",
       "      <td>18.4</td>\n",
       "      <td>Average</td>\n",
       "      <td>WiFi, Bluetooth</td>\n",
       "      <td>5.1</td>\n",
       "      <td>HDMI</td>\n",
       "      <td>1 x USB 2.0, 1 x USB 3.0, 2 x USB Type-C</td>\n",
       "      <td>1 Year</td>\n",
       "      <td>Windows 11</td>\n",
       "      <td>Business, Performance</td>\n",
       "      <td>Fingerprint Sensor, Backlit Keyboard, Inbuilt ...</td>\n",
       "    </tr>\n",
       "  </tbody>\n",
       "</table>\n",
       "<p>998 rows × 33 columns</p>\n",
       "</div>"
      ],
      "text/plain": [
       "                                   product_name   price     generation  \\\n",
       "0           HP Victus 15-fb0157AX Gaming Laptop   49800              5   \n",
       "1         Xiaomi Redmi G Pro 2024 Gaming Laptop  102990             14   \n",
       "2                      Tecno Megabook T1 Laptop   23990             11   \n",
       "3            Samsung Galaxy Book2 Pro 13 Laptop   62990             12   \n",
       "4         Apple MacBook Air 2020 MGND3HN Laptop   79990  Not Available   \n",
       "...                                         ...     ...            ...   \n",
       "1015       Dell Vostro 3420 D552317WIN9B Laptop   51199             12   \n",
       "1016          HP Spectre x360 16-f2005TX Laptop  185990             13   \n",
       "1017  HP Spectre x360 2023 13.5-ef2033TU Laptop  139990             13   \n",
       "1018            Huawei MateBook D14 2023 Laptop   58999             13   \n",
       "1019            Huawei MateBook D16 2023 Laptop   84999             13   \n",
       "\n",
       "      specification_score  votes  user_rating            processor_speed  \\\n",
       "0                    70.0     97          4.3  (Turbo Speed upto 4.2GHz)   \n",
       "1                    78.0     71          4.3  (Turbo Speed upto 5.8GHz)   \n",
       "2                    56.0    177          4.4  (Turbo Speed upto 4.1GHz)   \n",
       "3                    60.0   1511          4.5  (Turbo Speed upto 4.4GHz)   \n",
       "4                    43.0  20380          4.7  (Turbo Speed upto 3.2GHz)   \n",
       "...                   ...    ...          ...                        ...   \n",
       "1015                 55.0     84          4.1  (Turbo Speed upto 4.4GHz)   \n",
       "1016                 84.0     59          4.1    (Turbo Speed upto 5GHz)   \n",
       "1017                 68.0    111          4.5    (Turbo Speed upto 5GHz)   \n",
       "1018                 62.0    110          4.7  (Turbo Speed upto 4.6GHz)   \n",
       "1019                 59.0     84          4.2  (Turbo Speed upto 4.7GHz)   \n",
       "\n",
       "            number_of_cores   ram          cache  ... thickness_in_mm  \\\n",
       "0     Hexa Core, 12 Threads   8GB           16MB  ...            23.5   \n",
       "1     24 Cores , 32 Threads  16GB           36MB  ...           23.45   \n",
       "2      Dual Core, 4 Threads   8GB            6MB  ...            14.8   \n",
       "3     12 Cores , 16 Threads  16GB           12MB  ...            11.2   \n",
       "4                 Octa Core   8GB  Not Available  ...            16.1   \n",
       "...                     ...   ...            ...  ...             ...   \n",
       "1015  10 Cores , 12 Threads   8GB           12MB  ...   Not Available   \n",
       "1016  12 Cores , 16 Threads  32GB           18MB  ...            19.9   \n",
       "1017  10 Cores , 12 Threads  16GB           12MB  ...            16.9   \n",
       "1018  12 Cores , 16 Threads  16GB           12MB  ...            15.9   \n",
       "1019  12 Cores , 16 Threads   8GB           18MB  ...            18.4   \n",
       "\n",
       "     thickness_in_size wireless_connection bluetooth_version  \\\n",
       "0                Thick     WiFi, Bluetooth               5.3   \n",
       "1                Thick     WiFi, Bluetooth               5.3   \n",
       "2           Ultra Slim     WiFi, Bluetooth     Not Available   \n",
       "3                 Slim     WiFi, Bluetooth               5.1   \n",
       "4                 Slim     WiFi, Bluetooth               5.0   \n",
       "...                ...                 ...               ...   \n",
       "1015     Not Available     WiFi, Bluetooth               5.1   \n",
       "1016             Thick     WiFi, Bluetooth               5.3   \n",
       "1017           Average     WiFi, Bluetooth               5.3   \n",
       "1018              Slim     WiFi, Bluetooth               5.1   \n",
       "1019           Average     WiFi, Bluetooth               5.1   \n",
       "\n",
       "                                        port_connection  \\\n",
       "0               Ethernet (LAN), HDMI, Multi Card Reader   \n",
       "1     HDMI, Display Port, Thunderbolt, Multi Card Re...   \n",
       "2                                                  HDMI   \n",
       "3                  HDMI, Thunderbolt, Multi Card Reader   \n",
       "4                                           Thunderbolt   \n",
       "...                                                 ...   \n",
       "1015            Ethernet (LAN), HDMI, Multi Card Reader   \n",
       "1016                                  HDMI, Thunderbolt   \n",
       "1017                                        Thunderbolt   \n",
       "1018                                               HDMI   \n",
       "1019                                               HDMI   \n",
       "\n",
       "                                     usb_ports warranty operating_system  \\\n",
       "0                  2 x USB 3.0, 1 x USB Type-C   1 Year       Windows 11   \n",
       "1     1 x USB 2.0, 3 x USB 3.0, 1 x USB Type-C   1 Year       Windows 11   \n",
       "2                  3 x USB 3.0, 2 x USB Type-C   1 Year       Windows 11   \n",
       "3                  1 x USB 3.0, 1 x USB Type-C   1 Year       Windows 11   \n",
       "4                  2 x USB 3.0, 2 x USB Type-C   1 Year              Mac   \n",
       "...                                        ...      ...              ...   \n",
       "1015                  1 x USB 2.0, 2 x USB 3.0   1 Year       Windows 11   \n",
       "1016               1 x USB 3.0, 2 x USB Type-C   1 Year       Windows 11   \n",
       "1017               1 x USB 3.0, 2 x USB Type-C   1 Year       Windows 11   \n",
       "1018  1 x USB 2.0, 1 x USB 3.0, 1 x USB Type-C   1 Year       Windows 11   \n",
       "1019  1 x USB 2.0, 1 x USB 3.0, 2 x USB Type-C   1 Year       Windows 11   \n",
       "\n",
       "                    utility                                  hardware_features  \n",
       "0                    Gaming               Backlit Keyboard, Inbuilt Microphone  \n",
       "1                    Gaming               Backlit Keyboard, Inbuilt Microphone  \n",
       "2               Performance  Fingerprint Sensor, Backlit Keyboard, Inbuilt ...  \n",
       "3              Everyday Use  Fingerprint Sensor, Backlit Keyboard, Inbuilt ...  \n",
       "4               Performance               Backlit Keyboard, Inbuilt Microphone  \n",
       "...                     ...                                                ...  \n",
       "1015           Everyday Use               Backlit Keyboard, Inbuilt Microphone  \n",
       "1016            Performance                                         5MP Camera  \n",
       "1017            Performance                                         5MP Camera  \n",
       "1018  Business, Performance                                         1MP Camera  \n",
       "1019  Business, Performance  Fingerprint Sensor, Backlit Keyboard, Inbuilt ...  \n",
       "\n",
       "[998 rows x 33 columns]"
      ]
     },
     "execution_count": 237,
     "metadata": {},
     "output_type": "execute_result"
    }
   ],
   "source": [
    "df"
   ]
  },
  {
   "cell_type": "code",
   "execution_count": 238,
   "id": "e381a2f8-8081-49b8-9c38-2f507482aa67",
   "metadata": {},
   "outputs": [],
   "source": [
    "# transfer the cleaned dataset\n",
    "df.to_csv(\"Laptop_cleaned.csv\")"
   ]
  },
  {
   "cell_type": "code",
   "execution_count": null,
   "id": "5914105e-2f4f-4dc5-b631-1f05f97443e3",
   "metadata": {},
   "outputs": [],
   "source": []
  }
 ],
 "metadata": {
  "kernelspec": {
   "display_name": "Python 3 (ipykernel)",
   "language": "python",
   "name": "python3"
  },
  "language_info": {
   "codemirror_mode": {
    "name": "ipython",
    "version": 3
   },
   "file_extension": ".py",
   "mimetype": "text/x-python",
   "name": "python",
   "nbconvert_exporter": "python",
   "pygments_lexer": "ipython3",
   "version": "3.12.5"
  }
 },
 "nbformat": 4,
 "nbformat_minor": 5
}
